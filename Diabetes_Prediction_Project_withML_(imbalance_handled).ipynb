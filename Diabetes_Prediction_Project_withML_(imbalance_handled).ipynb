{
  "nbformat": 4,
  "nbformat_minor": 0,
  "metadata": {
    "colab": {
      "name": "Diabetes_Prediction_Project_withML (imbalance handled).ipynb",
      "provenance": [],
      "collapsed_sections": []
    },
    "kernelspec": {
      "name": "python3",
      "display_name": "Python 3"
    },
    "language_info": {
      "name": "python"
    }
  },
  "cells": [
    {
      "cell_type": "markdown",
      "source": [
        "## Welcome to Diabetes Prediction Project!\n",
        "Here we will predict whether the patient has diabetes or not! Let's get started"
      ],
      "metadata": {
        "id": "A-TXUuV-RDDj"
      }
    },
    {
      "cell_type": "code",
      "source": [
        "cd '/content'"
      ],
      "metadata": {
        "colab": {
          "base_uri": "https://localhost:8080/"
        },
        "id": "D8VRu1Ppvvn7",
        "outputId": "8fa9407c-3ad5-41f4-e2f4-01a9a6fea988"
      },
      "execution_count": null,
      "outputs": [
        {
          "output_type": "stream",
          "name": "stdout",
          "text": [
            "/content\n"
          ]
        }
      ]
    },
    {
      "cell_type": "code",
      "source": [
        "pwd"
      ],
      "metadata": {
        "colab": {
          "base_uri": "https://localhost:8080/",
          "height": 35
        },
        "id": "SPWAQYVEQfOF",
        "outputId": "e3ca3225-8ca9-40ce-8876-b6c5cab08434"
      },
      "execution_count": null,
      "outputs": [
        {
          "output_type": "execute_result",
          "data": {
            "text/plain": [
              "'/content'"
            ],
            "application/vnd.google.colaboratory.intrinsic+json": {
              "type": "string"
            }
          },
          "metadata": {},
          "execution_count": 3
        }
      ]
    },
    {
      "cell_type": "code",
      "source": [
        "ls"
      ],
      "metadata": {
        "colab": {
          "base_uri": "https://localhost:8080/"
        },
        "id": "VxHk5esnmmLV",
        "outputId": "057de006-49df-4e30-af82-ec024cbf905c"
      },
      "execution_count": null,
      "outputs": [
        {
          "output_type": "stream",
          "name": "stdout",
          "text": [
            "\u001b[0m\u001b[01;34mdrive\u001b[0m/  \u001b[01;34msample_data\u001b[0m/\n"
          ]
        }
      ]
    },
    {
      "cell_type": "code",
      "source": [
        "%cd '/content/drive/MyDrive/Kaggle/DiabetesPrediction'"
      ],
      "metadata": {
        "colab": {
          "base_uri": "https://localhost:8080/"
        },
        "id": "cID-OdcTmoo-",
        "outputId": "b97bdabc-3cb8-4f37-cbc7-8f544bb273ce"
      },
      "execution_count": null,
      "outputs": [
        {
          "output_type": "stream",
          "name": "stdout",
          "text": [
            "/content/drive/MyDrive/Kaggle/DiabetesPrediction\n"
          ]
        }
      ]
    },
    {
      "cell_type": "code",
      "source": [
        "ls"
      ],
      "metadata": {
        "id": "OsgXBLGomxWI",
        "outputId": "0c2b826b-778b-460c-f982-a5c3d6244535",
        "colab": {
          "base_uri": "https://localhost:8080/"
        }
      },
      "execution_count": null,
      "outputs": [
        {
          "output_type": "stream",
          "name": "stdout",
          "text": [
            " diabetes.csv                                            kaggle.json\n",
            "'Diabetes_Prediction_Project_withML (imbalance).ipynb'   yuklenen_diabetes.csv\n",
            " diabetes.txt\n"
          ]
        }
      ]
    },
    {
      "cell_type": "code",
      "source": [
        "pwd"
      ],
      "metadata": {
        "colab": {
          "base_uri": "https://localhost:8080/",
          "height": 35
        },
        "id": "mSbK3bRfQyBv",
        "outputId": "9c07bf23-5092-4d29-8f3f-ff012130b0b7"
      },
      "execution_count": null,
      "outputs": [
        {
          "output_type": "execute_result",
          "data": {
            "text/plain": [
              "'/content/drive/MyDrive/Kaggle/DiabetesPrediction'"
            ],
            "application/vnd.google.colaboratory.intrinsic+json": {
              "type": "string"
            }
          },
          "metadata": {},
          "execution_count": 7
        }
      ]
    },
    {
      "cell_type": "code",
      "source": [
        "import os\n",
        "os.environ['KAGGLE_CONFIG_DIR'] = \"/content/drive/MyDrive/Kaggle/DiabetesPrediction\"\n",
        "# /content/drive/MyDrive/Kaggle is the path where kaggle.json is present in the Google Drive"
      ],
      "metadata": {
        "id": "XWPBVmQ-Q1vj"
      },
      "execution_count": null,
      "outputs": []
    },
    {
      "cell_type": "code",
      "source": [
        "# !kaggle datasets download -d mathchi/diabetes-data-set               #for downloading dataset from kaggle"
      ],
      "metadata": {
        "id": "fcuk_4zERIsj"
      },
      "execution_count": null,
      "outputs": []
    },
    {
      "cell_type": "code",
      "source": [
        "#unzipping the zip files and deleting the zip files\n",
        "# !unzip \\diabetes-data-set.zip  && rm diabetes-data-set.zip"
      ],
      "metadata": {
        "id": "Nxzie-7mRPVT"
      },
      "execution_count": null,
      "outputs": []
    },
    {
      "cell_type": "markdown",
      "source": [
        "## About Dataset\n",
        "Context\n",
        "\n",
        "This dataset is originally from the National Institute of Diabetes and Digestive and Kidney Diseases. The objective is to predict based on diagnostic measurements whether a patient has diabetes.\n",
        "\n",
        "Content\n",
        "\n",
        "Several constraints were placed on the selection of these instances from a larger database. In particular, all patients here are females at least 21 years old of Pima Indian heritage.\n",
        "\n",
        "Pregnancies: Number of times pregnant\n",
        "\n",
        "Glucose: Plasma glucose concentration a 2 hours in an oral glucose tolerance test\n",
        "\n",
        "BloodPressure: Diastolic blood pressure (mm Hg)\n",
        "\n",
        "SkinThickness: Triceps skin fold thickness (mm)\n",
        "\n",
        "Insulin: 2-Hour serum insulin (mu U/ml)\n",
        "\n",
        "BMI: Body mass index (weight in kg/(height in m)^2)\n",
        "\n",
        "DiabetesPedigreeFunction: Diabetes pedigree function\n",
        "\n",
        "Age: Age (years)\n",
        "\n",
        "Outcome: Class variable (0 or 1)\n",
        "\n",
        "Sources:\n",
        "\n",
        "(a) Original owners: National Institute of Diabetes and Digestive and\n",
        "Kidney Diseases\n",
        "\n",
        "(b) Donor of database: Vincent Sigillito (vgs@aplcen.apl.jhu.edu)\n",
        "\n",
        "Research Center, RMI Group Leader\n",
        "\n",
        "Applied Physics Laboratory\n",
        "\n",
        "The Johns Hopkins University\n",
        "\n",
        "Johns Hopkins Road\n",
        "\n",
        "Laurel, MD 20707\n",
        "\n",
        "(301) 953-6231\n",
        "\n",
        "(c) Date received: 9 May 1990\n",
        "\n",
        "Past Usage:\n",
        "\n",
        "\n",
        "Number of Instances: 768\n",
        "\n",
        "Number of Attributes: 8 plus class\n",
        "\n",
        "For Each Attribute: (all numeric-valued)\n",
        "\n",
        "Number of times pregnant\n",
        "\n",
        "Plasma glucose concentration a 2 hours in an oral glucose tolerance test\n",
        "\n",
        "Diastolic blood pressure (mm Hg)\n",
        "\n",
        "Triceps skin fold thickness (mm)\n",
        "\n",
        "2-Hour serum insulin (mu U/ml)\n",
        "\n",
        "Body mass index (weight in kg/(height in m)^2)\n",
        "\n",
        "Diabetes pedigree function\n",
        "\n",
        "Age (years)\n",
        "\n",
        "Class variable (0 or 1)\n",
        "\n",
        "Missing Attribute Values: Yes\n",
        "\n",
        "Class Distribution: (class value 1 is interpreted as \"tested positive for\n",
        "\n",
        "diabetes\")\n",
        "\n",
        "\n",
        "For some detailed information:\n",
        "\n",
        "1. Smith,~J.~W., Everhart,~J.~E., Dickson,~W.~C., Knowler,~W.~C., \\&\n",
        "   Johannes,~R.~S. (1988). Using the ADAP learning algorithm to forecast\n",
        "   the onset of diabetes mellitus.  In {\\it Proceedings of the Symposium\n",
        "   on Computer Applications and Medical Care} (pp. 261--265).  IEEE\n",
        "   Computer Society Press.\n",
        "\n",
        "   The diagnostic, binary-valued variable investigated is whether the\n",
        "   patient shows signs of diabetes according to World Health Organization\n",
        "   criteria (i.e., if the 2 hour post-load plasma glucose was at least \n",
        "   200 mg/dl at any survey  examination or if found during routine medical\n",
        "   care).   The population lives near Phoenix, Arizona, USA.\n",
        "\n",
        "   Results: Their ADAP algorithm makes a real-valued prediction between\n",
        "   0 and 1.  This was transformed into a binary decision using a cutoff of \n",
        "   0.448.  Using 576 training instances, the sensitivity and specificity\n",
        "   of their algorithm was 76% on the remaining 192 instances.\n",
        "Relevant Information:\n",
        "  Several constraints were placed on the selection of these instances from\n",
        "  a larger database.  In particular, all patients here are females at\n",
        "  least 21 years old of Pima Indian heritage.  ADAP is an adaptive learning\n",
        "  routine that generates and executes digital analogs of perceptron-like\n",
        "  devices.  It is a unique algorithm; see the paper for details.\n",
        "\n",
        "  Reference: https://www.kaggle.com/datasets/mathchi/diabetes-data-set\n"
      ],
      "metadata": {
        "id": "6q6XManbRcLs"
      }
    },
    {
      "cell_type": "code",
      "source": [
        "#Import useful libraries\n",
        "import numpy as np       #to make numpy array\n",
        "import pandas as pd          #to read dataset\n",
        "from sklearn.preprocessing import StandardScaler   #this will do standardization on column values according to formula\n",
        "                                                   #we do this because our data is not in same measure. For our ML model it is necessary to be same.\n",
        "                                                   #you can see on the picture\n",
        "from sklearn.model_selection import train_test_split    #for splitting our data into train and test part\n",
        "from sklearn import svm      #support vector machine. we will use it for this case. you can see on the picture.\n",
        "from sklearn.metrics import accuracy_score"
      ],
      "metadata": {
        "id": "8oYFaOn0RqZ2"
      },
      "execution_count": null,
      "outputs": []
    },
    {
      "cell_type": "markdown",
      "source": [
        "Visual of svm\n",
        "\n",
        "![download.png](data:image/png;base64,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)\n",
        "\n",
        "\n",
        "We will use only StandardScaler\n",
        "\n",
        "![download.png](data:image/png;base64,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)"
      ],
      "metadata": {
        "id": "XjZCALJpfygb"
      }
    },
    {
      "cell_type": "markdown",
      "source": [
        "# Data Collection and Analysis\n",
        "Read with pandas the PIMA Diabetes Dataset"
      ],
      "metadata": {
        "id": "SBWpdqRWdCbk"
      }
    },
    {
      "cell_type": "code",
      "source": [
        "df = pd.read_csv('/content/drive/MyDrive/Kaggle/DiabetesPrediction/diabetes.csv')"
      ],
      "metadata": {
        "id": "rhDp49JndMcq"
      },
      "execution_count": null,
      "outputs": []
    },
    {
      "cell_type": "code",
      "source": [
        "# pd.read_csv?           #you can look at documentation "
      ],
      "metadata": {
        "id": "QQk0bZ0Hd4CD"
      },
      "execution_count": null,
      "outputs": []
    },
    {
      "cell_type": "code",
      "source": [
        "df.head()"
      ],
      "metadata": {
        "colab": {
          "base_uri": "https://localhost:8080/",
          "height": 206
        },
        "id": "ifMdKInZfcXc",
        "outputId": "21a2f215-81a6-411e-a0ee-0b3cf1936903"
      },
      "execution_count": null,
      "outputs": [
        {
          "output_type": "execute_result",
          "data": {
            "text/plain": [
              "   Pregnancies  Glucose  BloodPressure  SkinThickness  Insulin   BMI  \\\n",
              "0            6      148             72             35        0  33.6   \n",
              "1            1       85             66             29        0  26.6   \n",
              "2            8      183             64              0        0  23.3   \n",
              "3            1       89             66             23       94  28.1   \n",
              "4            0      137             40             35      168  43.1   \n",
              "\n",
              "   DiabetesPedigreeFunction  Age  Outcome  \n",
              "0                     0.627   50        1  \n",
              "1                     0.351   31        0  \n",
              "2                     0.672   32        1  \n",
              "3                     0.167   21        0  \n",
              "4                     2.288   33        1  "
            ],
            "text/html": [
              "\n",
              "  <div id=\"df-f6c2d15a-006f-4e4b-a4ab-012ada785674\">\n",
              "    <div class=\"colab-df-container\">\n",
              "      <div>\n",
              "<style scoped>\n",
              "    .dataframe tbody tr th:only-of-type {\n",
              "        vertical-align: middle;\n",
              "    }\n",
              "\n",
              "    .dataframe tbody tr th {\n",
              "        vertical-align: top;\n",
              "    }\n",
              "\n",
              "    .dataframe thead th {\n",
              "        text-align: right;\n",
              "    }\n",
              "</style>\n",
              "<table border=\"1\" class=\"dataframe\">\n",
              "  <thead>\n",
              "    <tr style=\"text-align: right;\">\n",
              "      <th></th>\n",
              "      <th>Pregnancies</th>\n",
              "      <th>Glucose</th>\n",
              "      <th>BloodPressure</th>\n",
              "      <th>SkinThickness</th>\n",
              "      <th>Insulin</th>\n",
              "      <th>BMI</th>\n",
              "      <th>DiabetesPedigreeFunction</th>\n",
              "      <th>Age</th>\n",
              "      <th>Outcome</th>\n",
              "    </tr>\n",
              "  </thead>\n",
              "  <tbody>\n",
              "    <tr>\n",
              "      <th>0</th>\n",
              "      <td>6</td>\n",
              "      <td>148</td>\n",
              "      <td>72</td>\n",
              "      <td>35</td>\n",
              "      <td>0</td>\n",
              "      <td>33.6</td>\n",
              "      <td>0.627</td>\n",
              "      <td>50</td>\n",
              "      <td>1</td>\n",
              "    </tr>\n",
              "    <tr>\n",
              "      <th>1</th>\n",
              "      <td>1</td>\n",
              "      <td>85</td>\n",
              "      <td>66</td>\n",
              "      <td>29</td>\n",
              "      <td>0</td>\n",
              "      <td>26.6</td>\n",
              "      <td>0.351</td>\n",
              "      <td>31</td>\n",
              "      <td>0</td>\n",
              "    </tr>\n",
              "    <tr>\n",
              "      <th>2</th>\n",
              "      <td>8</td>\n",
              "      <td>183</td>\n",
              "      <td>64</td>\n",
              "      <td>0</td>\n",
              "      <td>0</td>\n",
              "      <td>23.3</td>\n",
              "      <td>0.672</td>\n",
              "      <td>32</td>\n",
              "      <td>1</td>\n",
              "    </tr>\n",
              "    <tr>\n",
              "      <th>3</th>\n",
              "      <td>1</td>\n",
              "      <td>89</td>\n",
              "      <td>66</td>\n",
              "      <td>23</td>\n",
              "      <td>94</td>\n",
              "      <td>28.1</td>\n",
              "      <td>0.167</td>\n",
              "      <td>21</td>\n",
              "      <td>0</td>\n",
              "    </tr>\n",
              "    <tr>\n",
              "      <th>4</th>\n",
              "      <td>0</td>\n",
              "      <td>137</td>\n",
              "      <td>40</td>\n",
              "      <td>35</td>\n",
              "      <td>168</td>\n",
              "      <td>43.1</td>\n",
              "      <td>2.288</td>\n",
              "      <td>33</td>\n",
              "      <td>1</td>\n",
              "    </tr>\n",
              "  </tbody>\n",
              "</table>\n",
              "</div>\n",
              "      <button class=\"colab-df-convert\" onclick=\"convertToInteractive('df-f6c2d15a-006f-4e4b-a4ab-012ada785674')\"\n",
              "              title=\"Convert this dataframe to an interactive table.\"\n",
              "              style=\"display:none;\">\n",
              "        \n",
              "  <svg xmlns=\"http://www.w3.org/2000/svg\" height=\"24px\"viewBox=\"0 0 24 24\"\n",
              "       width=\"24px\">\n",
              "    <path d=\"M0 0h24v24H0V0z\" fill=\"none\"/>\n",
              "    <path d=\"M18.56 5.44l.94 2.06.94-2.06 2.06-.94-2.06-.94-.94-2.06-.94 2.06-2.06.94zm-11 1L8.5 8.5l.94-2.06 2.06-.94-2.06-.94L8.5 2.5l-.94 2.06-2.06.94zm10 10l.94 2.06.94-2.06 2.06-.94-2.06-.94-.94-2.06-.94 2.06-2.06.94z\"/><path d=\"M17.41 7.96l-1.37-1.37c-.4-.4-.92-.59-1.43-.59-.52 0-1.04.2-1.43.59L10.3 9.45l-7.72 7.72c-.78.78-.78 2.05 0 2.83L4 21.41c.39.39.9.59 1.41.59.51 0 1.02-.2 1.41-.59l7.78-7.78 2.81-2.81c.8-.78.8-2.07 0-2.86zM5.41 20L4 18.59l7.72-7.72 1.47 1.35L5.41 20z\"/>\n",
              "  </svg>\n",
              "      </button>\n",
              "      \n",
              "  <style>\n",
              "    .colab-df-container {\n",
              "      display:flex;\n",
              "      flex-wrap:wrap;\n",
              "      gap: 12px;\n",
              "    }\n",
              "\n",
              "    .colab-df-convert {\n",
              "      background-color: #E8F0FE;\n",
              "      border: none;\n",
              "      border-radius: 50%;\n",
              "      cursor: pointer;\n",
              "      display: none;\n",
              "      fill: #1967D2;\n",
              "      height: 32px;\n",
              "      padding: 0 0 0 0;\n",
              "      width: 32px;\n",
              "    }\n",
              "\n",
              "    .colab-df-convert:hover {\n",
              "      background-color: #E2EBFA;\n",
              "      box-shadow: 0px 1px 2px rgba(60, 64, 67, 0.3), 0px 1px 3px 1px rgba(60, 64, 67, 0.15);\n",
              "      fill: #174EA6;\n",
              "    }\n",
              "\n",
              "    [theme=dark] .colab-df-convert {\n",
              "      background-color: #3B4455;\n",
              "      fill: #D2E3FC;\n",
              "    }\n",
              "\n",
              "    [theme=dark] .colab-df-convert:hover {\n",
              "      background-color: #434B5C;\n",
              "      box-shadow: 0px 1px 3px 1px rgba(0, 0, 0, 0.15);\n",
              "      filter: drop-shadow(0px 1px 2px rgba(0, 0, 0, 0.3));\n",
              "      fill: #FFFFFF;\n",
              "    }\n",
              "  </style>\n",
              "\n",
              "      <script>\n",
              "        const buttonEl =\n",
              "          document.querySelector('#df-f6c2d15a-006f-4e4b-a4ab-012ada785674 button.colab-df-convert');\n",
              "        buttonEl.style.display =\n",
              "          google.colab.kernel.accessAllowed ? 'block' : 'none';\n",
              "\n",
              "        async function convertToInteractive(key) {\n",
              "          const element = document.querySelector('#df-f6c2d15a-006f-4e4b-a4ab-012ada785674');\n",
              "          const dataTable =\n",
              "            await google.colab.kernel.invokeFunction('convertToInteractive',\n",
              "                                                     [key], {});\n",
              "          if (!dataTable) return;\n",
              "\n",
              "          const docLinkHtml = 'Like what you see? Visit the ' +\n",
              "            '<a target=\"_blank\" href=https://colab.research.google.com/notebooks/data_table.ipynb>data table notebook</a>'\n",
              "            + ' to learn more about interactive tables.';\n",
              "          element.innerHTML = '';\n",
              "          dataTable['output_type'] = 'display_data';\n",
              "          await google.colab.output.renderOutput(dataTable, element);\n",
              "          const docLink = document.createElement('div');\n",
              "          docLink.innerHTML = docLinkHtml;\n",
              "          element.appendChild(docLink);\n",
              "        }\n",
              "      </script>\n",
              "    </div>\n",
              "  </div>\n",
              "  "
            ]
          },
          "metadata": {},
          "execution_count": 14
        }
      ]
    },
    {
      "cell_type": "code",
      "source": [
        "df.shape       #for shape"
      ],
      "metadata": {
        "colab": {
          "base_uri": "https://localhost:8080/"
        },
        "id": "MlcsBiQLepD7",
        "outputId": "04a710a0-0858-49b6-ba56-969c26f55057"
      },
      "execution_count": null,
      "outputs": [
        {
          "output_type": "execute_result",
          "data": {
            "text/plain": [
              "(768, 9)"
            ]
          },
          "metadata": {},
          "execution_count": 15
        }
      ]
    },
    {
      "cell_type": "code",
      "source": [
        "df.info()       #for general information\n",
        "\n",
        "#there are not null values."
      ],
      "metadata": {
        "colab": {
          "base_uri": "https://localhost:8080/"
        },
        "id": "-2CCS7TCi6O7",
        "outputId": "fd6ae98b-d59e-4ff3-8f07-3b5df7aa3174"
      },
      "execution_count": null,
      "outputs": [
        {
          "output_type": "stream",
          "name": "stdout",
          "text": [
            "<class 'pandas.core.frame.DataFrame'>\n",
            "RangeIndex: 768 entries, 0 to 767\n",
            "Data columns (total 9 columns):\n",
            " #   Column                    Non-Null Count  Dtype  \n",
            "---  ------                    --------------  -----  \n",
            " 0   Pregnancies               768 non-null    int64  \n",
            " 1   Glucose                   768 non-null    int64  \n",
            " 2   BloodPressure             768 non-null    int64  \n",
            " 3   SkinThickness             768 non-null    int64  \n",
            " 4   Insulin                   768 non-null    int64  \n",
            " 5   BMI                       768 non-null    float64\n",
            " 6   DiabetesPedigreeFunction  768 non-null    float64\n",
            " 7   Age                       768 non-null    int64  \n",
            " 8   Outcome                   768 non-null    int64  \n",
            "dtypes: float64(2), int64(7)\n",
            "memory usage: 54.1 KB\n"
          ]
        }
      ]
    },
    {
      "cell_type": "code",
      "source": [
        "df.describe().T         #statistical measurements\n",
        "\n",
        "# there are some inaccordances "
      ],
      "metadata": {
        "colab": {
          "base_uri": "https://localhost:8080/",
          "height": 332
        },
        "id": "dbiAIRgrjEzc",
        "outputId": "2f22cc25-3ca5-450e-ce19-db10962a2c94"
      },
      "execution_count": null,
      "outputs": [
        {
          "output_type": "execute_result",
          "data": {
            "text/plain": [
              "                          count        mean         std     min       25%  \\\n",
              "Pregnancies               768.0    3.845052    3.369578   0.000   1.00000   \n",
              "Glucose                   768.0  120.894531   31.972618   0.000  99.00000   \n",
              "BloodPressure             768.0   69.105469   19.355807   0.000  62.00000   \n",
              "SkinThickness             768.0   20.536458   15.952218   0.000   0.00000   \n",
              "Insulin                   768.0   79.799479  115.244002   0.000   0.00000   \n",
              "BMI                       768.0   31.992578    7.884160   0.000  27.30000   \n",
              "DiabetesPedigreeFunction  768.0    0.471876    0.331329   0.078   0.24375   \n",
              "Age                       768.0   33.240885   11.760232  21.000  24.00000   \n",
              "Outcome                   768.0    0.348958    0.476951   0.000   0.00000   \n",
              "\n",
              "                               50%        75%     max  \n",
              "Pregnancies                 3.0000    6.00000   17.00  \n",
              "Glucose                   117.0000  140.25000  199.00  \n",
              "BloodPressure              72.0000   80.00000  122.00  \n",
              "SkinThickness              23.0000   32.00000   99.00  \n",
              "Insulin                    30.5000  127.25000  846.00  \n",
              "BMI                        32.0000   36.60000   67.10  \n",
              "DiabetesPedigreeFunction    0.3725    0.62625    2.42  \n",
              "Age                        29.0000   41.00000   81.00  \n",
              "Outcome                     0.0000    1.00000    1.00  "
            ],
            "text/html": [
              "\n",
              "  <div id=\"df-d0157378-6886-493a-9f39-5d0b008b5694\">\n",
              "    <div class=\"colab-df-container\">\n",
              "      <div>\n",
              "<style scoped>\n",
              "    .dataframe tbody tr th:only-of-type {\n",
              "        vertical-align: middle;\n",
              "    }\n",
              "\n",
              "    .dataframe tbody tr th {\n",
              "        vertical-align: top;\n",
              "    }\n",
              "\n",
              "    .dataframe thead th {\n",
              "        text-align: right;\n",
              "    }\n",
              "</style>\n",
              "<table border=\"1\" class=\"dataframe\">\n",
              "  <thead>\n",
              "    <tr style=\"text-align: right;\">\n",
              "      <th></th>\n",
              "      <th>count</th>\n",
              "      <th>mean</th>\n",
              "      <th>std</th>\n",
              "      <th>min</th>\n",
              "      <th>25%</th>\n",
              "      <th>50%</th>\n",
              "      <th>75%</th>\n",
              "      <th>max</th>\n",
              "    </tr>\n",
              "  </thead>\n",
              "  <tbody>\n",
              "    <tr>\n",
              "      <th>Pregnancies</th>\n",
              "      <td>768.0</td>\n",
              "      <td>3.845052</td>\n",
              "      <td>3.369578</td>\n",
              "      <td>0.000</td>\n",
              "      <td>1.00000</td>\n",
              "      <td>3.0000</td>\n",
              "      <td>6.00000</td>\n",
              "      <td>17.00</td>\n",
              "    </tr>\n",
              "    <tr>\n",
              "      <th>Glucose</th>\n",
              "      <td>768.0</td>\n",
              "      <td>120.894531</td>\n",
              "      <td>31.972618</td>\n",
              "      <td>0.000</td>\n",
              "      <td>99.00000</td>\n",
              "      <td>117.0000</td>\n",
              "      <td>140.25000</td>\n",
              "      <td>199.00</td>\n",
              "    </tr>\n",
              "    <tr>\n",
              "      <th>BloodPressure</th>\n",
              "      <td>768.0</td>\n",
              "      <td>69.105469</td>\n",
              "      <td>19.355807</td>\n",
              "      <td>0.000</td>\n",
              "      <td>62.00000</td>\n",
              "      <td>72.0000</td>\n",
              "      <td>80.00000</td>\n",
              "      <td>122.00</td>\n",
              "    </tr>\n",
              "    <tr>\n",
              "      <th>SkinThickness</th>\n",
              "      <td>768.0</td>\n",
              "      <td>20.536458</td>\n",
              "      <td>15.952218</td>\n",
              "      <td>0.000</td>\n",
              "      <td>0.00000</td>\n",
              "      <td>23.0000</td>\n",
              "      <td>32.00000</td>\n",
              "      <td>99.00</td>\n",
              "    </tr>\n",
              "    <tr>\n",
              "      <th>Insulin</th>\n",
              "      <td>768.0</td>\n",
              "      <td>79.799479</td>\n",
              "      <td>115.244002</td>\n",
              "      <td>0.000</td>\n",
              "      <td>0.00000</td>\n",
              "      <td>30.5000</td>\n",
              "      <td>127.25000</td>\n",
              "      <td>846.00</td>\n",
              "    </tr>\n",
              "    <tr>\n",
              "      <th>BMI</th>\n",
              "      <td>768.0</td>\n",
              "      <td>31.992578</td>\n",
              "      <td>7.884160</td>\n",
              "      <td>0.000</td>\n",
              "      <td>27.30000</td>\n",
              "      <td>32.0000</td>\n",
              "      <td>36.60000</td>\n",
              "      <td>67.10</td>\n",
              "    </tr>\n",
              "    <tr>\n",
              "      <th>DiabetesPedigreeFunction</th>\n",
              "      <td>768.0</td>\n",
              "      <td>0.471876</td>\n",
              "      <td>0.331329</td>\n",
              "      <td>0.078</td>\n",
              "      <td>0.24375</td>\n",
              "      <td>0.3725</td>\n",
              "      <td>0.62625</td>\n",
              "      <td>2.42</td>\n",
              "    </tr>\n",
              "    <tr>\n",
              "      <th>Age</th>\n",
              "      <td>768.0</td>\n",
              "      <td>33.240885</td>\n",
              "      <td>11.760232</td>\n",
              "      <td>21.000</td>\n",
              "      <td>24.00000</td>\n",
              "      <td>29.0000</td>\n",
              "      <td>41.00000</td>\n",
              "      <td>81.00</td>\n",
              "    </tr>\n",
              "    <tr>\n",
              "      <th>Outcome</th>\n",
              "      <td>768.0</td>\n",
              "      <td>0.348958</td>\n",
              "      <td>0.476951</td>\n",
              "      <td>0.000</td>\n",
              "      <td>0.00000</td>\n",
              "      <td>0.0000</td>\n",
              "      <td>1.00000</td>\n",
              "      <td>1.00</td>\n",
              "    </tr>\n",
              "  </tbody>\n",
              "</table>\n",
              "</div>\n",
              "      <button class=\"colab-df-convert\" onclick=\"convertToInteractive('df-d0157378-6886-493a-9f39-5d0b008b5694')\"\n",
              "              title=\"Convert this dataframe to an interactive table.\"\n",
              "              style=\"display:none;\">\n",
              "        \n",
              "  <svg xmlns=\"http://www.w3.org/2000/svg\" height=\"24px\"viewBox=\"0 0 24 24\"\n",
              "       width=\"24px\">\n",
              "    <path d=\"M0 0h24v24H0V0z\" fill=\"none\"/>\n",
              "    <path d=\"M18.56 5.44l.94 2.06.94-2.06 2.06-.94-2.06-.94-.94-2.06-.94 2.06-2.06.94zm-11 1L8.5 8.5l.94-2.06 2.06-.94-2.06-.94L8.5 2.5l-.94 2.06-2.06.94zm10 10l.94 2.06.94-2.06 2.06-.94-2.06-.94-.94-2.06-.94 2.06-2.06.94z\"/><path d=\"M17.41 7.96l-1.37-1.37c-.4-.4-.92-.59-1.43-.59-.52 0-1.04.2-1.43.59L10.3 9.45l-7.72 7.72c-.78.78-.78 2.05 0 2.83L4 21.41c.39.39.9.59 1.41.59.51 0 1.02-.2 1.41-.59l7.78-7.78 2.81-2.81c.8-.78.8-2.07 0-2.86zM5.41 20L4 18.59l7.72-7.72 1.47 1.35L5.41 20z\"/>\n",
              "  </svg>\n",
              "      </button>\n",
              "      \n",
              "  <style>\n",
              "    .colab-df-container {\n",
              "      display:flex;\n",
              "      flex-wrap:wrap;\n",
              "      gap: 12px;\n",
              "    }\n",
              "\n",
              "    .colab-df-convert {\n",
              "      background-color: #E8F0FE;\n",
              "      border: none;\n",
              "      border-radius: 50%;\n",
              "      cursor: pointer;\n",
              "      display: none;\n",
              "      fill: #1967D2;\n",
              "      height: 32px;\n",
              "      padding: 0 0 0 0;\n",
              "      width: 32px;\n",
              "    }\n",
              "\n",
              "    .colab-df-convert:hover {\n",
              "      background-color: #E2EBFA;\n",
              "      box-shadow: 0px 1px 2px rgba(60, 64, 67, 0.3), 0px 1px 3px 1px rgba(60, 64, 67, 0.15);\n",
              "      fill: #174EA6;\n",
              "    }\n",
              "\n",
              "    [theme=dark] .colab-df-convert {\n",
              "      background-color: #3B4455;\n",
              "      fill: #D2E3FC;\n",
              "    }\n",
              "\n",
              "    [theme=dark] .colab-df-convert:hover {\n",
              "      background-color: #434B5C;\n",
              "      box-shadow: 0px 1px 3px 1px rgba(0, 0, 0, 0.15);\n",
              "      filter: drop-shadow(0px 1px 2px rgba(0, 0, 0, 0.3));\n",
              "      fill: #FFFFFF;\n",
              "    }\n",
              "  </style>\n",
              "\n",
              "      <script>\n",
              "        const buttonEl =\n",
              "          document.querySelector('#df-d0157378-6886-493a-9f39-5d0b008b5694 button.colab-df-convert');\n",
              "        buttonEl.style.display =\n",
              "          google.colab.kernel.accessAllowed ? 'block' : 'none';\n",
              "\n",
              "        async function convertToInteractive(key) {\n",
              "          const element = document.querySelector('#df-d0157378-6886-493a-9f39-5d0b008b5694');\n",
              "          const dataTable =\n",
              "            await google.colab.kernel.invokeFunction('convertToInteractive',\n",
              "                                                     [key], {});\n",
              "          if (!dataTable) return;\n",
              "\n",
              "          const docLinkHtml = 'Like what you see? Visit the ' +\n",
              "            '<a target=\"_blank\" href=https://colab.research.google.com/notebooks/data_table.ipynb>data table notebook</a>'\n",
              "            + ' to learn more about interactive tables.';\n",
              "          element.innerHTML = '';\n",
              "          dataTable['output_type'] = 'display_data';\n",
              "          await google.colab.output.renderOutput(dataTable, element);\n",
              "          const docLink = document.createElement('div');\n",
              "          docLink.innerHTML = docLinkHtml;\n",
              "          element.appendChild(docLink);\n",
              "        }\n",
              "      </script>\n",
              "    </div>\n",
              "  </div>\n",
              "  "
            ]
          },
          "metadata": {},
          "execution_count": 17
        }
      ]
    },
    {
      "cell_type": "code",
      "source": [
        "#for take true name of column\n",
        "df.columns"
      ],
      "metadata": {
        "colab": {
          "base_uri": "https://localhost:8080/"
        },
        "id": "qyN6yGluj8By",
        "outputId": "f3c0e8ad-87a3-4a52-83c9-71fbfed3a7b9"
      },
      "execution_count": null,
      "outputs": [
        {
          "output_type": "execute_result",
          "data": {
            "text/plain": [
              "Index(['Pregnancies', 'Glucose', 'BloodPressure', 'SkinThickness', 'Insulin',\n",
              "       'BMI', 'DiabetesPedigreeFunction', 'Age', 'Outcome'],\n",
              "      dtype='object')"
            ]
          },
          "metadata": {},
          "execution_count": 18
        }
      ]
    },
    {
      "cell_type": "code",
      "source": [
        "#check for imbalance\n",
        "df['Outcome'].value_counts()\n",
        "\n",
        "#there is imbalance, we will handle during modelling part"
      ],
      "metadata": {
        "colab": {
          "base_uri": "https://localhost:8080/"
        },
        "id": "5Fjb09PfjQ8q",
        "outputId": "ad622814-c3a0-449c-86da-7b96ebb42318"
      },
      "execution_count": null,
      "outputs": [
        {
          "output_type": "execute_result",
          "data": {
            "text/plain": [
              "0    500\n",
              "1    268\n",
              "Name: Outcome, dtype: int64"
            ]
          },
          "metadata": {},
          "execution_count": 19
        }
      ]
    },
    {
      "cell_type": "markdown",
      "source": [
        "0 --> non diabetic\n",
        "\n",
        "1 --> diabetic"
      ],
      "metadata": {
        "id": "v2eitqEHkZFb"
      }
    },
    {
      "cell_type": "code",
      "source": [
        "#look at mean based on group by. for feeling some correlation\n",
        "df.groupby('Outcome').agg('mean')\n",
        "\n",
        "# diabetic peoples measures are high, logically this is true."
      ],
      "metadata": {
        "colab": {
          "base_uri": "https://localhost:8080/",
          "height": 143
        },
        "id": "59aROIYckFQb",
        "outputId": "ff4e5c76-094d-493f-d6dc-35c20135c7d5"
      },
      "execution_count": null,
      "outputs": [
        {
          "output_type": "execute_result",
          "data": {
            "text/plain": [
              "         Pregnancies     Glucose  BloodPressure  SkinThickness     Insulin  \\\n",
              "Outcome                                                                      \n",
              "0           3.298000  109.980000      68.184000      19.664000   68.792000   \n",
              "1           4.865672  141.257463      70.824627      22.164179  100.335821   \n",
              "\n",
              "               BMI  DiabetesPedigreeFunction        Age  \n",
              "Outcome                                                  \n",
              "0        30.304200                  0.429734  31.190000  \n",
              "1        35.142537                  0.550500  37.067164  "
            ],
            "text/html": [
              "\n",
              "  <div id=\"df-b9a694f2-91ec-4c2a-a076-54cb1656d7b0\">\n",
              "    <div class=\"colab-df-container\">\n",
              "      <div>\n",
              "<style scoped>\n",
              "    .dataframe tbody tr th:only-of-type {\n",
              "        vertical-align: middle;\n",
              "    }\n",
              "\n",
              "    .dataframe tbody tr th {\n",
              "        vertical-align: top;\n",
              "    }\n",
              "\n",
              "    .dataframe thead th {\n",
              "        text-align: right;\n",
              "    }\n",
              "</style>\n",
              "<table border=\"1\" class=\"dataframe\">\n",
              "  <thead>\n",
              "    <tr style=\"text-align: right;\">\n",
              "      <th></th>\n",
              "      <th>Pregnancies</th>\n",
              "      <th>Glucose</th>\n",
              "      <th>BloodPressure</th>\n",
              "      <th>SkinThickness</th>\n",
              "      <th>Insulin</th>\n",
              "      <th>BMI</th>\n",
              "      <th>DiabetesPedigreeFunction</th>\n",
              "      <th>Age</th>\n",
              "    </tr>\n",
              "    <tr>\n",
              "      <th>Outcome</th>\n",
              "      <th></th>\n",
              "      <th></th>\n",
              "      <th></th>\n",
              "      <th></th>\n",
              "      <th></th>\n",
              "      <th></th>\n",
              "      <th></th>\n",
              "      <th></th>\n",
              "    </tr>\n",
              "  </thead>\n",
              "  <tbody>\n",
              "    <tr>\n",
              "      <th>0</th>\n",
              "      <td>3.298000</td>\n",
              "      <td>109.980000</td>\n",
              "      <td>68.184000</td>\n",
              "      <td>19.664000</td>\n",
              "      <td>68.792000</td>\n",
              "      <td>30.304200</td>\n",
              "      <td>0.429734</td>\n",
              "      <td>31.190000</td>\n",
              "    </tr>\n",
              "    <tr>\n",
              "      <th>1</th>\n",
              "      <td>4.865672</td>\n",
              "      <td>141.257463</td>\n",
              "      <td>70.824627</td>\n",
              "      <td>22.164179</td>\n",
              "      <td>100.335821</td>\n",
              "      <td>35.142537</td>\n",
              "      <td>0.550500</td>\n",
              "      <td>37.067164</td>\n",
              "    </tr>\n",
              "  </tbody>\n",
              "</table>\n",
              "</div>\n",
              "      <button class=\"colab-df-convert\" onclick=\"convertToInteractive('df-b9a694f2-91ec-4c2a-a076-54cb1656d7b0')\"\n",
              "              title=\"Convert this dataframe to an interactive table.\"\n",
              "              style=\"display:none;\">\n",
              "        \n",
              "  <svg xmlns=\"http://www.w3.org/2000/svg\" height=\"24px\"viewBox=\"0 0 24 24\"\n",
              "       width=\"24px\">\n",
              "    <path d=\"M0 0h24v24H0V0z\" fill=\"none\"/>\n",
              "    <path d=\"M18.56 5.44l.94 2.06.94-2.06 2.06-.94-2.06-.94-.94-2.06-.94 2.06-2.06.94zm-11 1L8.5 8.5l.94-2.06 2.06-.94-2.06-.94L8.5 2.5l-.94 2.06-2.06.94zm10 10l.94 2.06.94-2.06 2.06-.94-2.06-.94-.94-2.06-.94 2.06-2.06.94z\"/><path d=\"M17.41 7.96l-1.37-1.37c-.4-.4-.92-.59-1.43-.59-.52 0-1.04.2-1.43.59L10.3 9.45l-7.72 7.72c-.78.78-.78 2.05 0 2.83L4 21.41c.39.39.9.59 1.41.59.51 0 1.02-.2 1.41-.59l7.78-7.78 2.81-2.81c.8-.78.8-2.07 0-2.86zM5.41 20L4 18.59l7.72-7.72 1.47 1.35L5.41 20z\"/>\n",
              "  </svg>\n",
              "      </button>\n",
              "      \n",
              "  <style>\n",
              "    .colab-df-container {\n",
              "      display:flex;\n",
              "      flex-wrap:wrap;\n",
              "      gap: 12px;\n",
              "    }\n",
              "\n",
              "    .colab-df-convert {\n",
              "      background-color: #E8F0FE;\n",
              "      border: none;\n",
              "      border-radius: 50%;\n",
              "      cursor: pointer;\n",
              "      display: none;\n",
              "      fill: #1967D2;\n",
              "      height: 32px;\n",
              "      padding: 0 0 0 0;\n",
              "      width: 32px;\n",
              "    }\n",
              "\n",
              "    .colab-df-convert:hover {\n",
              "      background-color: #E2EBFA;\n",
              "      box-shadow: 0px 1px 2px rgba(60, 64, 67, 0.3), 0px 1px 3px 1px rgba(60, 64, 67, 0.15);\n",
              "      fill: #174EA6;\n",
              "    }\n",
              "\n",
              "    [theme=dark] .colab-df-convert {\n",
              "      background-color: #3B4455;\n",
              "      fill: #D2E3FC;\n",
              "    }\n",
              "\n",
              "    [theme=dark] .colab-df-convert:hover {\n",
              "      background-color: #434B5C;\n",
              "      box-shadow: 0px 1px 3px 1px rgba(0, 0, 0, 0.15);\n",
              "      filter: drop-shadow(0px 1px 2px rgba(0, 0, 0, 0.3));\n",
              "      fill: #FFFFFF;\n",
              "    }\n",
              "  </style>\n",
              "\n",
              "      <script>\n",
              "        const buttonEl =\n",
              "          document.querySelector('#df-b9a694f2-91ec-4c2a-a076-54cb1656d7b0 button.colab-df-convert');\n",
              "        buttonEl.style.display =\n",
              "          google.colab.kernel.accessAllowed ? 'block' : 'none';\n",
              "\n",
              "        async function convertToInteractive(key) {\n",
              "          const element = document.querySelector('#df-b9a694f2-91ec-4c2a-a076-54cb1656d7b0');\n",
              "          const dataTable =\n",
              "            await google.colab.kernel.invokeFunction('convertToInteractive',\n",
              "                                                     [key], {});\n",
              "          if (!dataTable) return;\n",
              "\n",
              "          const docLinkHtml = 'Like what you see? Visit the ' +\n",
              "            '<a target=\"_blank\" href=https://colab.research.google.com/notebooks/data_table.ipynb>data table notebook</a>'\n",
              "            + ' to learn more about interactive tables.';\n",
              "          element.innerHTML = '';\n",
              "          dataTable['output_type'] = 'display_data';\n",
              "          await google.colab.output.renderOutput(dataTable, element);\n",
              "          const docLink = document.createElement('div');\n",
              "          docLink.innerHTML = docLinkHtml;\n",
              "          element.appendChild(docLink);\n",
              "        }\n",
              "      </script>\n",
              "    </div>\n",
              "  </div>\n",
              "  "
            ]
          },
          "metadata": {},
          "execution_count": 20
        }
      ]
    },
    {
      "cell_type": "markdown",
      "source": [
        "### Before everything separate dataframe"
      ],
      "metadata": {
        "id": "1Bkl4IBCxa8N"
      }
    },
    {
      "cell_type": "code",
      "source": [
        "X = df.drop('Outcome', axis=1).values\n",
        "y = df['Outcome'].values"
      ],
      "metadata": {
        "id": "pCL24qjFktaF"
      },
      "execution_count": null,
      "outputs": []
    },
    {
      "cell_type": "code",
      "source": [
        "X"
      ],
      "metadata": {
        "id": "eVYgYSR9lrPa",
        "colab": {
          "base_uri": "https://localhost:8080/"
        },
        "outputId": "4754d824-6320-45e5-97f6-b77f43081ba3"
      },
      "execution_count": null,
      "outputs": [
        {
          "output_type": "execute_result",
          "data": {
            "text/plain": [
              "array([[  6.   , 148.   ,  72.   , ...,  33.6  ,   0.627,  50.   ],\n",
              "       [  1.   ,  85.   ,  66.   , ...,  26.6  ,   0.351,  31.   ],\n",
              "       [  8.   , 183.   ,  64.   , ...,  23.3  ,   0.672,  32.   ],\n",
              "       ...,\n",
              "       [  5.   , 121.   ,  72.   , ...,  26.2  ,   0.245,  30.   ],\n",
              "       [  1.   , 126.   ,  60.   , ...,  30.1  ,   0.349,  47.   ],\n",
              "       [  1.   ,  93.   ,  70.   , ...,  30.4  ,   0.315,  23.   ]])"
            ]
          },
          "metadata": {},
          "execution_count": 22
        }
      ]
    },
    {
      "cell_type": "code",
      "source": [
        "y"
      ],
      "metadata": {
        "id": "G-HtBFTHltcM",
        "colab": {
          "base_uri": "https://localhost:8080/"
        },
        "outputId": "f8312828-970f-4c7d-cdc6-ac1ff3ec0f12"
      },
      "execution_count": null,
      "outputs": [
        {
          "output_type": "execute_result",
          "data": {
            "text/plain": [
              "array([1, 0, 1, 0, 1, 0, 1, 0, 1, 1, 0, 1, 0, 1, 1, 1, 1, 1, 0, 1, 0, 0,\n",
              "       1, 1, 1, 1, 1, 0, 0, 0, 0, 1, 0, 0, 0, 0, 0, 1, 1, 1, 0, 0, 0, 1,\n",
              "       0, 1, 0, 0, 1, 0, 0, 0, 0, 1, 0, 0, 1, 0, 0, 0, 0, 1, 0, 0, 1, 0,\n",
              "       1, 0, 0, 0, 1, 0, 1, 0, 0, 0, 0, 0, 1, 0, 0, 0, 0, 0, 1, 0, 0, 0,\n",
              "       1, 0, 0, 0, 0, 1, 0, 0, 0, 0, 0, 1, 1, 0, 0, 0, 0, 0, 0, 0, 0, 1,\n",
              "       1, 1, 0, 0, 1, 1, 1, 0, 0, 0, 1, 0, 0, 0, 1, 1, 0, 0, 1, 1, 1, 1,\n",
              "       1, 0, 0, 0, 0, 0, 0, 0, 0, 0, 0, 1, 0, 0, 0, 0, 0, 0, 0, 0, 1, 0,\n",
              "       1, 1, 0, 0, 0, 1, 0, 0, 0, 0, 1, 1, 0, 0, 0, 0, 1, 1, 0, 0, 0, 1,\n",
              "       0, 1, 0, 1, 0, 0, 0, 0, 0, 1, 1, 1, 1, 1, 0, 0, 1, 1, 0, 1, 0, 1,\n",
              "       1, 1, 0, 0, 0, 0, 0, 0, 1, 1, 0, 1, 0, 0, 0, 1, 1, 1, 1, 0, 1, 1,\n",
              "       1, 1, 0, 0, 0, 0, 0, 1, 0, 0, 1, 1, 0, 0, 0, 1, 1, 1, 1, 0, 0, 0,\n",
              "       1, 1, 0, 1, 0, 0, 0, 0, 0, 0, 0, 0, 1, 1, 0, 0, 0, 1, 0, 1, 0, 0,\n",
              "       1, 0, 1, 0, 0, 1, 1, 0, 0, 0, 0, 0, 1, 0, 0, 0, 1, 0, 0, 1, 1, 0,\n",
              "       0, 1, 0, 0, 0, 1, 1, 1, 0, 0, 1, 0, 1, 0, 1, 1, 0, 1, 0, 0, 1, 0,\n",
              "       1, 1, 0, 0, 1, 0, 1, 0, 0, 1, 0, 1, 0, 1, 1, 1, 0, 0, 1, 0, 1, 0,\n",
              "       0, 0, 1, 0, 0, 0, 0, 1, 1, 1, 0, 0, 0, 0, 0, 0, 0, 0, 0, 1, 0, 0,\n",
              "       0, 0, 0, 1, 1, 1, 0, 1, 1, 0, 0, 1, 0, 0, 1, 0, 0, 1, 1, 0, 0, 0,\n",
              "       0, 1, 0, 0, 1, 0, 0, 0, 0, 0, 0, 0, 1, 1, 1, 0, 0, 1, 0, 0, 1, 0,\n",
              "       0, 1, 0, 1, 1, 0, 1, 0, 1, 0, 1, 0, 1, 1, 0, 0, 0, 0, 1, 1, 0, 1,\n",
              "       0, 1, 0, 0, 0, 0, 1, 1, 0, 1, 0, 1, 0, 0, 0, 0, 0, 1, 0, 0, 0, 0,\n",
              "       1, 0, 0, 1, 1, 1, 0, 0, 1, 0, 0, 1, 0, 0, 0, 1, 0, 0, 1, 0, 0, 0,\n",
              "       0, 0, 0, 0, 0, 0, 1, 0, 0, 0, 0, 0, 0, 0, 1, 0, 0, 0, 1, 0, 0, 0,\n",
              "       1, 1, 0, 0, 0, 0, 0, 0, 0, 1, 0, 0, 0, 0, 1, 0, 0, 0, 1, 0, 0, 0,\n",
              "       1, 0, 0, 0, 1, 0, 0, 0, 0, 1, 1, 0, 0, 0, 0, 0, 0, 1, 0, 0, 0, 0,\n",
              "       0, 0, 0, 0, 0, 0, 0, 1, 0, 0, 0, 1, 1, 1, 1, 0, 0, 1, 1, 0, 0, 0,\n",
              "       0, 0, 0, 0, 0, 0, 0, 0, 0, 0, 1, 1, 0, 0, 0, 0, 0, 0, 0, 1, 0, 0,\n",
              "       0, 0, 0, 0, 0, 1, 0, 1, 1, 0, 0, 0, 1, 0, 1, 0, 1, 0, 1, 0, 1, 0,\n",
              "       0, 1, 0, 0, 1, 0, 0, 0, 0, 1, 1, 0, 1, 0, 0, 0, 0, 1, 1, 0, 1, 0,\n",
              "       0, 0, 1, 1, 0, 0, 0, 0, 0, 0, 0, 0, 0, 0, 1, 0, 0, 0, 0, 1, 0, 0,\n",
              "       1, 0, 0, 0, 1, 0, 0, 0, 1, 1, 1, 0, 0, 0, 0, 0, 0, 1, 0, 0, 0, 1,\n",
              "       0, 1, 1, 1, 1, 0, 1, 1, 0, 0, 0, 0, 0, 0, 0, 1, 1, 0, 1, 0, 0, 1,\n",
              "       0, 1, 0, 0, 0, 0, 0, 1, 0, 1, 0, 1, 0, 1, 1, 0, 0, 0, 0, 1, 1, 0,\n",
              "       0, 0, 1, 0, 1, 1, 0, 0, 1, 0, 0, 1, 1, 0, 0, 1, 0, 0, 1, 0, 0, 0,\n",
              "       0, 0, 0, 0, 1, 1, 1, 0, 0, 0, 0, 0, 0, 1, 1, 0, 0, 1, 0, 0, 1, 0,\n",
              "       1, 1, 1, 0, 0, 1, 1, 1, 0, 1, 0, 1, 0, 1, 0, 0, 0, 0, 1, 0])"
            ]
          },
          "metadata": {},
          "execution_count": 23
        }
      ]
    },
    {
      "cell_type": "markdown",
      "source": [
        "## Data Standardization\n",
        "important because measure of all columns is not equal. ML model will see big number and will think this is more important than others. Standardization equalize importande of all columns"
      ],
      "metadata": {
        "id": "CWuYDlCzlt76"
      }
    },
    {
      "cell_type": "code",
      "source": [
        "scaler = StandardScaler()"
      ],
      "metadata": {
        "id": "4kvUNazLx7gJ"
      },
      "execution_count": null,
      "outputs": []
    },
    {
      "cell_type": "code",
      "source": [
        "scaler.fit(X)     #fitted data to our instance or object, as what you want can say"
      ],
      "metadata": {
        "colab": {
          "base_uri": "https://localhost:8080/"
        },
        "id": "9I88TsgCySbp",
        "outputId": "6dd711fe-339a-4226-ddfe-7e6124a4605c"
      },
      "execution_count": null,
      "outputs": [
        {
          "output_type": "execute_result",
          "data": {
            "text/plain": [
              "StandardScaler()"
            ]
          },
          "metadata": {},
          "execution_count": 25
        }
      ]
    },
    {
      "cell_type": "code",
      "source": [
        "standardized_data = scaler.transform(X)       #method did this proses according to formula of stancard scaler"
      ],
      "metadata": {
        "id": "D89n2xTNyWKQ"
      },
      "execution_count": null,
      "outputs": []
    },
    {
      "cell_type": "code",
      "source": [
        "print(standardized_data)     #all values are range 0 to 1"
      ],
      "metadata": {
        "colab": {
          "base_uri": "https://localhost:8080/"
        },
        "id": "CZ7YgMNuyecB",
        "outputId": "571acdb4-51dc-45a8-80a1-42bd792e7548"
      },
      "execution_count": null,
      "outputs": [
        {
          "output_type": "stream",
          "name": "stdout",
          "text": [
            "[[ 0.63994726  0.84832379  0.14964075 ...  0.20401277  0.46849198\n",
            "   1.4259954 ]\n",
            " [-0.84488505 -1.12339636 -0.16054575 ... -0.68442195 -0.36506078\n",
            "  -0.19067191]\n",
            " [ 1.23388019  1.94372388 -0.26394125 ... -1.10325546  0.60439732\n",
            "  -0.10558415]\n",
            " ...\n",
            " [ 0.3429808   0.00330087  0.14964075 ... -0.73518964 -0.68519336\n",
            "  -0.27575966]\n",
            " [-0.84488505  0.1597866  -0.47073225 ... -0.24020459 -0.37110101\n",
            "   1.17073215]\n",
            " [-0.84488505 -0.8730192   0.04624525 ... -0.20212881 -0.47378505\n",
            "  -0.87137393]]\n"
          ]
        }
      ]
    },
    {
      "cell_type": "code",
      "source": [
        "X = standardized_data"
      ],
      "metadata": {
        "id": "I2UQ2r9NzAEa"
      },
      "execution_count": null,
      "outputs": []
    },
    {
      "cell_type": "code",
      "source": [
        "X"
      ],
      "metadata": {
        "colab": {
          "base_uri": "https://localhost:8080/"
        },
        "id": "KXKvBlQnzM3Q",
        "outputId": "fe4dc9e4-c4e4-4933-e5bb-82a1d284720a"
      },
      "execution_count": null,
      "outputs": [
        {
          "output_type": "execute_result",
          "data": {
            "text/plain": [
              "array([[ 0.63994726,  0.84832379,  0.14964075, ...,  0.20401277,\n",
              "         0.46849198,  1.4259954 ],\n",
              "       [-0.84488505, -1.12339636, -0.16054575, ..., -0.68442195,\n",
              "        -0.36506078, -0.19067191],\n",
              "       [ 1.23388019,  1.94372388, -0.26394125, ..., -1.10325546,\n",
              "         0.60439732, -0.10558415],\n",
              "       ...,\n",
              "       [ 0.3429808 ,  0.00330087,  0.14964075, ..., -0.73518964,\n",
              "        -0.68519336, -0.27575966],\n",
              "       [-0.84488505,  0.1597866 , -0.47073225, ..., -0.24020459,\n",
              "        -0.37110101,  1.17073215],\n",
              "       [-0.84488505, -0.8730192 ,  0.04624525, ..., -0.20212881,\n",
              "        -0.47378505, -0.87137393]])"
            ]
          },
          "metadata": {},
          "execution_count": 29
        }
      ]
    },
    {
      "cell_type": "code",
      "source": [
        "y"
      ],
      "metadata": {
        "colab": {
          "base_uri": "https://localhost:8080/"
        },
        "id": "kTwFegwIzNqY",
        "outputId": "8de5cd77-41dc-45c7-fe9e-801ba914ae03"
      },
      "execution_count": null,
      "outputs": [
        {
          "output_type": "execute_result",
          "data": {
            "text/plain": [
              "array([1, 0, 1, 0, 1, 0, 1, 0, 1, 1, 0, 1, 0, 1, 1, 1, 1, 1, 0, 1, 0, 0,\n",
              "       1, 1, 1, 1, 1, 0, 0, 0, 0, 1, 0, 0, 0, 0, 0, 1, 1, 1, 0, 0, 0, 1,\n",
              "       0, 1, 0, 0, 1, 0, 0, 0, 0, 1, 0, 0, 1, 0, 0, 0, 0, 1, 0, 0, 1, 0,\n",
              "       1, 0, 0, 0, 1, 0, 1, 0, 0, 0, 0, 0, 1, 0, 0, 0, 0, 0, 1, 0, 0, 0,\n",
              "       1, 0, 0, 0, 0, 1, 0, 0, 0, 0, 0, 1, 1, 0, 0, 0, 0, 0, 0, 0, 0, 1,\n",
              "       1, 1, 0, 0, 1, 1, 1, 0, 0, 0, 1, 0, 0, 0, 1, 1, 0, 0, 1, 1, 1, 1,\n",
              "       1, 0, 0, 0, 0, 0, 0, 0, 0, 0, 0, 1, 0, 0, 0, 0, 0, 0, 0, 0, 1, 0,\n",
              "       1, 1, 0, 0, 0, 1, 0, 0, 0, 0, 1, 1, 0, 0, 0, 0, 1, 1, 0, 0, 0, 1,\n",
              "       0, 1, 0, 1, 0, 0, 0, 0, 0, 1, 1, 1, 1, 1, 0, 0, 1, 1, 0, 1, 0, 1,\n",
              "       1, 1, 0, 0, 0, 0, 0, 0, 1, 1, 0, 1, 0, 0, 0, 1, 1, 1, 1, 0, 1, 1,\n",
              "       1, 1, 0, 0, 0, 0, 0, 1, 0, 0, 1, 1, 0, 0, 0, 1, 1, 1, 1, 0, 0, 0,\n",
              "       1, 1, 0, 1, 0, 0, 0, 0, 0, 0, 0, 0, 1, 1, 0, 0, 0, 1, 0, 1, 0, 0,\n",
              "       1, 0, 1, 0, 0, 1, 1, 0, 0, 0, 0, 0, 1, 0, 0, 0, 1, 0, 0, 1, 1, 0,\n",
              "       0, 1, 0, 0, 0, 1, 1, 1, 0, 0, 1, 0, 1, 0, 1, 1, 0, 1, 0, 0, 1, 0,\n",
              "       1, 1, 0, 0, 1, 0, 1, 0, 0, 1, 0, 1, 0, 1, 1, 1, 0, 0, 1, 0, 1, 0,\n",
              "       0, 0, 1, 0, 0, 0, 0, 1, 1, 1, 0, 0, 0, 0, 0, 0, 0, 0, 0, 1, 0, 0,\n",
              "       0, 0, 0, 1, 1, 1, 0, 1, 1, 0, 0, 1, 0, 0, 1, 0, 0, 1, 1, 0, 0, 0,\n",
              "       0, 1, 0, 0, 1, 0, 0, 0, 0, 0, 0, 0, 1, 1, 1, 0, 0, 1, 0, 0, 1, 0,\n",
              "       0, 1, 0, 1, 1, 0, 1, 0, 1, 0, 1, 0, 1, 1, 0, 0, 0, 0, 1, 1, 0, 1,\n",
              "       0, 1, 0, 0, 0, 0, 1, 1, 0, 1, 0, 1, 0, 0, 0, 0, 0, 1, 0, 0, 0, 0,\n",
              "       1, 0, 0, 1, 1, 1, 0, 0, 1, 0, 0, 1, 0, 0, 0, 1, 0, 0, 1, 0, 0, 0,\n",
              "       0, 0, 0, 0, 0, 0, 1, 0, 0, 0, 0, 0, 0, 0, 1, 0, 0, 0, 1, 0, 0, 0,\n",
              "       1, 1, 0, 0, 0, 0, 0, 0, 0, 1, 0, 0, 0, 0, 1, 0, 0, 0, 1, 0, 0, 0,\n",
              "       1, 0, 0, 0, 1, 0, 0, 0, 0, 1, 1, 0, 0, 0, 0, 0, 0, 1, 0, 0, 0, 0,\n",
              "       0, 0, 0, 0, 0, 0, 0, 1, 0, 0, 0, 1, 1, 1, 1, 0, 0, 1, 1, 0, 0, 0,\n",
              "       0, 0, 0, 0, 0, 0, 0, 0, 0, 0, 1, 1, 0, 0, 0, 0, 0, 0, 0, 1, 0, 0,\n",
              "       0, 0, 0, 0, 0, 1, 0, 1, 1, 0, 0, 0, 1, 0, 1, 0, 1, 0, 1, 0, 1, 0,\n",
              "       0, 1, 0, 0, 1, 0, 0, 0, 0, 1, 1, 0, 1, 0, 0, 0, 0, 1, 1, 0, 1, 0,\n",
              "       0, 0, 1, 1, 0, 0, 0, 0, 0, 0, 0, 0, 0, 0, 1, 0, 0, 0, 0, 1, 0, 0,\n",
              "       1, 0, 0, 0, 1, 0, 0, 0, 1, 1, 1, 0, 0, 0, 0, 0, 0, 1, 0, 0, 0, 1,\n",
              "       0, 1, 1, 1, 1, 0, 1, 1, 0, 0, 0, 0, 0, 0, 0, 1, 1, 0, 1, 0, 0, 1,\n",
              "       0, 1, 0, 0, 0, 0, 0, 1, 0, 1, 0, 1, 0, 1, 1, 0, 0, 0, 0, 1, 1, 0,\n",
              "       0, 0, 1, 0, 1, 1, 0, 0, 1, 0, 0, 1, 1, 0, 0, 1, 0, 0, 1, 0, 0, 0,\n",
              "       0, 0, 0, 0, 1, 1, 1, 0, 0, 0, 0, 0, 0, 1, 1, 0, 0, 1, 0, 0, 1, 0,\n",
              "       1, 1, 1, 0, 0, 1, 1, 1, 0, 1, 0, 1, 0, 1, 0, 0, 0, 0, 1, 0])"
            ]
          },
          "metadata": {},
          "execution_count": 30
        }
      ]
    },
    {
      "cell_type": "markdown",
      "source": [
        "## Train-test splitting part"
      ],
      "metadata": {
        "id": "vYv67TLTzfwh"
      }
    },
    {
      "cell_type": "code",
      "source": [
        "# train_test_split?"
      ],
      "metadata": {
        "id": "I2UcG6iq0IeF"
      },
      "execution_count": null,
      "outputs": []
    },
    {
      "cell_type": "code",
      "source": [
        "X_train, X_test, y_train, y_test = train_test_split(X, y, test_size=0.33, stratify=y ,random_state=2)"
      ],
      "metadata": {
        "id": "cscrJPpMzOX4"
      },
      "execution_count": null,
      "outputs": []
    },
    {
      "cell_type": "code",
      "source": [
        "print(X.shape, X_train.shape, X_test.shape)        #splitted truely"
      ],
      "metadata": {
        "colab": {
          "base_uri": "https://localhost:8080/"
        },
        "id": "m8SMGlzz0vXx",
        "outputId": "1eb1c409-3728-42d5-aa4b-430a0d7d8521"
      },
      "execution_count": null,
      "outputs": [
        {
          "output_type": "stream",
          "name": "stdout",
          "text": [
            "(768, 8) (514, 8) (254, 8)\n"
          ]
        }
      ]
    },
    {
      "cell_type": "code",
      "source": [
        "print(y.shape, y_train.shape, y_test.shape)        #splitted truely according to number of targets"
      ],
      "metadata": {
        "colab": {
          "base_uri": "https://localhost:8080/"
        },
        "id": "9dNyeMHQ37zf",
        "outputId": "513ba21c-d102-4111-e2c4-dcc9eed9f3f7"
      },
      "execution_count": null,
      "outputs": [
        {
          "output_type": "stream",
          "name": "stdout",
          "text": [
            "(768,) (514,) (254,)\n"
          ]
        }
      ]
    },
    {
      "cell_type": "code",
      "source": [
        "print(len(y[y == 1]), len(y[ y == 0 ]))"
      ],
      "metadata": {
        "colab": {
          "base_uri": "https://localhost:8080/"
        },
        "id": "4sOUhY804DAw",
        "outputId": "89a06e93-4047-45f3-9bce-56ef0f522cbf"
      },
      "execution_count": null,
      "outputs": [
        {
          "output_type": "stream",
          "name": "stdout",
          "text": [
            "268 500\n"
          ]
        }
      ]
    },
    {
      "cell_type": "code",
      "source": [
        "print(len(y_train[y_train == 1]), len(y_train[ y_train == 0 ]))"
      ],
      "metadata": {
        "colab": {
          "base_uri": "https://localhost:8080/"
        },
        "id": "KSSrIgYr4xWv",
        "outputId": "b1c4af56-026a-4a80-c886-dec1f0eb9870"
      },
      "execution_count": null,
      "outputs": [
        {
          "output_type": "stream",
          "name": "stdout",
          "text": [
            "179 335\n"
          ]
        }
      ]
    },
    {
      "cell_type": "code",
      "source": [
        "print(len(y_test[y_test == 1]), len(y_test[ y_test == 0 ]))       #stratify worked truely, as you see in proportion"
      ],
      "metadata": {
        "colab": {
          "base_uri": "https://localhost:8080/"
        },
        "id": "C0qVrYnt49k3",
        "outputId": "ac97bc1a-664c-41a3-af98-3cbf50964b30"
      },
      "execution_count": null,
      "outputs": [
        {
          "output_type": "stream",
          "name": "stdout",
          "text": [
            "89 165\n"
          ]
        }
      ]
    },
    {
      "cell_type": "markdown",
      "source": [
        "### Training the model"
      ],
      "metadata": {
        "id": "tZjwusob5BPn"
      }
    },
    {
      "cell_type": "markdown",
      "source": [
        "![image.png](data:image/png;base64,iVBORw0KGgoAAAANSUhEUgAAAywAAAJkCAIAAAB8kDJ/AAAgAElEQVR4nOzdZ3wU1d4H8DOzve8m2c1m03uhhV5CbyLSmwKioQl69Sp6RVEQ8LGDXkREvVQLoIhKV0QIoYMgJb33nmzvZeZ5MbAsm0oIbBL+348v2MmZmbORPfz2zCkYSZIIAAAAAAA8XLinKwAAAAAA8CiCEAYAAAAA4AEQwgAAAAAAPABCGAAAAACAB0AIAwAAAADwAAhhAAAAAAAeACEMAAAAAMADIIQBAAAAAHgAhDAAAAAAAA+AEAYAAAAA4AEQwgAAAAAAPABCGAAAAACAB0AIAwAAAADwAAhhAAAAAAAeACEMAAAAAMADIIQBAAAAAHgAhDAAAAAAAA+AEAYAAAAA4AEQwgAAAAAAPABCGAAAAACAB0AIAwAAAADwAAhhAAAAAAAeACEMAAAAAMADIIQBAAAAAHgAhDAAAAAAAA+AEAYAAAAA4AEQwgAAAAAAPABCGAAAAACAB0AIAwAAAADwAAhhAAAAAAAeACEMAAAAAMADIIQBAAAAAHgAhDAAAAAAAA+AEAYAAAAA4AEQwgAAAAAAPABCGAAAAACAB0AIAwAAAADwAAhhAAAAAAAeACEMPBA4jo8YMaLZYomJiTiOFxcX3+v116xZg+P46dOn7/WO7cGpU6dwHF+7dq2nK9K8kJCQ0NBQT9cCdDYPun1oPzpKu9QJftUdFISw9svhcGzZsmXYsGFeXl5MJtPX17dHjx6LFy8+dOgQQoggiKCgIBzHMzIyGjzdaDSKxWIWi1VbW+s8aDAYNmzYMHLkSJlMxmKxJBJJ//79V65cWVBQ0Ob1xzDM+ef6manBYm14x/avo9S2o9TzUQPtQxN27tyJu2Cz2SEhIU8//fTNmzfdSlK3dqLRaGKxOCEhYfPmzQ6Hw7Xk8OHD8YbMnz+/5e+0Peso9exk6J6uAGiYw+GYMGHCsWPHJBLJhAkTAgICrFZramrq7t27s7KyJk6ciOP4woUL165du3Xr1k8//bT+FX7++WetVjtz5kwfHx/qyMWLF2fMmFFeXh4YGDhhwgSFQmE0Gq9du7Zu3bp169ZdvHixZ8+ebVX/zMxMLpfbkpIkST7kOwLQ0UH70BLx8fFTpkxBCGm12rNnz+7evfuXX37566+/EhIS3EoOHz58+PDhCCG73V5cXHzw4MEXX3zx/PnzP/zwg1vJxMTEkJAQt7u0uobtSls1xeCeQAhrp/bs2XPs2LH4+Pjk5GSBQOA8bjKZLl++TP154cKF77333vfff//RRx8xGAy3K2zduhUh9Nxzz1EvMzMzH3vsMaPR+PHHH7/22ms4fqcTtKSk5I033tDpdG1Y/6ioqPoHH+iHvME7AtApQfvQEvHx8e+8847z5fPPP//NN9+8/fbbp06dcis5fPhw15IlJSVxcXG7d+9+//33g4ODXUsmJiYOHTq0besJHmXwOLKdOn/+PEIoMTHRtYVFCHE4nGHDhlF/DggIGDduXG1t7W+//eZ2emZm5rlz58LDw0eNGkUdeemll3Q63RtvvPH666+7trAIocDAwN27dw8YMKDBmhw7dgzH8ZUrVzqPJCUlUf3wpaWlzoNPPvkkjuOFhYXUS9eRECEhIe+++y5CaMSIEc4+fNdbkCT5zTffdOvWjcPhyOXyJUuWaLXalvyWXLmNvaCeMiQnJ+/bt69fv348Hs/b23v27Nnl5eVuJyqVyhUrVsTGxnK5XLFYPHr06OPHj7sW0Gq169atGzlyZEBAAIvFkslkkydPvnjxYoMVqKqqWrRokb+/P51O//bbb1tYebPZPGPGDBzHX3rpJec/RXv27BkxYoRYLOZwOHFxce+//77Vam36jt99953zeF1d3XPPPefn58dms7t27bpz58769z127Nj48eN9fHzYbHZERMTy5cs1Gk0L6ww8CNqHlvyW3CxcuBAhdPXq1WZLBgYGUjHR9VltW1m3bh2O40OGDFGpVNSRS5cuzZgxQy6Xs1isoKCgpUuXVlRUuJ5CPQm12WzvvvtudHQ0m82mnoFSxx0OxwcffBAZGclms4OCgt58802bzeZ208zMzMTExMDAQBaLJZfL586dm52d3eZvDbQC9IS1U9QzgqysrKaLLV68+MiRI1u3bp01a5brceprLtXoIIQKCgpOnDjB4XCWL1/e2KWYTGaDx4cOHcpkMk+ePOk8cuLECYQQhmEnTpx49tlnEUIkSSYlJYWGhrp21DtHGCxbtmz//v3Jycn1e/Ipr7/++p9//jlp0qRx48adPHlyy5Ytubm51F3uSf0xDZs3bz548ODkyZNHjBhx8eLFn3766caNG9evX3e+2aKiouHDhxcVFQ0dOnT8+PF6vf7w4cPjxo375ptvFi1aRJVJT09fuXLlsGHDJk6cKJFIioqKDh48+Pvvvx86dOixxx5zvZ1SqRwwYIBAIKASlVwub0m1VSrVpEmTzp8//9FHHzn/By1YsGDnzp2BgYEzZ84Ui8UXLlxYtWrViRMnjh8/TqPRGrujr68vdVytVickJLBYrFmzZlkslr179y5YsADH8WeeecZ57tq1a9euXevt7T1x4kSZTHbjxo3169cfPXr0woULbv+0g/YG2odWtA/U1xsWi9VsyZKSkqysLKFQGB0d3eBFWocgiFdeeWXTpk3Tp0/ftWsX9Svdvn37c889x+FwJk2aFBgYmJ2dvXXr1kOHDl28eDEwMND19GnTpl25cmX8+PHTpk2TyWTO47Nnzz579uz48eOFQuGRI0c++eST6urq7du3Owv88ccf06ZNczgcEydOjIiIKCkp+fXXX48cOZKUlNSGj5hBK5GgXbp27RqTycRxfN68eb/++mthYWGDxRwOh7+/P47jBQUFzoMWi0UqlTKZzKqqKurId999h2HYkCFDWleZIUOG0Ol0jUZDvRwwYECvXr18fHzmzZtHHbl+/TqGYYsWLXKegmHYiBEjnC9Xr16NYVhycrLblZ999lkMw4KDg0tKSqgjdrt96NChGIZdvny5iSrVv2CDdxSJRKmpqc6Dc+bMwTBs7969ziPDhg2j0Wg//fST84harY6Pj+dwOM7fnkajqaurc717aWmpQqGIjY11PYhhGIZhzz77rMPhaKLmJEkmJSVhGLZ27VqSJAsLC2NjY1ks1u7du50FduzYgWHY9OnTzWaz8+CaNWswDPv888+bvSN1fPHixQRBUEfS09PpdHpcXJyzzMmTJzEMS0hIcP5vJUly586dGIYtW7bMeSQ4ODg0NLTptwMePmgfmm4fqE/Q/PnzXQ8uWrSI+li5HqRuPXz48NWrV69evfrtt99OTEz08vLy8fH57bffXEsOGzYMw7DExMTVLtasWdP0L8f5Tk0m07Rp0zAM+/e//+38aVZWFoPBiIyMLC8vdx48ceIEjUabOnWq26179Ojh1hBRx/v06aNSqagjBoMhIiKCRqNVVlZSR5RKpVgslkqlGRkZzhNTU1P5fH6vXr2cR6hfdVFRUdNvB7Q5CGHt1969e/38/LDbvLy8pk6deujQIbdiq1atwjBs5cqVrie6tTUff/wxhmGzZ89uXU3Wrl2LYdjBgwdJktRqtQwG480335w5c6a/vz9V4NNPP8UwbM+ePc5T7qmR3bZtm+tBqgH98ssvm6hSC0PYqlWrXM+i0s/rr79OvaT+bZg1a5bbxffv349h2ObNm5uowEsvvYRhmPPfBqoCbDa7pqamibNcq7F27dpr1675+fmJxeKTJ0+6FoiPj2cyma7xiCRJu93u4+PTr1+/Zu+IYRifz9fpdK4Hhw4diuO4wWCgXk6ZMgXDsPT0dLdz4+PjZTKZ8yWEsHYL2ocmqkSViY+Pp6LSsmXL+vTpg2FYZGSkW86gbu2GyWQ+//zzpaWlriWpxOMGx/GmfznUO1UqlQkJCTiOr1u3zvWnr7zyCoZhR48edTtrypQpdDpdr9e73pr6Ddev0okTJ+q/oyNHjlAvN2zY0GBrRt3a2QJACPMUeBzZfs2cOXPq1KlJSUnnzp27du3a2bNn9+/fv3///meeecZ1fM+iRYs++OCDHTt2rF27lhpLsWXLFoTQ4sWL26omI0eOXLNmzYkTJyZOnJicnGy320eNGhUcHLxv376srKzo6GiqW2XkyJGtu36fPn1cXwYEBCCEnAMm7kfTV75w4QJCSK1Wr1mzxrVYTU0NQsh1bv+5c+c+//zzCxcu1NTUuA7MKisro65JCQkJcc41a9aZM2fWr18vEolOnz7drVs353Gj0Xjjxg2pVPrZZ5+5ncJkMt1WHGjsjpGRkXw+3/VIYGAgSZIqlYqalXbhwgUGg0F1CroWs1qtNTU1KpVKIpG08I0Aj4D2odkTb9y4cePGDefL8PDwM2fOOB/Zu1qzZo1zYH55efn+/ftfe+21/fv3X7582fUDjhA6derUvQ7Mr6ysHDRoUEFBwa5du5566inXH1FN0KlTpy5duuR6vLq62uFwZGVl9erVizqCYVi/fv3qX5zqCXM90mArd/36dbdWjhoTlpGRERsbe09vB7QtCGHtGp1OHzNmzJgxYxBCBEH88ssvCxYs+O6776ZOnTp58mSqTFBQ0JgxY44dO3b06NEJEyYUFhb+9ddfISEhrsOVFAoFQqisrKx11RgwYACXy6WGfZw4cYLFYg0ePDgoKIh6GR4efvr06bi4ONdhCvdELBa7vqTT6Qght0V6HsSV6+rqEELHjx93G4mPEMIwzGAwUH/+7bffZsyYweVyx4wZEx4ezuPxcBxPSkpKTk62WCyuZ7VwEBjl2rVrer0+ISHBbdwJ1XrW1NRQo5XrV6wld3R746ih9+5wOBpcMBbDML1eDyGs/YP2oWmJiYnU0Kjq6upt27atXLly3Lhx58+f53A4TZylUCheeOGFioqK999//7333vv6669bV22nyspKrVYbEBBQf2kMqglat25d/bNcmyBKg/ERISQUCl1fNtjKUcm72VuAhw9mR3YYOI7PnDlz2bJlCKGkpCTXH1HzzKmP2bZt25DLkFvK4MGDEUJXrlxp3awiOp0+ePDgtLS0qqqqEydODBw4kM1mR0VFBQQEHD9+/PLly3q9vtVfcz1IJBIhhDZu3EjU43A4qN8kQmjVqlVsNvvKlSu//vrrunXrqC/NDc6xx+5ltcOXXnpp6dKlx44dmzRpktlsdqtVr1696teKqlir7+hKJBJ5eXk1dgu3EcGg/YP2oQkymWzFihWvvfbajRs3Vq1a1ZJTqG6nv//++/7vHh8f/+2335aVlQ0dOtRt2VuRSIRhmFarbfBjOGTIkPu/O9We3Lx5s8FbzJs37/5vAe4HhLAOhnrG5PYIadKkSb6+vr///ntpaemOHTvodPqCBQtcC4SEhIwePdpkMjX4lYvitvyBm9GjR5MkuXv37rS0NOe09pEjR546dYrqRnIebBA1oa9NOrfa0MCBAxFCDa7T7So3NzcuLs61v4ogiLNnz97n3amBGq+88sqff/75xBNPGI1G6jifz+/SpUtqamqbPJBtzMCBA5VKZXp6+oO7BXj4oH1owjvvvCOVSr/44gvnShlNoD59BEG0ya3nzp37448/lpeXDx06NCcnx3l84MCBJEk22wTdjxa2csBTIIS1U3v27Pnrr7/cGtPKykrq66zboAQajTZ//ny73T537tzy8vLx48f7+fm5XXDjxo1CofDDDz/87LPP3Bq74uLiJ598kho60Bjqi+zHH39MkqRrI6vRaL766isajUatN90Yb29vhFBRUVHT7/oh692795AhQ3799dcdO3a4/SglJYUaGYYQCg0Nzc7Odq7cQ5LkmjVrMjIyWt0L5eqzzz5bsWJFUlLSY4895lwP89VXX7VarQsWLHBbtUulUl27du3+b4oQorpMFi9e7LYikcFgcBueAtohaB9agc/nv/HGGzabzW10VH0Wi2Xz5s0IoaarfU+mT5++b9++2traYcOGOb/8vPjiiwwGY9myZa7JDCFktVrPnDnTJvedP3++WCxeu3atW68eQRD1F60FDx+MCWunLl++/Pnnn8vl8sGDB1Nr5xQUFBw5csRsNk+ZMmX69Olu5RcvXvzxxx9Tn1vnKtiuYmJijh07NmPGjP/85z+ff/75yJEjFQqFwWC4cePGuXPnaDTaW2+91UR9evbsKZFIqqurhUKhc3wo1dpWV1f37dvXbVyCm5EjR+I4vmLFipSUFGqwkevqjh60e/fukSNHLly4cOPGjf369ROLxaWlpTdv3kxLS7t48aJUKkUILVu2bOnSpT179pw2bRqDwTh37lxGRsbEiROpTfru3/vvv89ms1evXj1mzJg//vhDLBbPnz//6tWrmzdvDg8Pf+yxxwIDA5VKZUFBwZkzZxYsWED983CfRo4c+dFHH61YsSIyMnL8+PEhISF6vb6oqOj06dNDhgw5evTo/d8CPDjQPrTOCy+8sH79+h9++OHNN9+MiYlxHk9KSqI6vUiSrKio+P3338vKysLDw99+++02vPvEiRMPHDgwderU4cOH//XXX927d4+Ojt6+ffuCBQu6dOkybty4yMhIm81WXFxMTSBw7agmG1mfrLHjTl5eXvv27Zs6deqAAQNGjRoVFxdHTeu+cOGCSqVydsADj/HAjEzQAiUlJV9++eXUqVOjo6OFQiGTyVQoFE888cSuXbsaO2XMmDE4jgcFBTlXh6pPr9f/97//HTFihEwmYzAYYrG4T58+b731VmPrDLmaPn06juMTJkxwPRgdHY3j+JtvvulW2G0KOkmSP/zwA7X+luu87sTERBzH3eZFuy6j1RjngviN3bF+AZIkCwoK6q8epNPpPvjgg969e/P5fA6HExYWNmHChC1btjhXcyBJcufOnfHx8TweTyqVTps2LTU1tdkKNKHBN7hu3ToMw3r37l1bW0sdOXz48IQJE2QyGZPJ9PPz69+//6pVq7Kyspq9Y4PHG/xVnz17dtasWQqFgslkymSynj17vvbaa1evXnUWCAkJgSUq2iFoH5puH6gV79w+6ZQvvvgCw7AZM2ZQL6nl93Acd646wefz4+PjV61a5bZGDLU8ff11NJpW/52eOnVKIBB4e3tfuXKFOpKSkpKYmBgcHMxisby9vbt167Z06dKkpCS3W9e/eIPHqc3Lv/32W9eDhYWFL774IrWqvkgkio2NfeaZZw4cOOAs0OCvGjwEGAl7dgIAAAAAPHQwJgwAAAAAwAMghAEAAAAAeACEMAAAAAAAD4AQBgAAAADgARDCAAAAAAA8AEIYAAAAAIAHQAgDAAAAAPAACGEAAAAAAB4AIQwAAAAAwAMghAEAAAAAeACEMAAAAAAAD4AQBgAAAADgARDCAAAAAAA8AEIYAAAAAIAHQAgDncelS5eefeaZYUOGLFmyJCUlxdPVAQA8bFqtdv369aNGjnh83Lht27bZbDZP1wiApmAkSXq6Dp1QZc9enq7CI+dnpfLl4qJQEae3XHy+VFljtG4PDR0lFHm6XgDJr/3j6Sp4Rum5Vz1dhU6O/uIp15dqu31KXk6BxTI6xMdocySXKEcIhTtDwxgY5ixj3zT8oVcTIIRQQMJnnq5Ce0T3dAUAaAMGh+PtstInY/w2j+1GwzGrg5h98J83S0svxgppLu0vAKAT+6qmusxmO/v0oGgvPkLoRGHttP1XD6pU0728PF01ABoGjyNBZ3BOr9c5HG8MiKDhGEKIScNf6xdearWmmIyerhoA4CH5Q6uZHuNHJTCE0KgQn/5+ot81Gtcybp1nAHgWhDDQGTgQiRCiEhiFgWMIIQIetgPwyCBI0q3nm47hBIJWALRfEMJAZ5DAF3BxfMPfBdQYRwdBbrhS4MtgdONyPV01AMBDMlog+iWrokhrol5eLFedL1eNvXtgKIwJA+0KjAkDnYGQRlulUKxIKblaqe7rJz5TosxRGb4OCWHAgDAAOi/7puGujxf/JZP9rlUnfH9uQoSvwWb/Pb+mH58/VSLxYA0BaBr0hIFOItFH+mN4uJ8VP59bG00yDkRGTRRD4wtAJ+fas+XDYByJjFro5ZNWpC6rMLwtV+wJC2fheIOFAWgPYImKBwKWqADACZaoAA9as8PtIX55HCxR0SB4HAkAAKBjc2as+mkM4hdozyCEAQAA6CQgcoGOBcaEAQAAAAB4AIQwAAAAAAAPgBAGAAAAAOABEMIAAAAAADwAQhgAAAAAgAdACAMAAAAA8AAIYQAAAAAAHgDrhAEAALhLgwvQwxJcALQ5CGEAAAAQam7zH+qnEMUAaEMQwoC7JK12Y3VVqsnox2A+7eW9UCqlYZinKwUAeLBcE5jSbt9QVXlQrbaQxHC+8FW5PJLNdhbrEDkM9i8CHQKEMHCXAyrV0qLCAX7i1+Mj0mt1a7PKsszmT4OCPF0vAMAD5BpZjA7H9LycCod9Xjd/PpO+J618Um724Yio8A6Swxrrz3Meb8+VB48aCGHgDgdJflBZ/kS4bNeEeAzDEEL9FeJXT2Yslcmc34M7hHKr9dva2n9MBm8a/Skv7+FCoadrBECH8bNKmWM2n3s6IdabjxB6vmfwoO/OfVFdtSEo2FmmfeYw1/hFkORhtXq/WqUniAQef56Pjxed7izWDisPHk0wOxLcUWK1Flus87sFYLefPz4dF0DHsHN6nWcrdk+yTKbR2Zk71XU+cl4ezT47P299ZYWnKwVA++XWdXRGpx+okFAJDCEkZjFmxPidM+g9UbV74PouSJJcVlK8pKiwjoOEUvaGmqrHc7IqbbYGCwPgQdATBu7g4DhCSGm601SpLTY7SXLxjhTWV5eXyQTsY0/2l7AZJEl+fCnvw4t50ySSMFZH6swDwFO4OJ5vspAk6fwyVmOydqxG4Kxev1ep3Dy269w4f4RQsdY0cvfFTysr1gXeGVkB/WGgPehInyvwoPkyGIP4/HWX8sp0ZoSQ2e54+3QmF8fHCkWerlpL6R2OZJ3uhV7BEjYDIYRh2Mt9Qnl02u9qjaerBkA75ZZFpkokGUrD1pslJEkihM6VKn/JrJwikniodi3i1rN1VKMOFXLmxCqol0FCzjPdAo5o1J6oGgBNgZ4wcJePAwJn5OX22HE6XirMVRu0VvsXQcFieof5e0IghBBi0O58u6BjGI4hByI9VSUAOpbhAkGij89/kjI2XS0UMGgpdfoBfP4Smcy1TDvvQ3KQJAPHMJdp3Qwa5oA2ALQ/0BMG7hLBZp+Kjlnppwix0p4WeZ+OiZ0q8fJ0pe6BkEbrx+P971qx0eagjmxPKdHZHGM6TmceAA+fa6jCMOwD/4BfIiKGMXhdSeY3wSF7wyNcH0e2wwTmVqXRQlG22vh7fjX1ss5k/SG1dAxM0AHtT4fp4QAPjZhOf04qa75ce7Va4T8zL7fvzjPjwmV5KmNSSV2ij08sh+PpegHQrlE5hnquh2HYIL5gEF/QYJn2b7RQOEYknHvo2rhQmZTHPJRThTnI/wT6uZbpKO8FdG4Y9dQftK3Knr08XYVHWrbZ9HV19T8mozeNPtvLe7pEgsF6s54jv/aPp6vgGaXnXvV0FVrPdZRVR8krrnW2keT3tbW/qVUGgkjg8ZfIZAFMpvOnHeUddSYBCZ95ugrtEYSwBwJCGABOEMLAw9Ts8hOQwDwCQliD4HEkAACAzsP1uWr94wC0KxDCAAAAdDYQuUCHACEMAAAedQ9oX8WOOLAMgIcJQhgAADyi6j+za5PY1OCoLNg/G4D6IIQ96vLM5kNqtYkghgoEg/j8tppFqLbbf1OpymzWGDZngljM7lB7ngDQ6bnmJDNBHFGrM8wmBYM5VSKR3MdG124bOF406E/pdGwMnygWR7DZrmUgigGAYHbkA9JRZkd+WVX1XkW5gEHjMWiVRutYofB/IaGs+w5MF/X6ZwvyTSSh4LGKdOYgFnNvWEQwi9UmdQYdDsyObG9co1KxxTIrP7fIYg0WsMsNFjaGfxsaOtBlhbCWpyXXy1oJYklR4R8ajS+HaXIQWqt9hZ/fv33lruUhhz1SYHZkg6B/4tF1zWB4r6L8lT6huUtGZC4e/sOE+CS97pua6vu8rIUglhQVdpcL0xcOu7lw2N/PJNBYtGUlxW1SZwDAfXJ7VvhqaTFi0i7NS7i5cFj6wmHxfqLnigotBNFY+RZedktNzV9a7bdP9Mh6bnjucyNe7Rv6YUXFVYOhTd4CAJ0GhLBH116VMoDPfmdQJJtOwzBsYoTvzGi/n1XK+7xssk5XbbOtHxkn47EQQlFe/FUJkRf0+hKrpS1qDTqYBQs3eroKHkN/8VT9/zxdqbuUWq3ndPqVCREx3nyEkIzH+mxkbK3NnqTT3ueV96qVM6LlUyLlGIax6PiqQZFBAvZe5V3NS3v7bQDw8MGYsAeIIMlym42D497tcgNstd0RKGDT8DuDwIJEnD8djvu9rMOOEAoSsu9cVshBCKnsjkBmo2eBzudRjl+uNA67xu5QMJl0DEPtbESUxuFACAUL72zq5fy0uhZzZAlp0fcWy1R2e5DozmVxDAsUcNRG+31VF4BOB3rCHpSDKtWgzPS+6WldU1Nm5+cWWdpdP1BfHu9ypTpfbaReWuzE/qzKPlzefV62D4+HENqbWeE88lNmuZhOi2SzGz8JdDaQwBBCtTbbc4UFXVJT+mek90lP21lb4xyD2056xcJZLAmd9tNdn9YKdPtT7HSvCQwh1JfL259VabHfeqxZoDFeqlC7XVa2Nqo1lQagE2mPPTSdwAmtZklR4RNh0k+6BtSYrOsv5U/Py02KjhHQaJ6u2h2zvLy21NY8vvfS0p7BYjbju5TSfLXxv5GR93nZMBZ7ppfX60kZGXX6Xr6i44U1+7IqVykUHJgg+WiA+EVxOBxzCvIqCcdHw2LDxNxfsytWpJfSEDbPx8ezFbNvGu7Mf2wcf1kmX3OzRG22jQ2VXq/Wbr1RPF0iacVXJtfLIoT+7SufnJs99qdLid0DNBb71/8UKTWDfZQAACAASURBVJiMJ728XU8p91bc53sBoKOD2ZEPRH8+nyFiHJnZj1rxoVBj7LXzzHv+AYk+Uk9X7S4VVuv/lZcf1qhtJNmfz1shV/Tn8+//sjaS/G9l5Xd1tXV2exCL+aLU92lvb9hC+1HQYAI7+uLgh18Tjzt8+PDEiRP/nNWvv0JCHVn0+42LhcqLMXG4y2fBI88l3RaS+KGu7suaqiKL1YtOn+ft/aqvnOnylemeauh65ct6/YeVFRf1egaGPSESr1IoFLCF9iMMZkc2CHrCHogUk2ll7wBn7AgRcbv7CFOMJs/Wqj4/JnNzSMhGkrSTZBsu5cXAsOV+fv+Ry80kycEwiF+PAugAc3P16lUpm+FMYAihCRG+P2dVqhwOjw8Sdd1dEcOweT4+T3t7m0iSjWH43Z/We41Krv1h/fj83yIizQRBxzD6/V0WgM4KQtgDIWPQM2r1zpcmu6NAYxwm8W7iFA+q30S2CRzDuBC/Hg2QwOrz8/NTWmyVBoucd2uFvIw6PRfH+e3mubxbFOO2Uf+c2/7Zbt/uIH4B4ApC2AMx18vnk4zyAf7ip2IUaottRXKm3uaY5dVOQxgArQbxqzGzZs36zwsvLPnj5hdjugYI2EfzqzddKZwp8br/xZDb1gNKRc4oBqkLgCZACHsgnpfJssymF4+nvXYiw0oQbBz/Iig4FJaMB50LJLAmiMXi7SGhi4sKum0/zabhZgcxTCBYpbhrKHonDijtYe4nAO0fhLAHgo5hm4JDXpD5ntPr+DhtnEgk8fQoEADaFiSwZg0WCK7Edvldo1E67D253D5cHubpIfkPVBP7dne+NwtAm4Bk8ADFcThxHE7z5ToRK0Gc1+uNBNGPx/NhMDxdHfBAQPxqOR6NNsPLy+1g50skbvEr32LOMJnlDEYvLhdrf0vUAtB+QAgDbea0TvtScXG1zYYQYmLYCzLZcrkfTI3sZCCBtZwzcyjqyjvxmliuCcxIEC8XFx1Wq6mXXTicrSGhIbdHYsAQMQDcQAgDbaPMak0sKBgQIPl1SJQ3h7kjpeSTS/mBTNYcb5iO0ElA/Gq1RySBIYTeKS1N0uu+HNP18TBpSo3u1RPp8wryTkXH0m5/GYMcBoCr9jVPB3RcPyrr6DTs+wnx3aRCBZ/99sDIJ8Jk22prPF0v0DYggYFmaRz2n1XK5QPCn+7i781hDg/y/t+4brlmy2mdztNVA6Cdgp4w0DaKLNZYb76Aeedv1AB/cXJRrQerBNoExC/QQtU2u5Uk+/mJnUd6y0U4hoqtd+2c27kfzgJwTyCEgbYRwWYdrq5SmqxenFs7k5wqqotgwabdHRskMNByfgwGF8eTS+oG+d/aJ+BsmYogkVs70OoE5vroE55pgs4BQhhoG7O9vL+srp65/5+VCZE+HMaOlNITxXVfB4d4ul6glSB+gXvFp9Hment/ejmfQ6eND5Om1OhWns7qxuUMur8daZtY+QJBGgMdHIQw0DakDMaPYeEvlxRP+fUKQkhIo73r7z9ZImn2xJZIMRq/q6sttVoj2exEH58w6GB7wCCBATct7IVa6aewEOR753JWn81GCA0WCL4ICm5iirRbwHK78l3zLh2OPUplkk7LxLCJYvEksYR2L4tfQGgD7RNGkqSn69AJVfbs5ekqeAZJkqkmk4EgunM4XBqtTa75q0r5UlGRgs/uJRedL1UarI7vQ8MSBII2uThw8yDi19EXB7f5NTuE0nOveroK96XVq97X2mw5FrMvg9FW35c0Dvv03Nwss3looJfBar9UqXlCLP4mOITW5OK3Tdcf0thDFpDwmaer0B5BTxhoFEmSfxsMyTodE8d6crg3TCYTQQwR8Afw+I19tcUwrBuX2+yVS6yWAyq1gXDEc7hVdluZzRbFYj8hFrvt9Vtqtf5cV7expmp6tPzrx7rRcdxoc8zcf/U/pSXnYmLxlq1AdsNoPK7V0BD2uEgU84itnXuvoAMMoHrZRWm371epquy2WDabQCjLbFYwGJPFEnHju4D4MBjNrtVsJYhjWk2qyeRLowezWFeNRhaOTRCJw9l35TYbSR7TqL+pqSmwWU7PHdjFR4AQOpRb9fTh67+L1RPEjfa1u74LrcNxQKUqtVld2xlYPxa0B9AT9kB0gp4wG0n+q6jwkFrtw2borHYLQXLpOI9OqzHbxgqF/wsJbfU+xDtra94uLeXQaUwc09rsJEIKHqtUbwliMfeGRQTfXtfx+9raFWUlNAyzEuT1xCGh4lvZ7lRx3eRfrxyPju7KaSbtESS5vKRkl7JOwqITJNJY7f+Syd72U8D6sfU90PgFPWHtVrN9Xad12gWFBVaS9GYxasw2B0n681hVRisXx3eGhg7k39Uh3USgcbtRpc32ZH5utsnsz2VWmqwOEnmzGVYHobM53vJTvOTrSxWrstmeys/NNJnZNPypWMXno7s4rzB894UgK/51SGiDFXC93RWD4ZmCPK3D4cdjl+rNbu1M09UGbQh6whoE64Q96qwEkazT/qFRK+121+M7amqOatTbHu/+y9TeFoL8V8/gvCUjc5aM+O6JHkl63dc11a27XZbJ9FZp6cIegemLhnKYtD5ycdrCYWmLhl+al0Bj0V4uKaaK5ZjNb5SWJHYL/GJMV4QQm37nLyqHjiOE7C348vCzSrlLWbdhVFzekpG5S0asSYj8srr6hFbbupp3YtAB9giiv3jKNankmc1H1errRoPr13Kjw/FcYeEAf0nGomFdZAI/Puvc3EHpi4enLxrWw0+0uLDQTBCtu/sbJcV6nEyeM/BffUIRwrY93j13yYjcJSNe7Rv6QUX5FYOBKraitESNEadmD5DzWSz6Xf9acei4vZE2wPV92UjyuaKCaKkgdeGwtEXD3NqZ+uUBeMgghD3SkrTaPhlpT+XlzS8o6JWeuqGy0tkE/6RSTomUz4j2+zGzQsFnvTskisugYRg2OVL+ZIxir0rZujvuVSl92IwPhsb8Xakp11s+HRmr4LMRQjHe/NWDoy7p9UUWC0Jon1IpYTE+HBozNsSHRcM3/VNInU6Q5Jf/FPkyGF2a6wZDCP2kVI4K8p7fLZCGY0wavqxvWA+p4CdlK2veKS1YuBES2CPINXYYHI4FhfmDMzMWFhY8np39eE52qdVK/egPrUbjcGwY3cVOkCeK6t4eGNFVKkAI+fJYG0bF1dntJ1v1labObjuu1S4fEB4vE+5KL5sS6Tsj2g/HMDadtmpQZIiQ85OyDiGkstuPaTTLB4T39BWNDZHuy6qo0JupK/xdob5Qrh4lFDb91hBCZ3S6CqttfSPtDAAeB2PCHl3FFsuCwvwhgd6rB0eKWYytN0s+vlIQyGRO9/JCCKkc9hARFyGkNFkDBBy6y8PHEBHn8N3dZi2ntjsUAjaThqvMNoRQsPBOlgoRcaj7BiOW0mFX8FksOs6iM98eGPHO2ezLFZp+fqJTRXVpdfrNwSGMFjxSVDnscXcPGQkRcWsrDa2reecD8evR5BZTVpSWnjXovxrbdWyI9Ea1dtmJ9GcL8o9HReMYprI7GDjmz2dnKfUIIapBoAQJOQghpcPuduWWPNrTOBzk7aupzDbXy+IYFiTkKHV2hJDW4SBuNxHL+oYeyase8P25qVFyg9VxIKeqN4837e7J1w3emurgb6ydabaqADxo0BP26NpVV8ei076d0KObVBgo5KwdHDU2xGdb3a2NhnpzeQeyKy12op+f+GqlJk91K7vYHMT+7Mo+XF7rbtqLx71Zo8us0/eRixFC+7IqnD/6ObNCQKNFsdgIoT48XmqdPr1WhxB6uU/oDxPis5X6nTdLAuy0XyMip7Rs5Ys+XN7R3Gq99da/E7VG68mi2j68Vta8M4EOMECps9t/U6veGhQxJ87fh8scFeLz1WNd002miwY9QqgPj2cjyAM5leFinheb8XPmnU8r9cmt3w5QTzndnnW6CWSyZAzGvswKhFBfufhAbqXFfuuxZonWdLFc1ZfHQwj5M5lyJuPnrAqEkILPPvFU//4KyfdpZVeLlMt8fX8KC2/JsNTePB66u53Z69LOAOBx0BP26CqyWrpJBTzGnb8D/RXizWVq6s8vyXwn52Y/tvfS7DiFhE1/7OfLL/UK8eIwvkspzVIaPoyIbN1Np0q8vq6pnrjv7xd6Bff3E7+elJGjMvSWi/4qrNmTUfGm3I9a2GKSWPJldfWkX678q1ewjMfalVqms9p/Cou4p5Uplkpl+3NUY3+6tKhHkI0gvr5WxERYoo+0dTXvNCB+Aadyq9VOkv397nyr6a8QI4QKLdZBfNSDyx0rEr7wZ+qSnroxIT7bU0q0Vtu4UNnNGu0314onisVNTzdubPohA8OW+fquSC812OzdpcIj+dVjfrq4sEeQzmr/6p9CGZ3xlJc3QoiOYa/K5MszSkw2x4QIWXqt/kxJ3XC+4LvQsAbn1jQY+0JZrJleXstP3d3O+Pm11QI6ANwnmB35QHSI2ZHrKyv+V1eTtmiYiMVACJEkOemXK2a15UBEFFXgsl7/QWXFJb0eR0jOYFTb7XaS7M3jrZD7uYahQotlQ1Vlkk7HwrEJQvG/fX2bmLuOEKqy2f6vvOyQWm0lSV863USSWocjgMlcKpUt8PFxNq/FFktiQX6u1UKSiI/jb/n5zfORXtbrN1ZX3TAZven0ORLvBVIpvcnnkjeNxvcryk/rdBhCo4XCdxT+EexH9xuwp+IXzI5sK00vbdqKi6jt9vj01BUDI5b1DaOOnCyqnfrb1QMRkf34fISQiSA+rqjYo6zTOhzedDqGoVqbXUSnPe3l/brcz9kXRZDk93W13yvrKm22LmzOv2SyoYIGBmy52l1X90V1VaHFwsVxMZ1WbrXRMPS4SLxa4R/AZDqLvVdetrO21kKSOIb6cHnfhoZhCG2qrvpNrTYSjsE8wTK5PLLJD7WNJD+trPi+rk5pt9dvZygwQfIhgNmRDYIQ9kB0iBBWbrUOzcroLhO+nRApZtG33izZmVK6LSR0vFjsWsxIEDSEWDhuJQg7Sbp9gyy2WMbnZrOYtCdjFQabY096WSCdeSgistkvms6rOUjSSBB8HHdtFu0kOSsv95rJ+FSsQsZj/pxRUW2wvC1XvFNeFuvNmxghz1Hpf8munCqWbGrBzkgmgsAQYrd2TY3OwYMdYBDC7lOz0/fuKUO4Xe3NkpKf1MrVgyPHhkivV2vfTs5UYPTDEVGun0cHSZoIgofjCCEDQXBwnHZ3iHmrtGRnbe2kCN+uUsGx/JqrVZr/hYTUX8TLvmm4691JknRezdnOuJb/Q6NeWFDQQyYcHy5Lr9Xtz6ma7eWVY7GkWUxPxiq8OcyfMyqURuuhiMjo5pYAbLCdca1Y06eD+wchrEEQwh6INg9hOodjT13dGb2Og+NTxJJxIlELlypt2iW9fllJcYHFghAS0WnLff0WSJt5WvezUvl5VaXabg9ksdYoFPtUquNG3cVnEqh9u1NrdEN2n//AP+DZ+3vqd1StXlhYcGh6n6GB3gghg80+fNeFSp2lu1x4YHofapbArvSyF/5MPRYV3b0Fy8OSJHlSp92nVGkdjgF8/tPe3pImu+s6E48/f4QQ1mpugemiXr9HWVdjs/Xgcp/1kcpdFkRtdQ4zE8RbpSV7VUoHiRBCwwSCjUHBsiaXWq20WleUlV4xGBgImyKRzPbyGpqV+cHQ6H/1CkEIESQ599C11DLN+Zi4xla0b8mqEARJDs3KCPMV/DS5Fw3HEEJbbhT/JykDIfTnrH79FRKEkM5qH/LD+W4465uGFgyrf5dKm+3b2pobRqOUwZjj5d3/7k0tYe+jBwpCWIMe6b6BjqLObh+fk/1eZTkpYZQyiYWFBa+WFLdJeu7P55+Nif0jKvq3iMh/4ro2m8CWFRf9u7jIzEADQrzz7JbpeblHNerpMX5UAkMIdZUKBikkyTrdfVbstE4XLeFRCQwhxGPQ53Tx1xOOBd0DnfM0n4zxEzBop1t2r9XlZU/n5+fRbHRv5qdVlY/lZJXfnoffuXk8gYFWc8sQX1VXTc3N+cdh5kjZ25S1o7IyM02mxgo3zTVDsHH8s6Dgq3Fd94VHnI+N+zE8oukElm82D8rKOK7VdFeIfL04X9VUT83LwRBa0D2QKoBj2KLuQcUWa5G10WUgPhD/q9lKlttseWbLgu6BVAJDCD3TJYCBY348FpXAEEICJn12nH+yvkWNQKbJNCorc5uyliNl/+MwT8nN+bq6yrVAYzuF159q0OzkAwBa6FHpDOjQ/ltZWUvYLzydEOnFQ7d7gKZKJMOaG3XREjiG9WhBTxJCqMhi2atSPh3nv3F0FxqO6az2yb/8fbNGpzbflWY0ZpsMb2bHEiedw3FArSq1WmPYnMdFIufDCDaO68x2B0E621+1xY4hTGO5MyXeaCMsDoKNN98jeN1o2FJT8+Gw6OfjgzEMK9GaRv948aOKio3BwS2ppIMkT+m0VwwGCZ0+VSyRNrcfS/sBCazTKLVa3ysvf7l3yNrBURiGKU3Wx/deXlVe+nP4nSkyLVwhguLWV+TLYPje/Re7wdXnEUJLiwppOHZxbkKUFx8h9GNG+ZJjKQghrcXOod8ahKC22BBCbKzRL/lvqb90/pkkyatG4ymdloXhE8Ti0Ntr2bMwDCGksdicJfU2u4MgLXYHQZLORwFqi43TspEGK8tLZQLW77P6eXGYJEm+czb7/64WThRL/F2GoLlxfe9lVutBtUrnIAby+YP5t7Zug72PwH2CnrAO4LBG/XRXfyqBIYTmxCoiRNzDavVDrsbXNdUEiVYlRFLBSMCkv94/3EaQP2dVXipXIYRIkvwhrSylTj+58Q3dXF01GPpnpL1RWrJPr36+qHBYVkbx7RUUJ4vF5QbLxqsFVIdfeq1u580SPzp9w98FpToTQshOEGvPZTtI8gmRuKl7IIQQOqxW+3KYS3oEU+1moJCzsEfQEY26Jb2JWodjSm7O0/n5e7SqDyoq+makHVarWvLuPAsWoejoFHXlri//0KjpOLa8fzj1d9iLw3yxT8hZnV7V2hX7KPZNwxv7r7FTsi3meV0DqASGEHoyxi9czMUQWnUmy+ogEELVBsu6S3n9eDxFI+HGNdnYSfL5osKJOdk7VHUba6oSMtI3Vd3qnZIyGIP4/M8u51caLAghm4NYdSaLjmFKi/2ra0XUh/dmjfb71NJJDTUC9XfAPKfT/7tvKNVtj2HY8v7hdBz7Q6Np8Cy3jq7ddXUDMtLXVVX+oKmblZc7Oz/P5LJbAHSJgVaDnrAOwI5INv3OOHcMwzgMmo142IP5bASB3HcQoiGEQhjMsXsv95IJDTZHlsrwlJfXmIZWsna/Gkk+V1QQ5cPf8US8v4CdUad/6sA/L5cU/xYRiRDqyeO9JPNdcy7n25RSGZd5uVITzWH/NyBoQVFB/I4z/eSifLWpwmj5MCDAr/Fvsa73YtJw1y4zDp1ma9nz3P8rL8uxWQ7P6DvYX6K22F89mf5iblE/Hr/pRzaeBfGrE6hene360k6SNAxj0u58+rh0GkLI8dAH9ZIIsV2qgWEYl0HzotH2ZVWcLKyN9uZfqdTwcHxzWESDp7vlle01NYc16i3jus2I9rM4iI8u5r1/pWAAn0+t5/dRQOD0vJzu20739RPlKA01Juv6wMBMs/mt01nbbpR4cxh/V2q6cDnLfOWu16QSpNskAOoXxXGpORPHaRjWkg3Q8i3m10uK53UNeH9oNJ9B+7Ow9tnD1/9bWfmWQuH6vqA/DLQC9IR1ACP5wj1pZXWmW0/9kkvqUmp1o1sQdNrWMz5SDKEvb+8g5CDIzdeKWDh2NDLqi6DgUButF8baHRb+WWBQS3bIPqvTlVtt60fF+QvYCKFYb/7qhMiLLtuJvKVQ/BYRmcDgKsz4xwGBRyKj43m8k1Exb8sVUiP2BFd4PDq6hYt+jRQKS/TmQ3m39rvUWuzfppSMEgqbraedJH9VqV7oFTwkwAvDMAmb8dnIOISw/e21Mww6wDoNt3/RRwiEJgexI6WEemmxE/+7Xtydy/Vp/MuA62Cmlqyh2kL+dMYP6WW1xlvN0dlSZUqNborE62R0zDSBxNtAviqTJ0fH1F9CrMG7U9ujzYpR4BjGodNWJ0QGC25tW4QQimSzT0XHvu4r9zaQk/iiE9Exs7191ij894VHDKRzAiz4+sCggxFRrmviNJaEfOj07lzO/64XU911CKEdKSUmBzGyBXsf7VOqhEz6J8NjBEw6hmGPhUqf7Rbwo6qupb8yABoHPWEdwKty+cnc7P7fnpsaLVearQdyqgYL+ONa8BhOZbdbSVJGp7ckFTWrO5c7gM//5FL+uVJVL1/Rn4U12UrDC1IZn06f4eU1w8vLrbyRINR2uw+dzmxoxAa1nUioy44loWIuQkjlsAeRzFq7nYZhA/j8AbenL5kIotxq9aHTl8hk91rzIXzB4yJR4pHrT4TLFHz2wZwqvdn+TURQsyeaCcJIEK6VFLPoXmy68v6eAT0gEL86sWgOJ9HHZ/mpzL8Ka6O8eEfzqst05t1h4W7F6qccK0HU2u1iOp17+2N4r8OY3LqUPgsMmpWf1+fbMzNi/FRm2/6cKjGd9pZCwcXxNf7+bueSJFlttzMxrLHJyM7t0Sg4hgWLbm1bRDUgUgbjX76+d65ms9ExLEEgaHDd5ibeFIZh7/j5z8nP6//d2fHhsqw6w/Gi2vk+Pm5rjDW295GCz3J9HBEq4qrsjsbuBUDLQU9YBxDCYv0RGf0EX3giqyqrRPOm3O/70PCmFynNNZufysuNS02JT0sdmZ3Zun1269sXFr7YR5pepd16o1ijs37oH7CyXrOLEDISxIrSkq6pKb3T03qlp31eVUnU6/PvyeOiu7cT2ZdVwafhdTb7YzlZ3dNSu6SmTM/NyTCZzASxqrS0a1pK7/S0+PTUzyor7vURDI5h34SErlUEFFfo/8ysGs7iH42Mim1uYSGEEA/HoznsfVkVztFj58tUFUZrq3dtekCgA6xTcgsE7/sHbAgKUteajqRX9sDYhyKiBvGb2kCCIMnPKyt7pqf1Tk/rlpqyorTE2BbDmAYIBL9GRPhi9F2pZb/nVg/lCc7HxHEb+qJ1UqsdmZ0Zn5Yal5ryVF5untlcv0xPDvdgzp1ti0p1povlqu4czhsltxqQnumpX1RVESSZrNOOzs7qkZbaJTVlZl5Ottnkdim3X1f9N5ggEByKjOqOsY+kV2rqTBuCgt73D2jwCm6X6s3jpSsNqTW35mA6CPLXrIrevBbNZwKgabBO2APh2cVa6+z2kVmZAi7jlb6hQhZ9242Sc2XKX8Ij3RbFeXAWFOYn63Wv9Anr6Ss8Xli75UbxK77y5X5+bsVeKio8qFEv7hHUWy76q6h2d3p5orfPHlVdT1/Rkvggs4PYeKWgUmvuy+WdNuhf7hPaRy5KKq77+nrR81LZSkUD4e9BOKxWLS4sHBviMzPGr1Bj2nS1MJzBPBgRRWuLzsU20f7jF6wTdp9aF5g+qajYUFW5uEfQmBCfa1XaDVfyh/EF20PCXMu0pD+sdXe/pNdPz8sZHOC1oHug1mLf8HeBzmhLio7xurtL7IbRODk3u6tUML97oM5q//JqEWklotisy0bjsr6h3WXCPwtqtt4smevlvVel7K8QL+oRZLA5Pv87v85gTYqKkTa0UlorKlz/9+C2lNpjOVkqkvhX72A5j7UrvfxcqXJ3eLjr/HQYENYsWCesQRDCHgjPhrBNVVWfVlfeWDBUzmMhhOwEMXzXBbkN/67ew4sWMjgcm6qrDmjURoIYzOO/4itvcPMfo8Oxqbr6Z5Wy0m7r7Sv6YkyXaC8+Qmj12ewt14puxHXl0WhUsS+rq/drVAYHIabRKmxWrYNQMBlLpbJ/DIYU0nrxmQRqALLKbOu6LVlvc2wa02Vel1vfWd+/kPPF34XXunQR0Rp9mH7FYNhUXfWP0eBNp89uwe5GTTukVq2vqsw2mTk4Pk0sWeWvaOLWD1P7j18UCGFtosFs0dgKqHqHIz499bmewWsG39qFjFpL4lR0jOvi8k1HB7c7Juu0X1VXp5lNCgZjnrfPXC/vBsc5nNHpNldXXTIacBx7d3DUgu6BOIZV6M09tp953VfufLZ4TqfbVFOVajIJaTQHQRZZrTQMPSYUzfH2fjo/f/vj3adH3/ratvJ01jfXi0KEnPPzEhg0HCFUY7R03376RR/fZXJ5/QpQ7rQzBDGIy39F7hvFbqDzu4nfgOvbr7HZ1t7ebK0bl/OG3G+UUNSSiwAnCGENgseRndBNk7Gvn5hKYAghOo6Pj/C9YXLvvW8hK0E8lZ/3v7qaYZHSuT0CLttME3Kzc+o9WbCR5Oz8vK9rq0dHyV7uHVphsIz56VJmnR4hNCnC1+Agci0WhJCdJOcW5G+urR4SIX06PtDMwEiEHYqM+ju2y2Kp7KbZNC5M6pwCJmEzhgV5YwhNjPB13mhShK+JIHLMja4DeUanm5abU0JzLOwd3C1I/G5F2b+Li1r33ikTxZJTUTHZ3bpndeu+PigIEhjwiHtaSCLPYjE4iEkuH5zJkb4IoRsmo2uxT1Z2aewKbgnsgEo1Oy9Pz8We6x0SKBe8XlKyprys/lmH1aon83K1HGxZ37CRQd6vJWWsSM5ECPnx2f0UYufdj6rVs/JyNWxsce/grgGiYqt1rpd3brce20LDqmx2hJBrzSdF+loJsp9CzLjdMki5rEH+khtGY73732IjyTkF+V9R7UyPwH8c5gk5OZn12sCmw5PrT6UMxqbgkJxu3XO6df8zKgYSGGgr7eKfE9C2pHT6PyqdnSCci8tnKfVSRiv/Xx9Sq68YDMef7N/PT4wQeqVP6OAfzm+oqvzy7k0bj6jVlw2GP2b2G+gvoYoN2X3+o0t5O8f3yFLqqVohhH7XqC/q9Udm9B0c4IUQWtY3dNiuC1/XVG8NCaXKvy/dkwAAIABJREFUZCsN1AVJkjxWUJNcXEci9MH53LcGRYhZDIQQVUDayDhfkiTfqyjv4yc6NL0v1WSPCvZZ+mfqc1Jp/H0M5MIwTNDcbpgPDcQv0CwfOh0hlK0y9JLfigvUNyIp/a7ZlG+pv7SjZoZSIYQcJPleRfkT4bLvJ8RTq6RuuFKw5mz2Iqk0kMlyLfZuRfnjYdJdE3tSxTb9U7jydNbS+OBAITtPZXicI0QIEST5fxXlY0J8fpzciyr21bWiN5MzX/CVhbHY0ts17+IjQAiV682fXs5DCJ0sqvu7Qt3XT0xdIVtpGMps9BP9h0Z9Sa8/OqNvgks7s76qcuvduxs1y21JWyaOM+v9FID7AT1hndCTXt5lBsvyU5lqi83mIHaklBzIqZoj8W7d1ZJ1unipkEpgCCERi/FUnKL+PiGnddpuPgIqgSGEhCz6nFj/k0W1l8pV/3cuZ4RQQK3ceFqni/PiUQkMISRg0ud0USTrbs0bmOPlfbyodvO1QrPN8cqJ9CcPXgsUckYGeW9LKRn8w/lKg+VqpeadM9kJAn4wi4UaonE4bhqNC7oHOr80z4pRCJm0ZO397qTUTkACAy3hz2QOFwrWns2+XKFGCOWqDK/8lR7IYg5paFIham4fnnyLpdRqXdwjyLlO/eIegSRCZ3R612KFFkuJxbqo+51iC7oFIoR+L6hefiqz3GB50ssLIVRstRZaLItcrja/WwANw87odAih4UKhgsl46Xhqvtp4s1rT77tzZ0pVj4dJcRwb/dOlzdcKtRb7iuTMYp15tlejbVqyVhct4SXc3c6c0rVyftK9rmcLQMtBT1gn1J3L/SggYGVK6bcppQwcMzmIp7y8nvXxafosrcNxQKWqsNm6cDhjRSLG7faRjWNai40kSef4D63FXn9DEhaOuxXTWGxGm2Ps3stxHM5nIbc2CGJjuNZy164jGoudfbvHbqbE64bRuCI5a/WZbCtBrh8Ru7hHEEKoQG0cvudC123JNoKM4rA/D71ru6Fyq/WQWq0jHAN5/B4cDoaQ6+5GJrvDbCdc54V1UBC/QNPc1pL4b2DwnPzcMT9dEjBoOpvDl8H4PjSs/uBI11NIkrxsMJzV67g4PkEsdvZy1d9BSGuxI4TcNg2jPsha651Pn85qJxF6OzkLx7CPAwK7cbnOYq4fUr3VQZAkdZyBYdtDwuYV5PXceYaJY2Fi7h+z+kvYDIIk3ziV+VZy1qrTWSRC/+fv34t3pyfMTpJ/aTUpRpOMQZ8klqgddo3d7tbOwPBn0A5BT1jn9KyP9Epcl//z91/uKz8ZHfPfoOCmZ/Nd1Ov7paetKCv5UadcVFgwMivTub/1ZLEkX2vacqPEuU/IrrSy+vuETBZLinTmr6/f2lk8tUb3XWppTw73h7CwP6Oi5bcnMU2SiEv15i//ubXrSFqt7tuU0smiW/1nGIa9HxB4Oia2F4frz2MtvL0lcKiYu6hHEB1h34WGnYyKcd3r7ce6uv4Z6R9VVXyrrpuRlzu/sAAh9PmVW7sbOQjyvQu5VoLEUMdugSGBgZZw7Z6RMxjHo2J+CAt72cf3q+CQi7Fx3ZrcJdZKEAsLC6bk5mxX1a2vrhyQnr69pob6URCL1ZPHXXcpj1oy2uogVp3J4uL4aJehUQghfyazD4+37lIetZSr1UG8cyaLiWErFYorcV2euf09UM5g9OfzPr2cV+3cj+hsFgvHxty+Wg8u91Jslw/8/a0E+Z9+4RI2AyGEY9hbAyMwhCaIxH/HdlkkvbNeYK3N9nhO1vyCgt065cqysr4ZaTU2W6XBsvnanXZmZ0op8dB3GQGgWTA78oHw7OzIe2UmiL4ZaTEywdbHu/vx2dertXMO/BNNY+0KC0cIkSS5sqx0e21tpJgrYTP+rtR05XJ+Do9wG59OkuTq8rItNTURIq43h3G5UhPH4ewLjxDXG7y1tqzs65rqcBFXymVerlQHM5mv+fr15HHDWHdmXK4oLTlnN15JHOI88unl/PUX8/K693C9VIHFMjgjfW4X/w+GxgiYtD8KahIPXzcTpBebobPa+yvEhRpTqc7MwrEpIslHgYHslm302650gvgFsyMfvqaXaXAb6kT5vKry06rKLeO6T470Ndkda8/lfHO9+K/omC4cDkIo1WR8Mi/PjIjecnFmrU5psX0RFDxV4r5Ec7rJNCsv10gSffzEWXX6WpP186Dg+is5Z5pMM/JzjQTRx0+cXaevNlkXS6WjhaL+PJ5zbedSq7VvetquifETwm8N0jfZHYGbT6zx818gvWurjOcKCy5ajHsm9ezrJ64xWpYeS0kuVvKZNJXFHi7mSrnMyxVqKYelNVn/iolxbWcQjOt6iGB2ZIMghD0QHSuEHVWrFxYWXH12cITkVvf+92mlLx5Pu96lqy+DgRAiSfKMXndApTYSxBCBYKpEwmkozZAkeU6v369SGQgiQcCfJvFqcAlHkiTP6/W/qVS1dnu2xVxwe5+ix8WijYHBfBoNIfSnRvNsQf7Pk3uNDZUihDQW27BdF7rgrC13j6v9pKJiu6o2+7nhzsWs3ziVseNmaaw3f2qU/HqN1ofDEDLpn/5dgBDyotM/9A+YJGnR5uLtRCdIYAhCmEd9srLLW+ovUXNLYSGEBmWmDwrz3jy2G/XSThBdtiZP4onW3l7RtMZm211Xl242+TGYc7y9GlzxASFUa7PtUtalm0xyBmOOl3d0I6si19ltu+rq0kymKpvthslkJgiEkIzB+CwwkJp7SJLk8OxMuTf316m9qSGeG68WrDqTfT42LtRlSKjW4YhLvfnB0JilPW+NUijTmeO2JSOE1iZE5WuMequ9t1z0xdWCCoMV3d3O3HqnkMMeCghhDYIxYQDV2e0IoWDhnbYyTMRFCKntdiqEYRg2VCAcKmh0t0qSJGvtdgaGDRYIBjcy8tcJw7AEgWAQn/94TraNjvaM7Ukt1vpGUsYbpSXUpMtRQuFIoXD2wWuTIn19eaz9WZVGi315ZIjbpVQOu//d24kECNg2gkiv1WostgkRvjkqw7GCmkkRvisGhH98Ke+F3MIQFqt7kw9l2onOEb+Axy1/L81t/iOlfleZym4PF98ZZUXH8UABR+kywEvKYLzc+LpcCCEjQWjsdimD8bJvU8Uo3nTGv33l1GLIz/cMXhIfpLPa3z2bs7CwICk6NpTFwjBsjZ//MwX5g74/9//snWdAFFcXhs9s74Vl6b0KUkSUYu+9xZbYY4klxmiiiaapSTQa0zSWJMauUWPvXbEgKF16722Xsgvb28z3YxVXQEBAkS/z/MoO9869Q9zLO+eee94RrhaplbJbBVUfCIXOLx7KqTUYDBi48J5/qa2YFBoBrMmUDZFZ49wshQzKr9F5GoPh2pSg3Brl6rC0NcVFO0wOd+Pe2zgdSOfbncFpdwKZTAA4m1Ved+V0ZrkZifSyE4j1eCCTDcvK8EtJ9kpOejcnu2EJsUaJUSqeKJU7hvmMcrWwZFJneNuu7e1xXiqp0OkAgIgg+5ycv7K2ziquuZZWPojGuurh6d6gQmx3BjO1WpFSKQMAjR798l76tw+zUAAagUjVYvufFD4srt462PvgaH9vc/bekX42TNqhysoW/lo6EFyB4bwmmjgFGcBgnM0s1z87wpInVcaJawKZLSrsojAYPisq7Jqc2D01JTA1ZbdY3HCPpdEThXsqK/rZmW3u38WZy/ATcg6P7cYkk45UPf2SDuRwLri5ewDlfHJZbZV6m4PDtw2sMqzIZGsKuc4A7X5RVeDBcDUKeRqtPZkSlV+1N7GouyXnwfReobb8Gd623/R2P/dsncHB6XDwSBgOeNPpo7jcZTdTUirl/kL2tbyKf9PL1tnYtCSDKl6hmJGbE2TN29/fXa4z/B6TNzEnK8yjizmZ3HTHAo0WAIJtnm8OhtjyDBgUa7VGKxIqgbDYwnKxheVLbwEwlsfbLhZNOB2zNNDpao44VlSzvIdzTyvuvaLqPxMKuETi1K627/s+ze4nEQg9bXh5pfImbtjh4PIL53XQEief5RZWk3Oyx5yMnuNrV63W7YzNt6VQJr+Y9dWoNRCGYQsK8mJVys9CXH3M2VdzK9YlF+swrK44fhMUaLVzbJ+HzegkYjdLTl7N81LMAUzm38yminuREOQTC6vP04u0BtRXyP4hMifQiru2l7tCb/g9Or9Cptah2MHR3Rjkp/HyUFu+6TqDg9Ox4CLsP4TRJyRVpbYik2cJBKauIzsdnTaXle2NL5QZDHYUyiY7uzmCZkpaPO1YIbZj05x59K8fZJKJyDAn4aGkoiNVVSua3LYAAFcqFQDCi6uNWV8A8KComoQg9s9OPqpQ9E+x+Iy0Wo6ivZis5ZaNuI7QCITTrm7rS0u+D8/UA2wd5D3Xzx4ARrhYcKiknx/n3iuoqjumrjWgj0skg2hvyECzFeAKDOd1YCqYagz6HSLRxZoaHYYOYHFWWFnW1aEIZrH+cXHZVFa2+EYyCUFGcLnrHW1bkjv1RKW8Wyub52d/MVu8O6HQR8ge7SrcVSBeIBRSm3uRc6FQHxRVYSGuxrVIrtXHldfM4j0vAPZILt8hFiWpVJZk0gwzwSyBOaHBQe9Z5uYkBNlWWH4uS+TIpV+a3NPoujHS2cJ33z1ocp3BwelY8O3I/wqXpdIpOdlSKjIv0MHeivVZUdE6E9cRGoGw3tY2xcc3zcf3sZf3++bCRl3hGhKrVFSotLcKqiZ7Wg1yMD+aWkIlE+OUimY7dmMwejKZH91IPp1Rllej3JtYuCEiaxKfbwyh6TFsVm7ONrEoxMV8ur9drF49OisztTHnJSGZvNPRaauDIzwzZjEy3s1Sj2HpEsXCa4lPxLWx5TWzLiWIldq55sKGN+lw5s3/HVdgOK8DUwWmRNHJOdkHqquGeFpM8bW9o5aNysos0j4PO/Vjc656eGb6+mX5+v3t5GxaC8ZUgdlUlZoOkaBUIgD7Eovs2LS5fvZVKt3V3Ipqvb7wWZmbhjOpY6HQIqJUuuJ2akql7FGp5L0L8Vo9OlPwVITdqKmZlJ0lpmBzuzs4WbO/KC7+ori40cecJhBEdvG2o1LGu1nW+Z6ZMyh97Mx4RGLdOrPnSeGGiKzJz9YZHJwOB4+E/ScwYNh3ZSUjnIVHxz21E/k9Nm/tg8z55kLTxC8ygjSsKNE0OhSjkYkPZ/QyZ1AAYK6fXb9/ImtIhmY7Igiy18n5o8KCeVcTAYAA8A6f/4Pd063DGzU1D+Xy8xN7DHAQAMDKni79/4n8ubxsn7NLo3ezoZABIFOiCKE//bORKVEAwDfWNjtzxCczygHAkkz+28nZ6yVntToQXH7hvBlOVlelqlT3p4f6CjkA8HGgc+jhhztE4h/t7U2b1XPoahgAE6/LNP2IYYABbOjruSzQCQBWB7u+dyH+dn4lj/jCS77xPvUqyg7ncjfZ2W1KKzuQXAwA9lTKQWcXByoVADAM+66sZKCD4OSEQCIBAYC/Ego+v5u+QChsmB4KAAiCWJDIGdXP3wBRDMuqVgxkc6oMetN1ZqPdC8+LZ+XjdCC4CPtPkK/RFGq0W018Qhb4Oax9kHlfJpvVsuz7l4EgMLWLtVGBAYCfkBNqy8ekLUp6FZLJ/7q65ajVxTqtO5VmY/LafV8m8+AxjAoMAFgU0kwf2x8jc152q2Amy5VGXXk7df9ofw8zVryoZu39zGAW60NLy3lCYbxSQQCkO5NJbll4742Byy+c10q94NM9mayXDd+owADAnEGZ1MX6Smp5Y11fQZpgAASAutLKBARZ6O9wPa9ChqKNhp3rVSl731w4lW8Wr1RSCYQABqOurHSJTpej1mzw9yY+q8s/x8fuq/sZ92WyRkUYAEwzM1uVV/T3k8I5PnYaA7r5UXZerWqbu11PJqvRdeaVHhMH53WAi7D/BNQX7UQwDAsvqsYAIuSy/my2Qxt0GJ9IqjWxHwGAWo3Og/IKoX5XGs21wZJKJSAK9XN3I7lWH1EiwQA7L5GM5HIpDRJNCAiyx9F5Rl5Oz0MPeRSSVKt3o1F3uLgAAI1ACGU1UzWjQ8AVGM4bhoYQSk1KTkjUutgyqdxguF5TM5jDaeho9DLqRbPYRCIKINfq65LfazU643BN3wSeSTEGkdi7QWkbo1eSqQlSZIlEj2KRctlgDsepsVVrmpngiVK5Kixt7YMMPYrpUWy9jW1PJgsaW2dw+YXzNoDnhP0nsKNQAp/ZiehRdO6VJ1MuxLEpxBuy2tC01N1icavvPJ7HO51RFl0mBQAMw46lliRXysfx2loQdRyPX6LQ7IjLxzAsXlTju+/+zfxKNpW8uCC/f0Z6oUbTsEsXOj2ii/efjk4fCiz2OzuHeXrZvcW5t7gCw3kD1NMZ4/i8JxWy42mlAHC3sMp7770YUQ1CQt7Pyx2ZlVHZ2qoNQzgcOoGwLjxTZ0ABoFKp/TkqtyeTadOCL2ATfthCMjmUxfo1Kles0BhQbOG1xAlnY5lkYphC1istdYdI1PBuBATZYu9w17PLKgurtda2Ud5dF1lY1GuD22/jvFXgFfNfC29hxfxUlWpKTrYaUCsWNb9G9ecw38me1mqDYWNE9s74gmsenv6tKmGqMBjezc2JVSiCrLgKnSGlSj6Fb7bVwaHhCaZX5buSkj8qxK4ceplS42HG+qaXuw5FCQisDku3QAnn3DzaeP+O4j8ov/CK+R2IacgKxbAVRYUnq6u7mDFzpMretvzdI/wsmdSoMumMC/HBVMbuFx0pmlYqpnc+WV29orDAgkHxFLCiy6Q0IJx0dfM2yb9suegxvW2mWjUxJ1uJorZsWo5U+dNALwc2HUHgflH19rj8827uQayWHnbGVVeHg1fMbxRchL0W3kIRBgAVOt0/VVV/VYqHuAr3jnxqwmhAMb+994bQ2ZteTFZtORoUPS+V3KmtpSCEcTzeYA6nhScrm8bobrRLLLojk/lbsJ+IZcbrPay4MeU19axLOgv/QQUGuAjraOrV9LpdW7tdJIpSKpLn9bN/5pOxO6Fwzb20FB/fep6w0KR8Mb1zmkp1rLqqTKvzodOnCwSmVbheVQCZ3tbobvRXRYUNj5ZXo1LoDABgyaAABoPp7F8cHBqdrSGDAwBEz9pXGhfntYKLsEbBc8L+QwjJ5BVWVvurKk3NSYgExInHqFLoAUCForUGg4BEanl2CABQCYSpZoKpZoLmm74KRncjsU53Ty4TK7T/jO0WaMkNK6z6/G4aAlCl13cuEfbflF84bwOmKVwIggzhcnO1mkSNypb9PEfKhccwYFCjN3AIxCq9nkog1J2RNPZtVEiZ5nV50enfPXOZrNegLRjdjXZXVCRXyj/wt1/SzVGuM2yIyLpdUFlErJ+WUDccLr9wOgt4Tth/jgAG40JWudbw1JykqFb1uEzqS6N/UVzkk5zULSU5MDXlT7HoLQmRUgkEAwa/D+k6xtXSmkWb7m37bR8PAOC/eIr+LQdXYDgdSz0x1J3BVBvQK7nPk0HPZJZZUchpKtWgzHTflGTPpMTZuTmmyZdN1Nyvy7L6gbcUmkzzat1sAYCAQIgN76cBXq58pr8F5/CYbmwKSf12rFE4OG0Bj4T95/jYwnJCdtaYU9Fzfe1qNPodsfkWJHKEUh6tVC4PcvYTcq7nVXybXKzDYFkLXEdeNxoMBYBQWxN3Ixs+BlBt0Lt23KxaDi6/cN5CAhmMAWz2oqtJSwNlXgLWpRzRqYzyhULhvPy8vvZma3w9q9XardF5k3Kyb3t24ZiExJrWVS8zC287CCC9bc3q8hxoJGJPa56+qpEDOjg4nQtchP3n6M5kHnNx3VheuvhGMgFgOJc7zdZsdl7e/pF+Ez2tAWCUqwWVRNiVXLJAKKS3wD7yteJCpQFAeHH1SJenp5weFkuICDhSOsFeJK7AcNqXeuGoVwo11duU3OvkvKGsdHt0nhJF7amUn+ztL0ok/hacs+/0MNblGuIk7L7/wcnq6vnCjjeZ8KTRwourMQwz6jClzhBbVvMu54VT2HjqPU5nBBdh/0V6s9lX2J61BgMJQRgEwuHKSgAYZ+L5M8Hd6q+EwkKNxrOj68v70enBLObHN1M2DzD0sObdKaj8NjxzAo9v8Xa7juDyC6cdedlWYN31FuoPUx3GIBJ/sLNfb2OrQFEukUhAkA1lpSv8Xeoqozpy6N0tOQlKBcBzEdZsMKy9qFeK7ANz4ey83OW3Uxd3c1DoDBsjs5U6/SzzFvnb4uC8zeAirHOgMBj+ra4Ol8voBMIEHn9Ie5xArNtlMCeTACBHqvQ0e3reO7NajgDwX9HC6HWAIMgex+fuRgjAOB5vS2sPcr4ZcAWG046YapFYheJYVVWFXteNwZxpcgKx5dqoXrV6CoFQV/rYnETKrJbXtdQZ0PwaVXcWr12eohWY6rChXO5mO7sf0soOJhcDgA2FvN/JxfRoDh4Gw+mk4CUqXgvtW6KiWq+fmJOVrVb3tjWTqLRJVfKZAsEWO/t2qQQBABoUDU5LdRIw/h7l78ihPy6VzL6U4EemHXR+i9KustXqYq3WjUbDS7B2OvASFa2jXgBsd4V4XUmJE4fuxmdElEgYCOGMq7upgU9bKkEAwC6xaFNZ2Y6hXad2sZHp9OvCMw8mFd/x7NKlVeW+2osXDMgNhjilkoIg3ZlM0xPcuALrFOAlKhoFF2GvhfYVYWtLik/USG68G9xFwAKAA0lFy2+nnnB169vA6KPVxCoUc/Jyq/V6LoUk1eq70ulHXVzf8i2/tw1cgb0MXIS1DlP9UaLVBqelLOrmuLGfJwFBKpSakSeirA3Ef13dTLu0RYfpMOzjwoJzEgmbTFQbUMDgBzu7mYIXtvw6Su68bEMWl1+dCFyENUrH7zfhNMvFGunMrrZGBQYAc3zsfo/JvyCVtKMIC2Qyo7y8r9TUlOq03jT6QA6H+JZ5Xb/N4PILp92xqSo1dRO7VlNDRJAvQ92MXhRCBvXjHs7LbqVI9XpeG9IGTLf8yAjyh6PTYqHFA5mMQSCM5vEsG7yGNV2ootXTaMk8X9/NoeOeCwcHF2GdAB2G1TnjAgCCIEwyUYu2cwiTQSRONjNrSctUlapUq/Wk0+w7wxHFFqJE0WiFnABITyaT9ipnQnEFhvM6EK/LNP2oxVASAaERn//LZJGJAKBr81ZGvSwxfwajJQ5mtQZDrEJBJxB6PNsZbKKm69tMPfmVoVIVabXuNJrjs4SzTvpcOJ0FXIR1Agaw2MdSS5d2d+LTyAAQXlydWCn70NHpzc+kVKtdVJAfo1AAAAIwgc//2d6B0dFlLNrOv9VV60pLavQGABCQSJvs7Ma2wIMcl184r496xwMHsDnflZYeSime7+cAADoD+veTQl8G3bydTs+Yiox6sqNhlGinSPSrqFyJogBgQyFvs3fs8ywq/8aOT7YLpo8m1ukWF+RHyp8eTRjF5W5zcGS1uEYaDk7rwEVYJ+BTK6uxWVkhh8IneVpXq7VnMkShLNYo3ps+tYRh2Jz8XCkBOzY2wN+CcyO/4st76Yzi4p8b2Ld1LiLlshWFhe91sV7R08WAYlse5yzJyXegUJuOB+AKDOdN4kWnzxQIPr2Tdju/0t2MdSVblFej+sfFFXkN+elN3+espHpDWenSAMcF/g4Ste7b8Mw5ebn3unjVnZjpLHqlnqXmgvy8Ykx/eEy3HlbcOwVVa+6mrS4u2mnyrttZngunc9HpYxj/BVyotMvuHkPo7IupZfH5kk8sLI+4uJLfeM7WI4U8Wan6c4TvKFcLWzZtrq/9F6FuJyXVEr3+Dc+kfdlbWdlVwPpjuK+XgOUjZO8b5WfHoh+orHhZ+3nzf8cVGM4boN6f/B/t7LfY2ZeKFKeTStyBcsHd3TQr9I3pgz2VFUMcBT/07+LCYwRacf8ZF0AkIkerqkzbNJFi9XbyRKWMVih+H9p1nJulDYs2s6vt+j4e5yQSkU7X0VPD+T8Hj4R1Dpyo1J/sOzjglKfRAkAvm+f7dL1s+FoMK9Xp3oaKYq0mX6sJcTMnPBO1JAIh2JaXVyxrtDEuv3DeJKYJWwQEmWVu3miF0jcZocnXaMfY2tZ9ZFNI/hacfEXndhDK02jgRXu0UFs+ClCk1ZqeTiB9dNe4AuwOOPPmJ4nzf0kn/tuJ84ZxplIAILykur+9wHglvERCQRCbTl7JwolCjSyuRjHMqMP0KPqoRNKbUn8vEpdfOB1Fvdz5hj96kzhTqeHF1SuDXIwfazX6J+LaD8w63tqoLRjrvj4srh7xoj2aw0uqEi6Mn1j337ggw2kLuAjDaSkhTJYfg/7htaRNA726WXBu5FVsjsyeambWqcNgALDAXDgxO2vhtcQVPVz0GPbT45wSuXquu6NpG1yB4XQ4HZWQVO+IwEJz4aKC/M/vpi3ws5eodd9HZBsM2HSBoF6XNz7NNuFPZwSxmB/fTPlxIBpoxQ0rrGpoj/ayRWBh/ERch+G0GrxY62uhjUUa31rKK+RL112OSiwFAAKCTBjq+ePqoTRqO4iwSony6IWkJ+kiIZ/x7uiuAV2t237PlnN2+pl1pcUSvQEAzMmkzbb2o5+de5g3/3etorY44qI0P4XM5NoGjzRz9XuTc/s/AC/W2tmpF4T7Uyz6WVSuMKAAYE+lbLV36MVqh+w0DMPuROZduJ2pUuv6BDpMHunNoL/eKLvpc1XodB8WFoTLZACAAIzh8X6zd2A+Ox05d962qozY0pgberXCzNXfLmQ0ic6sdzdcijUNXqy1UXAR9lr4v1l8GyUjr6pMJPNwFthYtk+12Kz8qilLT8gVWm8hvVSuE8m03y4fMG9KQLvcvCUsjJ9o0Gqk+cmAEPjOPgTS86VfWVUatW2ZTi7t0j1YXFIkLs73GLPQdfisNza3/wNwEfb/galkkRkMcUoFHSEEMpnE9jihiWHYmp9uH72Q5MynsSiEVLHKzcns1M6pPA6t+c5toJ6+zHraIiP4AAAgAElEQVRqj0atK4JoDICln92Zd+e4tZObmYVVWuwjhsA6aPl2KueF+B8uwpoGF2GN0rk3knA6BE9ngaezoPl2LWbtb2F0wH4d68KjkVAM2xsn/m77vVED3K2ErHYcpWmIFKrAI7Dh9fSzOxlU8vqj4QJLawzDTu766dze7VYBA5gWb7WJOA5Ou2O6L8kmEvuzOfV+2pabh8cUHr2Q9GFPq2GuXARBCqSaL+4U/n7w8dpl/dty22apl2/nTqOZ2nEaFZg0PzXvzvEZn3wzauYHCIKUF+atfX9C5qU9vtNXm94K35fEaQW4CMPpYKS16vDYomVBVjwaCQAICDLDz/xatvTa/ez3J3Xr2LmhOq046eHMT74WWFoDAIIgExZ8fPXYvvKEu67D8GAYzn+O15fsdSksy5ZLNSowAHDkUQc5ci7eznjdIsxIw1q1phlg5fFhXHPLkdPnG+dm5eA8dMqsS0fqizAcnFaAizCcDkarMwAAjfy8ZB2ZQCAREa3W0HGTegqGoRhqoDGfB+RIZAqJTEV12g6cFQ7O/x86nYFOQkxrz9LJBI22A2oQNkzAR/U6Ko1OID73jqMzWKgeLyGG0w7gxVpxOhihGcPLRXA1W6p/5oZ5K1eq1qH9gh2b7themJ42rweRQjNz9bt18rBWozZeibh6TlFTbe4d/GbmhoPzH6F/kGN2lTpFrDR+lGsNdwtqB4a6dOysjJh7BYmL8xPC7xg/qhTyO+eOmXsFdeyscP4/wCNhOO2MUqXTaPU8Dg1pWU1/BEG+XtZ/zqpzn1zPD7JhFddqHpfIp4/16eLSSFHKN4/HuMXROz5ZPXVY0OCR4pLCqNtXrLsP5jl17eh54eC8vRgMqKRWzWZSqJSW/okZNdA96OyT9feK+9qzWRRCeLHcQCCseL8D3nZ2B5yp92Im9A4Regf/8umCkKFj+ELLiOsXZDU1QdO+edU7N3zfw3PIcPDTka+F/7NTUS2kRFS7fuvdG+G5KIZ5uQi++LDvwBDnFvaNTynbdST6SVq5uRlz+njf6WN9CYQ35MvURCTMSG1xVu7Nf2ryk8lMrk3QSIe+EwhE/O3lFcBPR/53wDDswOmEnYejRVUKBpU0dYzPl0v60GktqjShVOn2nIg7dz1Nqdb1DXJcOivIyfZNO+TWUW9ZQHXa/HunymJu6NUKvms3l6EzWFZODXs1KqqaXWFe1vH/DPx0ZKPgIuy18B9cfOVK7bDZh9Ry9QRPPodKupkrTRGrjm2bFBrwtp8ibMkSidMWcBH232H3sdjvd94f7MztacvKl2rOZVT37uF44KcJHT2v1tC6lcFUTr3SHZrVYU3f7e2XcbgIaxT8hR6nfThzLa1UJN852tmaTQGA3vbs1bcKfz/w+O0XYS1HI5Pk3jxSmfwQCAShTx+XIdMprJa+qYuTHhbcPamsLKab2zr2n2zp1/e1ThUH582j0eq3H3o80o23uKcVAITas+25lJ8e5iVliHw9LTt6dq9Mw31JI2XxYUX3z6iqy5iWjo4Dpwq9XtgzbUIqaWqrcm8erUx5toAMnUFhck07NhRSLZdxdS3ffjWGYwqemI/TPiSklbsKaEYFBgBEAhJqx0pILe/YWbUjWrn08W9LxDHXew0cEtJvQPnjS4+3LtUpG/f5rkfB/TOxu9eYMQjD3pkqYJLi/v4y/+6p1z1hHJw3TFFZrVSm6e3wvH5YqB2bgEBCmqgDZ9W+5Nw8krBvrSWfMeydqRyiLmbXquJHV1rSUSuTPv7tQ3HcjV6Dhob0HVD26GLU1o90KrlpG1PJtTB+YutCca3uiNMh4JEwnLai1ujP3UyPTS6tlGl1BoxMfJrLVSrTmvHoTffNzKs6eiGpWFTr4SSYOd6vvUrwvw4K7p3WySQ/nboltLEHgFEzF34+ZUhh+LmmC4ZV5yQWRVwsi7np5tt91W97WVw+hmH7N3917+Ieu5BRJFp9m/CGoAa96Ml9UeJ9DMUsfHtZdx9MIJKUVWVFDy8oRAV0cxuH3uPxyrE4HU5qdsXeE3EAUCbT+lo+/YddLtehGAiaXAfUGv3ZG2n3ogqoFNKYQR5Dejm38EzP66ahlNEqanKuHhg9e9GMFV8DwJQPP9v1zYqYC3/aBA4hkBu3+gYAraK2OPJSceQllUT88Y+7ggaNBIAR0+evfndo0cMLLkOmNz2oEUVFcdHDC8qKYoaFvUOvcQyhLWrQl8ffFSeFA4CFbx+rgAGmuap45djOAh4Jw2kTcqV28tITn/94ExTqWo3h7ziRUmcwoNj9gtqw/Nr3xvo20ffSncxhcw6fuZwkzirfdzx20MyDscmlb2zmr0pVelTPQcONCgwArOyduvcdXJn2uIku2dcOPN66VFea5h0YnJ+e9OX0UZVlJQiCjJg2X6dWSPKSmh0UNejj936dsH8dTVnB1EkTD22I/eOzirSohz/MLn900ZJJqIy7Gb5pjjjpYfs8JA5Oq/j3csqIuUfu3MviUolHEisyKlUAUKHQ7YouN+PSBoW+9ICOTKGZtOTf1Vtu5aeUxEfnzVt9/tONN97aTOXqrASDTjNi2nzjRwRBRkybp5FJaoozX9ZFWVkasfn9nCt7nZwczCystq5aePHgHwBg4+TarffApheQOipSHz/cNEccc82SSRBFXQnfNEecEhn315onB7+la6romqonB7+N272mXukyPB7WKcAjYThtYvfx2PTsip+GOroL6NezpX/GlN/KkdLIRIXWMKKf66JpgSiK3Y8qSMwQWQiYowa4c1hPHdmUKt3nm2+G2rFWhNiQiYhCa/j2XvHnm27eOjL7LXkPrgdCIqvkL+wdqBRyAun56y+GYdXZCdLcZDKTbRUwUCuXZl3e+84HyycvXokgSEVZ8bfzJh7dtvHjzbvUSjkAEEnUZgctjb5RkRzx2bYDAX0HA0BKdMQPi6fJSrPdfQM+27afxmBqNeptq5ckH/txQJdTTbyL4+C8PiQ1qq9+vj3Imbu0p1WNxrAurPDzmwUsClGpM7CZlH1bJtCopDKx7Oq9bJVG37eHg1+X5/lhf/wTk5lX+fMwJzczGgCE5dVsvZY6eqD7kN5vRYWwehhdZTVKRd0VtVJRd92IRiYpT7irV8n5rv58F9/0s9sZdOr6Y+ECS2sURf/dvvn475uCBo+ytHNUKxSmHV8GatAnH93ctWevT3/+m0KjaVSqnz+Zl3joO71a+cWuf3xD+gFAYuS9H5fNLn502aHPC2cg8HjY2w8eCcNpExdvZfR1YLsL6AAw3I23Z5wrj05ysOef/+u93RvHKpTacR8cnbXq7J+Ho1b/eDNk4p6IuCJjx/tRBTKldpa/0Lh9yaQQ3+0qyCyozsyvfpPzb/nLomW3AQnhd1KiI4wfEyPvJT9+YBUw0PhRr1FG7/gk6vePi+4eTzu17e7aSdlXD9BZnAnzlxk1pdDabsR786LvXFPKZSd3/ULjmvNcfJodtDz+jnePXkYFBgBde/byDAjSyKRTlqykMZgAQKHS3l26WiOTVGcnvOqz4+C0C7ci8jQ6w2x/IZGAmNFJW0c4v+NlJtcavlzS99GZD4L8bA+deRI6ee+GHfd+3xc5esHRZeuv6PWose/FWxn9HThGBQYAA525znzapTsvDSy9SRrKF4FHIIXJ+XfnFp1WAwBqpeLUn78yLew4tu7GBqUxt+6tm5xxZntR2LHHW5fG/LFKnBQxZtZCo+8ZgUCYuPATCo0edftKQvidlOiHVt0GNjsNSW6SuqZy6oefUWg0AKDS6VM//EyvVvqF9jcqMADwC+3vF9K/PD6sHR8f582AR8Jw2oRGo6fTnv8rEjDI1myKvR2ve1drAPjmt7D8guqNgx26CunVKv22x+UffHEh6uwHdBo5PbcSAOik568BDDIBALQdYVTSEhx6jatIerhx0btuvt0xDMtJjhd2DbENGmH8aebFv+VF6Z9tO9CtzyCZtHrvD1/GhF1j8wQkk+gUncUy6HXLx/RWqxQBCza2pNgYqtPSWXzTK2QqFQBMnZToTCYAGPS4kxJOx6DV6gnI8+8ykYD4WjDOplUP6+vKYlBSssRf/XpnlDtvlr+QSiTcy6/dcSfTt4vlwvcCyyvkcoWGznkhM5LWQW5FLYFIoXadtjpm/9qPRoW4ePlmJcZptdrARVsQAgEAlFVliUc2hA4b9/7n3zHYnJi717d/8RGGocb3JSNkCoVAJF47tk8iLrfw6WUTNLzZQY0maXTTrzyLhQDCYL2QQUtnsbDyynZ7VJw3BR4Jw2kTA0Kdw4tlUvXTRTO3Wp0iUvYPcgQAmUJzOSxzsreZjwUDQRABg7wsyEqm1P5xNKbvu/t+2RuJAFzOlBg7Yhh2KVMi5NO7uL4VhfIbQiBTApf85D/7GzmJqyDz/ees6/7BJuNuAoYaSh9fHTFtXkDfwQiCcPiCD775kUAg1lZXPL55ydhdq1HfPHmYyuZb9Bjee80BoXdISwYVeAUlhN8pL8wzfqwsK8lIiCZRaNeP7avLm7l+fD+RQjVz9X8ND42D0zy9ezhgAFeynn6XDSh2JVvqYM1xtOUBwInLKeZM8oLulgwykUhABrlwe9uzj11IXLXpesikPZU16rC8mlrN0wUku0qVXqEcENxIHdQOoWEwzMq/X581BwR+g8pqdVYhY3t/cdDMvZvxR6XR1ylU2oKvN7O4PAKBEDRo5NAps4hkyq3T/xgjZwDw8OpZlVyG8Oz831/XwjcxvrMPiUq/fny/8SuPYdj1Y/uBQIi9d1NcUmhsIyouiLt/S9AFd1LqfOCRsP8TUBST1qpZTAqFTGy+NQAA1MjUZBKRQW9RMeuX8eHMnlfvZq24lt/Xga3Wo/cLZV6u5oN7OWMYViPT6A2YDft5KMicQaKSCH/8E+3Kp20a4vCgoPbflKr0SpWnOT1BpMysVG39ejiZ1NL5N4pOb5DJtVw2lUhs/xcMApFk03OYTc9h9a6jep1OrbB2fJ59zOLwOGbmWoS848tl0WHXhDb2j25erhKVBS3bxnNuqeURhmFWAYNKH135auboPqPeIRCID66cJTG49n0n3ju3s7Qg1yeod0ZCdGp0hOf4JWTG23uwFOeNoVBqDShWl3nZLFqdQa7Q8ji0thhUONny5k0J2HsiPqVC5cyjxpQp8qrVv341TG9AKQRipVRlxSITTe5vy6FEZ0oLS9LmdhO68Gkb7xcvvZw30Imj1KMPCmV+Hhbjh3Zp9WSM1Mo1RALCZLRDlmTDamEsKyevScsattTKpGYW1jT688CetYOLQafNT09e/e6w4MGjygvzou5ctQkc4jdnbcszXxESyXnozBv//l2Yle4VGJwa8ygj/rHH2EUljy59MW1k39ETAeDB5TNkjsCh3zsNJ/9qT4vzxsEr5r8W3mSlbKNPyK4j0eWVCgaNNG2s75rFfWjUpuT1w9jCH3Y+SMwUExBkcC/n9csHONhwm2jfNMXltTsPR4VF5hEQhEIl5RdLDSjm7Wr++aLen2++6cslfxxibWwZUyr//l4xmYjsG+/GoRIxDLtfULsnTqQxQHA3u4XTexhDaK1Dpzf8sify8NkntQqtOY++4L3AJdN7NPunpV0OEGEY9nDTHFdXl8+27TeurdnJCWtnj+0291u1tKIs6ppOWct18nEZNpNj597Ce5Yn3M2+vFdWno8QiAyhHRi0AIh5116uw2ZSOQJxckRB2AlFRSFdYOPQb5J1QPOZJR0IXjH/DZBbKFm/LexuVAGGQYC31dcf9Qvys22ivUKp3fjHg1NXUlUava0Fa9mc4OnjfFt9JgbDsBOXUw6fe1ImlvE49CqJsqpGzaCR3h3jYylg/rIn4o/RLkImGQAMKLbyZkGhVDPVW/CerzkAiOS6vXGimFK5hYA5dYzPommBbGZLRWRDohJLNuy4H59ajiAwINhp/ccDXBz4zXdrAc2uFSVR1xIPb/zxxE17ty4AgGHYhkXvlVVKvad8mnvzSG1BKpnFtQka1XLfM61MmnZme3lCGKrX0XhCMp2tV8sY5naOA6ZY+vU11o6uSH4IAEKf3i5DZ1LZ9Z/0rRJheMX8RsFF2GvhTS6+fx6N2bjrwWBnbg9bVq5EfSFDMiDEac/m8S9rH5dSNunDEx4C2nBXrkKLns+UIFTyzUOzeRxaW6ahUGqHzTmsrFVN8ORzqMSbuTWpFar3J3XbezJ+gBMnxI5dVKs5ly5hsakcBP156PPthvPp1UdTqrLufNyW0QFg5Q/Xz1xLG+PB9zSnJ5YrruVIl87suXpRM3/+2+sUd1ncnYT963oMHNFn1DsVpcXn9+8kssxCVv3dOpdJUVJ43O4vuvUe1GfMxGpR+cWDfyAMXuiqv1tyluotBBdhr5uKasWw2YepqGGsB59GIlzJlhbUaC/8Pc3bTdhoewzDZnxyOuZJyQRPM3su5XGx/F5B7cZPB82e2NZN7d3HY7/fcX+Q0bZIoj6fKQkOsM/IrQSNboInn0UhXs+RplSoUBTbMMihrpwYhmGTT2Su/bj/3MkBbRk9JUs8buExZy51pBtPrUcvZEq0BOLNw7PN+c0X5GshTawYBp0mcst8gk417v0lfAur+xdPJYTfDly42cK3dysGQg36yJ8+QBXV4+YsEVjZPLh8JiH8dvcPfmi52cZbpcAAF2EvAd+O7NyoNfqdh6JGufMW9bACgF72bHsO5dfw3NTsCuP6i2HY6etph888EVXKvd0tFs/o8ec/MbYcyvcD7UkEBACCbFlLLueeuJyycFpgW2Zy+npaSbmszraojwPn81sFGbmVP6wavP3go7vhJVQyceJwL0sh888j0TKNgU19uu2YVqlqu01vYWnNyaupC7tbjvLgG38PLCpxz79xi6f34LLbJC5biHX3QRhqSLu6LybsGoFIsgoY6DXx41b7fOdeO9g1qM9nvx8wRia69uz11YxR5U/u2QQOaddZ4/yf8M/5JLlC88sYFx6NBAC9HdgfX8vfdSR6x/pRxgb5xdKdR6LCowsZdPI7w70Cu1o/iCn6sq9tsB0bAHo7cEgEZNuBR9PH+ZJIrd/H12j1Ow5FjXDjLen5bDniUn+OKNi7adzRi0l/ReZhGHi7mv+1fPCy9VdSK5R1IiyzSq1HMWe7toasdh2JNqeTNg6yJxMJABBqz150Kfef84nL329RCmZLeJmXEQAQydQeH21NO7XtyG8bMNTAtnIMmP99EwqsaZdJUeKD2pLsDUcuuXj7A0DIsLGbl87Mubq/JSLsbZNfOE2Ai7DOTX6JVCrX9HF4XnentwPn18iyhNRyowjbuOvBX8diA21YIeaUuNTSqR+dZDHII5zYpGf7dEImuYs5PT61rI0zSUitb1vUy459JrX82LbJM8b5VkmVbCaVRiWJqxR/H4/bFF4y21/IpRJv5Egji2Q/rxnaxtET00UYBn0cn+dF9XXgnEypysiranpTph2x6THUOnCIViYhUukkajNWAU2AGvTSwvRJszbX7Q05e/la2DvVFKThIgynURJSy32EdN6zc8oUIiHYhlVX+jinsHrCwuMkDO1lx6rV6H/dE2FrxaGQCD1tnx+46+PAvn2vuFQsa0tmQlFZraRW3aeHRd2VXvZsAgKiKsWBLRPkSq1Wa+BzaQiCvDfW5+j5JDaFGGTHypdq9sSLXe15fXs6tHpoI/EpZUE2LPKzfFAejdRVSI9PaU/ztKZj5zSuecD87/UapUGrobB4L9vebYlIqilIM7dxMCowAEAQJGTY2KTvPkMN+pe93eHaqzOCi7DODZ9DA4AyubarRZ1PiBYAzLh0ACgsrdl9PHa2v3CStwAAZvhiGx8Up1SoymTPCysbUKxcoQvgNRWuxzDsflTBhdsZSpWuTw+HicO96LT6+2JmPLpYodOjWJ28K5Vpzbj0Kony2KXkpAyx0Izx3hgfHw+Lgz+/s/zbK6tvFgAAlUxcOT906uiW5qq/DAGfDgClMh3nWTJcqez57+F1UJ2TWBp1TaeUMS0d9RqFWlLBtLC37z2WIbBp450RApHC5IiK8uuuqBRyaYWY59/WeCHO/ytmPHpGqh7DsLq/+qVyrYD/tDLCb/seURHs1+FOLAoRAAa7KL65UwQAlUq9BZNc155IQLjsppKxRJXyYxeTU7MrbCzY74316eJS/yAzj0NDkBdsi0QKHYoBn0u7+yj/wu0MlVrXt6fjxOFeX33YT67Q/n09/a9YEQD4eVj8sWFM2w/TmPHoZXJl3UcMw8rlOld+uy0C9RSY0Y9IWpBKYXJpXHO5qABBiJb+/Sz9+pCojayorySSKExubXWFSiGvK05RXphHprMQQiNHl3D51XnBS1R0bizNWQNDnI4lV2VX1fmEiMx59IGhTgDwILoAARjt8TTITyQgo935ah0aXlgblldjQDGVDj2QIK6Q65qQQRiGffXLnZkrzz6KyMlLKfny59vjFx2X1qrrNZs8wkuq0u+JFSl1BhTDHhTUhuXV9A1yHDzz4Na9kSXppZevp46c98/hc4nB/rYPT84/vWvqoZ8nxJxfuGJuSNtL5Af52Tpac3bHiYwatECqOZRY0d3bys3RrIlerU4Iy7564PHWpZrCJD5Jk3frSPHD83yCuvzRxfAfZlemx7TunnUgCGIbPOrGiYNx929hGCavle794Uu9TtvwVCYOjpGpo7oW12j+SazU6FEDit3IlkaXyN8b87QacFhk3iBHjlGBAYCfJdOBR6WSiTujy6tVegBIq1CeTK0e0c+tib375Ezx4JkHdx56XJZRdvZy8vA5R85cT6vXxpzPCPaz/SepIrNKBQCVSt32x2UsOvnuo/xZq85GPcrNTSlZ89OtCYuOabT6374eEXFq3oEt46/um3Fp7/S2RODqeG+sb1SJ/EaO1IBiGj16JLGypFY7dXTzVZFbQr3lQllRYvQjMqfoFVnRWVf2aUvSyfLS+L1fJ+xbixraWurMpsdQvU63Z+MaeY0Uw7CE8DvXjx+wDR71dhqK4LQaPBLW+TAagGh1hn5Bjt5uwi2rh85YcXrljQIenVSr1rOZlP1bJlApJAAgk4koBho9SnuW56HWowAwuJfL1oe5e+LFOgOmM2Drlw/wNzESqUdEXNHhc4mz/MxpJILWgI104/4RI95+KOqbj/rVtUnLrjh0NhEArmVLb+fVUIiIXIuSCHA7IpcO2K9jXXg0kgHF/o4Vrf0tbHhfVwsBs94uIYpi4bGFiekiIZ8xaqD7qx6PIhIJf/0wdtanZxZfyuXRyRKlzsGa8/u6ka90kxYiK83NurJ30qJPJi78BEEQUXHBt/MmCqxtPt9x6JdP5qcc29x37fFWZ4MZcRs1T1aa/fOKuUwuX62UYxj4zvyKbvbS/0c4/zX0evR2ZF5WfpWdFWdEP7eQALvVi3pv2f3wYpaESEAUGsO7o7tOe+bcSiET1Qa0ri+GYToU6xfsGBlXtOB8DptGlKr0Xd3MN6wc1MSIqzffFJCRd3ytxApdP0d2fJlizZZbQ3q71JXDUCi1V+5l5xZJlDr0sxsFXCpRpjUQEQRD4N/LKR/2tBrmykUQJFei/vJ24c4j0V8u6WtrybG15JiOUl4pv3YvW6XW9Q58wd2ohUwb4xOfUrbzSuqBJxVGHbZmcZ9g/5cmJDTxGlYvttSwZdqZ31lM+rrjV8wsrFAUPbp1w9Wje9fuPVWQnvLrygUWcbdtezZfiNV0uHpD0PgWfrO/iTqyMer2FRqDpaiRCDwC3ccsaPpB8JBYpwM/HflaeH2novadjP9u+z0CAkQCotahU0d5b1k9FMPgdkRuWk6ltZA1epAH61l1HEmNqseE3f0d2Et6WBEJiFxrWBtWxLLgXtoz/Ula+b2oAhqVNGqAu50Vp4kRv/jp1qUbaTK1HkEQEgFR61FbNllPIcecXwQAKIqt2XLr2KVkKgkxoJgBhSA7lhuf5mvJeFhYeyVLujTIerDL03dcudYw+0zW9ysHz5rgZzqEtFY9Z9XZuNRyFpWo1BqYdMruH8b26fHKCSIqte7K3azC0ho3J8Hwvq7NlkxrXSQs6/Le0ohzf96MrauGf37fjtN//XYgMisnOWHd++ODV+w0c/Vr+ibNYnSilOQ8IdFZ1gGDqJymQnpvOfjpyPalVCSb8cnp7EIJm0aSqfVCPv3QLxN9PCzyS6TX72drdejAECcfj+eJWd/8Fnb6UtLmIQ52HCqGYdezpX/EiE5sn+ztJrwcliWuUvh4WAwMcWpiN7CwtKb31H2WTLJIoWNRCAotyqIQZVrD9nUjJwztAgAxSaXzPj8nlWloJIJKj1oySb0cOLZsio8FY/GlXDMGad8417oQzp8x5Um1hsjT9fXE0QtJX/1yGwEgERCVDh0/xHPr1yNacVAgOVMc9iifQiaM6Ofm+JJDPy387tdpmnrt9Rrlzc9GzF29YejU2cYraqVi0WD/d5d+Pmrmwm/nT5boiIGLfnzZ3Vo+JU1tdXl8mE4l47v4mbkHtDwM9haqMfx0ZKPgkbDOREJq+bptd8d68Gf4mZOJhNu5NX9cTfXvYjV7ov/wfm7D+7nVa8/n0jd8Omj1lltPRCp7DjmtUk0iE7d/NhgA/L2s/L2sWjKouEohVemHu/Hm+AtpJMK9/NrtUWVUCgoAokr5riMxxy8lL+lhOcSVpzOgR5MqL2RIJnkJPM3pT8qV2DMzIiNUIoFIbMSTZP3vd7NyK78baO9nyahW6X+PKl/45cWocx+wXrHWIp1GnjTC+5W6aGXS2pIsCpPLtnNv4QJn0GspVBrRpFoEg8XR67SowcBgs+GZzUgbQRBE4B4gcH/piX1lVZlSXEQ3t2EK7do+HE4n4pMN12qr5b8Mc3QT0Etl2l8iSxd+eeHBv/OcbHmLpvVopP3ckPDogo+v5vtY0Gs1aJ5EPXO8b0g3OwRBpo/zbcmIGq0eAdAa0M1DHLyEDJFc+2tkabE8IS0AACAASURBVGaVQaHUGgzo4yclC7+8YMcgbRnoKmSQ0ipVP4aXlMm073ez0OhRo6gy/XIxyUS1RlNviPScyjU/3Rrm+nyd2XEn09fTotEnahofDwtTDdqQenIHQ9GawnS9Wsl17EKms5po+byLwQAYZmolRKHSyGSqVqMBAAabXSWSvtKcXzYQlWPm2H/Sy3qhOq00PxUAeE7eBPILq2UT1t2NjvUWirb/CLgI60z8eznZkk2ZG2BhLD893I2XUK44djGpieo+08b6+nhYHLuYXF4h/2CYcOZ4Pysh62WNG0VvQDlU4sJAS2PG/SAX7hORIq5CvWbLreOXkjEM62nLGuHOBwASgTg3wOJRsfxWrtSOQ7mdV8Okk69mS4NsWcYJ38yVavVov54vVGRVKLUXbmXM8BH4WzEBwOhutOB8zpW7WVNHtTVhvwkMBjTt7I7C+2dQvQ4AuPbufnPWsSybrxZr3qVn3q2j0WHXggaNBACtWn3n7FGfoD5EEun6sf1kOpPn/GpC8FXRqxRJRzeVJ9wzfhR2DfGb9TWF2Q4pNThvP4WlNRHxxSt72bgJ6ABgw6YsDrRcdaMgIq6ob8/G//Wa8egX90w/cTnlYVyRC528bojnoFDnV0otYjMoGMAMP6GXkAEAlizK0iDrZVfycoskvafsLRHLAWBTfztjmr+3kDHNx/yvWFGNWn8nrwYAxHJdRqXK05wOAHKt4W5Bbf++9d8YT1xJ4dPJL6wzYsWxC0mtEGFNU0+CSPNTkw5vkIuLAIBEobkMm+0ybGazvxwyg81z7HLz1OGQYWNJZDIAPLh8Wimv9QvtX5qfkxh5z230B62YzCtRFnc77dQ2jUwCAFQO32vSCuvuL2wo19NhTY+Fb2h2FLgI60xUSlTWzBcNQNiUHJGi6V6+npa+nq+WXaHXoyWiWgGfwWJQ2EyqNZtCMhnUjkOJLJH/eyl5jr/wVGqVPff5GxgBQWzY5PgyRUxpnlStnzzS+/S1tJU3CnraMItqtY+KZdPH+Xo4C0zHkim0Oj1qy3l+EwGdxKAQqyRK02Z6PSpXatlMSnv5Ee08El1w99HkxStDh48TFRUc/uXbmF0r+371D5HSTDqawCPQ0rfP76s/DBk2VmhtF3H9XFV5ab+xU75f+G56bKTX5OWNHoxqFlSnNeg0JDqr2T8AScc2S7NiF6772btHaFZi3MGf1iUe+LbH0lcI9WtqJRhqoPHeUptOnCYwfi9sTdzA7DgUAKh88ftSDxaDMm9KwLwpr1YKtVqqVGn0tpYcqVwDAKZfUuME9p9K8DKnBXryLmVKrVjPY8O2HAqKwU8PS5PESh6H6mzL+yasqJ8jm0UhPiiU6RHC8jnB9caqlCitWGTSi4tbfG5tvWYyhYZIILTabK3+8UaZNPaPVfYu7p9s/JVrZh52/vjlQ39RuQK7kFHN3spj3JKYXSvXvDc8aNCIsoLcqNtXbJzd7l34N/zKWYbA1r7X2HrtG4qbhqoIwzC9Sk4kU+uFtRoizU99cuC7oMEjx81dCgDn9++MPvAt3cyK5/TCG6BRhzUqv1C9ViWpoHLNSS+ueE2E0HBeB7gI60z4e1neicitVunN6CQA0KNYVJm8m0977kahKLr8++uX72ToDBgBAU9X83GDPC7dyRQrdBbPXEcii+UGAzbRy2x8F7MzqVWRRbJpPkIyEQEAqVqfIlZhgPV15FQo9GlZFSd3TNl1JPpuWrlQwNzwac+Z4+snSwnNGJYC5sNCWZDt0ypf8eUKhdZQl5ar1Rl+3fvUj0jIpy+a3uODdwPbYnUHAAYDuu/UkyGTZ76z4GMAsLJ3Etr8vWriANGTe80eQkQQpNu87/LvnkyOvq6LDKfyLVk29Md3bzGE9q9Uz7oOraI2/dzO8thbBp2WZengNmqedffBL2usqhaVJ9xb8NXmAePfBQALWwcSmbzt88Wy0ly2jUuzY4mTHyYf/dH49kxhsD0mLLUPHf2qE8bpQNyczBhUUkSRzNXs6UnGh4UyAGhFGnsTRMQVfbT+SkW1EgBYdPIn80I5TEpEocxb+PQFI6JIBgAkBL7sY3cnT4pi8LhE3sv+6Vf4YZGMgIBCq5/oZXYmrfrjr0KepIvO30hTSTWD+rsvmx3sZFc/Vcvfy+rCrQzTdeZxicI0ZeLxk5KNO5/6EQ0KdV6/fMCrFnluqEWKo66ieu1n2/Zx+AIAmLHia3FxYcbdEy0RYQKP7sErdube+uf66eMkOovn4iuViCPCblsFj3EZOqPetmZLFFhZ3O3sK/vkokIimWIVOKTLhKUU5kuzdQvunbawd1y2aSeBSASAjzft/PSdAQX3T9cTYY0OhOq1MX+uluYkGPR6ApHEc/YJXPKzqRTDddibBBdhnYlpY3z2nYj7+k7heE8zBplwNVtaUqvbPrNnOw6xZO3lK3ez+ztygu1Y+VLN2bSqPRVxFgLm12FF73jy2VTijRxpnlSDopixMhkGIJLr1oYVjnLnq3To2fRqBAEfIWNFiM3ZtKqTGdKefrb7tzRVLpVIJCyfG/Llz7cBoJc9u7hWeya9uqevda/u9sYGn2++eeFW+mh3voeAllCu2LDzgUyhXbWgV1seU6bQVkkUXoGhdVdsnFy55pZycWFLuhNIZJch012GTG/LHIxgqCH2j5VaSfmkhSss7BweXj0Xv389AFJvZ6EOZWUJYJh3j+cz9woMAQCFuKhZEVZTlBm/52uhte3oZZ+RyJTrx/alHN9CZnKsXl044nQUbCZ1/rvddxyOUuoMAdbMrCr1uQzJ2EEerg7tdnQjr0gy45PTPCpxYaAlnUS4kiXZsPP+yIHuF8OyNAa0pw0rV6I5m1FtKWBakYFOJgAAAYFtj0qLagTOPGpUifxmbg0AfNrL1o5DOZdeXSqWrZwfunJ+aBODTh7h9dfRmG/CiibUrTMS9abZTwNmSRmi6StOOXOpy4OtVXr0QlLJpCX/3jw024zXphpgSnGRrYuHUYEZ8QoMib1/q4XdeU7e3RdsbMW4jSqwhP3ru/cf2mvF5+LiwkuH/ootywv59I9Gq4IBgKqyyL97sFGBAQCBSPTqHpSYmNyS0SN//VBWnDlkyizvHr0yEqKvH98f+fMHfb88VG+GuA57M+AirDMh4DNO7Xx37dY7u6IKAcDb1fzQFyMCulq31/3lSu2N+zlDXbgfBVsDQG8HcOJRtzws/Wpp30fxxUbXEU9nwZ/fDVr+/bW0ClU3K6YDl1qr0Wv06M8RpQDgb8moVevtuVQASK1UObas9s/M8b4AsP3go7sPSihkwoShXdYu62/clcsvkZ6+nra4h+VIdz4A9HbgsCjEv4/FttHll82k8HmMjPiokKFjjFfKi/JrKkWOJknu4qSHBfdOqapKGEIHx4FThF71N1DaBXFKpLQgfd3e054BQQAQOmzcT8vn5lw7YBUwsNF9SbrAGgDS46OsHJyNVzLiowGAIWzeGCD11FYymfzdwQtsvplxrE/G9804twsXYZ2LVQt6Mejkv4/HXsmSMmik2RP9m/VIfSXWbr2LYdiPQx3NGWQA6OvIWXYlNy6p9Jul/f74J/pGTgmdSpo6xpdKIRw/l6jWo9ZsCopBNyvmqdQqrQHj00mB1sxEkULAIKVXqlAMXnZE0RQum3Zyx5S1W8P+epRvXGf2/TgsJODp93HnkWghg/zcj8iOtehy3tGLSR/NCmrLkzLMbXNjb8qkEjbvaTHFjPgo05Mu6prKvNvHKlMfIQSChV9/58Hv1QtxtZCmNQ2GYTlXDwT0Hbzy173Gb32XgKDvFkyuSH1s4dP42yZdYJseH42iKIFAAAAURTOexNCFrs3ORC4qlBVnTlq8cuIHywEgeMhoMwvro9s21hSmcx26tHzOOO0FLsI6GS4O/CO/TqqRqXV6VMCjt2/hvrjkMj2K9XF8HgMPsWMTEUhILT+wZUKtXKPR6s35DARBHj8pOXwmgUMlDnDibI8qH+nGXdTDSm/ATqdVqQ1oTxvmwQRxVLH8169a5FyLIMisCX7Tx/pUSpQcFtW0HP+TNBEA9DWZUl9Hzpm06sy8qkCf1temJxIJgl7v3TxxUGBpEzp8XHlR/qGf1tN55lbdBhgb5N89lXZ6m0e3np5j3kmNiYzZtcpn2ucN8zzaTk1BGk9oZVRgAIAgSK/h4xK+WW7QqhrNLWMIrC39+h359XsSidw1qHfmk5j9m78WeARwbOtnOjdEKSr0D+1vVGAAQKXTgwaPDDv/bzs+Ds4bgEBAPpoVtGhaYJVUxWPTaNR2XsbTsiu6ChlGBQYAZCLS24FzPqN64bTAeVMCqqRKLptGo5IKSqSHziT+GF4yzdfcmkXOlWg+DbWxZJLSK1X7Eyr6OHBSK1R74sTujvy+LSs342jLO/jTO6brTN2P4pPLQmyYdX5EZgxyV3N6fOqr+RE1zI6yDR6Ze/PwLysXzFj+Jc/cIuzssce3Lnd97zPjTzW1VY9/WwI6de8R43RabcS1k5UpD4NW7Gxd0qdx6EYztAwalaw8P/SjT+seuUv3YK65pTQ/5WUizKHfxEdbl/7xzYrx8z8CgHN7tpcX5oVM+qzZaYgSwzEM6zV8XN2V0OHjjm7dIEoMryfCcN4MuAjrlLTOlLqiWmF0HbEyZzXqOmJryYanxkdPDU8qlDoDBhYCJgBwWFSAp8GnL5b0qZGp/76eZiwzdyOn5mp2DQCQCIgehW/Ciqlk4qoFoZNHeDU9peyC6mMXk0tEtR7OguljfRue3DTj0gCgXKY1ngUDgDKZFgAETfostQTXYbO0cumx7ZuPbtsIAGwrp8AlPxMpNADQqxRZl3YPmzpnzurvEQTBMOyv9SsfXfjTKmBQZdojUdJDBEEsffta+vc13SzQqeQlj65I8pLJDI5t8Ai+c4vqdFOYXLm0Wl4rZXGeRgvKi/JIVDqB9NLMXN8ZaxIPb9j1zXLjR3OPQL/317VkLCKVVlaYa2puU1aYhxBbmeOM07GQSUQr81eOymAYdicy73JYlkZnGBDsNG6wh7GwsylsFrW0ohbFMALy3IKMTCICAIlEsHw2qKMtb+/mcZ9uvP7ZjQIAIBKQzeElxh8hAGH5tWH5tX4eFn9uHNN0Bqdaoz9/K+N+dAGNQhwzyGNAsFNdAdg6BDx6ufy5SweKYeVKnWebTcmoHLPui7YkHf5+3fsTAIBIpriOmFP3rpV3519Mo9xy4qbAygYARkyb/+X0kcWPrgi9gosiLqqqyphWjva9xtL5L2TjVWcnlEbf0KkUZq5+tsEjSbQXVqpGc+QJZAqJQjN1KpPXShU1EhvWSyOIfBdfv5lfRZ/5/eHVswBAYXL8Zn3VkjWHIbACgPKi/LpQunFcGr+poh44rw+8WOtr4fUVa201adkVU5edVKt1ngJ6Ua1WqtL/+tWwhlW1eozfrZarv+5v5yGgV6v0v0aUplYo4y4uMmtM9JSIauNTyrbuf5yRV2XHpegMmEiu6x/kOGeif08/Wx6nGaV45W7W0nWXmRSiE5eaWaUikolHf5tUb3dVr0f7TN3LRA2rQm0sWeQCqWbTwxI7R8GZP95r4y/EuBqqayprizIpTC7XybtOmohTImP//Py38w8s7Z2MVwoz09a8N4zr4FVTmObk5YdhaEF6soVv74D5G4zF8VUSUdS2ZZqaSg//HhVlxZWlRR5jF7oOm9XsNDS11ffWT+nRf+j8rzYzOdzkqPDfVi0UBgz2eXdV0x3lokJjnTC2tXMLHznnxuHMi7snL145Zs5iIpF05+zR/Zu+sgsZ7TtjTQvv0DrwYq1vCSiKfbrx+unraU58Go2EpFeountbHd06ifliQb5/LiSu2XL7HS+zaT7mJAJyL7/298dlI/q77d7YSCRYpzdEJ5beisj9+3gch0YyoxHL5Foajfzpgl49fW18PCyajtbLldr3Pj6VmCHqYk5X6rECifrd0V1/WjO0Xq+DZxLW/ha2NMhqoBNXj2LHkyvPpFWf2TW1p1/zu/DNYjCgMUmlcqXWn/o/9s46LKqtC+P7TPfADDB0d6cgICAGBmB3d3dfr92dV+wGExUDEQWTkJDu7hgapuN8fwwizgCiovd+9/J7vud75Mw++5yZy2zWWXut9zX8A/ElRRSxb4ado+O8LQfbjuxfOq2opKK5Ih9PJGkbmeWlJQpFYvtFh+V1W+XWsp9eyHtxXUldW16RkZMUR1BU67P8JJZCl76kDKm3D9ckha86fN7MwaWlseHS3k3xb1+677iPJct3ded8bn1eMgBAXs9S8gD5TcRicfiGoXSG8tpjl1W19SpLCo+tmVtRXDTg0AvJzmYbPb4X2SvW2iG9mbD/ChsOvpJDQTu9dak4lFAMn46p2Hjw1QBnXalQ6fqRUSPm31oXWkTBIpt5IggCW5a5dxiBAQDUGJS7z9IKS+oPDtIyUsDDMPymsOl4dNH00VbfjMDYHMG6faF9VEmr+6qgkYgWvmjH29J1+0Jf3pjefv1FoRDn9vpOX/NgwZM8eSK6jiXQUqEc39IzfkQwDLOrS1sqCtAkKpGhiSa09nYhkGgAAI/DaRvJ47IBAI0lmRv/umnZ1x0A8OndqyOrZpfHvFDvOxwAkPXID4OA9z58o6SmKRaL7505HHT5FMPKncT4xkYMlkKznL417vquuLe2eCK5paGOpmdp7Lvoq8+qtrw6+QMMw0rmzkSl1n4FEkPzm5NLoTd4GjP94/2zRx5f+QuBRHLZLJKyltm3or1e/jW8jMgPfJGx0kmlvw4VAJBVw/nzdcmFO59WznJqP2yKr2Xo+/yHUQVPs+pRCIgjFKsrk09u7fhLh0YhTfUVZ6x96KlDXdJHGYWAGrnCrW9KH7/MnD3224oYfv5xWXnMQ4O0DOh4GIbD8htPPUsb5mHg2ferR4upIyw/pVacCs28ksgUimGeULxpoWuPRGAAgIYmbnZhXQuLp2Bbet7kAfj8hIZAodsvAgAALofdXJFv7eyxfP8ZDA7Hbm46sHxGasB+1803IQhqKsnOe3F9/JJ1I2YvgyCooih/26xR2U8vWkze8M17MBqxkFWZv3fhJLI8nd3cBCCE5fSt7SMwsVBQnRLBqiklKmooWbhInv2QGJyCScdVcZIQSjbxhkAgLGftSLy4ee1oD7I8rbm+DolCW87YKhWBdZPu+z710hnI7du3/9338C+kqeTF330LX1FW1bT7r/fz7JQM6XgAAAKCjBXw99NqjXTopvqK7Ucq0ojzJ9qJYVgIAwdL1SsHR3g4ancx8x+HwizlMRKPcAiCdORxMeUtjVzRMA+Drm8pPKrgXkjGZjd1Kg4FAMAgETQ86kFSlbenIV3+q5hPWYE0Y7S1toacrjZ9+iirXas9f7IlSsLDQq14vzU5z6+w8hMrkj+UvAskqxtJanJxVIXSqCfMkkIHzyFIJIrP5V7cvbGOWW3p7D563krJ6SpaulmJsVVFuaoOXmKRMPn6rlFzltn0GyD5HAyt7EJuX0HiSDR962/eCUlZW93ZB0tVIDB09AZPMxg+t71WWe7zq58ubm7ITajL+VTw+q6Iz6Ub2f9wLaC60zA5HXNOYy2aQjf0mW8+YS30Q4vvdzGlz3c7UP07+KetA8evRAsbWQvtW3UfFAjoymZ+TF7tjDHSv6WjBhs7Wasz6zlKiqRVs5yObu7KPujp6+xnr3O299cgoJEAABwKQUIjAj9VTPI2/2b3zKaDL23pWInaMwRBOvLY6DJWC1805Gv/DwQCGupuMKCvjgKd6OqgtW/tgEGu3y5C7w4PXmSMX3YvLLIgNrH0+qOUzLwaLzf9kWpZTypN+KzG1Jf3LJzcaAwVAMCnd6+eXD0Di8Wrj16UV2QAANBYrKKqetidywwLVyyVXvj2vrC+bPXhC5KmRbKcPJ/LiQ+5rzvo2+qvSDRGrc9QeV0LJEmeYdnPYvJGqtaXCi1WdUn0kQUlkY/ZZTklH59Xxr1SMHPqTMDivM0DH5VWb/UnlR0UhBAV1TX6jRbx2EKhWNHU0W7RYaqmkewkXd/w/ITRHU7expNKkyeVJm13AgCgaH6HmeZ/h95M2H8CHk8EvnYQwqMQEABcnrSDEAAAh0Vt7HazFZcnJOK/+i0iohFS0zLrWJl5NYp0YvsqNMkYIgZR1sRnsgXqFAwRjQCd3BIBj+5x9fzMoDOswtQt7up2KsR6ruh0TFXipc3uOwMxRCoCjTGbsC7x8talw5wMzG2yk+I5bBZOXolE/qrZk0CmiGpLAQCwWCQWCfEkcttLaAwWjcWJBdLeLJ2BJctru4+VPc5M/5gTfGn0/JU+MxZDCCjk1uXbJ/dRtUxUbPp/7/sVcFqaSrJQOKKCsYNiJ0/PP4BYJGwsyhCLhHJapt/Uue3l74XHFxG+jqUIaAS3qYNvHADA2VajTSama7g8IQIC+HYzy36XRSJxcmYVhye0NlFuL7XK5QkJZCxPKM6u5WKQkD4NR5BZQNrovtlaNyksbVi950U/TfIcWwYRjfhQ3HTyfZ6ff+yKmU7nbR7M5o1lpkZumznCyMZRwOfnpX6S0zJpKMogtPumE0gUAIBIwJP8PxZPbJONAADgSWRRtxcBCIFQMOkjm9mCYTjpylYKmbDN76WGvnFxdsax9QuSr+5wWnteNrbrWiIfhuHmslw+q5Gibmg2vtO98u5EYFJHOHVVrOoSPF1ZykWtrR2h6wn/y/QGYf8JtNSoGsrk4JwGa2WipNj2eW4DgMAPmGRL4eGkHfwyc5wZnYJFAQAK6rlp1ezJ01vtUwRC0fYTbwIepwhFMADAxkT59I5hmqpUAICTjToSAdaFFlW2CAAACAgoEtAKcjhjvd8h484XiCo+Ph9rJGevSgIA0PCo5Y6MWY/yKj6Fa/UbBQBgWPZz2Xil+ENQSU2Zgu1ATdeRZTEhsW8CayvLJVW6VaVFCe/DtAdNAwAg0ViavnX4gwA3n7FoDBYAEBMW3FxXY/rTsU5p1FNNI7MxC1rbpnxnLv70Lqws6tl3BWEwDOe9uF7w8qaQzwUAkJW1LKZtkX32/QGYGR/Tbh3k1FcDADBEiqHvwl/RQNpLT9HPQXPL+9zCBq62HA4A0MQTfiht9h78sy5brvaaYhiE5DaMMKYBAMQwHJzboKlMaVOm+JhYump3SEllMwCARECvm+fSpt3v7qT9JDQjNK+BLRADAGh4VB1HOGt2V9n3HuTe83Q8GrHYQRmLQgAA3LWpadWcgKCUFTOdAACXnZ7PQRwvj3vJTI2EUDirGdtoBjbvdowPvXNtwtINAAAYhkPvXsOSqBQNQwCAgrFD0Zt7SZFvrF36AwB4HM7rh7cVjPt0mAbrzBpclqaSrMbS3MVn/DX0jQEAmoYmM9ZuP7h8RnNZLkW90w0H2WlbKgqTr+9oLM0FACDRGC33cYY+82UT4d8bgQl57NSAAxUJrwEMA4mL2tTNmK9bCnrVLrqgNwj7lyAWw80sHhGP6XDXAIlE/LnUfeGWp+tfFtupEAsbuNGlLbPGWndHv6drFk91eP4mZ0VIkbsWmSsQvylqMtZVGOPVmqY+cjHKPyhlqoVCXw1ySSPvchJz2uoHYTdnoFAIJTqRQSe1NHHWOqvq03AJlazLn6pt9BQx6I7FCXsWNkcgFPDV29mwyOFQJAyC28BsO0JS1jYdu6LtR233cRVxLzdOGuLs5QvDcGRIEIaqoOk6UvKqoc/82NMrN0wY3HeQd3V5adSLx0rmzmR1w5+8T35Lva6+fvtFXF3XoCompvszwGJx0bvAnGcXvacvdB8xvoFZHXBib7zfGtc/A7rQ4+4OrOqShAt/mNo5jV14HosjBPtfeHfrIF6e0VmRSi+/AS5PKBKJpQrt2xg31NT/UfLGV8UeWhQcGvG2qBmBRi3+abVnbTW5WWOtL99PTGeyteVw8RWsvDqu367hkqbI8qrm6Wsf6lIwiwZokjDI5zn12068UVYkSSoWrE2Ubz9NG6xHHW4ozxGIbyYzG3kie4sfV5/5Lkorm2g4JLbdmqlOxYQVNrb9iERjNfp6a/T1bjuiO3ha0OXTeenJOsbmmQkxOUlx5pPWI9FYAICiiaOiieOR1XOcvUbQlFQiXzyur6m2nb8EFotlY522uKQzW6E2eE11AABV7S/7syraegAAXnNdh+M7nI3f0hD71yo6nbbw9A0lNc3IkEeB54+jiZTvVZyWnTzt9qG6zI9z/thn7uiak/zp+uHtSVe2Oyw7LnticLcEi/5z9AZh//fAMHzjYfJfN2LKmS0kAnqSr8X6eS6y0kHDPAxuHR/j5x8bls1UViQdWO80yadbGgpdo6FCfXxh8unrMeFR+Rg0cvYEu0VT7CVCX1ye8NqDxBFG8qNN6QAAFTKGRkCveVH4+mPhIBfdpIyqcmbLFnd1SS5KhYwRiODryRW19WypmrBfAYmARiIRkSXNbQpkGUx2E09EE/A7OwVDljOduC7t1oGXd68BAPA0ZfOJ69viGHldC8dVZ/JDbzy/54/C4nE05erUyFfrvBSM7Y1GLumOiFeHUDSMkqJesluaJTsgPA7n0/swsn63LI1hsbgg/HbRm3vcxho0BovGYBjq2mo6ButOXFk2zKk89oW2x7gfuysJxe8f4YmkNUcvYXA4AMCC7UdK83MK39ztDcL+FgpK6neeehseVSiGYQcLlc1L3GSF9PA49N3T4/z84x6/yuQL+F6eRstm9FFX/qlYXML25R7Gugo3HyaFlbaYGSrt3ubQtpV562kqJIY3u6lJKsYW2DPKWwTnb8VJgrBHLzNNlQiLHZQlTxp/umnMfZJ3/3n6xoW/o6OWxxOUNPLLm/mqZAwAQAzDEcXNGHRXfxZ1Bk5pLMnOiItKjX6HwuDUnIapO7Uaf0EIhM28PYXhdxPjXgg5LCSBDCGQMadW4Kh0LfdxOgMmSYVi3XTvpqgbQAhkTFjw0ClzJUdiwoIhIbhpCwAAIABJREFUJKrDVUV2zubyvKxHZ5gZMQAAgrY2la6ooqU7ZsHqemZVZNg9Hc+J3a8KlZ2c28CsiA+fuXHXgDFTAAAMdS0MDnd87fymstwfXvT+a/QGYf/3XLj9addf7zy0KZMNVAsauNfuJ5ZWNHXYTO5ip+li1/Ml0pqq1IMbB8ker6lnt7AFFowvEZU+DYdHI/KL64CLbn5JPQDAQunLqxYMglAEl1Q0/YYgbN7HISLRyciS5sMR5f20yBUtgsDMBjQKhcB0qs7FZpYlXd6ipKo+ZNEqGBY/D7iceOlP5/WX8LTWIhWqhpHNnN3s2vKog3MVlVUmzd8HAHgecDn25PK+6y8S6D/ycK/lPqYsOnjHnLHe0+ZBCOTzgEstjQ0WnhO6c25O8KW80Bueoyab93HJSUl4fPVMQy1z3paDcgpKKtp6rKpuGTR1AYtZYmRlL4nAAAAQBJnZ9w1/FvST0/byA9TUs8csvoMUiubaKmGR0PO8+onL7z8+P8nk67YbAACVjNu40LXHQxwEAprsazHZ10L2pfziOl15LOFzhhuCIHMlfHBh/edX6/urfhGdxqMRBjRcXnF9z95ee9pHEsmcTDSmeMubsjFGcvJ41Mv8xswaDoRAdhEepd89WpsePXjCTAMLm9SYD+EPAnBURUPv1vAIicbqeU3T85qWevtQWXSw14SZBpa2abGRYQ/OCTgtRr4LfuCGcXKK6k7DAk7sbaipNrZ1zIiPDva/qNHXuzvKF5y6ypiTyxWUGHM27wMACr1zZde8cXv9gxka2qb2zuEPAkR8rpSS2XfBrimDYbGZ/RdFWVO7vgAAVnVJbxDWTXqDsP9vuDzhqWsfh+rLLXRQBgD006JoULDH3+Zm5DIl6y8Mw49eZt58mFzBbDY3VFow2f5nhOa/eTNX7ic8Cs1kcwSuDpqzx9kQcKgMJsdWpVXdsaCeyxGI1RjkswFxAUHJAICMGo61cqswbAaTg0RAqgxypxf4Fi/e5V65n1Bc3migQ583wa6LijcUjoAlUfVNLTKK8t6/L0OiUFbOHp/evSIpdXpKwZu7ODx+59VHeCIJANDXy3eFj2vR20DjUUvaDyt8fQ+DQe+48pBApgAA+g72Xenbr/DNfdMxyzubGRaLSiKelMU8F7KaKNqmugOntLlAEuiqDsuOZwae9Nu6CgAgr2Nmv/QYSfnbFTMCdnPh6zsjZi2dsHQ9AMBpsI+iqvqNw9tHzl2OxeEri/L1zTv1CO8mBLpqTuo7AZ8nKYODYTgjIQavoFaXm1gYfodVWYCVU9LoN+oHegh6+V78g5KbW3hnh+vK41EAgH5alBUhhX4BcW26EkVlDWcD4j7EFhPw6JGDjWeNtelxnf024lPLzwXEpWZXqyiSp46y1FSlhn/I4wjE+M+NQRlMjpaaXEJaxdmAuKYWXlr1l3N5QnFePc9Rxt67+1TWtJz1j3sdVYBGI7w9jeZOsCV1sjkLACAxtKoApGbpdD7qHQzDqpraBpaGlcxOQ0BOXWVp9LMZ63d6TZgJAHAa7EOWoz27eVHKzohTX1Ua+XTq6i2S3JXTYB8Kjf746lndgZPbdHBkaS7Py38V0FSYjiJS1PoM1XDxadOCNh2/Gk2khty78eSaHxpP0hkwSX/Y7O58GoVv7qFRyB1XHxLJVABAXy/f1SPdngdcmrlhV2bCRyxFXlZd7Lvqt/B0FQBBWYmxqjqtIVdWYgwAAEuWz352kZn8HhaL6KZOugMmYyk95m36L+OXd6f38kspLGtoaOFJufoAANoMPfaf/bB8Z4igptFeHp2eUjZm8d2wyPxfcSdCoXjW+kcHz0UoCPnmJETwy8zRi+54exo+yqx7ll1fxxYkVrKORFeoM8gBQSkHzn5QQ4rkccgT0RUxpc31HGF4fuPNlBofT0OJOv8PcO5W3Nw/njSU1tnLo4uzqyatDAwMSe9sMIRAavQbnREXNWji7N3+wWuPXa6pLMdRv9gWydJUmG7nNlASgQEAiGSqjWv/xsI06WFF6bb9BkgiMAAAgUyx6efZVNTpncAwnHxzb/q9o3raGm5eQ/llGdFHFjQUfhlP1TByXPnXgH1PBux94rT6bDeF+JvL80V8nvOQL8qTzkNGwDAcEfzwyOq5EAqj1mdId+bpAk3XkS0N9Sc3LC7OzqgsKbx64M/c5HiKumHMyRUYbp3HUB8lKj7x8tbckKs/eaFevklCWqW5Il7+c58yFoXoo0qMS27Vry8oqfeeGxD8MtOchFAQ8g+ei5i1/pFQKP4Vd/IqIn/M4rvpKaX28mhBTePynSGNzTyBGByIKMur41a18K8kVH+qYPW10Ri9+E5qUomFAj61mn0xvqqyhZ9fzz0YUc4Viad0lFHrDpU1LT5zA+49STHCAzUgOn3t48Rl96R6LdtHGGqOQyEEksvhbjoTsPPGkz6DfXOSP2m6jels/oaiDADDzoPbe/6MEPK5zeVfLaqNxVkwLHYeMqLdMF+RgNdcltfpzIXp0UcW8ssy3LyG6mlrpN87mnxzb9urCCTKyHeB5+6g/rseeO4JMvSZL9EJ+yaNBak2Lv2Jn9u6CSSyjatnelzUk2t+YYH+mm5jv0uhRjY4w8szlC3dbh7b/SH4YUNNdWx4yMU9f8jrmGUGnix5c9fWwcHR1a06NiT66EJe8y/Mbv5f05sJ+/9GnoIDAFS2CMw+e05UtfABADQqHgBQUtHoFxA31VJhnJkCAGCaGN79rnTHiTf9nXS6NhKRAobhD3HFj8OyOVyBq73myEHGso/RoR/yPsSX7OivIclsTTRXWB1ayOULRww2uRiScT6+CgBgrEufOtLyz6Ovt3mo26qQatmC/R/K9rxv/VMxpJ/evvUDf+xzaGjiHjof6WskP8eWAQAQw/DRyPJdp956e3bgyiJBz2s6v6Xh9qn9sFgEACAra9kvPtyF6jSaSKksLmx/pLK4CE2SdihHEamVJV8PKylEEyicusqSiMcsZhlRUU3d2YdAbzUGaCxML48NXbjjqJvPOADA+MXrt80amf34bJ/lJ9tPguncwKRDJFsMVaVFko4qAEBVSREA4O5fBwl0FbuFBzHkn+3JIKloW8/emXr7UPzEwZIrGo9aVvTmjq37oFWHz0u0H++cPvjkml9V1R4Gg/Gt+Xr5ceSpuGyWsL0hVSVLQJdvfZ45eikKA8NHh2iTsUgAwIBK1rbXJa8i8oe4f9+GkcT3LDOvRlmJNMnb3EBbejtMLIa3n3hjxSD86aaOREAAgLtpNf5BKcf+HLz3r/erXxQCAHAY5Ib5LveC08wVCVvd1ZEI6GFG7c3kmifZ9QAARXn8hb2+2j+aCfO7Gctu4Z3w0qIR0ACA4Yby60ILA0PSp4yw7HD8Z9ui3XsXTQIS2yKvGRouvh0OBgBgiFQAQFVpUZsBa3VpEQAA8/U6ICkVrSototIV2w9DEUgVn8KqUyMhCKFk2Y9h4dKW68oK8lPT0dtx5ZFkf//t47vntq/Rchsjp/2ldxWBxuDkpPeXQZeNlgIuq6LoqwCxoii/LD/7zumDmq6j9AZN6fBttp/nm1kx8ykbk6/vOvNna6afbmBDM7TNC7m2N+C5poExAMB31pINEwYVht8Bm3pbpzugNxP2/w1DgeTRR+tWWk1+HRcAUMcWnImrolPxHk7aAIB3MUUABj5GresFEgENN5QvKGssLm/satKvgWF46/HXk1c9+PA+JyupeP2BlyMX3Gps5koNex1dqC2Pa9tbJGOR/bUpb6MLj272irw/+9J+3yfnJ4Vem5aRW6Mph5NsUNIJ6EODtYfqy+EwyPe3Z13Y59vFxkHXRCeU8gQi38/vFAFBvsa02kZuanZ1Z6cgkCiz8as9dt63nb/PabWfy6brZNWu5B9VHYdmfooOuXVZKBAIBfyn18/lpX5ScxwmNUzdcVh2Ymyw/wXJsOCb53OS4iiaxh/2TCuPfERDccsjgz7snVaTGScZz0yPJlJprsNbH74xONygcdNrcxJE/O7KC3WISMBDIJEBx/eUFeQAAJjlJVcPbkEgkfrDZrttvdXmsvKTMCz7eey477DkmN3Cg/13PqAb2XLqq4dNmdumvj1s6jyxSPjq1aseuVwvnTF+uFlJI+9WSg1fJBaJ4Vd5DTFlLeOHtyZNX0cXeGpTJBEYAMBamagljwuPLviuS6TnMj0nXzt1NbowrfReUPKg6TeCXmZKjSkqaygqb/Q2lEd+fsbzMaTBMMzliaIezL19YszVgyNiH833GWCYX9ow3FBOMmyUCf2iry4CgNnjbKIfzJPSyv8uwiMLXDVItM/W4/o0nJkSITyqUGpY+8CCpm/Vb+stx+Wn7BYc8NgZaOg9twthVZq+FVFB9cqBLczyEgBAWUGO/4k98jpmJIZW+2HyupZEJfUrB7ZUlxUDAMoLcm8e203VNMwK8ku8sh3TXIGoL064uDnx8laxSAgAEPG5dbmJg8fPaKuw7Dd8DJEqz0yP7uLNnrd5IPlflx8JlJeW+PT6OaGALxQIQgIuZSfFYSg09x33TMetbG992xnzE0Z3HZOh8SS7BQf6/elvO2+v66arfZafbMhPsXDsJ4nAAAAKKmqOA4fXZHT1Xv7L9GbC/u85uHHQpBX3V70opBPRDWwhAY++cmikJFOFRiNhAPgiMe5zDzZPKAYAoNEdBN8cruDF+7yK6mZTfcV+DlptqbKohNKrgUnz7RjDDOQgCMqv425+XXL6Ruzmxf3an45GIfgiuP2zOE8IS0x/1RgUNUbr9hwajeSJxO2HETAIPA79w8++EiTCHHzRlx0WnhAGAEhuoAtwVAWcRbeKlFVsBzTkp14/tO2e32EYhrmsFh3PiUoy5zKs3bU9xt88sjPw3DEAAKelWct9bNnHYEMr27XHLuMIRC6bdWT13FT/vW7b7yKQKAiFFgn5IqEA8VnplM/lQBDihzXxJSCQKLFIxGWz1o3xpCkp1zOriBQ5sUhE1TCSXXnFImFNRkxLZSGepsywcEWgvyMURqAxCsb2bRcFAPC47eyeOGwAAKbzdodeeoS+Nhpr5/Y9fDHqcXY9CgE180RjvEwmf25/RiER7b8aMAzzReLOFPDTcqoj4krwePQQNz1F2pfagPX7Q+Ux0M7BuhQsSiCCT36sWH/gZf++Ou3NttFoJACAJ/riR8wXiWEA0GgkGoVs6wricAUAAH67YSgEAgbAVE/hJxVq0GgET/TVNitfBGM6Wu7au/ogkCiawbedLQAAEAJpNXtnvN+6lT4uVAVGA7OSQFexX7JXZhjCeuaO+LPrVvm6tg6jKas4eBW8vLnpjL+FkxsAIO71i6Nr5irFv1LrMwRAEAQh2n9xRCKhSCiQ+Kd1eOfdBEuh4xGigOO7H148AQGI3dKkqKYpxMnhqB3IMbJrK6pTIgCAFc36ymqudn3d9i5qEBLd/r0AAPhcTofvpRfQG4T9C1BRIr+8MT30fV5GXo2KIslngFHbsjjQWReDRtxMrllgx0AioBa+KDCjzspIqS0kaiMpo3LG2ke1jRwiBsnii8wNFK8fGSVZgp+EZalSsJIIDACgS8N5alOCQjOkgrBhHgY3HiW/zG8crCcHAChr4r/MbxgzXLqAaZiH/tXAxBd5DUP05QEAFc38V/lNvjI+4t+Li50GlYTxT6lZ3VcVhYB4QvGdtBpNZYq5odK3T+4eEASZjlup7uxdnRIBIIhh2a9D52wIgkzGLFPvO6wqJQIAwLBwEXLZRW/vTzh6HkcgAgBwBOKEpRu2TvdpKEil6VsrW7nlPL3w5KrfqHkrIAiqZ1Y987+oZOHyXZGQLBR1A6KCKkNTc8KSDdXlxXSGakJEeEpMFN3QVmokp74q3m9dc0UBjkjislrw8kp2Cw92nRTsDCJDi6yi8/DCCWObPjgCUSQU3j1zEIUjeHn12pX8clbMdPIdYBT8NlcgEPV30m6vLD/c0+jh87RBenISIYaXeY0VTfzhMsZiQqF4zd4XD0IzcSiEQAxvO/5639oBE7zNAQAlFY1JmdUbXNUkmsxoJDTLWvFdUN7rqIIRg76466gxyCa69HtpNVYMAhGDFIlh/+QaNAox4OvklooS2dqEEZhRZ61MJGGQYhj2T2aiUIgBLro/+SEM9zTyuxHjbSCvS8MBAKJKmrNqOCv6dyrX15nBIuh8j4+qYeS27XZlwht2bbkWQ1vZyq3DrypFw7Df1tuVCa/ZteVaSpoMa/e4v1bbuA2URGAAAPv+XiZ2fSviw9T6DEGisUrmzsH+Fx0HDpdXZMAw/PjKGS6rhWHt/qOfRCvK1h7p94/N23qosbYahgFNUfnCrvVGo0bJjswNuZoTfBmJQkEAygg8qTtwiqHvgvaPgt0U1AAAMKzdU27uTfwQbu3qCQDITU2MCXuuO3TWT76Xfyu9Qdi/ATQKOby/4XCZtYYmh9+xsv+mQ2FJVWwNCia9hoNAIk+sk6674gtEczYEKWDAHm9dZRI6nck5FFm+8eCrS/tHAImvCPqrxAwRg+DypX1FGApECIC/YipDcurJWGRKFRsAIE+VNnl0slafMsLCLyglNK+RgkWmVLE1VCmrZjuBnwOPQ+9fP2jp9uD5T/P15LBZtVyeGL56aCgCAfH4wsSMKiQCsjZR7sL/rptQ1PS703pNVtVri2MkO49EMoVZUVpdUqSkrkmiUMFnqxOSsrb+0Fn3zx6JCAliqGumxUai8KQ+I5d0MXl3gBBIs0nr489tKMvLNrK2D394u6m+1mrGVtmit5Sbe9Fi3s7rT/TNrcsKck5uXJp4aYvr5ptdV+wKuezGkiwUFk/RMGr73YAgyGziuji/tUuHOprYOuZnpjZUV1pM/YNC6QElql6+iY6G/JKOlFdXzXb6EFu0LLjAQonQJBDl1XIn+5jLWhJduvcp6FXWMkfl/tpUjlB8NaF6/YFXNmYqhjr0VpOxdiklAgYJAOB8XfMOQZAcBRdTUDv3cZ6ZEqGogVfNEpAIaCJBOguyd+2Aicvvz3+Sb6qIL2niVzbz96zxVPhpbZr5E23DIvLWhBaaKxF4IjirhjPUXX+Yuz4AoLC0oayqSU+TpqxIkjqr6xyPrJgqCktQd5KuQ5AFhcW3HyYW8IgUqoDPy09LghAIXVMrIoVa3VQledV41NKPJ5au9HU1c3CpKi2qKMzVHza7Lbf0w7eq7jSsKvnthZ3rDK0dIAiRlfCRbmCj4SJdm8XM+Jjz7NKoeSt8Zi5GQIiQW5dun9pP1TLuolEJAADDcEtFPr+lkaymJ6mWk6BqP6gq8c3B5TMMLO1QaEzmp2g5bTOtztsd/uNAMAx/e1Qv30lpRKe2XL+fxPTKgCcpVcwWUwPFaSOtZDUgXrzPm7vp8alhOprU1hTai9wGv7jK+KD5ijTigxcZK3aFHBykZaSABwCw+KJVoUVOjjqnt3+1DO31e+8fmLDIjhFZ0swVwhYMQm4dt1gIvb8j3UoNw/CryIJHLzNZbL6zrcZEb/P2Oxo/Q2Zezc2g5OLyRn1t2vSRVtrqcg9DM7Ydf1PfxAUAMOjE/esHDnTRBd/zVPfzCLns8D9HKigxqj4X7DM0tGuqKvvvftjW1l6bHV8a/VzAbpLTMdd09v35qnkJLGZp8YdHrMoivIKqpouvbH6LzSx7u3Pi0n2nnb1aO7myk+K2zxrVZ/lJuoFNh3PCMFwQdivvxTUhlw0AIDE0LaZubl8+zK4tL/4Q1FKej6MxNJ19KRqGwUt/h/DmP5B/zjrQzOLdfpoWEV9MJGBGDDQa5KIru9/tPvGKJkq8qm+rhI1ABM99kjdhpNWfS9xEIrHz2EtaOLDeRU3ie/YgvfZ6MjPi7mwNlS9/fWvr2ba+5yeb07kiuKCBS8ejrBjEQ5HlF/b4yDYBVFQ333iUnJZdzVAkTfI2tzFT6ZF3yuEK7odkvI4uwKCQw/obDPcwqG/irtjx/F1cMQAAAUEjBxkd2DDouxQ6emS5yAo6W/I+EIcnNDfUAQCodMXmxnr9IbP1vKZJBvCbG4ojghoK0zBEqprjUNmkdTc3IqXuViwUlMe/qk75AGBYycJV1W6gbOou4dIWDLt6362Qtt+K7bPH1PMh+0WHO7sKq7ok+frOhqJMAAASjdF0G2Pku6Ct1EEsElYmvK5MeguLRErmzqoOg5Fo7H92Heia3kzYvx9rU2Vr065cb2vqWAAANfKXb6YGFQPDoLaBo0gjensaXg1M3PqmxF2TQsYi3xU3c2GwcpZ07qqmjq1CxjhrUpw1W9MeD9Jr47MbZC8HQdAgF91BP731IIuxnsLu1Z5tP35MLF2xK8RVkzyyr7JIDN9Nq533x5Pnl6ccbZrf45fuAhSOQKCrNtZWztt6yMTOKevTx2uHthHoKu2FheiGdnRDux6/NFFR3WTU0i4GSJxP1HW+5FDVdA0AALym2s5OKY8NzQry85o0e8DoyY21NbdPH4j3W9vvz4C2wJFAVzUesahn3kAvPQSZiJ03wXbeBOm/6+2pqWe76H2JqNBISIWEYdaxAQBIJGLzUrel24M3viq2VSEW1HOjS1vmjLdpH4EBAOoaOWIYNlEimH8WYRaJYQQEqutYspdTUSKvn9/zRjZ4HHraSMtpI1vbIWEYnrfpcV4+c3VfFUM6/lMF6/rrbDQaeXjT4O7M1oNPa3K65vmv/G37DfCZuVgsEj24cDwp4rW83pe2TQxZTn/IjM5O734pmFQ+DIFCqzsOVXcc2sUp/OY6XQMDaXu02E7t0cQCftyZNRQSfu3xK8qaOtGhTwLPH0PhSfpe01svikSp2g9Ste9AxLsXKXq7I3sBFkYMAEB0aXPbkcjiZgoRo60mBwDAoJEBx8fMn+yQwRa/q2C7Ous+vjBJX0taec/CSCm3llvVIpD8KIbh6LIWS+O/U5jg0t1PWnK41X1V9Wk4IwX8Rlc1ORzy2oPE33wb7Jry5vK8Get39h85UVlD233EhFmb9jRXFLCYpb/5TmQhKWsjMdiY8OC2IzFhzwEAVI1O7b2L3tyxcRs4Y90OdT0jsz4u609cFQv5pR+DOxvfy/8LFkZK0eUtInHr3giTJciu5bR9hX0HGN08OlpRSyG0uKUFjz+wfuC2ZdIVSxoqVCoJE1XyZSWJKWsRw8Dq71sHkjKq4lIrltoru2tTVciY4Ybyk80VAkPSa+vZXZwlaQns2Xx5eWyoqo7Bsv1ndE0t9S1sVh+5KK+kUhYT8s0Tu9EC+bNQNIyTo96zW1r/w/E4nIQP4WT1TheByuR37NqK1Ucu2LoNVNXWGz1/5aCx04rf3Zc0e/byXfRmwnoBlsaM/o5ap2JKypr4uvK42PKWkNyGdfOc2zL2JAJm3TzndfOcu5hk7FBTP/+4rW9KRhvTKFhkaF5Ddi3Hf/PfaSOYW1RnrohHfH68QyMhYzout6hO/vfeBqu6BABg5vDlod/U3hkAwKoqlmpB+v2gCWRNtzEPL57ktLRYOPXLTU14fNVP1W4AUUm6YKiNlspi8/FfTH/J8jQNfeOfN0Hq5W9n2QzHySsf7H5XOlhPrpknCsysU6QRxg4xaRvg5qDl5qDVxQw4LGrhFIcD5yIEYriPKqmggfsgs97dQbN9l8BvJq+4DgDQ3jztm/Zov6hWgcMscejbt029BYVGm9g5ZmR3Kp39Y4HXj928lseYso/Pds4d6z1tAQKJDPa/2NxQb965PRqruoRCU1TX/ZJBN+3jEnr3mpDT0qGi4ef30rsd2QG9QVgvAADgt8t75+l395+n8wQiOhX3xyLXhZO/uERzecKrgYmPQjM4XKGrg9aiKfaypr9kIvbe6XFbjr32+1gIw0BPQ+7CHp9+XS7ZHVJdyzp7K+51RD4ShRje33DeRLsOxcOYdaxzt+LDPuQhUYhh/Q3nTbAlE6ULy7TV5TMyy9vkMERiOKee199SrpsiadVpUcVv73Nqy/GKGtoe49uEGAAAYpGwJOJxeewLIaeZqm2uO2iKlFBQewgKqgCA7KQ4BRU1yZHsxFgAAEFRrXs38msx8pmPxODCgu4+D7iIwuLV+voYjVjYxXiiolpWYlyblzCrubEsP1t7oONvudlefiEudpoX9vnsO/N+/4cyCALuDlq71nhSyV86OSR+ROk5TBUGedooKx9PQ9nCsiVTHdAohN/N2Be5DVg0cswQky0yCbNvAsPw09c51x8kVlQ1m+grzp9k52DZ8Zfl2evsa4FJ5VVNxvqK8yfZ9ZEZpqUmB77HHk0qiOE11RWE365Jj4IQSCVLN53+E1D4L7IdTWW5+a8Cmksy0QSqWt/h6o7DumhnwdNVsxLj25YjsUiUnRSPVzeTHfkD4Vd3Yq/200qNJ9BVHZaeyHxw4syWFQAAOW1T+yVHu7BHIyioNtUxK0sKlTVax2QlxGKIFBReuukB/Gg0+d+htzD/l/DPKcj9LtgcQUMTV5FOaC+vJRSKp6wKjEkqc9YgkzCIyNIWBAb1+PwkyeomS0MTl8sXMujEH1C6qq5l+c4LaGzkuGiQ+SJxZEmLoS498MwEPO6r7qqaerbvvID6eraLOlkghiNKmvW1aQ/8JhLwXw17F1s0ZdWDwXrUUSZ0oRi+k1oTWdLy9OKkU+xvVywVvQ1Mv39cz9zW2NYhLTaqMCPZYvJG9b7DAQAwDCdd3V6Z+MbOfbCCitrHsOfNjQ2Oy09RNDrthI87s5ZTkTN70x4TO6fMTx8v79uMY+jaLzn6vZ/Pr0MsFPCa6zBEOSTmG00SxRGP024fGjV3ef9Rk5vqa/yP781JTez3p3+HykMS/rMFuf+P6wAMw1W1LBwGJUf5qpE29EPe/D+eqFEwtsrE/AZeciVr+QzHzrLjAqGIWcuWo+CkvpLd5OjlqGOXoy2Vibpy2IQqdmkj79xuby836dL+E1ejD1+MsmAQ9ORxiVXs4gae367hw76W3oBhePgc/8ryhgW2DAM6LqEHzy/HAAAgAElEQVSCdeFT9SA3/VPbO2hvlI3APh5bJOa29B3sIxTwo0KfEJQ0+6w4jcLiAQD1+Smxp1fRlBj2Hl6VxfkJ78PU+3pbTN7Q2Zuqzf4Uc2qFx4gJvrOWiETCB+ePR4c+dVpzVk7LRGrkN6MW1dpyAMDxGswr9veVt3YRh0ngNzfAsPibPo8iPu/9rokKikozN+xU1tCODn3if3yPzsApbUbmHV5U3eUftOL9c+gNwn4J/4+Lb2c8Cc9evPXZLk8NSwYRANDEE656UdTfzeDo5p4Xf9p1+t2th4nHvLQViWgAQF4dd21o4a7VntNHWbUfttfv/fX7Cce9tJWIaABAQT13zYui7Ss9Zo6RVly88Sh5z1/vWBwBAECOhN29dsCIgUbffGoUclivt4728Bkza+MeCIJgGD67bdXH1y/dtt7Oe3G9PO4Vr6lm2NR5k1dsRiCRXDZry3RfPk6+i04iPqsx6er2NpV8BSN7q5nbvteJqGtgsZiZFlWZ9BYWi5XMnRlWbt10l/vuC8FwzrNLBWEBYqEAAICXV7KY9mdnrZQSeoOw/3fEYrjf+MuKCNHmfq1+RLdSau6l10YHzpVVfPhJKmtanEZfHGtCm2ypCAAQieG9H8qqRND7O7ORyC95pupaluPoC6OMaFOtWoft/1BWygeR9+e0HwYAqKhuXrD5aUJGq53uYFfdE1uHdphfl1oZMoP8KqOf7L8TqqiiDgAoyk7fPHmY8ehlJFXd7MfnmkqzqfK0rZcCGepaAIBX929c3vuHy8YrXUjYlEQ+yXr0l4DDAgBgiBSTsStlS9dlI7Dv2mHk1FWVRD5hM0sJiuoazt54mvRGsNT8P7z32lyel3h5a0tVMQAAghDqzt6m41Z1tuZILtobhHVI73ZkL9/gTXSBLg0nicAAABQsqr82JSzil7iAh0fkOWuQJREYAECPhrNgEMOjCqSCsLCIfGc1ktLnYTryOEtlQlhkvmwQNm2k5ajBxh8TS5EIhJONejf70uvyk4Vc9rCp8yXJPAiChk2d//5p4NsdEwTsZg19Y7ECLfjmheqy4hUHzuIIxIHjpl07uFUsEna2BmGIVIclx5rL89k1ZQQFNbJqD3eGwmJR4tUdlQmv1fWMUWhU4pVtCsYOdvP3/6Tia4dAEGToPVfbfWx9YSoKS5DXs/xF0V4v/xzyS+qLK5tme2i0+RGNMJa/nVrzNqZowvAONtR+hvexxSIx7Gv8xWzNx1B+2+uSvOJ6Q50vbpUR8cVC0VfDfI1of4YXZxfUmuh/ZbCookQOOj8xNbu6rLLZUIeuq9lxUahsOFKbHu04cLgkAgMAaBmamju65r69x6mpwBEIhpa2BRkpf0weuvH0DQNLu/4jJwWc2MtMi+oiCNNw9lGxG1CXkwghEDR9a1nRvp+MkGqzP306twGNQWsbWxRGPCh8fdt2/n4FI/v2Y6S077uQqwVdZs7Iqnquf9xoKEzjtzRQNAzx8l31XkjODe75Xth/A72r57+W6lrWi/d5XJ6wn4OmsW6nW0XfBIVCyvgRdep5UlvPfv4ul80RuNhpmBl8t1o9CoXkiwTtj/DFMFrmWmgUgif4qg2HL4JRnTgUkQiYAc7fF/RIogo+94s/puTfQk7L+lPXrV36AwDi3rw4unruh2eB7iMm8LkcBAL5ze1Xsqruj4VfnLrK6pQIGIZp+lZNpTkCVhNV21Re16LtihXxYZUJr1ccPOs4cDgAIOXj+wNLpxdHBGl7jPuBy3UHDFmO8bVlk5DHqUp+x2uqo2oY0QxsftJ2qZceQSQSv4styi6oVVEiD3bV+y5xrPbI2oJJTIdkv5sAALEY/hBfnJHLVFYgebnpf+9F0a3X+sr7SPZaku87XyQGoPWLLzEs6nBpgiDIwoghaQPvPhAS1X4RAABw2GxuXaW1S//lB/yweDyrufHgshlnt685HPhaKBCIhELoWw8kKCxBybzjPdyuIzCxSFidGil5ikMTKU1FmWgihWHl1qZ0IxYJU/33GVjarj12CU8kcVgtR1fPTfXf57btzjcfk7pTtiUbrkEIhKwLbWNxZl1uEgpHYFi5S4zMe+ma3iDs34l/UPKfR1/DMIxEQDtPiSd5m+9fP7DNDvK7GOauH/A45XVBk6cuFQBQ1sR7Xdg0zqcDB+j7IekbDrwUCcUoJIInFI8aZHR085DvEqn3HmB46upHb0OuPg0HAIgta8moZi9aKO2vMtzT6PilyJxajgEdDwCIL29Jq2bPnS897Ieh6VlhyfL3/A6vOHAGhcbwedz7544iUSgLRzdJBAYAsPfwMnd0jQp9bNHXPeT2VYalW3fccH+A3BfXc59dQiCRMCyGYRiGYQwWz+eyFYztbebuQWEJAICKT2FGNo6SCAwAYOHYz9ZtYF5C+K8LwqSoy01KuPgHn9WExRN5HBZNz8J2/gE0oePa515+D1U1LdNWP8jIryVgkGy+iEEjXDsy6gcejQAAWqpUUz2F+xl1FgwCAY0UieGbyUwsGilrtl1bz56x9mFSVjUejeAIxHQq/uqhkV3rFErh4aiNwyD9k5mLHZSRCIgjEN1PrzPWpUvZy7r30SJgUf7JNUv7SIaJ76fXGmrRZNVzuoms3DzDyiPmxdW8tLl6ZlYAgMSI1zlJsQCASSs2YfF4AACRTB27aM2+RZOLstI+vgoW8HnKVtJdCJ3ZH8kOaI/UYFZ1SfzZdSxmGQZPEPC4sFiMxuKFfG5G4AmrGdskUV1DYTq7rnLi0bN4IgkAgCeSJizb2GaPJjX5DxfLd5E5EwsFSdd2VCa+xeDwAj4vI/CExdTNKjb9f+xC/x16g7B/IWk51ZsOh3npyU2zUsQiEWH5DWefpZoZKs4YbZ2Zz3wfU2yoQ3d37LTzRQq3Plpjh5ieCEkPzmsgoREpVWwtNeqKmdJirXnFdWv2hHpoU2bZKBHQiDeFjWfCsk0NlNp3WX6TOeNtQ9/lrQsttGAQ+CI4g8kZ5KLr4yktVzN7rHXo+9z1L4ssGAS+CGQw2QP66owcaNzhnDy+MDmzColEWBgqZRfWbktwoqiz2rc4yYJAY0wnrP10Zeuy4c4GFtZZSfHs5iYIiSbJfbWRQSRT0+MiV43ohyJQLLvsKPxhajJicp5eGDlnmefoyevHDTSydpi39ZCcglLC+1en/1ie9fic2bhVAACxgE9S+OpvD4kqJ+bn/YpbkkXI4yRc/EPP2GzhjiMKKurJUe9ObVqSEXjSctrm33MDvXTI2r2h1VVN+wdqGivgy5v5R6Ir5m58/P7ObLFY/OhlFpsrGDnIWKr6vjMgCNq/fuCklYHzn+SbKuCLmvhVLfwD6wfKnr7x0Kui4rrdnprmSvjKFsGx6Io5G4Mi78/BYrr7t0aOgtu92nPdgZcpTI42BZNewxFBUMDugVK5VQoJu3vtgDV7X6QyOTpUTHotVwSDmzt8pIa1hQtsZhmnvuqvAakYFDKroEZBnmCgTQdfIxWHaXmMYaZGbJ3ha2rvzOdxc5LiCApq7JoyIuWLRC2RTAUAHF41t66qzNB7vqQVGnQUWnU/7pEKcSSdQGQCdvOtkPdPA8MCby7efcLew6uxtvrink2JV7a6b7+HJcuLBTwAAJHyJVRtb4/Ws8gGrACAvNAbzLTIJXtO9R3s09xYf/3Qto/XdsppmcjWpfXSnt7C/F/C31uQu+XY66chaee9ddsKOA5ElNUhMSKxOLeoXvLfW46EDTg5xsKwW/l5sRgOfZ/36FUmhyNwddCa6G0mqwexz++9/4PESz666M9VsSeiK/L5QNa2qGskriNhkfloFGJ4f0Pv/oYd5tK4PGFgSPqryAIUEhrqbuA7wKjDYUEvM7edfFdbzwIAYNAIvkAMAEBhsDqDp+sNntb1lllzeX5xRBCbWUpU0tTsNyrFfx+7Iu/Iw7d0hgoAgFlesnZ0f4DC6nhO1HDx6dkq+zYSLm/FsKr23Qp5de/G9cPbTofEUmmtO8v3/A4/uX5+wIFgBBKV9/Jm/vMrB++HSTrG65lVa8d4KvcZZjzqZz0ou0NZ7Ivk67tPPI1UVG1VF3t6/dzt0wcG7HuKwhFAb2H+30F5VbPjmIsrnVT667RGDLl13DUvCif5mAc+T+cLxQAAJAIa7WXS/Q6b0sqm6w+TMnKZKkrkKb4WsupfEtuiBXZKQwxaH1dKGnlLgws6tC3qmqTMqoDHKeVVTcZ6itNHWUpJ87eRklXlH5RSVtVkpKswfZSVpupXwySBAr+5Ifnmbmb6RwAAgAASgiSCtHZmyie3DZM6BXwdA4n4vLLYF8zUSAiJZFi5kVUNIg/MHDF76fgl6wEAMAyf37H2/bNAJSt3LddRNANr0BOKDFLxTWNxVuShuRv/umnex3V+f8uB46ZNXLZR8lJzQ/0SL3sDnwXa/ccLOazXW0YNGDVxxvqdklevH97+KjDAY9cD9NfKET2iGSEbhL3ZMtp18NBZG/dIfuRy2IsG2Wr2n6g/ZKbkyH92Heia3kzYv5CaOpYKCY1st/moQcHEZdaLROIZ1op91EgFDbyL8VVjF91Ne7GkO9uFCAQ0xF2/62WUWcdWJqHR7fqSNCiYjx3ZFnWNlOtIZ+CwqCkjLKeM6GrYx6SyZTtDHAcOXzh26vE18xRQ/JnWinQ8Oryg8dHTC1iyvIaztJFte8iqupI8kwTzieuiDs/bOGGwx8gJsFj8JuiOGIZd1pxtr2sKw7CIz0GgMD1Vq85vrtPVN4AgqKG2mixHa4vAAABqugZCHkfE4yAIZE2XEeXRwX9O9Xb3GYdEod49vQ9QWO3OtRZ7Fl5THRZPVFD5IjyrrmsgFgoE7GZJENbL76emng0AUKe08yKjYAAAt56kmivhJ1so4lGIx1l1956na6vJLZ/ZLZk3dWXKH4v6dTFAYlukTv3yhKZKxnRmW9Q1VsaM7ujsWxgx9q/veJgkSoBhOOHSZkFd2eLdJ3OS48Lu3ZhoTnfWIJc28a8mMqeuDgy/OVNqDWyf5kFisJouvpouvm2vyutZPbp0qiAjxcjGITnybWZCjIrdQOuZ20C74EYgFAkE4h+T55BF4iGmpmMg4PPZLU1qOl/WYbKcPIWuyGuqAwCg8ET9YXNe3D5dVpBrau+UHv8xNfqd0YhF6I60u34F3MZatXYGaDg8QUFZXXJvvXRBr23RvxALI0ZWLbeO01q6LhLDMWUsgVA83kxhlAldjYJ11aSsdVFj84SX7n3quYsq5dZyq1ntbIvKWyyMfqQApae4dC9BQ09/6b6/yvJzueyWbe7qtiokLTnsLBslF01K0Sv/75qNrKrruPIviCAfcuvKizvXEGQFpzXn2kdglUnvIvdNf7nW69U6r5SAAwJ2cxezdROKulFy1HsOq0XX1LKhpjonOb7tpdiw50RFNYk6IppA7rPyL0XbQW+ePw4Luk81cXZc7deFcFfPQtUw4nFYyVHv2o7EhD/HUelYqvR2Ty+/DV1NeQIWFdXOi0zybzwK2uKuYaZE0KXhVjipGNBwl+722CLQmW2R5XdWxP8k7R2HGosz6/KSF24/4jRoeGTwQ18j+fFmCuoUrJM6eZ2zakFpY1hUgewMXeSKHJad0HD2SU+IDTx3PD8rQ3fQVOuZ29qchWrr2av2vDAedNpo0OkhM2+EdzT590JR04cgRGz4cwwOp6qtHxP+vG3/Kj89ua6yjKLZWrCh4znBetaOsur6oOsXyqpqrWdt1x04WWq2XyedStUyjgkPbru38sK88oLsLgzQepHQmwn7FzLR2/zC7fg/X5eMNpYnopHPcxuKGnjw194dZop4CICkjKqeuuiYIaZnbsZueV0yxphGwSFD8xqyazg3//g7hdRzixpMHL0RCER5QY6aHIFO+PJgasnAR8SWtW/57A5UTeN+m693+FJV8vuEi5utVUgeTipVLEFQfEhcWY7TmnM/Wa2v5T6mLPrZzrljh06eq6iqcWjFrNHzVjA0tCNDgj6+emYxZVPb/WPJ8qZjV5iOXfEzl/sxaAY2ND2LU5uWjJyzTF3XICb8+ZtHt03GLO+VrvgbIREwcybYnr4RwxPCtirE3Drug8w6LAZppoDDfU78QBBkpUx8nNVjuQocFrVgssPB8xEiMeygRips4N3PqOtnr2Fl8vuCMOmS9qpiAICpvXNjXS2rpdmC8SVfq0fDkbDIvKI60E+v+/MjEAjzSevNJ61vO9IW1vAFookr7leUN443odHx6PDCxlnrg64fGeXe57uNQ9qDk1dScxrmf3xPY12trfugp9f8Tm1a4jpsNLO85OGlU2RVHYbll/Skiq2niq1nZ1P9UvF63cHTPp3fdHTNPI8R4+uZVY8unSYoqKrYDfh1V/x30LtK/guhyeHv/TV+y9HwUx9LAAAGWvIHNzqv2/cys4ZjptQah2XXcmEATPR6LFlCIWHv/TV+y5Hwv2KKAAC66nLnd/t07TT3q9FSpeQkxcIwrKSh9bqR28gVUnGtv/CZNVwindGDMgp5zy5YK5O2u6tJ5rRkEDa9yqpOi5LScfheCAqqNvP2ptzce3bbKgAAEoO9cXQnLBbj5ZXMJ61XdxrGqi4pCLvVkJ+MxBFV7QdruI74/aEPBEG28w9k3D9x+9R+sUiIo9JNxizXch/7m2+jFynWznXGYVEXbsU/za7HYZDjhpvHpZRnldQLROK2soF0JhvfQ7tmEpZOc0AhobMBcc9zGzBoxGgvk23LPf5GvRJJpXxOSryhlT0eT8is4dirtm7PFTfyWngi2Zqw76J9WPP8TU5mfu1RL209Gg4A4KFD2RxecuxS5E8GYQAAs/GrBZzmJ9fPioUCCIGMfxcWHfoEQiAZlq6m41ZBEFT8Iag85rmQ3UzRMdcdOLlDF7WejcA6aCa1cLWauS3z2cX4Ny8ABCmZO1uOXSWrhdaLFL1B2L8TfS3arRNj6xs5PL6IoUCEIMjPP+5WSg0Fi5TUhJ2JqcSiEQsm2fXgRbXV5G4cHd3QxOVwBcqKpL9dKWrmGKupqx9c2rOp/6iJKAx27/uyubZKdDzqVUHjm4JG49HTe+pCIj63sbzAzVGl7S2bKhJoRGxDQdpPBmFCLjvzwSkRp8lpsA+EQHx69wpFVbSes5OsogshkM3l+R+PLyEQiX0HDK2rrox/cLIuJ8F6zq7f/8mjCWTL6X+ajl8tYDdjqfTeHNg/AQQCWj7DceFk++paFo2KJ+DRryLyZm94fDCifKqlIg6FeJJVl87kLJzck4sABEGLpjjMnWBbXcuSI+OIHQnT/07kdMypmkZnt62Z88deF++xDx/cpOFRkpqw85+qVRVJg1w7kO77MR35+LQKDTmsJAIDACAgqJ8G+fynyu/NuMtSGv2sKvGtlrGFrrFZfkZqUVaqoe9CTdcRaDwJhuHk67sr4l/a9BuoqKYREx4SdfhNn+Unf8M+oGwcpmo3UMXGk9vIRGEJvQo13aR3rfw3I0/Ft/37wZnxQ2f7n45p9e4gYFHXDo/CtOsbzyuuu/00raK62VRfccJwM7r8D5ZUy1Fw3ex7/9W499Has8Zzj9/98Af+AIAcHrQ2tAgAAEGQptuYb6ZqOHWVJZFP2TVlRIamhtNwnLwSLBZVJX+oTo0AEMSwcFUyd5H49SJQaBQGW8Xit53LFoiaeULFn9YqLIl4zKou2hfwXF3PCABQVVK4YYJXVdJ7ipoBACDn6QWaouKem88IJDIAIPrl05MbFtXlfKIb9uSf1e6DwhF6K/H/aWDQSHXl1t/DgS56i6c5nPWPiylrAQAgIDDAWWfzYre2wVye8HFYVkR8CQGH8h1o5GSt/mPRAxqFVGP8I4Q6IQiymbsn8fLWQytae/TOxVWdi6sCAGiqUG4cHCmrndE+sBCLhFVJ75hpURACybByUzTrC0EQu7a8NPIpu7aCpKw1vdH7ukdrNaQcBVfHEfKEYuznDd8qlkCOjPvJCEzIY2c/Ptt/1KS5fx6QuKid274mOixA230MAKChILU8LnTRzmP9vMcCACYs3bB1xojsx+ccfos1rWwcBiEQXavn9yJFbxD2X4EmR/j4YN6HuOK3MYV6mrTxw0wRiC9tGY/DslbsfE7EIDUomOdvcs4GxN09Nc645zYr/y6mj7IaNdg4OrHsyavMhy+zqDQ6nkStLCmoy47nsxqx5I4NTAAANZmxny5swmAwWoZmBW/uFIbftp23rzD8TnVapIaBKSwWf7oQrGzlZjVrBwKJghBI1T5DH8c8tVAimivh2QLx2bgqEQxU7Qb+5P0z06OsXfpLIjAAAEND28HTKy0tymDYbBiGq9OjJi//QxKBAQAcBw6nMVSrUyP/riCsl38+Gxe4Lppsf/1BEocnnDDcXEvty2ZcUwtv4vJ7KdlMQwV8C198Myhlznibbcvc//aU9nchGxbg5RlOq882lWQ3FKblhVwVsJsZGtqNdTXFFQ0rgpW7aJEWCXifzm2syYrTNDIT8vnx556p2g9SthuQdHkrBovTNDApCLtVGH57fN2Ru6OzAACjvUxOXPl44VPVHBslHAqRUMkKyWuYMbYrW1VZZJNw9fkpAg5reDsXteHT5r97cq+hMI1uaMdMjybL012GtZ6FwxMGjZ12Zf9msYD/K1zLZPkeNdpeiYoO6A3C/lu42mu62mtKHWxq4a3bF9pXnbTCUQWNRDRwhdvelK4/8PLx+Ul/y032LGQiVo1Bfvjyf+zdd3hTVRsA8HNudtImTffek7bQskdZhbI3tBWQbQERUWTIEAX0QxFFUBERkCGgMgVEQEZZZRTKKquL7r1XdnK/P66GmHSE0nI73t/j40NOb859c3Nz8t6Tc89JGD9n4dio9wmCyHqeuHZWeNKf23VH1+rSqFWP9q/zC+76wdfbuXyBpLLiy/dnPNi9Wl5VtvTbPUEhoQihO9FnNy56y+r2347dhyGEvEfNqcxK+OjiUzM+p1quVCMc+OZHXDOrGus3HmYwFfL/zLWokMsxwSQ16oIntxCJUp89VCmVTBYLIURqNCqVst6FU0AbJzLlvjuthjtmvtsbm5JW8vVgV09zLkmSJxNLdx68N7SPZ7cgR8ONm7MaumcwFjn7JP21QygUfnzwrIWNnUqp3L1+1aWDG60DenKENd/Gm3H1j9KUByt+/DWgawhJkjfOnvh+xfyCR9cDu/VesP4HLo9fVVG2fv60Rwc+j3L9ZXvHY64OZl9+OPDDL89fzajksxkl1coewY4fzOzxii/nn1XUFC/aAapNwARDUpxbnpkok1TnZ6bbufyzeoFSIcMEAxGve+qDJh3134rBFBUAXbyRKpGpZgZZU8N1zbjM8Hbm957kZeVV0B1a4zh5IUEkFo+e+S7V+efo7h0WMSXv7sXaZiouTXkgLSuauGA5ly9ACPFNhZHvLJVXlnq170RlYAihzv0H+3fplXf3IvWQxTPptnBrp7lfWoREeIya13fNYfvOr9oNhhCy6dD30a2rj2NjqIdJD+/evXzO3KtjzOfT7277kMViXT99fOHo3jlpKQihv3/fXVFcaLhwCgDG+OPvp6GuQmrFMIzxSG+xnZB9/EIC3XE1DqWksvDxzdEz5lGTLTNZrDcWLEMI5T24UttT8u6e79xvUEDXEIQQxrjnkNGegR1VsupJ7y3n8vgIIROhWcS8RZV56ZXZyVTaFzki4PqhWYuiek0eH7xv47jfNk942dnCDFMZsVsgRyg+8uNGlVKBEFIq5Ee2fcMVWRYl3Lm8JrI08Y5apVw8ru+RbRsRQqWF+ad/3WUdGALjMlsKeJ8AksqUCCEB+8VkCqZshra8FZDKVFy+gOouopgIzVQKWW3bqxXUAiAvfqkxFZkhhDhcnu5mJmbi3JIM7UNMMKz9e1j7v+qFry7HbkPz70f/b+4bvh27EwzG07gbZq7+JUl32Vi1du9Jz4CgjMSnm5bO+XjaKEs7x4zEJy59J5i5tmvEAEDbIZOrTNgvznCMsYDFkMlUNIbUiNRK/Q81j2/CZLHVtbcDGqXCRPSfEQsmIjOEsW4l1AZUJdSajPY2pi+1Vlu9CBbbP3LJ3Z9XvTu8p3f7jokP4irLStzCJqec2TN+zsLhU+cihP7cs/XItm/uX4vOTEkgOIJuY+Y1YgCgSUFPGEA9OzphjM4k/zO7PUmSZ5LL7KwEbo61DplqWUI6O+dnZz28cZl6qJDLLh0/aOnTubbBLmL3QAabc/7QL9qSc4f2MlicpPi7JQX/3NlQmJt17+oFC58uTRo5wWR1mvNl4OTlJUpmkZRsF7HIL/z90tRHUxZ97BkQhBBy9vabtfILSWVFNeJ3mrPeb/yCJo0HtGIhnV0upVdIlWrqYUKRNLlYajh6oUUw7E/iCC1M7d0vHNmvUf/zAq+eOqKQSSx9ak2YxF4db54/VV5SRD3My0iNv3UVY6xtGUiSPHdoL1sgFDr+M1N8jeOiqMljdf972eBt2vfutfRnkV/P1NxikX9Irw93VWWnuPsHjZ/zAZfH5/L4E+YucvULzMrIcAmd1PPDn7VLWNZRJ2gmoCcMIBcHs+njgn4+cv9ZkdRNzInLrX5WKP3+k6HGrGjUIvTv7tqrs8vGD2b2Gjbe3No25szxwtzsrgu+q217Ft/UY9C0P/f+mJmc4BPc5fHt649jr3kNfyvrxsnlE4f0HRlOkprLJw6zTMTOfcbWVolGqUAIvfrYWILJcuw+jBp5hhAqTryLEHJ0f7E8iKO7F0LIuc9Y64Cer7gv0JYtnNl99K3U98+m93U2rVCoo9MqOvjaDO/vRXdcjQNj7D1yzt2flq+cMqJr6NDs50k3/j7h0GWw0LHWF+g+YGL+/ehlkYP7jgpXyuWXTx7imdtZBYQc2/FtWsJjr/ad4m9de3rnun/EIgb7xUpNujkWqdGolTIGW3+KCqrPrI5oDYe1mdq7+0e8WIpUUVni2z5AdwNnT99yqdpz6PQaa7c0abMAACAASURBVKtjX4BesIB3k6B3Ae8G0GjIfccf7jv2ILewys/Dat6bXfp1d6U7qMYkk6u27r/9059ZSmmVmXsHz8FThU7edWxPkmTunXPpV45QC3i79I+wC+4vKy1IPru36HEMQtgqMMRj8NQalwaqzHmecHxr4dNbCCErv24+Y+aZ2rk11gtRVJZFrxobMW/xqBn/LM59/vAvP3++su8nv/Et9C9/m4k2u3Bvi2sHElOLv91z62psOp/HGh3mO39qVxO6J/p6FYZ9TiVJ95+f21eR+Yxtau7QY7hLn/F1j52SFOemnN1b9OQGJhjW7ft4Dp7GMhFlx57JvHpUUpRjYuvq0j/StkMfwydq1Krn5/ZnXj0qqyjhia1d+kW49o/QS8WMyY1q6zZ79PtXFU9vbDpxjcPjIYRkUsn7o0LM/Hr5Ry7S27L5ZGCOvV7HrBktDiRhTaLFNb5tRMPmYHwp0pK861/OMre0GvzGdITQ2d92lxQV9ly6k2du21i7eHJoU2bM8eFTZvt36Zn0MO74rh+sO/TtMHVVY9Xf6CAJA3R5DR/5Gj0+uDEr5sSACZO92nd+fDvm8vHfPQZP8x7xlt5mRmZIhq+iKj/jxoa3nD19hr8ZhRA6tW97RnJCjyU7TGz0fz6GJKyZg58jAWhMadGH2Ezm2j1/mAjNEEK9ho5ZOLpP2qVDfuPebaxd+I6bz+Dyzvy+5+TuH5gcnkPPUT6j5jRW5QC0JlQKYkwqppusvGLqJistyLx2fNL7K4dPmY0QChk21szC+s99P7mFRjZsHnnDXydNbJw7z/v62dHvvlv+DkLIzMWv8zsbm3MGBmoDSRgAjak87VFw71AqA0MImQjNOvYe8Ojx40bcBcFg+oyc4zl4uryyhGMqhtXZAKhbHalYjWlKvROQ1q0s4xlJanoNHaMt6TVszPGfv6vMTjH3CtLdst7BYboh6QUjdg/ssfgnWXkRQqjGcRGQgbUIkISBtuL1/DDB5AsLsjN1S/KzM5i8xl9GjcHm8C3sGr1aAFqrBiQlDRu2xeYLEUKFOVlmltZUSWF2JkKIJXildqDGVBLSr5auldz+BkAz4dBtaMK9W2d/361WqdQq1dnfdiXei3XoNpTuuAAATaKG6VU9AgVWDru//Lg4LwchlJeZtn/T/0TOPiZ2+ouFNywvrONZdf8VNEPQEwaaBZIkb8fnPHyWbyXmD+rtweO+3DTTzYdtcH/n5Pt71q86tPVrhJCkosy5zzjb4P50xwVAC1BSJv37WopEqgzp7OztVvNqQs0fJhgdpq+O27pkwYge5jb2JXnZXJFl53c2NuIqnJBptRqQhAH6VVTJ31p24sb9LDaTUKg0YlPO9i9Gd+vgQHdcDYEx9o/4wLHH8IKH1xBC1u1DRE4+dAcFQAtw+MyTD9efU6k0DAIr1WTkcP/1SwcyGC3g5xrDAVsiZ98+n/yee/eCpDDbPtTZrmOo4dhNSKQAgiQMNAdrv7v88Gnuqj6OnewFBdXKb2Pz3lp2/OaRtwQtdo4ikZMP5F4AGC8xtXjR//7u5yqcEWzFYzIupJZt++uxr4flWxEd6Q7NKIZ5GJPLd+o5so7tmz4o0AK0gIsM0LpJpMpjfz8d72ve2cEEY2xjwn6vm115lfz0lWS6QwMAvCYH/3psymXM62Ir5DBZDDzEUxziLDzwx0O643oJRo7HgmFbQBf0hAGalVfKFEqNk+hFp5cVn8lnMQqKqmmMCgDwOhUUV9ubslmMF6OmnEXsB88raAypYfQSLOMnoQBtE/SEAZpZmQuszfm3sqq0JfEFkmqFOsDHmsaoAACvU4C3dXKxtFiipB5qSDI2pzrAu8U3ApCBgbpBTxigGZNJvDOl6yebL2GMejqZZlcoDj0pCfKzCemkP/szAKC1ihjmv+3AnVWXssb7mptyiLMp5UnF0tUru77mMLTjupph8tScYwMNBkkYoN+MCUEakvx+z61zKeVMBh7Wz+uzD0IJotFu50b0LSEHADCGmZB76PuIFV+d//ZWFkLI1UH002cje3dxeQ27rrFx0C2kMelpzrGBRgELeDcJWLi3AZQqdU5+pZmQKzJt/HV4IAmjESzgDYxXVCqRyVX21qaNexlWo5dqFl5zutOcY2sYWMC7RtATBpoLFpPh4mBGy65Jjbrg0fWC+BiEsU2HPlZ+3TDRXIZLkhpN4dNb+Q+uIJK0DuxlHdATEwy6gwKgqViK+a9nR4ZZjqQ4N+vGKWlJromtq2P34Ryhud72ry3XMYxNVlqQefOUpDBLYO3k2H0418yKrthA42ou3zQA0EWjUt7dvuLu9hVkYbIq52ncj0sf7FlLatR0x4UQQqRG/WDP2rgfl6pynpKFyVScGrWK7rgAaNkMs5yCxzeu/e/NnJijAkVJ6t97r62bUp7xrN5nvZ7YipPuXf3fm5nRvwsUJekXfr36vzdLkh/QEhtodJCEgbYu88afhU9uLtm8e8Oh818fjX738y25dy/kxl2gOy6EEMqJO59798KCL374+mj0hkPnF2/aVfjkZtb1P+mOC4BWRa2UP9q3LrBb7y1n76zZdez7v245OLs+OvBFcxiuo1GrHu37n1dg8JYzsWt2HdtyNtbDL+DR/nXN5EIRvCJIwkBblxd3PigkNLj3AIQQxrjH4FG+Hbvnxp2nOy6EEMqNu+DXqUf3QSOpVec69hkY1Kt/7t1mERsALVQNXU0JcfKqsskLV3J5fISQqdg8fN7iiuyUqtzUep/b1LGVpT6SlORPfHcZ31SIEBKYit6Y/2F1UU5Z+tPXHBtoCpCEgbZOo5QLzf4z+MPUTKxWyOiKR5dGITM1E+uWmIotNM0jNgBaDerzbqrTDlD/bg7twL+xvWgH/olNTn9s4NVBEgbaOrFXx9iLZ8qKCqiHhblZ92Oizb2bxYp15t4d78dEF+ZmUQ/LigpuXzwj9moWsQHQaog92mMG8/yhX6iHJEleOPwLx0Rk6uCht2VTj383rN/M1Z/B5pw/sk9bcv7IPiaHZ+bi95pjA00B7o4EbZ1r/4i8uHPLJw7tNzpCo1ZH//E729TcufdYuuNCCCHn3mNzbp1eOXl4/9GRBIMRffx3xGS79o+gOy4AWjDDxba5Iku30DcO//h1WsJjr/YdH16//Ph2jH/kIgaLQ1eQWiy+qcegaaf2bst+nuzXqduTOzcfxFz0Gf02kyegOzTQCGCeMABQenr62rVrT5w8SWBi7Ngxn3zyiZ2dHd1B/SMnJ2ft2rXHjv2hITWjRo78+OOPXVxexwyWALQpJEnu2LHj+++3pKWntfNrt2TJ4nHjmssQK5Ik9+3bt2nT5uSUZC9Pr4UL3588eTLdQYHGAUkYAAAAAAANYEwYAAAAAAANIAkDAAAAAKABJGEAAAAAADSAJAwAAAAAgAaQhAEAAAAA0ACSMAAAAAAAGkASBgAAAABAA0jCAAAAAABoAEkYAAAAAAANIAkDAAAAAKABJGEAAAAAADSAJAwAAAAAgAaQhAEAAAAA0ACSMAAAAAAAGkASBgAAAABAA0jCAAAAAABoAEkYAAAAAAANIAkDAAAAAKABJGEAAAAAADSAJAwAAAAAgAaQhAEAAAAA0ACSMAAAAAAAGkASBgAAAABAA0jCAAAAAABoAEkYAAAAAAANIAkDAAAAAKABJGEAAAAAADSAJAwAAAAAgAaQhAEAAAAA0ACSMAAAAAAAGkAS1rQIgujfv3+9m02fPp0giIyMjNcQUm1Wr15NEMSVK1dojKFhqMgvX778Us8y/phfvnyZIIiDBw82VoWtyeHDhwmCiI6OrnfLtLQ0giBmzJjxGqJ6Rf369SMIOttGI9sNgBDas2cPQRCxsbHaEr2j17D2gS60n3tG2r17N0EQe/bsoR5KJBIbG5tp06bRG1VL1ALebLVavX379r59+5qbm7PZbBsbmw4dOkRFRZ08eRIhpNFonJ2dCYJ4+vRpjU+XSCRmZmYcDqeoqEhbWF1dvWnTptDQUGtraw6HIxaLu3Xr9tFHH6WmpjZ6/Bhj7b/rSHR0NwMvBf+rAU+sdxuSJBctWuTv7x8REdEoFbYgGzZsGDZsmKurq6mpqUgkCggIWLBgwfPnz3W3mTBhQmBg4JIlS4yss6UcoiaNkyCIer9om+2BSkhIiIqK8vT05PF4JiYm7u7ugwYN+vTTTwsKChBC27dvJwgiMjKytqevW7eOIIiFCxfqFsbGxs6aNcvHx0coFHK5XFdX1/Dw8EOHDmk0mrqDkUqlK1euHDJkSNeuXXXLdY9eg9sHurTEUPl8/tKlS/ft23f//n16Q2pxmHQHUA+1Wj1ixIizZ8+KxeIRI0Y4OjoqFIpHjx4dOHAgISFh5MiRBEHMmjVrzZo1O3bs+Prrrw1rOHToUEVFRXh4uKWlJVVy8+bNCRMm5OTkODk5jRgxwt7eXiKR3Lt3b8OGDRs2bLh582ZwcHBjxf/s2TM+n2/MliRJNtZO25r58+dPnDjRycnpZZ9ozDE/duzY3bt3d+3a1VgVtiA//fSTqalp//79bWxslErl3bt3v//++507d/7999+9evXSbrZkyZKpU6cePXp03LhxNEbbstT9RWt8u/GaXbx4cfjw4XK5vGfPnsOGDRMKhdnZ2devX79w4UKvXr1CQ0MnTZq0aNGiEydOFBcXW1hY6D2dJMmdO3dijGfPnk2VKJXKBQsWbNu2jclk9u3bd+TIkRwOJysrKzo6+siRI+PHjz906FAd8WzdujUnJ2f//v11bNPg9gG8lLfffnvt2rUff/zxiRMn6I6lRSGbt19++QVjHBwcXFFRoVsukUguXbpE/TszM5PJZFpZWSkUCsMaQkJCMMbnz5+nHj59+lQoFDKZzC+//FKtVutumZGRMXHixMuXLzfNSyFJkvzkk08wxtrItaZNm4YxTk9Pb7pd14uKrUlffrNi5DEfOHCgQCCoqqpqrApbELlcrleyfft2jHFoaKhuYVVVlUAgCAsLq7u21NRUjPGMGTMaOcom0LdvX4Igmq5+jHGT1t90PD09McZ79+7VK4+Pj8/MzKT+PXv2bIzxxo0bDZ9+/vx5jHFISIi2JCoqCmPcoUOHxMRE3S01Gs2vv/4aGRlZRzAajcbLy8vFxUWvHGPcv39/419Us9LU515j2bVrF8Z4z549uoXTpk1jMBjaMwEYo7knYW+//TbGePPmzXVvNmLECIzx77//rlf+9OlTjLGnp6e2ZODAgRjjlStX1laV4RcP5cyZM3pPvHjxItXLrXvORUREYIxTU1Ophxjjfv36Uf92cXHBBqg/Ud/faWlpP/74Y0BAAJfLtbGxmT17dnl5ed0vXJvV7d69OygoiMfjWVtbz5w5My8vT2/LxMTEKVOm2Nvbs9lse3v7qVOnJiUlGVZFJWElJSU8Hs/Dw8Nwj9ShjouLI//9Wp0+fXpqampkZKSFhQWXy+3cufOff/6p9yyZTPb5558HBATw+XyhUNi7d++DBw/qbqCtKjk5efz48ebm5qampmFhYfHx8SRJFhQUzJo1y9bWlqo/Ojq6tsgpx44dmzx5speXl0AgEAgEnTp1+vbbbzUaje6zjMmZ0tLSMMbh4eGGfzp37lxISAifzzc3Nx8zZszTp09rrPDmzZvjx4+3sbFhs9lOTk5z5szJycnRqyo2NjYsLMzExEQoFA4cOPDGjRuGr4g6kfLy8mbNmmVvb89gMHbv3m38LoqLi5ctW+br68vj8UQi0YABA/7+++86XnhtysrKMMa+vr565ZGRkQRB1H0wDZMwtVq9YMECjPH48eOlUilVeObMmaFDh1pYWHA4HA8PjyVLlpSVlenW4+Li4urqWlFRsXDhQhcXFxaLtXr1am15dXX14sWLnZycOByOp6fn+vXrDSOp94jRnoTpthukzsf80KFDXbp0oc66N954Izs7W++J9b7R5eXlX375Zf/+/R0cHNhstpWV1ahRo27cuFFjALrn2549ewoKCjDGYrG47ld3584djHG7du0M/xQZGambw127dg1jbGlpadheUWprjSmXL1/GGC9ZssQweN0krLZPU1FRUVRUlK2tLYfD8ff337Vrl+Eu6j0bL168GBUV5efnJxQKeTxeQEDAmjVrZDKZ7jbat2///v1du3YVCASurq61vSjDc+/ChQtCodDe3v7BgwdUSWZm5jvvvOPm5sbhcCwsLEaNGnX79m1j9tiIJ1KNSdjp06cxxp9++mltrw4Yau5J2KpVqzDG8+bNq3uz48ePY4wNr8UXLVqEMf7888+ph8+fP8cY8/n8epMbQxKJhMPh9OjRQ1uycuVKqjHVfh1qNBorKyt3d3ftNrrNwaZNm/r160d9D635F/Un6vs7PDxcJBJNmTJl8eLFHTt2NOxyMER9qEaPHs3j8WbMmLFixYrevXtjjN3d3QsLC7WbxcbGCoVCgiDGjh27cuXKcePGEQQhEol0P7p6TdXMmTMxxufOndPdXUZGBoPB6NKlC/WQ+lrt37+/tbV1jx49Pvjgg2nTpnG5XAaDoZsnyeXyvn37Uu3y0qVL33nnHRsbG4zxihUrtNtQVfXr18/S0rJPnz6LFy8eP348QRAWFhZPnz51c3Pr2LHjwoULp06dymazuVxuRkZGbZGTJOnr6+vv7z916tTly5fPmzfPx8cHYzxlyhTd12JMErZjx44arwEOHTpEEASfz9cec7FYTL1G3Qp37tzJYDBMTEwmTZr04Ycfjh07lsFg2Nvb6wZ/+fJlDofDZrPfeOONlStXjhw5ksvlDhs2zPBro3379q6uroGBgQsWLHj//ffPnDlj5C7S0tJcXV0xxn379v3ggw9mz55tb29PEMT27dvreO01onqm586dq1f+3XffYYx37txZx3P1kjCpVDpu3DiM8bvvvqvdZvXq1dS38vTp05cuXTp48GCMsb+/v25HuKurq729fadOnTw8PObMmbNkyRLqS93FxcXBwaFXr17u7u5z586dP3++g4MDxlj7KaMYc8SaQxJmmEZERERwudzIyMilS5f26dMHY+zn56ebphjzRt+4cYPNZoeFhc2dO3f58uWTJk0yMTFhsVjU6aQbgOH5JpfLmUwmi8XKzc2t+wUGBwdjjGNiYnQLi4qKqAG42hxl6tSpeu3AS/noo48wxsePH9crNyYJCwoK8vHxad++/YIFC+bMmSMWiw1TCmPOxiFDhri5uU2ePHnp0qULFiyg2u3+/fvr/sxCBUB9tCMiIqhGqbYXpXfu7du3j81mt2vXTnt+xsXFWVhYEAQxbNiwJUuWTJ8+nRr0/Ndff9W7x0Y8kWpMwsrKygiC6N27d22vDhhq7knYvXv32Gw2QRBTpkw5evRoWlpajZup1WoHBweCILRdUCRJyuVyKysrNpudn59Plezduxdj3OBTpHfv3kwmU5vAde/evWPHjpaWltpv9/v372OM33rrLe1T6m0OKFRC4OLiou1UU6lU1McjNja2jpCoCjkczv3797WFCxcuxBjPmjWLeqjRaHx9fQmCOHDggHab33//nerS0PYP6cVGXc5OmDDBcHc7duygHlJfqxjjtWvXarc5e/YsxnjYsGHaknXr1mGMhw8frm2YCgoKqA/59evX9apat26d9omffvopxlgkEr399tvaQioPWLhwYR1H9fnz57phazQa6gjfunVLW2hMEjZ9+nSMsV4/QWVlJXWPCNUdSKGOuW5vUEJCAovF8vLy0u1luXDhAoPBGDt2LPVQrVZ7enoSBKH7Ffjjjz9SVel9bWCMp02bptu4G7MLkiT79u3LYDB0+4nLysqoflPtR6MO27dv/+STTxYtWjRo0CAmkzlu3DjDa5ibN29SHZl11KObhBUXF/fq1YsgiC+//FK7AdW13KtXL936d+/erfd2Uz3KYWFhEolEt36qfPjw4drv+IKCAjMzMzMzM6VSSZUYf8SaYRImEokePXqkLZw0aRLGWLdH2Zg3ury8vLi4WHdfWVlZ9vb2fn5+egEYnm8kSU6YMAFj7OHh8dVXX926dau6urrG+Ldu3Wp4PmzcuFEv53Z3d8cYX7hwoY5DUQfqmtYwIzQmCcMYR0VFaVu/J0+eMJlM3d47I89GvaaG/LfjQPddoAIwMTHRbaVro3vuffHFFwRB9OnTp7S0lCpRKpUeHh48Hu/KlSvap+Tk5Dg4ONjZ2WkTqdr22IgnUo1JGEmSvr6+XC637i5MoKu5J2EkSR48eNDOzg7/y9zcfOzYsSdPntTbjDr1P/roI90nYozHjx+vLVm/fj3GeOLEiQ2LZM2aNRjjEydOkCRZUVHBYrGWLVsWHh7u4OBAbfD1119jjH/99VftU14qCdPrSKDO8i1bttQRElWhbtpHkmR5eblIJOLz+dQgOarPv1evXnrPpfrMtB9mw9i6du3KYrG0vxSoVCpHR0eRSKRteamvVTc3N71f+pydna2srLQPPT09GQxGQkKC7jbU+NyZM2fqVuXu7q5bVUZGBtWU6A7JUqvVLBZLt4/QmNFscXFx+L/95MYkYVQerDfEYd++fYZfMNQx103C3n//fYyx7uUpZcyYMUwmk3pFV69exRgPGDBAdwONRkN13el9bXC5XN3eTSN3QV0YRERE6G3zxx9/YIx/+OGHOl4+pXv37tpPX2Bg4OHDhw23ycrKwhj36dOnjnq0SVhaWpqvry+Hw9G9KqDCxhg/efJE74lBQUHW1tbahy4uLgRBPHz4UG8zqjwlJUW3kOprefz4MfXQmCNGNtckbNWqVbrbREdHY50f417ljX733Xf1zvMazzeSJEtLS6kuaup8IAiiffv2H330kV42X1FRIRAITExMdDuN2rVrRxAENcCAwuPxCILQaxmM5+zszGKxDMuNScJMTEwqKyt1n9WnTx+CILSNm5Fno6Hi4mLda2BtAB988IExL4o69zQazTvvvENdBusmNNS7uXTpUr1nbdq0SffErm2PjXgi1ZaEUQN+DHNTUJvmfnckQig8PHzs2LHR0dExMTH37t27du3aH3/88ccff0ydOnX37t3azd56661169bt2rVrzZo11O3f27dvRwhFRUU1ViShoaGrV6++cOHCyJEjL1++rFKpBgwY4OLicvjw4YSEBB8fH+riKTQ0tGH1d+7cWfeho6MjQqi0tLTeJ/bt21f3oVAoDAoKunLlytOnT9u3b3/37l0qeL1n9e/f/9q1a/fv3+/du3eN1c6bN2/GjBk///zz8uXLEUJ//fVXdnb2vHnz9O7bCgoKwv+91cvJyenWrVvUvysrK1NSUhwdHb29vXW3oeLRu59Zryo7OzuEkLe3t0Ag0BYSBGFtbZ2VlVX78UDFxcUbNmz466+/nj9/LpFItOXZ2dl1PMtQYWEhlffrFlLHs7Zjri25ceMGQujSpUvaQ0EpKChQq9WJiYnBwcH37t1DCIWEhOhugDHu0aNHYmKiXjCurq7aO3yN3wW1TVlZ2erVq/VeGkKotoldDPdSWloaFxe3cuXK8PDwzz77bMWKFbrbUPfBUZMU1O3Zs2c9evSQSqWnT5/Wmwrrxo0bLBaLuiLXLVcoFIWFhaWlpWKxmCrhcrmBgYGGlYtEInd3d90S6p447Yeo7iOWkJDQsWPHel8CXepuH4x/o2NiYjZv3nzjxo3CwkKFQqEtz87OpuqkGJ5vCCEzM7PDhw+np6efPXs2Li7u9u3bDx48iI+P37p165kzZ7QRmpqavvHGGz///PP+/fvnzp2LELp+/frTp0+7desWEBDwqgdC56WZmZk17LleXl4mJia6JU5OTiRJlpaWUu2bkWdjdXX15s2bjx07lpiYSCXx1GaGTY3eJBp1IEly3Lhxx48fX7BgwaZNm3T/RL3LaWlpeu9yUlISQujp06dDhw6td4+NdSLVSNsUuLm51b0loLSAJAwhxGQyw8LCwsLCEEIajebIkSMzZ87cu3fv2LFjR48eTW3j7OwcFhZ29uzZv/76a8SIEWlpaefPn3d1dR08eLC2Hnt7e/Ty38Ra3bt35/P5Fy9eRAhduHCBw+GEhIQ4OztTDz08PK5cudKuXTtra+uG1a/XoDCZTISQWq2u94k2NjZ6Jba2tgih8vJy7f+phEYXVVJWVlZbtZGRkYsWLdq+fTuVhP30008IoTlz5tQdNhW5doKf2vZORai3d5FIpFePYSFVrlQqawu7rKysS5cuaWlp3bp1mz59urm5OZPJLC0t3bx5s1wur+1ZNaIyQr1WmHpFtR1zreLiYoTQhg0baqy2qqqqjqoMSwzrN3IX1Dbnzp07d+6c4TbV1dWGz62RWCweOHBgly5dfH19165d+/bbb2tTIoQQ9XZjI+Y3SkxMLCkpCQoKMpwIpri4WK1Wr1mzpraXo91jbR+xGk9FpPMhqvuIGX80aFF3+2DkG33s2LEJEybw+fywsDAPDw+BQEDNtXv58mW9T4fh+abl4uKinWOCujA7efJkVFQUdVFBiYqK+vnnn3fs2EElYTt27EAIaZ9FsbOzS01NzcrK0rtCMxLGmGzopDDGnCr1no1KpTI0NPT27duBgYETJ060srKieubWrFlj2NTUcTwNXb16lclkjhgxQq+cepdrnLbD8ASubY+NciLVxvimAFBaRhKmiyCI8PDw+Pj4zz77LDo6WpuEIYRmz5599uzZ7du3jxgxYufOnQihWbNm6T6X6nK4c+dORUWFUCh82V0zmcyQkJBz587l5+dfuHChR48eXC7X29vb0dHx3LlzQUFBVVVVDe4GexX5+fl6JXl5eejf9IX6P1WiKzc3F9WU4mhxudzp06dv3Ljx7Nmz7dq1O336dPfu3WvsgahDg/feYDt27KCuFD/++GNt4Y0bNzZv3vyyVVlaWpIkWVJSotsVR8Vc2zHX3QxjXF5ernfBrYs6CQ2rMixBNbVrxuyCivbbb7+dP39+bdsYTyQSde/e/fjxhYTB7QAAIABJREFU44mJid26ddOWl5SUIISsrKzqrWHUqFHe3t4rVqwYMGDAuXPndHsZqVB1J1WuTYObeGOOWAtl5Bu9atUqLpd7584dHx8fbWF2drbhhPJGHmQHB4fffvvNzMzs4cOHZWVl2i/4bt26Ud3w9+7d8/T0PHjwoEgkeuONN3Sf27t379TU1AsXLjSs2bS0tMzJyWnAE41hzNl4/Pjx27dvz5gxg/q6oeTm5taWuhm5a4zxpUuXBgwYMGrUqCNHjuh2blFRnThxwjA/e5U96nrFFsP4pgBQWsCM+TWi2lC9y6BRo0bZ2NicPn06Kytr165dTCZz5syZuhu4uroOHDhQKpXWeClM0e2fNzRw4ECSJA8cOPD48eMBAwZQhaGhoZcuXaKuG7SFNWIwGMi4zq2XcunSJd2H5eXl9+/f5/F4fn5+CCHqFxbDhWWokrp/f6GmCNm2bdvOnTs1Go1hN1i9TE1NPTw8srKykpOTX3bvDUPtaPz48bqFDVu0hPptS++nz06dOqFajrluq0fdSFv3MlDUy7969apuoUajuX79ujHhGbOLHj16IIQacTUqqiNZ7xqGKtT7KbA2y5Yt++abb+7du9evXz/dXzB79OhRUlLy5MmTxgrVkDFHrIUy8o1OTk5u166dbgam0WiuXbv2Krtms9lsNhsZNMjUUJAdO3YcOHBAIpFMmjSJx+PpbkB1jP3000+1/ZBdd2tMDSFtojzMmLORamr05ihulPWRAgICLl++LBaLx44de/z4cd2oUKN+nA294i6ys7M5HI6Dg0OjBtWaNfck7Ndff6XmWdUtzMvLo8Z79enTR7ecwWDMmDFDpVJNnjw5Jydn2LBhhr+Cffvtt0Kh8PPPP9+4caNeMpSRkREZGUn9Il4b6oqNmnxINwkrLy/funUrg8Ho169fHU+nfi9PT0+v+1W/rF9++UV3cNXq1asrKiomTpzIYrEQQr169fLx8bl27dqRI0e02xw+fPjatWs+Pj56A5L0eHh4hIWF/fnnn9u2bROLxXoXskaiRt8vWbJE+xtlUVERdeejXpbcKKixCLpJ57179z7//PMGVEWdYLrL0iGERo8eLRaLDxw4EBcXpy2kjrnuZvPnz2exWAsXLqSGa2gpFApt1tWrVy8PD4/o6OgzZ85oN/jpp5+SkpKMuYo1ZhedOnXq3bv30aNHDSf9j4+Pp8Z51CgzM9OwQ27btm1UJwqV32tRh0hvnFwd3nvvva1btz5+/Lhv375UnyhCiFrKJioqSltCqa6u1hvC1WDGHLEWysg32s3NLTExUXuESZJcvXo1NZ9ivbuQSCTa5Yl0bdq0qbq6ul27drq/UCOE3nzzTR6Pd+DAga1bt6Kahuf27NkzKiqquLh4yJAhehdpGo3mwIEDb775Zh3xUDeC3L59u97IG6COs/HmzZvUvw2bmufPn3/44YeNEoCvr++VK1dsbGzCw8O1C9eOHj3aw8Njy5Ytp0+f1tv+xo0bUqn01ffb4BYDIVReXp6QkNCtWzcqKQfGaO4/R8bGxm7evNnW1jYkJMTV1RUhlJqaeurUKZlMNmbMGL3eDoRQVFTU+vXrqfZUb/wBxdfX9+zZsxMmTFi8ePHmzZtDQ0Pt7e2rq6sfPHgQExPDYDD0RhzrCQ4OFovFBQUFQqFQO+yRysYKCgq6dOlS96+coaGhBEEsX748Pj6earA++uijlzgctRg2bFivXr0iIiJsbW2vXbsWExPj5ub2xRdfaDfYs2dPWFhYZGTk6NGjfXx8EhIS/vjjD6FQuHfv3norf/vtt//+++/8/PwFCxZwOBwjQ9LNmxcvXnz69Onjx4936NBh6NChEonk0KFDRUVFS5cu7dmz58u+2HpNnTp1w4YN77//fnR0tKenZ1JS0qlTp8aPH//bb7+9bFUDBgzAGF+7du29997TFgoEgp9++ikyMrJ3796RkZHUMX/8+HGfPn10Lx99fHx+/vnnmTNn+vv7DxkyxMvLS6lUZmRkXL161cbGhrrCxhjv2LFjyJAho0aNGj9+vLu7+8OHD8+fPz906NDTp0/Xu7ygMbtACB04cCA0NHTWrFnffvtt165dzczMsrKyHj58+Pjx45s3b9b2w0FcXFx4eHjPnj09PDxsbGyKi4tv3rz56NEjc3Pzffv26W0cExNDEETd3cB65syZw+VyZ82a1adPn4sXLzo5OYWGhn7xxRfLly/38vKi1qysqqpKT0+/cuVK7969//rrL+Mrr42RRww1/QpUJElOnz5drxBjvHXrVi6X27A6jXmjFy5cOHfu3ODg4HHjxrFYrJiYmKdPn44cOZJairduCoXik08+Wbt2bdeuXTt06CAWi0tKSmJiYh49emRiYvLjjz/qbS8SicLDw/fu3fvw4cPOnTsHBQUZ1rllyxYGg/Hjjz/6+fn169evffv2HA4nOzv74sWL2dnZ4eHhdcQTFhb26aefXrt2TXdQSmMx5mwcOXKkp6fnxo0b4+Pjg4KCMjIyTp06NWLEiAY0Nbq0556Hh8fVq1dDQ0MnT54sl8unTJnCZDKPHj06ePDg4cOH9+zZs0OHDnw+PzMz8/bt26mpqXl5eXp9jQ3TsBYD/Tuonxq9DYz1+m7EbJDMzMwtW7aMHTuWWtuVmu19+PDh+/fvr+0pYWFhBEE4OzvrzZugq6qq6ptvvqFmGWWxWGZmZp07d16xYkVt85Dpou7QHjFihG6hj48PQRDLli3T2xgbLKCxb98+asIV3dvUp0+fbjjhOHXnsN5Uk3q0d1/XO2N+QkLClClT7OzsWCyWvb39lClT9NYJoRYXN5zoQa1WW1paEgRheLd2bQvR9OvXT+8OfJlMtm7duoCAAB6PR82Y/9tvvxlTleEBJEnS1dXVzc2tjsifPHkyatQoa2trgUDQuXPnnTt3UnPf69Zf4zE3NGjQIIFAoHc3O2kwY35CQkKNFcbHx0+fPt3FxYWa2zowMHDu3Ll6M/7funUrLCzM1NSUWiTg5s2b1N3p2gmyazsOxu+isrJy3bp1nTp1MjEx4fF47u7uI0aM2L59e23zPJEkmZGRsXjx4m7dutnY2LBYLKFQ2LFjxxUrVhQUFOhtSS1bNGjQoNqPIknW8hb/+uuvLBbLzc1NO8PftWvXIiIiqKUdrK2tg4ODFy1apDslm967X3d5jWd1vUfM8ARuXNRnH+ugHhIEQc1Kpfd21/gqajyexrzRVFshEAisrKzGjRv36NEjw/prPN80Gs2ZM2cWLVrUrVs3e3t76qzo0KHDwoULa/scxcTEUK+r7pmBb926NWvWLG9vbxMTEw6H4+zsPG7cuEOHDtVzHEnSx8en3mWLjHx1NX5+6z0bMzMzJ0+e7ODgQE2Xv2HDBpVKZczbVxvDcy87O9vX15fJZGonaCwoKFi2bBm1AImJiYm3t3d4ePj+/ftVKlXde2zEE2n37t0EQRguW8RkMrOysox5pYDS3JMwULfXsOBjcnJyvVNAtWLU7DjaRRFej549e7JYLL3JSJstag7ko0eP0h0IaHOo+bEMV+MFr191dbWpqemoUaPoDqSFae5jwgDtvvrqK4RQo9xb1xKNHj26c+fOX331Fdk0v09JpVK9eTp2795948aNQYMGNcovC02NJMkNGzZ06tRp7NixdMcC2pw5c+Y4OjquX7+e7kAA+uGHH6qrq9euXUt3IC1Mcx8TBuiSmZm5f//+pKQk6seLugdntG5fffVV//79Dx8+3BQHIT09PTg4eNCgQR4eHiqV6t69ezExMWKx+Ouvv270fTWFI0eOPH78+MKFC3QHAtoiLpf72WefzZgx4/bt2126dKE7nLZLIpF89dVXU6ZM6dChA92xtDANn+wONAdr1qxZu3ZtdHS03o2ir+7SpUuhoaECgSAkJGTr1q3UXRGg0ZWVlS1ZsuTy5ct5eXlyudzOzm7gwIErV66E+aYBAKDVgyQMAAAAAIAGMCYMAAAAAIAGkIQBAAAAANAAkjAAAAAAABpAEgYAAAAAQANIwgAAAAAAaABJGAAAAAAADSAJAwAAAACgASRhAAAAAAA0gCQMAAAAAIAGkIQBAAAAANAAFvAGrYdUKj169Ghqaqqfn9+oUaNYLBbdEQEAXrcHDx6cOXOGzWaPHTsWFr0FzRysHQlaiYcPHw4ZNCg3P99SwCuqlnq6u/19/gIsgw1A26HRaObMnr1j504TDkulIRVqzRdffLFkyRK64wKgVpCENYm84I50h9C2aEgy5NlTE1P23hFB7mb8+MKKN0/et9YQxz296Q4NINt7d+kOgR7QDrxmvxQVLc3K/Ca03RR/B4VGs/5myua4tD88vbqZmNAdGmi77UDdYEwYaA1uVVelyuVfh/q5m/ERQoFWwrW9vWOrqpNlMrpDAwC8Jr+VFg9zs5rZ3onFIAQs5poQbw8R/7eSYrrjAqBWkISB1qBIpUIIeYoF2hIvsQAhVKxS0RYTAOD1KlKpPM1fNAIYYw8xvwgaAdCMQRIGWoMOPD5G6I+kPG3JsaQ8LoF9uFwaowIAvE7BPP6p5AK5SkM9LJTIr2WVBPP59EYFQB3g7kjQGjhzOBPMzZddepZRIetqZxadUbTjQeY71tZmTDjDAWgr5lnbjEpOHHE4NirIuVqp/v5OGh8TUyws6Y4LgFrBwPwmAQNyXz+FRrM+L/eX4uJKtdqCyYyytHrXxobAmO64QNsdkAvtwOt3o6pybU7OfYkEIdRPaLrW3tELusObhzbbDtQNkrAmAY0vXRQaTblaLWYymZB+NRtttvGFdoAuJSoVC2NTBoPuQMALbbYdqBv8WANaFTZBWBEw0hGANs0cxiGAFgK+rgAAAAAAaABJGAAAAAAADSAJAwAAAACgASRhAAAAAAA0gCQMAAAAAIAGkIQBAAAAANAAkjAAAAAAABpAEgYAAAAAQANIwgAAAAAAaABJGAAAAAAADWBtB6CvSKncX1wcL5XasVgTLSza8Xh0RwQAeK1IkrxYWXGirEyu0fQzFY4Ri7mwGhgATQA+V+A/nkml/RKebS7MrxISpyQVAxOe/VZcTHdQAIDXhyTJhZkZbz5//gjJ87jkB5kZ41KSqtRquuMCoBWCnjDwH8uyM62FnJMTuljxOUq15r0Lj5c9yxwkErWsBXFJkrxeVXVPIjFnMkeYmQkZDLojAqDFOF9R8XtJyQ+DAib52WOM4/LKRxyO3VpQsMTOju7QXk6hUnmqvKxarellahLEF9AdDgA1gJ4w8EKeUnmrqnpxNw8rPgchxGIQa0N8FBry7/JyukN7CZVq9biU5Akpyd8VFyzJyuj05FF0RQXdQQHQYhwvKw2wMJnczgFjjBDqZCua4GN3oryU7rhezsGS4s5PHq/Kzt5UmD80MXF2WqqSJOkOCgB9kISBF+QaDULIlP2i00vAZhAYy0gNfUG9tLU52U8UsiNjOmW8HfpkVt8ejuZR6allKhXdcQHQMsg1pJDzn55vIYcpa1EZTLJMtjAjY4KfXfKc/hnzBmwfEnimovyHgny64wJAHyRh4AUnNtuNw9nxIEOt+afB3RWfqSbJvqZCegMznkyjOVJauqCT60BXS4yxnQl3y6AAmUZzsqyM7tAAaBn6Ck1v5JTdL/in/7hYqjj0NLefiSm9Ub2UQyUlZhzWplB/MZfFIHCEr/1EP/sDJTC8lTYzZ31LdwjNVEsa6AOaGoHxKnv7t1JT+x24MdTD+lFh5annBTMsLd04HLpDM1a1RiPVaLzMX4z/sOazzTisQpWSxqgAaEHGi81/KS4adjA2ws9OyGYefJqrUmnetbahO66XUKhSugh5HOaLXgYvc8FhZS6NIbVZkH7VDZIw8B9DRWaHPT2/LyjYdTfDlsX80tFpsoUF3UG9BDGD4cxhn0jKH+NlS5XEZJcWy5QwLBcAI/EI4pCH15b8/BOJhQpS099EuMDFxrnlXIkhhIL4gt+zM1PLJG5mfISQhiRPJuV34PPpjqttgfTLGJCEAX09TEx7tKifHnQRGL9vbftBYgbGaJy3XUpZ9TexqUF8fj/TlvqKAHj9hAzGcnv75fb2dAfSQOPE4u8L80ccvr2wi5sVn733UdbtvPJfPTzojqsNgQzMSJCEgdZmooWFBpGbUvMPJ+SxMR5lZrbWwZHAmO64AACviQmDcdTDa2VW5uLopyRC3lzuz25uLWhsa4sG6ddLgSQMtEKTLSzfMLcoVKmEBMGHScIAaHsc2ew97h4VarVMo7FiMjFchr0WkIG9LEjCQOvEwNiWxaI7CgAAnYQMBszV/HpA+tUwMEUFAAAAABoOMrAGg54wAAAAADQEpF+vCHrCAAAAAPDSIAN7ddAT1tZpSPKBRCIlNUE8fuOOYX8ul2UrlF5cLozNAqCZy1Mqk2QyexbLg8ttxGolavUDqYSDiQ58PgOGxrcikH41FkjC2rSbVVXvZ6anyxUIISGDsdTWbpaV1atXW6hUzs9Iv1JZiRAiEJpgbv6FoxOPgG5XAJodmUazLCvzcGmJmkQIoRBT0y3OLtaNceG0q7Dwi7zcCrUaIeTMYW9ycm65ExACXZCBNSJIwtquHIXizdSUDjbCrT07mHFZOx5kfhSfactiDTcze5VqSZKckZaaTSp/Hto+2EZ0Pq3o46sJbIw3ODk3VuQAgMbycXbW8fKydX18B7lZPSioWH7p2fS056c8vV9xTofT5WUrsrOmBzrO7uBcLlf973rSm8+fX/b1c2SzGyty8PpB+tXoIAlru/YXFxME/n10JyGHiRDaGOqXUlq9rbDgFZOwOIkkrrr66JhOA1wtEUKzg5ylKvVnMUnL7ezNmXC+AdCMlKpUv5eUrOjpOTfYBSHkbsY34zDHHIuLra7uZmLyKjVvKywMcRBvCm1HJXO/je7ot/3SvuKiZXYtdRZ+ABlYU4AvxbYrRS7rYC2kMjCEEMa4j7P5D/lpr14tQqi3k7m2pI+TuYIkMxUKSMIAaFaylQoFSfZxerE+LPXJTZHLXzEJS5HLZjvZarvTTNnMjjai51XyV6kT0AXSr6YDw3SaSrpcvjQzI+TZk8GJz7YVFMg1Groj0ufC4cQXVlYrVdqSm9llzq/8Y4ELm4MQuplT+qLanDImxo5sGJ4P2hYNSe4vLhqZlNjz2ZP56WlPpFK6I9Jnx2IzMdb7tCKEXDmv2g64sjm61UqU6gcFFS7wW2QLBBlYk4IkrEkky2RDkxLOSSsH+tp4Ooo+y82ZkfZcTZJ0x/Ufb1pYyFXqKSfvPyioSK+Qfnw14Vx60VuWrzowv5tAEMjnzTv76MzzgoJq+f4n2f+7njTGzMyCCUkYaFuWZGYuzsy0suYPb2cbp5YNT0qIraqiO6j/sGAyx4vF664n73ucXVAt/zu18O2z8f48Xg/BK3WDIYRmWVpdzCj+6EpCWrnkYWHF1D/vS1XqNy0sGyVs8HrMnPUtZGBNDZPNLDNoHcaIxffV8suTe4i5LITQ+bSi8X/E7XZzHywS0R3af1yqqHgvM6NAqUQIcQn8vo3tAmubV19kLVuhmJ2eerdaQj0cJhJ96+wigMVD2irbe3fpDoEG9+7d69ix46YB7WYEOiGEZCr10IOxjGr1CS9vukP7D4lavSAz41RZGfUwiM/f7urWKMPnv8vP/yY/T6rRIISsWMzNTi79hbCEdovR6OnXX/NDGrfC1gHG6DSJi5WVC7q6URkYQmigq6WPWHChory5JWH9hMI77fxvVlXJNJrOAoG4kcZsObDZf3p6P5JKs5UKby7XndOYMw8B0CKcPn3alMWY4u9APeQyGVFBzm///ahcrRIxmlHDy2cwdri6pcrlz2RSBxY7kMdrrLWu37WxmWJhcbu6mksQ3QQCNkxS00JA79fr1IzagtaEhbFUpdY+JElSqlKzOc2xDWJh3Nu08SfvwRgH8vmBiN/oNQPQIrBYLDVJKjUk89/PvUylwQgxUXOcs9SNw3HjcBq9WjMmM6yZXXmCukEG9po1x7SgFRguEu2Jz0ot++f3uN3xWRmVsuFm0BgB0FaMGzdOqtJ8FfucGvJRKJF/H5fWXyiE3+VB8wQjwGgBPWFNYomt3bXkqq57r/VxMi+UKB4UVk6xsOj+ymNdAQAthYeHx4e2dl/EPj+RmOcuFlzNLOFhvMbDhe64AKgBpF90gSSsSVixWGe8fQ4UF10rrXIlGAvd3AcJhY010gIA0CK8Z2vbxUTwW3FJcbH8bUurqRaWVrCOKmhmIP2iFyRhTUXIYMy1tplrbUN3IK+bQqNRkWTjrgUOQAvV08S0Z9tbMJEkySqNhk8QsGh3MwcZGO0gCQONJk+pXJud/Wd5mZIkgwX85bb2TTHkHwDQbJEkub+k+PuC/HS5QshgTDa3WGpnx4X7IpsfSL+aCUjCQOOQqNXjU5IkBLmql5cFj/3Lo6xJz1MOe3i+4uInAIAWZGdR4ars7PHetqvcrR8VVf54Lz1NIf/ZzZ3uuMALkH41K5CEgcZxpLQ0TS6PnRLiZS5ACL3hZ9fvwM1NBXm/mnjSHRoA4HVQaDSbCvKnBTh+O9AfIRSO7PwtTaLOxD+WSv15PLqjAwhBBtb8QC8xaBx3JNVBVkIqA0MIMQlivI9t3L+T5gMAWr10haJYqZrgY6stGedtS2AUV11NY1SAAjNQNE+QhIHGIWYwsytlSvWLdcrTyqViJgzPB6CtMGMwEELpFS/WKc+skGlIBO0A7SD9arYgCQONI8LcPF+q+OhqQrVSRZLkyeT8A0+yI8XmdMcFAHhNrFisAULh59eTHxZWIITyq+XvnX9szmQOFMI81bSBDrBmDsaEgcbRjsf7zMHx4/sZvzzK5jOJQplyoFD4TiPN0KHQaM5VVGQq5N5cXl9TU7jvHYDm6UtHpzeep/Tef8NRwMmTKLgE3u3qzmukuyOTZLJLlRUcTAwWiWxgxjUjQPrV/EESBhrNLCurMKHwRFlZtUbd29G0h8CkUeanfSaVvpmakq1QmjAZVSq1L497wM3Djs1+9ZoBAI3Lns0+7+1zprz8sUxqJ2aNMRObMRvhW0ZDkiuzs3YXFXEIQkWSK7Oz1to7zLCyevWaWytIv1oKSMJAXaQaTbxEwiEIfy73iUwm1WgC+Xx+7de1zhzOfJv6e79IknwklVZrNO15vEKVKkepcOdwDS9tSZKMl0pmpqWamXKODOvqZ2ESm1s249T99zIzDnoYe9OlQqN5IJUwEG7P5zOhCw2Al5cikxWolN5croZEyXKZLYtdx2rfbIIYJRaPQuJ6qy1WKRNlMmsmy57NfiiRcAkikMcjDD6kxSrlD/n5u4uK1vf1nRHoJFWrP7uetOJBZrCAH8QXGPkS0uXy2tqZ1gcysBYEkjBQq33FRetyc0pVaoQQlyBkGg1CSMRkLLGxm/UK16D3JdXvZWQkymQIITaBFRoSIcTAaILY/HNHJ+0vFw8lkncz0xOlMoTQrgHBfhYmCKGudmZrevvMOv0wQy53rv1rQOtYacnHOdlFShVCyIHNXu/oOACGpwBgtByFYn5G+o2qKvTvCGLq1ps+pqbfOrs0OKFRkuTH2Vn7i4uVJIl02gFXDmejk1OPf9cYUJHk6uzsX4qL1AgNcbOaG+yCEOIwifV9/c6kFO4vLjYmCStWKRdkZFysqEA1tTOtDKRfLU7rPBHBS1GSpFSj0Ss8X16+JDNzmLfNsbGdBCxGgLXpifGdr07uMc7P7qPsrD/LShu2r2KVcuLzFBMh+9jYTkHWQlM286fBgXemhqzr43uivOyjrCxqsxKV6o3nyXwT9ged3RBCvhYvZnz1MRcghApUqnr3dauq6p309BBXi+g3up+N6OpnZzozNfWZVFrvEwFoa0iSrFarNSSpW6ghySmpzzORcvewDpG+dgwCr+3tc3tqr5+Htk9SK6alPif/u73x1uXk7C8pXtnT85tQP4RQuK/dlUk9Tk3o4mDBf/P58yyFgtpsfW7OnuKi5T09rfnsdpYvGgEGgX0sBIXK+hsBkiRnpaXFK2S67cyqf9uZVgYysJYIkrA2LUehmJuW6vHwgfvDB6OTEm9WVWn/tK2osLud2ZawgLi8coTQ4TGd+jpZtLcSfhParp+T+bbCwobt8bfiEhlJHhrTyYzDul9QsWVQQKSfvZe5YG6wy8qeXodKS4pVKoTQoZKSao3m0JiOk9o5IIROJhdoa/gzpYBLYC9u/d1g24sK/cwFu4Z16Ggr6m4vPjCyoyWfvauoqGGRA9AqkSS5t6io+7MnnvEPAx7Hf56To/j3kuxKZeUTqXTnsA6hLhbHk/I/7ObxbidXb3OT8T52W4cEPpBIbjVoAjCJWr23uOj9zm4Lu7gfS8zvbm+2JSygg7UwxNH89zEdWUzil+IihJBUo9ldXPRuJ9cPurh3thWdfl6onQGnSKK4nl3anl//BLAPpJJbVVXfD/LXtjMrenoe/LedaTXgFsiWC5KwtqtSrR6XkhSrkK7q5fXtQH+1CSMyJfnev61qslzW19kCY5xYWt3BWijm/vO7A8a4n7NFklzWsJ2myGX+FiaWfHZSaTVCqK+ThfZPfZ3NlSSZIZdTe29nYWIt4HiZC8Z42SyOfrL+ZsqFtKKPriRsuJUyw8JKxKj/l/Rkuay3s4V2iAmHSXR3ECc3NHIAWqVthQUfZmV2czXfPiRwcnvHH4sKFmZmUH9KlsvYBO5mZ5ZVKZOpNX2ddT6tTuYIoSRZQz5NuUqlRPNPbUml1X2dLLR38JiymZ1sRVS1+Upl1b87fa+zW1Jp9bg/4k4k5//6JHv4oVgeIt60sKx3X8kyOUKoj04708/ZQtvOtA6QfrVokIS1XQdLSrIVytMRXd/r7DYtwPFMRDcPMX9zQT71Vxc2+1ZOKULIVcR7XFRZpXhx4Xgrp8yloTcnOrM5z0qqy+VKFxEPIRSbW6b9U2xOGYGQA5tNbZZYWl0qUyKEfhwc+Ka/w4YjwMAjAAAgAElEQVTYlHF/xO19mPmete1Ke3tj9uXCYt/KLtP+YqLSaO7kNjxyAFofqUazuSD/rfZOO4Z2iPC1/18f369D2x0tLaXSIBc2R6EhHxRW2ptwWQS+laPzac0tQwi5cBryabJmsbgEjs0pQwi5iHi3dBoBqUr9oKDChc1BCFkxmTyCuJ1bhhDqYmd2cFTHrErZlD/vz/37kbkSH/HwtDZiRJozm43+287c0mlnWjroAGsFIAlru+5UV3exFbmZ8amHbAYxxts2TvJPT9hMC6tLmSWrriYMdLGUqTRT/rwfX1iRXSlbG5N0OrVwpmUDB+ZHmpuTGnLKyftcBtHOwuSdc4/OpRWWSBWHnuWuiUkaaWZGNawR5uaYRFP+vH+/oKJMprTicZQacqmt7YN2AUvs7IycJ2yGpdX9wooPLj5NLZcklVTPORufVSmb1tDIAWh9nsvlZSp1hK+dtoT6953qaoRQf6HQjcN5668HDwsrRnvZfH4zef+T7GKpIjq96O2z8d48bsi/I+hfiimDESG2+Co2Ze+jrEl+9pcyilddTciskD4pqpxx6kGlXPWmhQVCSMBgvGFuvjH2+e74zCKJgsXATIQc2Kx7/gFHPL18jFuMsotAEMjnzf/7n3bm4LOctTFJo8RiYxK4Zg7Sr9YBN3hkJahDXnBHukOo34qszHPSyoez+jKIf3Kat8/Gx6YWX/VtRz38Lj9/Y36uTEMihFgY/3MfE8bv2tgssrHV/oKg0GhOlZdFV1RyCDzCzKyPiWnd04Ndq6ycn5Ger1QihJgYq/49A8NEwi3OrqaMf1Y4uV5VGZWWWqJSI4QYCEVZWX1s71ChUR8sKXkgkVgwmZHmFu3qa4h3FxV+mpMj+fe+znUOjuNgEv/XzvbeXbpDoEfzbweyFIouTx5vHxIY4ftP73JCSVXXvTG73NyGiMwQQiky2Vvpqc+kMoQQ8e+tkQihAD5vh4ubi84dykky2W8lxXlKpT+PF2luYVHn9GBSjWZhRvrxsn86qBgYqUmEELJgMjc6OQ8SibSbvZuedqq8nHroymH/4ubhweHcqq4+Vloq0ahDTE1Hm4m5dd7qmK1QvJWWel/yzzq2eu1MS9RC06+/5ofQHUJzBElYk2j+jS9C6L6kemhi4nudXJf38OQyiBPJ+bNOP1xiY/euzkRfpSrVreoqDiY68/lxEomU1HQVCCyYLy4iJRrNpOcpt6qqOliZVivUyeWSyeYWG5yc6s7DlCR5o6qySq3pwufnqFRZCoU3l+vF5epu80Vuzub8fCdTrjWffTe/wo/H2+ToNCM9rUCl7GQjSi2TFEgV6x2dpljWMy6kUq2+XlXFQKinqWkdM5yBpgNJWHMWnpKciVS/j+noZ2GSXy2f+deDhILK237+nH8/LCRJxkkk+UplOx5PQ5LPZDI7FiuYz9f9jB8rLXk3I13MYXmbC+LyKkwZxBEPT29uPddIqXL5E6nUhsVyZ7NjJdUcTPQ0MeHofEiTZbIJKcmlalVHG1FyaXWJTLnJ2eWpVLq1sMBVyLPgsuIKKtrzeQc9POseJEqS5EOptMZ2psVpoRkYgiSsFpCENYmmaHyfSaXXqip5BDFEZFb3Vabxthbkf5qTY8Ji8JiMAqlisEj0k4sru85MpVyl2piflyFXdBbw51hZf19QsLnw/+ydZ3wUVRfGz8z2XrIl2fROEgKEAKEjTQSko4KgNMWOWFAUX8ECNlSsWEBAEZGOFJUmHULo6b1tki3Zmu27M/N+WAgBQrKkB+b/8wM7mbl7J2bPPnPuuedR75zcq3+giCCIXzMrFhzK/DU8YqSgWe24vALx3f7Rr/QORxEkQ1szZus5PoEgTMq+R/qE8FluDH/jaM6vGcq0+AR/31YWTJjnb6PJjGN9OdxubHZzpkdyV5AirKWwYdg/ZlO129ONzU7hcFrEkaLc5Xy0sLDE6QzmMqusTjaKbgiP6MvlNnzVP0bjVoOejaIL5HIplZaclTk2WvbdyEQGFVVZnRO2pQncsCsqpplze6QwX4Xiex7preAyXRj+8qHMbTlVLoL4YFDMSz3DEAS5pDaN25Y2Q+i3NDDQlwEJgki1Wq/abBIa9SGBsHM9lXVe+eWFFGH1QoqwVqFlgy9GEK+Vl/2p1zNQ1E3gNAT5LCjkEXHLLKsVOR17jEYHjg/m8fo2ZjS0U69/WVnmxgkGBXViOJeC+lGpAyIkq0clek8gCGLgxtOxOO3b0LDmzGpZRcVfVlPmUzeWSpeezPvmQslnQ7vM6xbiPWJyuqN+/O/dgEBfOsfuNxpfKiu14zgdRZ04PlYo/D4ktGG5SdJSkCKsRThrscwrKdZ7PCwKasfw/lzu+vCIFllWc+L4fpMx2+4IpNMmNGY05MLxYbk5hU4nFUUwnEAA+nA4Z63WvKcfkHOurU5uy62a9/fVC/EJimbUv2vd7m6ZGasf7OrtUwMA1TZX1E//iRjUwmeH1e56XnwsZ2dm5aX4ro0OaMawOcVFpy0W7y9QTKWuDQtvVG52EDq7AgNShN0BsmN+J2CtVrvVoF81PH5GfGCNy/PO8dyF2aU92OwWyatHMJgvy/19OdOG4wuVZXF+3LWju0WLOCcrDLP2Xq50umu7VwAAgiAiFt1Wg/k+gXKXs8LljmQwpHUSWnYcFzCotQoMAIQMKgGEiHHjHC6NyqCgttvazN5Ohcv1XGnJQ5HSlUPj/Vi0HXmqFw5kfKVWLwoIaPRaL2YMy7LbxVRKoyssJCStgQXD5pQUJfoLvh2ZEMJnHSypfurvq0srlF+EhDZ/cAaKThKJJzXuMwQA8FxpSZHT+eWw+JkJgRaX538n8jZmVSAAAsaNbxPv5/T2FtB3woHj6XYbA0G71rEtchA4ANQNLzw6lYoiTCqlrrWRiEHz8Y2WVSgzXI6tE3qODJOUmu0vHMiYW1KUFpfA8U3IEgSR7XDUYFhXFsvHS1qEe0B+kTQAmQnoBGzU66bGBMxJDKZTUD8W/asRCWImbbNe18bT+F6tduHEdw92jRFzEQQZFCReOjDGTRBbciq9vSQAIKu65lSFfjDPpz1TOo/niaLCPllZkwrye2ZlvlpW6rgeTAfzeDkG60ml3vvS5sb+yKrkopR16UoMv5a73ZJTWePGfHmvbQY9nYJ+/2CinMOgouijXRSzEoN+9+0XSBDEp1VVSZkZkwryh+TkjMnPLWxSbyQSkuaw32Q0ebAfRnUNE7BRBBkVLn2ld/gOo8GXh5CW5ailZlKM/9xuwXQKKmbRVw2P92PRCID16dfa0OMEsTa9PJhBD/PBWAwANul0yVmZ4/PzR+XlDsrNrm0ZHUijRzAZ666W1/bx35ildONEpdWZdr3lhMXl2ZxdMciHTZo2DNthNLzaO/zBcCmCIGEC9upRiUYPtv961X/DZNhtI/Jyh+fmTCzIT8rK/F6jboNFJLIDxf0AmQnrBGg87rg6lh10ChopZKud7jaeRrnLBQBx4hsz8fo52l3YwI2npsUHWt3Y75kVMUzmoz7sQCQI4qmS4gKP84cHu/b0FxwurX7vZD4KyMqQEAAYJRCkcLlTd16YFq+Qcxhbs6uqahxLAhTvViiH/nFmfLQ8X2/dmls1USTq7kN1l8btDuIxefQbf+3xfrw17nKCIBqtqvlJq/1SrXq1d/gjsQElJvu7J3KnFRUe7xJ3r3rPkXRM1G4Pj04N5N5Ifsf5cZ04YcawNi5schNEfB0bMRoFjRZxHE7z4mM5ZysNiVL+P0WaNJVpdWiYL61kDplMr5WXPR6vmN89pMbl+ehMwYyiwmNd4oLodBRBlvgrniopHrH57NhIeZauZkee6jGRuMDlnLD9/PR4hR+LviW7Umt1ro1qPB1oxDAnTsTVmXkwj8mlUbzbtBu51uOZVlioELK2j0qWc+gbMys+uFzm3aDd6LVNhpRf9wmkCOsEJLJY+wo0C3uFe5PwFTWOixrzGH+fGpa2IA/weFsM+r2Fmkkx15Yv9xVqKAhsDo/coNOtv1RGR5BpAtFCuT/bh1z9Vbv9rMWyeXzS6AgZAMSKuR6ceP9k/lsKhR+VSkWQTeER32jUO/I0Fgzvz+X+GB2SwGLFs1hfaVTfniuWUGlLAhRPS2W+zDyRxV5XXp2nt8SIuQBAEMSeAnUim9WoAsMJ4sdqzZMJgUsHxABAvIQXLeL0+vXkPqNxagvV5JGQ+EI3Nstc5TlZYRgUdO0Pb2+Bxp9Ok7bQHh3f4aOUPQXqV3tHeKsFqiyO8yrTAxzuUL7gN2X1f8XVCSzW7xGRQ/l8X0b7sVqb4i/4fmRX74cxSS6IX3PsN131WwEKABgjFG6OjPxOo/n6XJGcRlumCJwrkdpx/Bu1emeu2objAzjcV6JCu/jQM0xGo8lptL2FmocirgWN40p9jRvzxftom0FvxrFTE3sGcJkA8MkD/HKzY3WVppVEGCm/7itIEdYJeEkmn1ZY+Njui3MSg/UO9xfnivyo1EfbXARMEouXVlY8fyC9xGTrLuMfKKn+4VJpCoeTzOUm331xq7cl95Cb7UT+R+SVOZ3evZ9sCuXNAMWbATdpzb5cbl9u1N2+13iR6CuNetKOC6+nRCi4zN8zK46U6daGhTd6oRXHq1zuum4t0WJOEIfRZNcmEpKmMYjLS+Kwn9xzeVHfiBgR968C9casig8Dg3xsXNyCvCSTvVdZ+ejui/O6BRuc7s9SCxGA9wKDIpjMuT5skbmFAqdjVnxIXduiXv6CfNONz9dgHn8w7yY9x6VQ3lIo3vLNNqMWKoK8KJP9L7MCRZAJUfJcg+Wzs0U9OWxf+s3mO5yxIk5AnTTksFC/f4o1DVzSZEgFdr9BirBOwGAef01Y+HJV5fSSSwAwmMdbERHa8A4mO46vr9buNhqdBD6Ey39WJvOxj0PDHIqJnVxY8P7pfJwAKoIM4HL/iIis98x/TMYN1dUVHncXBvMZqSyZw7nlhGA6HQDSVMZaHZZWZUQBmCi6vLLicE0NDYExAuFTEimHQjlkMv2i0ypd7mgGY75UlnKXmo+Nolsjo96uKH/lcBYBEMygfxMSOkYobPRCDor6UalpVcapsddK+MvN9kqbM1TsU7ELCUlLgSLIxvDIdyqU/zue5yEIKY36fmDg3Maa5J23Wn/SanKcjkAqbZZE4u2/2kyekcl1Hs/P5dWHSqsBQEylrA8Nj6hvk5DK7f5BozlmMTMQdIJQOFsivX0RP5hGP1fHDcnhwa5qzFN5ov1G46+66kqPO47BfEYq68nhaNzuHzSa/yxmOoKOEwjnSqV3uw47TyLFAb7NVW3IUFIRZJxQ+GFgEOqDig2h07dq9AbHjU1IqZXGEHoLBwFSft2fkC0qWoXW6BOGE0Sl281Ckbq9UuvFTRDTCgvSbNaHI2UCBm13vopJIHuiYlrKLk3lcpU4nfEsFv8OQvAbtXpFVWXfAGGSv+BISXWB0fpzWPjom78ACIIYlZ9rohBfDk9I9hccLq1+5XBWfyY7y+kw4NjEGH+HB/srX5PAYo7mC5dXVfbxFyQHCI+VVuforatDw8aLfNvKdTN6j8eKYwoa3ff8wUpV1Vdq9YeDYx+JDSgx2d44ml2is52Ni+d25o7bbQzZoqIFMWEekwcLoNNpjf0N/20yPl1SHC3kDA2TXFKZzlYZ3w5Q1G3F3Bw8OH7ZbuOhlDvZB1W4XA8X5DkRYkK0v8np3luo6cPh/BERdcu0dxsMz5aWvJwc9kyP0BqX5/1TeQeLq2f5SX6u1vZXCLvLBYeLtYUm2+fBIStVqhrAJ8b4W1yePQXqJDb7z4goxt3Xw7kJosrlElKpfJ8/wlq3u39OVg9/wYohXfw5jI2ZFe+fzv8gMPAp38ohfOF+UGBki4p6IUVYq9C+nbK36/UvlpXum9p7YJAYAFRW58DfTo/m8D8JDm7ymGctll0Gg53AB3F544TCO8W+VIvlD51ui0E/Mkyy8eEkBhX14PiMPZczK01nusTXSp9zFstOo0Hrdl+12731/gAwnM8PpzO2mg0nZ/YP4bMA4KLKNPzPsyjA0z1CPxociyAIhhOz9l1OKzeci0to4EuoBsO26vWXbFYxlTpN7Bfnm81cvXgI4i1l+SadzrsJLYRB/yk03JfdACS1kCKs7cEIom92VtdAwaZxSd7irXdP5K6+WHohPkHS1KS4zuP5U6/LstsVNPo0P3EEo/4WOXqP50+97rfqajXu2TG5Vz+FCABOKPUPb0v7PjR00vVdOwaP50+9LsNuV7pcF21WNwEAIKZS/xcQsEipXNArzFuI6cHxabsvnaswoChy6okBgTwmAKRWGh7ccm5VSEjDVVneOGPF8AE8bqPuRg1zxlLzfFmpynXNbG2eRPquQuFLFq1R7gf55YUUYfVC7vC6BzlSY06W8wdeL+D15zCmxSsO15ibNhpBEO9VVEwqyD/qsuRRPC+VlU4syK/B6ukE9mFlxcSC/NNuW1cp70BJ9YNbUk1ONxVFX+gZWu505V7v7PBRZeWEgvwjTkslgyh3uaKYjFUhIce6dNkYEXncWjMp1t+rwACgp79gUKDYQ8CC5DBv1QgFRV5KDlO53Fl2+50mrHS5huflvFupLGPguy2m4bk5G6q1Tbt3AKAiyGfBIanxCT+HhW2LjDrdJZ5UYCQdn1yHQ+lyvZgcVttsb0FyuIsgjltqmjZgjt0+JDf7U5WqgklsNOmG5OTsNRpuPy3PYR+Sm/2xqkoiZtEp6MPb0nbkVgHAoCBxTxn/kPlaFMp3OB7IzflIVVXBJAowFw7wtET6e0TkhfgECoJ6CGJB8rWSTW8AMXmwkRFSrwIDgBSFqF+A8KCpoZhWG2cKaJ6FZWXjC/JMmKdp9w4A/bi8c3EJmyMj14SFn49PWBYYSCowkhaBrAm7B0EBXNhNCU4nhlOaGjFSrdYftJrlg2NfSApFEOSCyjR+W9rXatUSxU0+IWlWy3cazXsDYxYkh6FeO5HtaZ+lFn04ONY7GSoCAHDRav1ao146INq72fOyxvzw1nOZdrv3iZYCiAu70ffI4HAraxwAkKmtUVyvinViOAA0cDvvVigJGnrh8UHhArYbwxcfy1mSXj6SL2hO8+4gOj2ohRZzSUjaAO9Km8tz49Pk/eBQoYmBYJGyXM5jnpnSS85h2D3Yc/+mv1JU9gCPf8u6/BvKcgmXcWpqb38Ow+HBnj+Q8eKhzOFhEgGD5sJwyvVvnDeV5UIO7djU/gou0+nBXzyYsTFf/aq/PxNFvR9t9/U4QBDEZY0ZAIpNNrsHY1EptbdDRe6YRKg3znyuUr0fGNS02wcAGoIM4fm05dMXSPlF4oXMhN2DjBEK06trduWrvC/z9dbN2ZVj+E2syd1pMITxWV4FBgDJ/oLpCYpdJuMtp+0yGIK5TK8CA4AkuWBmQtC23CqbG/v8XGE0kxnNYALALqMhkMN4Oflau40eMv6sxKBd1x+pxwoEu/JU6VozAOzMU3X5+WiRyUZFkam7Lz7191U3hts92GepRaEMevwdOtfbMOxfk2lBr7BwARsAaBR06YAYKoruNd46YRKSexivU/XKc4U2NwYAGE4sP5PPRtEHfOsccQtKl+u81fpG30ivMRGLSlk+uIsFw2szW14qXa5Ui/WNvpH+HAYAMKmU5YNjrW7snyLtzjxVhs4yRigAALXbfcZieT0l0vtkxaCiywfH2nH8gNkEAEN5fCaKLD9TgBOE0eketeXcslP5NBRJqzLFrzl2vsoIAPsLNRc15jF33mewy2hQcBi1bX1uiTPtDqnASGohM2H3IKP4gnFC4ax9V/oGlAoY1CNlujA6w5eC3DKns8rtjmIy6xqE23FcxKTVbanlx6LbsFv7dNtwXMSk1U3Ri5k0vcOduPaYzYVtjIjwjmDHcQGDVtePSMyk13b9ni+V/Ws2PbDpbIpCcKbSOCFK/skDcWImbXNO5cuHMjOqa3Q2l9np3hAeUfeNCILIdThqcCyByXISBA4gZt7IWnFoFBqKGJqxEkFC0ulAEOSToKCZRUWJa48NDBZfVptLzfbPg0MarUa343im3c5C0Xgms/ZTb8MxABCzbhSTefcJ3tKv32sfVNdoSMikIQAfnS0oNtnHC4UP8gW1p9UdTcCgURDEO5qISn1fEfRGRvnxcp0bJ4xOz/aJycND/YqMtvn/po/dltZdxkutMo0WCMbevMHZ4PHkORwyGi2cwVC73Vw69eZwRK+3iKKNIeUXyS2QmbB7EBRBVoeGfR8aKrQRTp3zbf+AfdEx4gZbWmjd7ulFBSnZWRML8pMyMxaXl7uuh9dBPN4ljfmi6pq5R43LszmrctBtTSIG8XhXq2vq2olsyqrgIegknvBgbGy/6814BnJ5WXrL2cprj6RWt+ePrIrB13/Ko1B2RUYvUwRWaG1sKsVrNESjoE8kBD0eH1hmtI3jCA7GdKnbNyjTbh+Zlzs0N2d8fn5SVuZv1VoaiqxLL/dcn/+OPJXFjXnIDSgk9xn9uLyDsbGTeEKdytaXytoXHTPdr5HmouurtT2zMsbl543IzXkgL+eS1eo9HsFgKui0X66W127k+iW9HAEYcHMcCGMwguj0uqdtSFcSAEEY5fvQ0O9Dr6XJQ+j0EAa9rh/Rr5lKjCBqW3Y9IZHsjY7pjjAqahxv9Y0cESZBECRSxPlpVKIDw+1G1zchoT+Fhddu9MEIYllFRVJWxsSC/P7ZWVMK8s0Ylmew1o0zv2dVUJq6FNtSkAqM5HbI3ZGtQvvujrxbCIIYW5BXRXjeHxTbTcb/p0iz4kzBLD+Jt37CieMTCvILXc4ZXQNFTNqfWZVaq3NvVMwtW9NdOD6pMD/X6Xw8QSFh0f/MrlRbnHuiYm7ZmegmiMkF+dlOx/R4hYzN+DO7stJs3xoV1ZPNqZtsW1RedhVxnZjZv/bI6kul7x7PLe3eo+5oJswzICdbIWC+OyBGzmFszKz46UoZAKAIdJPyx0fJC43WP3OqKAg87yd74y67O5K0FOTuyE7BPqPxqZLiWV2D5iQGGRzuD0/nF+isx2PjZDQaAGzT618qK+0XIBwVIb2iMe/KV8+WSFYE3brheqdB/3xpad8A4UMR0nRtzY481RN+ktv3Zf9lMDxbWtLbXzAmUpZRfc2P6NPgEGqdIFDidPbLzto1KXlo6LV2aARB+H976C3/gPk394b4tKrqa43qzZSocVGyXL31neO5ZpuLoCI4AdPjFDI248+cSmWNA3CiuFv3Rn0yWgNSfgG5O/IOkMuRJJBqtV6y2nZN7jU0xA+8nnQYvupc8SL/AB6FwkDRLZFRX6tVu7JUNhwbxOW9GhV6e3MgOopujoj6Wq3alaO2YtgALm9NVOjtvSFoCPJHROQ3avWOXLXF45HS6EwK5eH8/BAG/QWp/Ak/P2+ITGSx/6jQFZts3tIugiD2FWoSb9uWuFWvN2PYqYnJ3mbW3WV8pdl+pFTXP0iIIMjXF4olbPqsroFrryq/0qhznI7/KQLDfTMVJiG531it1TwQLP5qeDxyvY4qfs2xP/S6l+X+ADBVLBZRKd9qNF+mFgXQaMsDg2bV1yp2kkgsoFC/1ai/TC3yp9E+CAyaU99p40UiHoXiPY1PoYTTGX/o9dsMhrEC4TsKhbejoYJG86NS9xZqakXY4VKdA8MTb44qDhxfW619Pinszb6RABAv4QXzmMP/TKW4YE634H+LtRY3NihIxKZSsnQ1fXOy6saZtoFUYCQNQIowkmsOQg8E3/BBGhri99HZwgqXy2vKxqdQ3lEEvnPzdsjb4VEoSxSBSxo7rdZ15NWy0q0Gw9xuwT3l/MOl1W/mlpsx7EW5HAAmi0TfaNQTt59/rU+EP4exIUN5QqnfEB5xy1AFt9mJDA+T/F2sPVKmfyIh8MUxYQUG20dnCwK5zGeTQtZcLp9QkHcopousJcwD7jea80WyvwXnQdJqFDgdr4QoatWJmEXvIePnO244CA3nC4bzBY2OM4zPH+ZD+f9QPn8on59ht43Pz48Wc74cEGl2eX68VDqpMP9gTKyAQqWj6HNS2YdXywmAcZGyLJ3ls9TCFC6nL+emNdBqj8eMYUPreIv1ChByKCgNQQ6XVC/uGyVl0zekK9Ora15MClXbnHXjTGtDyi+SRiFFGMk1B6ELKlOvgGuFrueqTDQEkfsmVrRu949azX81NXQUGScQzpb4ZCdS4nT+odevHBr3dPcQAJgeH+jHon+TXjFXImFTKFwKZVtk1GJl+UuHMgEgmEH/PjT0QcGtXwDBdPqWOnYih0qqv0grYlLQCDpjT47qt8wKBGBMpOyr4fFSNmN6nKLHLyfWV1e/ERBwN7+e+wjyO+N+JphOP3+99BMALC5Pps6SIvLJo5ogiH0m40adrsrj7spkzZfKfGyn97VareAxD05LYVIpADApxj95/Yk/dfr5MhkAPC+TAcDqrKq1V8upCDJBKPwwMOiWJJaYSmWjaJrKODxMAgBam/O9U/lOghBTqODEXziYAQASFm3d6G6TYwMAQFwnzvj4m2ka5KeJxBdIEUYCg3i8aCbzmX/SvxgR303K/7dY+8nZgskikajBWn4vard7XEGeicAnRMstLs/HhVUHzCZf7EQuWK0A8FiXG3Vaj3VR/HC5LM/p6MHmAEAog/FHZJTO47ZieCC9fqOhR8XiLzWqJ/ZeXjEk9mCx9v3TBd2lvIej5CfKdCY7JqNSRsb4f/9gV+/JUjZjeJjknMri+2/mHob8hiC5hTl+0tcKy1acKZjXLVjvcL97ItflwR5vrJbfy0qV6gu1aoBCOFQmOlisHZef92t4hC/tMM7brNO7BzGvd/8K5bP6KkTnaqzzAQAAQZAX5PKnpNIqt1tEpQgo9UQkNopOF/utSisO4DL7KYTjtp+vcXmmxymsbmxvgTqMQS9xui7MGiS8vmdzWhfFj3XiTGtAfrhIfIcUYfcRBo9ni16faYLUpeUAACAASURBVLcH0GiP1XEdoSDIhvCIeSVF47ef9x4ZLRAs962r4bdqtYXAlw2IvqQxi5j0DwfFvnksZ5fR0LCdCAAIqRQAKDPbu0qvbYkqq7EDgLBOnL1ote4wGCw41p/LHV+f64iURvs1POL50tJBv59BEXi6e/BnD8QhCIITxOx9V/4t0qosjrrnl5rsgfXF8fsB8ouBBAAIgjhlsewxGt0E/gCPP0YorK2Fny4Wl7mcX5wr+iS1EAD8aNS1YRHBPthUK12uVWrV/O7BHBpVZXXOTgz+u0iztLLiKI/XaOmVgEIpN99wv8AJQmm296feyKKZMM8WvT7dZpfTqI+J/aLqcwpfolDoMM+CQ5kAwKNTUp8YEMxnAUBalXHkn6kAUGFx1IqwUvOtcab5eL59wPsP6otHyQ8ayV1B7o5sFTrgrqh8h2NKYb4Jw3rI+PkGa40L+y4ktK4NNkEQ523WKpc7jsWKri/S1UtKdiZGQyoszkQpz+LyFJvscjY9mcpaG3Fr/dYtuHC8T3ZWlJSzbmwPOYdRaLA+uuuiyIP8FR3jPeGzqqov1KogDkPCZlzWmruyWVsjooT1JefcBLFKpfpCrUqfO7jW8uh8lXH4n6kA8N3Iro/HK3CC+OFy2ZLjuRvCI25f1rxX6SDfB/ftrqiOFgcIgnhTWf6bThfOZ3FplHSdpT+XuzEiklXn8UbrdqdaLWyUMoDL9dEee6OuelF5ORVFeHRqtIhzWWPi0KgGh/tMXHxYY/tgVmvUK6qq1o7pNiFK7sKIlWmFn6YW7YqKTuFyAaDI6ZhSWKDzeJJk/AKDzeRyfxUcOkUsrneoYqdzcmH+2C7+XwyLrz04duu5tEpjrwCBN84UGKyP7roorhNnmkOt9qpl/qXJzR/2XuW+jQMNc59mBe5DFinLxFzGiSm9ArhMhwd77kDGKwVlD/D5tc0bEQTpzeHCXWboLRhmceN7p/YeFCQmCGJduvKVI1k6TuPFZHQU/TE07Mniovg1x4J5zBKzPZBOXxUZ6f3pFZvtC7VqSb+o1/tEoAhyRWMety1tpUr1YVA9+TkagngLUNzYrSYtI/j8Fw5mLDuRixGgd7rnS6Ujm9QxvLPQQVQXScfksNn8m063alj87MQgBEFOKPVTdpz/Savx7n/0IqXRHhaKGhjkdlw4gSIwIUr+/YNdmVRKpcUxfnuayen2xSrtKakszWqdte+KP5tu9+Aml+cN/4CU6+3HFiuVHBbt8NR+QTyW04MvOJTxel7ZUD6/3q6H4QwGn0Jx39xH2oXhPdmcdHVN3TjzVWTUXd1gXW4XXrWQCoykCZAi7L7AayeydnQ370ZCJpXy0ZAuO/JUB0ymqXd4rPQRCoJMjvUfFCQGAARB5iQG/XC5FJw+XZvC5abGxe80GJRuV6xQ+rBQVFvRv8tg8GfTX+t9rTN+dxl/dmLQxivKekUYAAzkcvkUykdnC34c1Y2CIk4P/tm5omAGfV1Y+BW7/YDZRAFkjFDQlXVvem+T2ovEF3YZDYl+3DndrnXtGhQknhTjv6vUUFeENQ2cgBVDunhLuxRc5pspUU/9c9WXuncagqwNCz9rtRw11zBQZJxQVJuGr3a7T9TUfP9g1yAeCwAYVPTDwbF/5lT9azLdqevsaL5gTa7quaTQeAkPAA4Ua8+pTN+Hhg7l8euNMz7SgPAiIWkmpAi7L/D6gfjVsRNhUVEAKHI4CIJoTsscBopKWDc8ghAEkbEZXJ/tQYRU6hyptN4JC292N6KgSA2GVbvdkvr2bLIplBWBQQtyS89VmnoGCM4o9QaHe11YBBVFkzmcZE5rVeC2I6TwIrlbbDgu4tzkQ09FEYPHY/R46l3o9xEqgqAICBk3RvBj0QDAjvtU64IgSD8ur9ZUoxY7cXvUolAQKHQ4cIJA64taz8lkB83mwZvODA3xs7mxkxWGkQL+OKGIiiD1xpmGuSvtRabBSJoGaVt0XxDutRNJv2Yn8muGMn7NMQD4UqMekptz/ro5SRMYzOFtz1UZHG7vyxyd5XSFfuBt8fRuGcjj5hisZyoMAGBwuKf9dfGLtGIXQSRlZb5WVubAb3WuBIApYvH+mNgBNLam0vIQm38gJnbovbjyOHfe197/2nsiJJ2PAVze6QpDrt4CAJUWx5it5zZmVardnqSsjGUVFU229urP5eIE/JpR4X1JEMQvV8uDGfRGC8IaJpBGD2Mw1qcrve5Gf2RVxK055iHgO61mcG72WUs925wFFOruqOh3AhQunZNVg30VEvJLWAT1bh4yPd8+UPtfcyZPQuIjZGF+q9DRCnIBYIdB/0Jpab8AYbiIvSmrclqcYn73EJPTveJMQba25nhsXACd3vgot1HsdI7Nz+UyaTO6Blpcnt8yKuQU6v6oGE7zevC4CWJKQX6m0z4jIfBwSbXO4f5gYEx3Gf+EUr/8dMEkgejzkJDmjN/p6NSq674tyO1occCCYWML8jSY5/EExfY8FRCwYkiXLmLuvkLNJ6kFL8rkiwOaaO21qLxsk143Jca/q5T/T6HmTJXx+9DQSaJmlToAwF6jYX5JSW9/QayY81tW5dRY/6e7BVs8+MqzhVfU5qNduviyedMXmim5yDSYL9y3caBhSBHWKnS04OvlsNn0jUZzyWbtIecfeDTFuwppdLq7rjk230/6un8TW5gWOBxfqlX/1ZjpCDpOIFzo7+/XjKWNWqwY9pVavVmv03o8U2P9T5Tr1TZXmIDVTcrfV6C+nNC13nXJe4xOrb1quW+DbweMAzqPZ5VKtc2gN2LYgUf7pCiu1eC/eyJ33eXyKwldb28E4wsYQfxSrd2o11W53Aks1osymS+99X3hqNn8jUadZrWGC9kKLuNYuZ5GQUaHy46UVs8WSd5uhiFsC+a6SBHmC/dtHGgYsibsPsLrOtItM31EqLS2DkzIoPWUC/Ju7qd1V0Qxmd+FhrXQHG/AoVDeVijiWMznS0t35qlnJwb18hccKdVtza0CgBKX6x4WYfeG9iLpgPhRqR8EBQXT6Z9oqvpcd8gAgKEhfl9dKNG43SFNWkOkIMjTUtnTN/tqtwgP8PkP8PndM9JLTDY6Bf1saJzF5fnpShkOkGm3N379zbTGIiOpwEiaAynC7juC6PTzKmPtS7sHS9fWTBOI/jEZN+iqVW53/N24jrQ2DAQFgOWDY59LCgWAx+MDZWz6D5dLhZR7sJyR1F4kbUMQnW7z4Nk6i3cXIQCcV5lYKOom8GUVFSetNSwEnSgUPeHnR29SYqzFwQHkHMbBx1LYNAoATIkNSFp/wuLzBiCywIukw0KKsPuOuX7Sl0pKPzid760JW3Yyr8blcePEnOLiFH/BILn0cEn1uPy8DeERHaGw3YnjADAtro67UZziu0ulJqye2vxOCqm9SNqYEXx+MIM+b//VL4bHx0m4ews0X6QVjRUIphQWulBiXJRcZ3cvLVYeqTH/Gh5Rr2NYG4MgMCU2wKvAACCEzxoYKPIYXA1c0jbCi0yDkTQTUoTdd0wRiUpczq/TileeKwIAEZXyaVDw68qy13pHvDsgGgDcGD5114V3KpUneHH17gNvS7w758tr7KLrO9XLa+wAIGhl8922gZRfJO0CHUU3hkfMKyl+aOs575GHhUIAQGnouRn9ZBwGABwqqZ6y68K/JtMYobChsdoEOY1W192IIAhljSOZfquxB5nxIul0kCLsvgNBkNf9A2b7Sc5YLUwEHcjj7TYYMAJe7nWtrotGQV9MDpu662KR01mvU1tbMpDHC6DT3vwve/3YHnIOo9hoe/9kfhKH3e4Taw6k9iJpd2KYrGOxcalWi9rt6cpiRTGZiZnps3qEeBUYAIwIkyT4cQ+aO4QIe0Qofj+/YlyefGK03I0Tq84XFxhtn0RdS5C3l/Yi02AkzYcUYZ2GAofjlKWGhaIP8gXN6azoRUKjjbtuTuJdbvDU6azoxoja4+0LDUF+CAl7srgoYe2xEB6zyGQPoNPWRDTddaR9IeUXSXOw4/ghs0nr9nRns3uy2c1pswwAKILUbZGKAuKp04GPIAg3htdtmNyOzJFKz1ots/dfCWAzHBhmcHpenp3S56n+nvaeGAlJMyFFWCcAI4jFyvKNOh0FQTCCYKHoyuDgyc3uwVPLMD6fgSIrzhSsHBqHIIjV7fkyrSiOxQxrUuewFqcPl3smLn6nwVDucsUESycIhezOthZJai+S5pNmtcwtKa52e2go4saJITzemrBwbst9FsYIBBszK+Z2Cw4TsAFge54qz2hbGtHEzjUtS6270aEUIZ1OHTs0ukuEpH2nRKbBSFoEUoR1AtZVa3/X6VYOjXsyIcjodL9zPHdBXmk3VostyflRqUsDAt++Wn68TNdVxj9RprO6sE0Rkc18zm5BRFTq3Lt3HekIkPKLpEWwYdjs4uIuMu6BkV3Dhez9RZpn/0l/r7Lis+AW61r8itz/aE1Nyq+nhodJ9DbXmSrjJJFoKK+57hfNp3a1sTdA7/adCglJS0OKsE7Ab3rdlFj/p7uHAICcyvh2ZNfDpdWb9bp3FIEt9RZzpNJ4Fus3XXVVpWUCVzhHKolgdOKiq44AKb9IWpD9JpPB4/nxoW4hfBYAPBwpX9jb8tnZwvcCg+7WjvpOyGi0v6NjftVVn9DU8BD0+9DQ8UJRez2JdfASezINRtJSkCKsE6B2u7tKbjyPMqhotIijum7X2FKkcLkpXK4vZxIE4QGgdZg8WUuBES1QCUdqL5LWoMrt5tGpwbwbj0YJEp4DJ8wY1lIiDACEVOoCuf8Cub8vJ3sIAgVo2Q3U7a69CILwYDiN2skKHkg6L6QI6wQkMFn7CzUv9wr3xrsqi+Oi2jSqqS5DzcFNEF+pVb/qqrVuTzST+YJM9pjYr+2n0eLk2u0rqioP15gRQB7k899RBIbffd9wUn6RtB5dWSyzy3O6wjAg6Fox6N9FWjmNJmkJi7C75bzV+nFV5SmLhYki4wSidxQKWTPsK9pdeHnxePDVm87/uv2ySmcNUwiemdFrxvjEehOBZBqMpAUhRVgn4EWZ/PGiwpl7Ls3tFqJ3uD47WyikUNtF/bxWXrbLaJidGNRdxj9QrF1YUGbB8Hmds1qrljKnc2JhvoTD+HBwrAcnfr5cNqEg72BMF7nP3yuk/CJpbYbweN3Y7Fl7ryzuFxkt5uzOV2/IUL6nCKS2eUL6is02tTC/ix/3895xBof7p8tlFwvz/42O5dzlFoEOor1qeffLI5v2ZDyZENirZ/iR0uq3PjtsrnE+P5MsQiNpXUgD71ahxY17/zIYlqsqy5wuAOjH5X4SFBzd5o2yChyOQTnZq4bHz0kM9h55+VDmnhzVhfgERsfwNmkaS5Tleyzm83MGChk0ANDanEnrTswRS94KaNwbmJRfvnDfGve2bBzQedyLlcr9RiMO4EelviCTPSuVtX3N1tzioiLUc2JGfwYVBYACg7XPryeXBwbNkjT+MNbRhFctSpW5/yNrVwyOfT7pWrvExcdyNuZWnd89n8266WGMTIM1mfs2DjQMmQnrHIwXicYKhWUuFwtF/dvJuDrNagWA6XUchKbFKdZnKAudzngWq12m1CKcs1nHRMm8CgwApGzGiHDpuUpLw1eR8oukjfGj0n4OC9d7PAaPJ4hOb68nnzSb9enkUK8CA4AoEaeXXHDOar2TCOuwwqsuFzKqCAKmx93Y6jQtTrH6UmlOUXXPhA7RpIPkXoUUYZ0GCoI0oVCpBfE6BSlrHFEijveIssYBAPzO1rXrFgQUSl1HFABQmu1+d74pUn6RtCNiKlXcHnVgtfApFO8H3wuGExUWZzzz1j09nUJ71SLkMeBmezSl1x6Nd1PIJdNgJC0OKcJIfGUon+9Hpb5+JHvtmG5+LHqBwbr8dH5/LjeoY/R0bTJTheJXysp+z6qYHqcgCFh7tTxNZVobFn7LaaT2IiEBgEeE4i+zKx+OlI0Kl7px4pPUQqXFMTUgBDqb8KpL/+Rgfz/O4mM560d3l3EYxSbb+6cLenSRR4a0WE9sEpJ6IWvCWoUWrwnrIJyoqZlTUuQhIJjHLDTZghj0LRFRYdfzc80JwQRBXMlWX81RS8TsYf3CmYymPx4odJWapXm+n48TxMKysq0GvT+bjuGE1uGeI5EsDwyqrbaZO+9rc3mesSSLxuHLuvan3GYbTNIw920tyD0ZBxw4Prek6D9zTRCHYXFjRpfnjfkDXnqyT4sMbqpxHDpVZHd6BvQMDg8WtciYPnLuasWcRbvsDneogF1ksMr9OJu+mhoVekOEzT09SpN52uOwiiN7cAPC2nJu9wb3bRxoGFKEtQr3TPC9XVfpDLadB3MqNTVdIiTjhsWwmC1QoGaxuZ55e8/x82UoAjgBEiFrzcfjk7s2Xhd/V1BfPHqnHxEEcd5mPWAyoYCMFgp6sK+tt86d9zXmdl5Z/5766gkUpeA4Rufwe8x93y8muWXndm9z3wbfeyYO3AJOEP/Nijh5vozJoI4bFhMT3jI7tXcfzFn08UG70+ONAzMnJC5/bTjahuaVRrNj54HscpU5Jsxv/PDYuiX5/54ofO69Q26HDUFRAscDe4/qOmMxSiGXku6C+zYONAwpwlqFThR8O8IKwpufHNz1b/aCPv59Arkqi/ubNJXKgZ/d/tQt+5KaT92Sjl/WLmjgzNrFx5yd3ylP7Xpm6cqUEWOrVRVrPlycd/Xi4GVb6Rx+y87tHua+Db6dKA74QqvGisIy/fCZvw4I5s1NknHo6L8FxrWXNO8vHDp7So/We1MfqVTX9J/2a48BQ2e/+YFA7Hd8z7ZfPloSNXpu5Kgn2ntqnYn7Ng40DCnk71M6gvbyYne4t/+T/UicqF8wDwAC+fRXUvzn7yn653jB5FFxrfe+vtR4ETimPLP3oelz+z80AQDkQaEvLv/6hYf6VF08HDpoUuvNjYSk49A2sWLz3kwug7IgxZ9GQQFgXKw4p9rx284rHUGEbfsni0qlPf/BKhaHCwDDJj9emHk59dhfpAgjaT6kCLsv8AqOn5J2tPdE6sFodjjdWJjwRqGVjEPjMCgqbSNNIprAT0k77mp/E+Z0uO2W0Jj42iMCPynfT+o0Vbf43EhIOg5t/5CmrrYE8uheBeYlXMhILzK18TTqZXO2VBoY7FVgXkJjEo7u3tKOUyK5ZyBF2L1Dvakdr/D6CTqi/PIiFXMkQlZahaV34LUYl6W1W51YQnSrNOK/Kx1GYbI5EsWFYwe8mTAAKMnJMGqqwgKjWmNuJCTtSPtmx+OjpHsP5+rtHjGLCgA4QaRVWeKjZO04pVr4gdFZp/eolaXyoFAAIAjiwrEDgqDo9p4Xyb0AKcI6JY0upXXMpFe9UKnoczN7f/DtcQoK/YP5SrNzc6YuMUY6qHdoe08NEAQJHznzzB+fMljsAQ9N1FSUbfvxS55/mDyRLG4guUfoIJUJj41N+OH3tKVHy6fGiXkMyr8FxhytfePi9ncNmn9psqK3rejgbyuemzH1mYVCqfzors3pZ48nzfugvadGci9AFua3Ci1YkHtX7anaV3u5PdjmvZm7DmTbbO4BvUOeeqynv+TWFo71QhDE6t/Pr96YZrQ4UQR5cFDEx4tG+InYrTdV35NhBEGUHt9edOBXp9kACCKL75cw7XWmsHPbZbYx921BboctzG9V4ZVVoP35z4uZuWp/Ge+JSd1HDojw8cK8Yt3iTw+mpVcBQJCc99bzg8YPj229efqIN1bYtBWZf66szj0PACyhNGrsU0F9x7T31DoZ920caBhShLUKTQ6+TegI2kGSXjhOPPXWX4dPFyUruHwGJbXCwuYwdv80Pcjf112ETpenvMosFrDEwlY3Qbrbzte4x23TVdHYPAavTXsX3Rvct8G3Q4mwtsl4nUgrnbVolx+L2kPOLjE5c7T2RU/3XzArxfcRVFqL3eEOUQgolPZ3pL0lUDhM1ZjTzvILIJtTNIH7Ng40DPmX1G40swN7B9FetRw+U3zwVNGSQYF9gngAYHR4Xj1Q+uUvZz5/e5SPIzDo1LqtEVuVu63QR6k0rjyEwHFtVqom/SQgiLzbIL/YXr7bJzvNemXqfpu2gi0NDEoZzeC3TGslEpKGacvVRoIg3v3yvy5+zKVDgmkUBAA2XtF+sfbMo2MTfEyKA4C/1Ncz2x6mQAIADqNWeXa/Xa/iyEOCUkbTuUIfLydwXJudqs04DSgqTxzkF5vc9v7rJB0NUoS1HS3ie9PRtFcth04VhQgZXgUGAEImdVgY/8CJwvadVQuCY54rG95TXToqCw4jcCLtxE5Fr5HdnliCoI1bZxqKMy6sXgS4JygytvjioeKDG5Of/UwUkdgG0ya5D2mvMq/SSlNBmeGdwUFeBQYAk+LEW7N0R8+WTHu4a7tMqTnU+5xWnXv+0k9voSgaGBFdeP5A8cGNvV74QhDc+LIpjnmurFuqunJcHhKOebC04zsCe49KnPk20k5G7CQdBFKEtQot6zPYYYVXLeVVpsJSPYYTBEHUPtvhBNFot2uPBz+eVqpUmWMjJH26KTryc2FF6t/qy8de/vSHPsPHAMDpf3Z/t+QlSXxKYO+GUn2Yy6FOP5W9bVVAcMiSHzbzhCKLybjy1XlXf/1g8Lt/+CLgAMBp1muzzhIELo3v630WJ3BcX3DZqi5jSQIksb18HIfk3qZ9S+zdHuzUhTIAwOuUuOAEAECjn+uyStPJ82UMOmV4/wghv+PaguEed/pvH3ZJ6r3w0x/YPL5Jp/1kwayMjSv6L17f8D2alflFhzaprp548aNv+z04HgBO7t+x+n8LJfF9Fb1G+PLWBI7r8i7YtBVsWZBfdE+vdHOYqquzUgFAmtCXTK53UkgR1nHp+NoLAAiCWP79iZ82X/AG3pNlNYNC+QCgtboPF5vHjGyo22pBqX726ztLq8xel5IecfJ1n06UtGY9fl3udkWy6sKhxH5DUkaM9b4cMHrikZ1/VJ0/1IAIq849f2XdUpfVDAhSlmf85aO3n/9gFVcgnPHy20tnTzSWZPmSDCv5b0vu7tU45gEABKVEjZkblDL64k+LTeV5CIIQBMHzD+v5zCdsSQu7PJF0CjrI3sbMfM2cN3ZXaS0UBLZl6Xr4cxhUlCCILZnVVAo6rN8dnRYJgnj/m2Nrt14CAggAJp2yYtGIR0bH3+n8NqPe4KDLv+gw6Wa+8j82jw8AAj/pYy+8+cmLM2sqC/l3aFuDuZxXNrynvnoCQVAgiF8/XSqS+sf1TBk0dsrhHZuqLhz0RYTZ9aoLP75ZU1nk/cjzA6N6PvNx1YXDeXt/IjAMABAKJebh+REjHm/eTZO0A6QI63B0Cu1Vy7Z/sn/848KT3aVjooVfnq1aebpyf75ByKReVFklYs4rc/sCQI3VWVRmkIjZgfIbRfo4Tsx7czdhd34+KixSxLiitq1KrXp9xYH1n01sv7tpCMxpE/pF1j0iFEvUhpK6RzxOu1VdSmPz2RKFy2q6tGZJl+7J85Z85CdXnPl395oPF2//8ctpLy3mi/wAwOOwNfqmuvxL2Tu+eejxeZOfXoii6J4NP+z+5Rv1pf8obuv/ft7apWdKQfql7955+fIv/+u3aE1HziOStCAdRHjV4nJjc97YzcY9X40Os7iwZf8p5+0uTArglJpdpQbHuy8NkYo5BEEUlOodTk9shIROu5G43bIvc82WS7O6S8fGiOwefMNl7esrDiTGyLpEStrxju4E5rQDAF98I+ckEPvVHq/Fqin3OKxc/3AKnZG35yd9btqLK75NGTFWW6Vc88Ebny+c+/W+M2weXyiW6MqqGn1TgiAur1vKAPdr63ZGd0vOu5z27ZIF51cvslQVP/zksxPmvQgAu9Z+s+/X1fzAKElcyzipk7QZpAjrKHQu7VXLxp1Xeim4U+L9AODNAYHHS83fp6nEIvYLT6Y8Oam7gMf45MeTa7dcsjs9ADCkd8jKJaO8JbpnLyuLlMaPR4REiZkA0MOfMzNR8s2Z4kp1jULOa9+bqhdRVFLaf/umL9AK/KQAoNeoLp44HDRkqvenBEEUH9pUdGij22YBAHFkN3F0TwJzv7jiG6/kGvTw1JLcrCM7fn/0hTeO7PyDQmcIwxp/3C8/tTswMvaJ15Z6BdZjL75x4cQhZX72go+/j0vuCwDR3XrOfevDj1+YaSrN9mVAks5LR9Netfx3tqRKa/l6dHiokAEAX40O//Zc1aky84ODoj6d2qN/z+ArOerXV/ybU6QDAImQ9dbzgx4dk+C99redV/oEcifH+wEAg4q+0Mf/isa2aU/6+wuHtuMd3SlHLopIRCjUIzv/mPz0y94jR3ZuorN5/OuNWy2qkozfPzaUZAIAncOPePCJirP7xsx42tvt2T847PkPv14wtu+ZA3t6DBh6+dR/IcOmNzqZmooCY0nWoq/Wx3TvBQCxSX2efH3Zl4vmh8Z2nf7y297I8PjLS9JTT5ad+osUYZ0OUoS1M51Ue9VSpakZILtWw0FBkaHhghNlZr8I+cI5fQFg1bqz329MmxLn1zeYV25ybkyveuLVHf+sm0mhoFWaGgAIF92o/4gQMgFAo7N2TBEWNvTRqvMH3np8zPDJ03EcP7LjD5TJCR08xfvTspO7cv/6YdT0uQPHTNZWlG3+9tOSo1uFEn+vArs2QpeEv3//+fNXn7p0/GD0mHk0duO36TRq42Lj66a4pP6Byvzs0NiE2iPefztIJ6V7kQ4rvOqi1lpQBIIFdO/LQD59RjfpksNlbzwzICpUrNFZH395m4yJvjM4iEtH9+cbX1txwE/IGt4/AgCqtJahATda0lBRJJhHbw3LshaBwfcLG/rottUrywtyYrolXz174sqpI3GTX6LQmQDgsVvPf/eKUChcuPInsdT/2F9bDm//DgBCY25UZYhl/jyB6NT+HVt/+JzKFoQObNyC1mHUAkBIHfO0sC4JKEoJ75JQGxkQBAmLfQ6plgAAIABJREFUTUi/mtGy90vSBpAirH3o7NqrloQY2YWcqscTJRQUAYAaJ5altc9/UAoATpdnzZ8XHo4RzewuBYAoMdOfS1t8qGz/sfxT58u3/5MFAGkVFm8NGQCcq7QwaJSwIF/3e7cxTIEk5ZXvC/av++u3nxFApIkDo8fM87YNIwii5PAfA0ZPmrXoPQCITOgeEh33+pShuipreUFOcFQX7wgXjh6gUKkFBYWJjy8O9K3TIy8w+urZY067ncFiAYDH7SrJzURQ9OLxQ2OfmO895+LxQwDAV0Q2NBBJp6JTaK9a4qIkOAEXq6y9FNe6S6RVWHhsurdH4Oa9GS6XZ+moSD6DAgBdJKxqu+eH389b7e5vNqRq9bZUHJuWKEERBADMTixHZx8e1Z7NkBsuFY0d/yxbHJB1Ysf5owe5AWHdZ72r6DXS+6PKCwedZsPi3/dIA4IAICoxyVCtuXrm2MUTh/o+OM57TlHWFZO+2mqxyHsOixkzj85rPNzxFBGAIJdOHBox9Zpf+IVjB3HMc+X0MZfTQWcwAcDldFw9c5wXQ6bBOh+kCGtT7hntVcuzM3o/+uLW5ScqHo4W2j349mw9jU6dOaEbAGj1NpPFleR/w/2ti4TFoqFLVx112FwTooVnlDXfnqvS2T3RYuYllXVHtn7O1B4deW8U20/R7Ykltx/HXA6brqp7/xtfnIrwKLF/oNVi+eSlWY88+6pEEXxq/45zh/cnznjrrhpthw6ZUnF234rnpo+b/RyKUvZv/Nmkr5Z3G7T5248dNmvXPgNyr5zf8dNXAT2HsaWBLXCHJO1H5xJedemVqEjppliVqpqWIA4XMs9VWHbn6hfO6ctkUAEgt6g6Wsz0KjAAQBAkSc7enad5Yen+XoHc8bHiv3L1y48rx8aI7G58a7aeyaA9Pr7jdm9BECRk0MSQQfWUrlqqSgLCorwKzEvSwKEXjx04uW8Hg8nuN2q8urxk6w9f8ALC+7/5i+/tXllif0Wvkb99/r7FZIzrmZJ98eyOn7+WJw6szkn76PkZ42Y9CwB7NvxQYzQkDnmkRe6RpC0hRVhb0NraK6tAu+bPi1l5mgA574lJ3Yf1C2/4/GqD7Zetl46eLWYxaeNHxE4fl1i3VPauSOke+NPyh9//+th7x5QAECTnhUqYc9/YNbBP6OPjEpl0SoHe0fP687HS7LK7cbve9uVDYREi5qQ48eo09fpLGgKAzaA+PS35zfkDmjYNL6culG3YfrmswhQd7jfv0Z494v2bM5rvUGgMBldYmHVl4Nhrz9AGrdqoVUc+NNtYlP7je68DAIMvip+60HcFZteriv/bYiq6ypaHKpXKL159CgB4/mHJz3wqjuqes3v1rnXfbf/xC5RKC+zzUNyUBa10ayStSgsKL4fTs3H31X1H8txubGj/iLlTe4gEDTlPEARx4ETh73+la7SWxDj5U48lx4Y3sccBgiBrPp7w9srDvxzNx3CCxaTGRUr/PVZwNUc9c0K3QH/+sdMuF4bTr3fAzzc4XG5scCj/1X4BCILESVmr01TvHVUCQI84+eo3Rsj8OE2bCQAYTPZftl3+73QRjUZ5eHjsjPGJXi3oI3frpVEXpkhWeLbEYjJyBdfyW4WZV1gieejQR07+u/Hw9o3XfM+mL/JRgRE4Xnn+QOW5f91WE0Os2Pbjl7jHTaExAvuN7TLxeWNxZvb2r1YunAsAPEVE8nOfcQPuuAuVpMNC2ha1CmO+PQltlfc6nlY6e9EuMYvaQ8YuMjnzq+1vPTvw+Zl3NL5VVVsmzv/DYLT3UXCsbvxCpWVQ75D1n06iUpveMxDHiaIyw7ur/jt5oSw5gMtnUFIrLVwOo3+vkL//y3s2Wd4vmFducq4+r66yeeQsyqqHbsjETVe1u/OMl/c9y2HTmzwBAPht19W3Vx4OFzNjxMwMrV1V41r9wdjRQ6IbuKQ5AfcW8vatKTm06clFywaOmaytKP/lk3dKcrMHL/2TxuY5zTq3rYYtCUSpNB9Hs6hKUle9QKdSez0wslpVmZF6Qt59SMz4ZzjSoNoqEI/d6jBqGQI/X2rL2pf71q7kTrZFLZ70cro8M1/ZkZZe2VvBZVCQ1EqLv4y364dpDRiwrlxz+qv1qXFSdjCfdlFls7jxjV9OSenerHyq3mg/cLJwyeeHhQxqkpxdYnbmau1PPZq0fvuVXgrO7O5SLp2yP9+wKb0aAJY9EJwUcE1suTD8sa15r87r9/Lsvs2ZgM5gm/DMZrW2JkXBdWJ4WqW1d6Li91VTfH/IbE5McJr1x9+fFts9efab74sk8uN7tv72xfsx456JGPE47nbZdJU0Np/B99UUhCCIjE0fK8/uT+gzUBoQeP7oQafbnTjjbb/oJCqLU3uOvboSAFiSDt1k0ct9GwcahsyEtQpttuxIEMT/Pj8SJ2G+O/iaT8j6y5rPfj49dXR87dNkeZVp699ZKq0lIVo6eVTcNxvOWcyOrx8Kk3JoAHCpyrrsaNnfxwvGDYtp8jRQFCmuMJ44X/b2oMCUIB4AGOyeVw+Uogg80Dd81YnCVWerACAkgD+6T/h/xwswnKBc7+NqceECPrOZCsxscX74zbFRkcLnessRBMFw4pNTFf/7/MiIARE0als0Mo16aLbDoFn30ZJ1Hy0BAKZA0vOZT7zyiMH3u9s+inl7fhSKxB9u3MPlCwHg2O4/f3zv9fBhjyGy4NpzqCwOl9X0hAFJG9Oqq427DuSkXq1YMTwkXsoGAJXF9eqB0h83X3j7uUHeE9we7J/jhacvlLFYtIkjuogEzK83pE5PlEzrKgEApwd/92j5slX/7f9lRnO+y0UC5o+bzseImcuGBNEoKAD8dkW7fvvlj14f8cG3x57dWwQAVAoyZ2qPddsu62zu2gvNTgwnIEQhaM4vAQBWbzpfrbN89VCYP5cOAJka29uHy3YdzKndjNkwzXwqY/DFPed/dGXDe4umDAMAQJDgAePDhz0GACiNzvW/uzSVsSRTeXb/0+9+NnTiNACY8arpnSfGKc/ulXe7IWUQBCHrEDo7pAjr3BSXG4uUxneH3PAJmRrvtzNbfzS1xBt3/jlW8PzSfXQUCeDRt+zN+GbDOQInhoTyvAoMAJICOFF+rIMnC5sjwuC6bVHKddsiEYs6PJx/8HRx+t/P5xbrMnLVUj/OgJ7BOUXV2//J3nhV+3iilEZBrqqth0tM8x5Lbs5bA8CZS0qb0zMlXuz9CqGgyOQ4vzcPlmbkapISApo5uC+gFGq3mW9HjnrSWJxJ4/Alsb18z3vdAoHjmowzMxa+7VVgADBo3CObv/1UnX6SdDrqXLRZmdfBU0XxUrZXgQGAP5c+MIh34HiBV4RZbK4ZC7dfzFKFipg1TuznzReH9gujIMjELteyMgwqOj5G9OmpSnW1tTnWjV7boiWDA2nXVx4nx4m3ZekAgbRd84+fK3W4PH2Tgvwl3KIy/ZZsVRcpK4jPsLiwHy+oOSzayIHN3Vxy8EThwGCeV4EBQIKMnSBjHzxZ6KMIaz5+MckPLNtWnZPmdlhEEd3Yfk0PPpqMUzyxZMj4R70vOTzBg488ufGLD3DMQ9qH30uQ/y87N96nVrzOknJdn5Aaq/PlD/7uHcB5uW8Ak4pqrO5lR8v1DowgGHUHwet4Dd2JGqvz8Oliu8Pdv2dwaGA9O3oQAJyAW2yLvP92Oj12p8fu8GA4kRAtW/L8oOXfnzhYbObS0SqzK6WbYsGslKb/CrzvXs/vgQAf/FKaDOZyaDLPuG01ovCuzhq9TVvBkQWJo5I40qDGL24MBEFwDL/xmiBwAkegoy83kLQXCAK3lJXgBIEg15TQNxtSs/I1H48IiZOyMZzYmqX740wJBb2pFuXaZ6fBPzGCIC5lqbIKtAFS7pA+YbcXMCDXTqtzyfXjHgx3uDx2h9vlwgDg4zdGPvbS1hf3FwcLmGqLCxDkhw8f5jYvHQ7e38PNBTa+BDcvTUuDmZX5xtJsOlfIC4wy5F9CKBRpfF9ZYrNqW70ggABB1P1t4jgOCNLxlx1J7gpShHVuwoKEMaHinTn6bnK21yfkz4xqGhUd2jcMAA6dKrI5PE/1lDGpKADIOLRHE/y+PFN1tNT8cKzI+7x4rqKmSO9YPLihZ9A9R/JeX/GvzeHxvpw1ufv7C4fe4gs5anDk73+l17UtOlhoenBY7MxXth9LK/OeI/fjrP1kwrOP9xrWL/yvw7lWm6tfz+Dh/cIplOZa2PbvGcxh0bZk6l5K8UcRxI0R27P0AVJO1xhZ4xffPdU5aVfWL3NZzd6XXi8RABAERSXN/5glkjdncARFZYkD/t2yYfD4R7xtxo7s3FSjr+7afXDzZ05yTzJqcNQrxwuvqKzd/TkA/2fvrAOiyt4+fu50MzMMNTTS3SUoYRd297p2rrXW6urq2mt3d3chIiIoIg3S3TPABMN03fePYREpEdx9f7vL56+99557zrmz3MfnnvM8zxdUCGSx5Q1zJnlqrt4Lz+5nrmWnQwAAIBHQOHvtF4V8vkR5J4s71ZkBQZBEoX6Yx3Ox1dMUUm4TvkA65+eH8elVmkMjPfL5PSNtLb6oa2/C1LIypd3N/ixbdPNTHQoJyRUqr5GnNAYEgsDMMa5blga9ujz9UWReVn6NHoM0epBdB0N3nkF9rc7fSh5pKzOkYAEAqSxRdq1kfp+2BYW6iUouTbvwKzsjVnOIQCLVKhUAAIFC245abNqnu/Gmus6BhS8vv7pzZcCEGQCABh735a2Luk69e4Ri/2X0OGH/PGAYLizjyRUqKzM6GoXcvip02sp7858WO+vii+vlpTzplmVBGgVGoViBgEBTcjgAgIpDAQAoWvilz0s8DIgihTqNJRoQYDGg/Y2AojLe0l+f+TCJQ61pKASUVSu5eD/N2kx7+miXpjZKpVqhUCMgsPd9VXgBn4JFJlYJFWo4p7CuqISzNsDQx5BU2SA/8pE1c9X9uLtzrM21V83xbzGQSCwvLOMxaIQuFGslETBbVwSv+v1lLldqRcNm1Um5EuXpHcO7k23QHvIGfsqZDXbu3rPXbdfWM3j37P6Z7T+PmLnI0Tfw6Ial6Re3+iw/2s0hrEfM/3hg0fIRAW4BIXWsqvy0ROPeYT0F8XtoDl8gLauq19ch6WoTw/rZ3H+RveVNmas+EYOEkqtFpkbUuRMbd/mFIjmV+TlTEomAtPFoI2P6nayaZJbIhIJJZYvlMLixvaMi9ev2vMrKq1ntz9QjoYVy1cX0utlrHry9Mbv5K8auExEImIwy3tzHha76xGKerLReRsKjN+5/HWBCmeWqQ8Qgnxfwz99JtTbXnhrmPGGoAwBfbBTCMFxczpfIFFZm2l1I2Z4/2fNlTMGyFyUeBkSZCk5lifp6mQwP/XqgRReWwXIfneTlJ2n0iNgVpae2rq4syttx9fnTyydf3vqDbGhJ7+X8rX02h2pqZxI46sKujbHP7+sYGKa+i1IjUD6z53enzx7+B+nJjvxLqHj301/Uc0pm9eqdEbnFHACALp2waUnfkf1tC0q55+6kZOfXGuiSp4509ndvDN8uKOUGT7m4wEtvkGVjTdG976sKJepnZ6dee5zxNr4Eh0MND7UdM9CuA2fl9+Mxl+6k6BJQRTwZAICKQ+oQ0AgtwqvLMzQNHr7K3XY4ms0RAQDoOKQOEY1EQM56xBK+NKFKOMVJRyNqBACoapAveFJ09NchI0Jtmg+hVsP7z8WdvpGk+VZurm70TSR9qrp0L620km9lrj1rrJv910o+dm0DojjqZsHjU0fDE8lUmubMxT2b4148PP4qJTEq/I9VPwasu0hmWnSh5+ZI6+tK397lF6aj8CSm9yB916B/7jbEfzYr6i+yA3KFauvh6OuPM+QKNQKCBve13LW2Hx6Hvv0s82lUvkKhCvE3nxLmTCE1Rh388PPD7E+V+/qbYlEIAEABV7oyvOTAxoEMOvH6o3R2ncjJVm/2WLcO6iRzeGK34Sed9Ag5dRK5CoYAcNAlfKoRX9wzUlMQh8MTr/r9ZWRcMQwDFASMqVgsEsEgoFz0CUc/sokYxMWRlk2BYjtjK+sx2PCL01qM8imvZtWO8MyCOgAAg4r/eUHghKHfHMslEMquPkx//b4YjUYOC7EeO9i+M87ct5oCtVIRuW7Y8Gk/jluwSnOGw6paOsxv7qbdgcPHrRoTjNC1cpm+8Vsn3wIYhtlp0ZUfXyjFDVQLZ9M+o3HU/88ytt3kP2sHOqZnJeyfRHVNw+QVd5kE1KY+Rng04mk+b+nW59pUfKCX6Y6Voa3bW5rSxw22PxWenVcnNadhP1YJ01niPzYOZNAJS2f4dDISq6SCL1WoAQAbAg1JWOSLfH50qYAgbtyajE0sW/LrMz8j8jJXE4lSffNTXVm9/PAQcx0i+n4252Ol0Jz6Of7MgITGoRGsmpaaJMeuJhy6GD/Klu5vTK4QyK9kVE9dcS/8wtRv3ab0cGR6ODK/6RYAvohj6wwyfh1Nj9nkgQEAzKztw6+fUykVZrYaBaHa7jthOC2GzfB5Hbf51pn38O/g10Nvrj/KmOCg7WZAKuBIrsQVLdz09OqBMVPCnKeEtbH6snyW7+gFN1dFlAabUuplqoiiegdLxrAQaywG1dfbtDMj1nLFMACZNeLxDgxPJrGIL7uSVouAQBVbAABQq9UzVz8oKeUs9tI3o2I/VglvZ3JG22lPc9FRw/Cxj2wKFolu9i5bULHPShtaDFHHE09aekcbAzXZmVW/v6RT8f17f9urRCFhF0zxWjCl3Ro9rZmbMhr+xhBSpUSklIqbq4dp6zPJWjRODQuBQJjZOOSXVH7TtNsEgiB91yB9147SO7515j38r9HjhP2TuPooQ61Ub+5rRMIgAQB2Ovg1r8pOXksM9GrXku5e29/KjH7lfnpMRZ29pc6ZpaEDvzFCQqO9vSXIWAuHAgDYMfC1YkWlRPXsTf6hCx+yCurMqNjVvZka1RE7Bn7Oo8LwAv4UZ0ZClQiJRCRUCZuKtX6qkUgValvLL+JIFErVqetJgy2pM1x1AQBW2ngDMmZtROmb+BKNutxfR01mXFH4RV5JFpaoxfQZbDVktkYDrmPIhr2KX9+oLM43NG8sQpYcE8k0s0ShMckxkRCEIOt/pVhuN4FhuPz949Kom0J2GZHBNOkzxrTvWAjx/Tdee/gfhFcvuf740yRHhmaB2ZKOI2ORu9+VZRXUtrf062Sjd/fYhH1n399MKifg0RNGOK2Y7YfFfIPxp2vhEBAYa6890YkBALDUxtPxqG3RFSKxYtXvLx9E5Mjkql+DjV31iZqrSjX8NI83zkH7U40YBqBOrORLlZpYCDUMJ1aLWk/15tNMsVRxqL9Fk53hSJUnriR8qxP2rfAF0syb+6qTXimlYrqVq+WQHzqzjYgmkvFUnZS3r7xDBmvOFHxKFfA4Jla2Uon408d3DNd+f+m0AQCimvK8J6drP70DAOg49rYePve7ZAX18DfT44T9k8gt4tho4zQeGAAAAUFueoQ3hR0pN6NQiG/9LmwBAYe2pOM0lhEAAEGQJ5NUmMWdt/GJuwGRiEZ4MkmIP7/DiBikLQOfyhJVNcgza8QhfubP4opRCMjXiFwukN3I5Dhb6wZ4mDTvv44r5gmkHq6fPTNbBp6IReYWcf5SJ+xlbGHSyQO2bj4jJ/zGrih5dedKQ2W+58L9X/2m1HcNLnx+oVGPyMAo5smdhNfPw35Y8uDs4XunDzK9B+Jof0k2QBOFLy/nPzntO2C4g9fCvLTEmPtHpPxa21GL/tJBe/gfoaSCr1Cqm8qcAgA8mCQAQE5hXQf77862ehf3fF0ruj249VI1DJoP6m5ABAAcv5aokimctHHJLJGLHqHZVdLdLO7dTM7TfJ62Fk6lhje/qRhvTydikM/zeXkcyab1LVUOc4vqrLS/sDNuesSHHRq37iOTKwPmRcp5rCGTZlEZOtGPbyccWe695OBXa8FACKRZ6OTouwexOLzPgOGssuLbx/boMI3VKtWO+ZOkEolJn67/2p1ByquJP7iIRCSOW7ASABBx+3L8gYX+q8/+o/cr/5v0OGH/JJi6pI+JcoUKbqoKVsCTalRyvyPhMYU7jr1l1woJeMzkMCdzY2p0XJFMqcb+GTeWz5EAAPc2Jq/uzZz5oCCPI2m6V6mGC7nSepmKK1FqE1AAwKt/9D9xNfFRLg8BQf0DLHat6dcirZKmhcdjUQVcqadh44JZpUAukqkMm4Xna/SIKqoFVubas8e7u9h2K/0QAADD8IrDmY7eAT8fvYJAIAAADl699yybyc1P1rb+StEyJAbrufiPzBu7j/+yAgCAwuIhBPLh2cNINNbQZ7Dt6MVdmEx1cmRV/HOFWKBl6mAWPJ7AaHdTVSERFkdcGTp93pTlGwEAoWOmGJia3znxh3noxM6UhJUL+RnXdvEL0wCAyUY2jpPXdqeUUQ9/Pwa6ZAgCBVypBa1x1TafIwUAGH5XOyAQytbujoiJL1WpYXtr3Q0LApAIqIArtfuzFFkhVwoA4PElR4ZapLJEidWiYr6saUoFXCkEwK0sjhUdl8+Vnto+/PjVhN3vqgAATB3S4c1DWm+DMnXJr/iy5namgCdtbgQ0ekRv4ooxGOSwEOvJI5y+aTGvTZ69ya8vz/vtylMLe2cAQOiYKRunDS98ccFz4b6v3mvad4xaKX/z9OrLWxcBBKGweKW05sDqeRRDS8+F+7qwKCWuqyqJulVfmokmaDF9Bhm4h3bwQVgSfQcJq3dceUqm0QEAQWETVoT1KYm+Yxu2oDNjlb9/XBh+SSVpQOJI5v2mmP7FLmMPHdDjhP2TmBzmfPFe2sH4qmnOugQ04kkeL7lKdPCHwO84xNlbKb8eekPFI/0NScU82cEL8R6OBlIlvP9D9UwXHTIW+SKfH1chBACEWGhBEKSGQRpbfC29drgNXaJUX06rFchUVnTcrv6m97I5D9MqL+4ZNXeiR2lVvTYVz2hLRAWHRY0f6nDzcYYeCa2JCTueyNah4Zu2TS/dS9uw/7U5HWdFw8Z9KHoUmXvit+EDA7tV11EglAkqC/ssWIb4cxfPNSCERKVzC9K+6oQBAAjaBl6L/pDW1ynFQoKOoUoulfJrcTRdNL4rafZZt/8oi7lv6+GnZ+WcHBNZnfjSa+khimHbu8aCinylTNJ3+Gel3j7Dx986uodfkqXn/JW/BLm4IWbbJKVM4t6nHwqNSYwKf7djuv/PF4g9Rbf/OejrkAYE9LqSUErFIt0MiHkc6fFElo25trfzN0dDtodYKg8Yf44vkHoyiXg08sOnqnGLb/fxNrmRUkHHo7wMSUU82dEEFgmPNiWhDCmYlGohEgIH4qoXeeub07AfK4U3MupgAHb3N7Gg4cffzuXwxY9OTapgCaQypbkRtc1Yz4nDHE9eT/rCzpQ37FzdGOpaxxOPnHudXSf0ZpKkQvWvB6PD3xZc3j+6m3oYeyKxhr1sNR4YAACFxgQOHXPjyO7O3AtBkEW/yaZ9x4jrqjBECoZMF9dWQBCiawpCgsqCjweX4HBY98BQdkVZ2oVfeUUZDuNWtNeeX5Tu3qefxgMDAFBo2h59+mVmp3VmrMw7B8qi7+oZmzkEhWQnfci6vV9Qnus05edvnXMP34UeJ+yfhI259sFfBq/dFRHzuBAAgEJCS6Z7jxpg+736V6vVu07E2DDw20KMNWq7V9Jrb3+qXr8g4MiljxrVEQQETR/lcul+GlesBADQcEgqDnkni3MzkwMAwKMQNDzSWAuLREAciZJMxAIAcFhUx9rAGxYGsmuFTepGTF3Sxd0jNLK79Q3SbUeiB1lS53s26hH9Hlu5aX9kP/9uVRfDYlAIJIpXy2o6IxE2SEXC5l6UrIFXGf9cXFdJ1DUx9BmEIbbUVMFpMYAWAwCAQKG7LOBYX55bFnN/5trfNNWAxA2CX2aOzHt4wnPh3jbbo3FEAAC3hmXUqzHDlFvDAgCgOuH/Zd3ar5CItpx/YOXsDgCoKilcN2lgxtUdvt2uqdHD38men/vP3fB4e0xj6Le1Kf3szhHfMTR7x7FYnkC6NdhYU3WMLVQse17MqhW5OxnuftdY88/cSKuvq25KchkMw2QsUgUDiVK9JqJUc9WMii3hy3SJGJ5UqYaBxg50vGZvZkQ9sW3oT9vDm+zM3Ikek0c0bgseu5rA4YoODTLTI2EAABls0cbX5Y8j80YPtOvOk6LwxDpurVKhQKEb9S247Go04fOrBKvVdTkJtZlxAIHQd+lL6+Xc4ndGorFkg8YYUGIzVbFvJffBMR19g60XHxJIZABA+M0LF3dtMvYbRjFqW/0WhSNya6qbn+Gwq1G4rxsBpURY+e6hT7+hS34/ikAi1Wr1iV9WvA9/aD18HpZC++rtPXx3epywfxhh/WxC/c2j40vkCpWfu/F3qXDYRFImSyJXjbSlY/70b8bY0e9kcrIL6xIezI3+WCKRKn1djZh65PLq+tufKu118cHmWpfTahd56yMhCImAqgSya584QWaUNJbodbFg7mTPzoyLx6FP/z4it5iTnsPWoRECPE2aSma8Ty6XylVj7bWb9IhG2dLXR5Zl5tc6d2NTEodF6buFPLl00sm3j5mNg0wiubR3i1qt1ncP0TTgFqYnn1wDq5SG5lYFH18UvbzksWAv1bRbFr9Naj69J5C1QsdM0RwSyJSBE2ee/32DSiFDorGt25ONrChMi+uHfjfqZUPX1a/n1l3Zv5Wgrd+ZaGJOXpK9l7/GAwMAMM16+Q0YERfx9Ds+Tg9/AzQt/K3D49Jz2HklXCN9so+LUYst/m4S8a7Iko7TeGAAAD0SOtRC62UR9+XFaZ/yarIL6wx0SP7uxgnplU/f5N/O4gyxpBHQCFMtzA9uumKFmoRFnEmqcdUnYJDQsQQWmYDp59+pVJWBfSwTvEyb25mmSy/fFgSakPX+1CNy0iPa6eCDdlD9AAAgAElEQVRfxhZ20wljevYvfnXt1tHd4xetRqEx2cnxkfeuGfYO01xVq5SpZzexM2J1jcyUCnnpm9vGvUc4TFj13VMRVXJZXU7C7PU7NB4YAKDfmKm3j+2tyXjXnhNm4DUg/dJv0Y9uBQ4bCwCIeXw7OynOZfqmr45V8fGFSqkcMWsRAokEACAQiJE/LIl9dq/8/SPLQTO+3zP10Fl6nLB/HiQCZmhwV3QeYRhOy2ZnFdTq65D6eJm2rg3W2pI3CQER8OjBfT+bg99Xh05YfHvxs2IjLSyAwKF4lg4RLVOqBTIVBgUdS2SzGuS+LoZLprcMv22BSqWOTSyrZDdYmdE9nZjtLZjBrf67+2bQdvTixCPL108apG/ai1/HlkkkTlPW4bQYAABYrcq4tM3c1mHlvjNkKq2eW7dn2ayMy78FbLgib+DVZsdDEKRj54sht6yr1FBdzC/+hCZQdOx9kZg2XKjWaMSImpfrg9VwB48HQZDT9E2JR39aOtRP39SCXV6MQGE95u/ubB3tFqIuanV7DXv4XwaCIBc7fRc7/S7cyxdIoz4UyxXqQE+TNgsjt/7jU//5Z+NordukQuHjarR0hs+hi/FP8/kYFCKxSpTGFuuSMBX1MgQEkEho9qNCGEAntw8jfk2PqJItiE0ow2JRwb5mze1Msym1FGZSw92V8ZqbMppiCGxHLnpy6WjUw5sEslZtRQm9l5Pl4JmaBuWxD2sz437ad8YjaAAMw1H3r53dvk7H3lfX0Z+Tlyzhsoi6Jq3XxjSCZkqJkNbLhaRn0tbIbQFBcDPZNRiGYbijJ2R69OfkJp3csvLmsb0Ahvm1LCOfwQYenUnJbGlw1LBaM4HOTrWH70qPE/Zfob5BOnf94/cpFZpDIz3y+d0jbXt9US3CzV6fgEXdy+a4GzSqjtzJ4sAAzBnv3qI3Qz1KxOXpj1/nfcqtySqoiU+rqhUpAABoFKKPj6kpk+rv8XU9oqIy3sw194sr6jWHHg7653aNpFPxzdv09jAhYFG3PtUt9G7SI+IY6pK+Woi1Y+amjMaSgd+q06y0aH5JprEjlek1gKDdGFXDK8wQc1lTD5zWFAPTojMmLfl5+/yJ2XcOlr97qFYpAQAIFNombIFZUGNsllohT7+6ozopUnOIJVFdZv2qbd3yd2uNrnNA/rOzEbcuDp4yBwAgFPBf3DivY+fT5jKYBoqhZeDGq1WJESJ2mbXrQKbXAAyp3TKbzWHYemcmvsxJjrd19wEAVBTmxkc8IZt8/+W9Hv5nuf08a8PeSE3dGQQELZjiuXZe7xZuxMA+vc7dTk3+s7hMdYM8qlhg86Wt0LD6R/8hQZZPXudVsRui4op5DbKKehkAwNyI6utubGKg9VU9IhiGdxyPPXU9SePn4bGonWv6tV7fGhRkdfluyghbOpOMAQCkVIty6ySLv4cekXnoRB1736qkV0qZ2H3wXB0HvyZ57OqkCPe+/T2DBwIAIAgKHTP19f0bZbEP8x+famCVaNrQzB3c5uzAUhpjs2qz4tMvbW0SNDPyGewwac1X9baRGKyOnfeLG+f8Bo0gUagAgJe3LkiEgg6iPCEEwmnKOiPfoTUZsQAAG6eA1u5gmxj5DM57cOTB2UPLdp1AolBqler+6UMIJNIkYORX7+3hr6DHCfuvsHHf6/Ss6vWBhp5MUilfdiiBNXP1/Zhbs5tHtiIQiA2L+2za/3rOo0IPJrGIKyutlwX5mLW58YfHoccPcUAioPN3U6c4MYbb0CRK+HJabeT74ufnpjhYfaVMg1oNz177QNEg3TPA1JKOS6kWHfrIWrkj/PzuL2wBhYTdvCxo7e5XOVypFQ33qVbClSjP7hzRfblJAAACjdFzDiTpmaJJWs0FH5VSEQCAqv3Zz6Pq6AIASt/eHTp9XtjsxbAavnf6QPj1Q2RmL42nlf/ifE3623mb9/YeMqq2quLcjvUpp9f12XIbQ/xKzhrF0NI0aNzlfb/GvXysZ2yaEhulVKm9p2xu3gaGYRGrFIbVJH0zTT0wNIHcBXE6h3HL67Lits0d7+zXF43Bprx9BaHQTlPXf2s/PfxD+ZRXs3JHeIiZ1jQXHRwKepzLO3olwdpcu4XTs25+4MOI3F+jK1z0CUQ0IqFSBCGgg5sGtdmng5Wutbl2wLhzNDT0yyAzUy1sQpXw8EeWWCxfOPXrlXFuPcs6cS1xmrPOUGuaRKG6mFa74rdweyudFqqUCyZ7vnxbsOxFiacBUapUp7BEQd6mw7q0IaCheYl8koGZke8QpVRE0jdr7jCppGIq44uPPRpDp/xjnLaO7qoLD3o5umV+jD22aUXGlR2aCE5pfV3K2Q2OXr1nrt1K09F7+/j2hV2/4HWMLAdO/+p8bEYu+nhw8fIRgW4Bwezy0oKMZLOg8WTmF+lHciFfwmPj6fqa+FQIguiWLnRLl3a6bBsUjmDSZ2xi1M0VIwLsvfxzkuNrKstMAkZ+1VL18BeB3LJly//3HP6FCMrD/7+n8AV8gXTljvCpTowQCyoCgmh4lC0DdyutxsVOv5fJF8GYLnb6rvb6KTk1uWwRAodeNM175+qOlrjX73nFRIOF3vpoJAKPRngxSZHFAqkSDv1aFMiH1IpTN5LXBxraMggQBDHJGDIacTO+YuIwR00YbxNONnoBniY19bIaqcrTzWjPugHeLt3N5nvMsoNhuCjiSurp9SXRd0uibvEL0+hW7prAfDSRUhp9B0cg2Hs2Clw+On+0MDPd2MpuxZ6TWBwei8O7+Ad9jHzOZ1fpuwXDanXahS0Dxk7VRFqQqTSX3kFPL53EUrQ7I/jIsPMmM3vVVZbUVFdr2/s7TVlH1P2c387JS0o6sbrgxYWy2AfVSRF4hmGX438RaIyR/whxXWV5ZjK7opxm6eq1cC+e3pUtrW9iinenN2X+Xfyv2YEDFz5UlXO3BhsTMEg0EuGgS8jjSDJK+ROHOTZvhkIhpo92rmIL04q5bLHKw9nw8r5RFib09rqNfF989VHGliAjcxoOAUFGFCwaAd36UD5zjKsmvaYDft4dYYKF5nvpo5EQHo30MiRFFNUr1XCw7xcGBI9DjxpgR8BjijhiHJW4cIrXuoWB6G8Xl2ziMavR7xRWlySfXJ3z8ET5u4eV7x4gcUQtk8ZUp4aqosKPr4NGTsRgcQCA2uqKy/u2KmWS5btP2Lr7QBCkZ2RK1daJvnXG0HsQmkAui7lfX5T+64X7NB09JAplYe/CrWFlvX1mFjzhq/PBkmkG7v2UCnlFQa4CQ7IePs8seFzTypZSJsm8uTfjyo6y2AelUbckXDbDxvOrC2ztwbDzJmgz2fmpZbmfFBDKdtTivyca7D9rBzqmZyXsP0EtV6RUwU1VfAAAJlpYBASqa1qKhwAAgn3NW1jADqhiN/TW/dwtEgGZamFYtS27bS2wU10jBACY03BNVy1oOBgG7DqRgW7LOBVvZ0Nv5+9cRqE0+m7e41PDrWmBpjosofxSRmbikWW9119GoNAYEtU8dNK9Uwcqiwts3bwzE94nRr3AaTEsHV2angKCIDNbh6zsPACASiGTiwTNNUy06Ayqjp6UX9uZmUAQpO/aV9+1b+tLQlZJ0om11s7uIzbtQCARTy6dTD69zu+nk1omNq0bfxUYhjEEstvsrV24t+NuQY9wyj8BVo3QhIJBNov9NKdhP7RlBAg4THtLX212i4CAqdbnbycLGk6pgut4YirlCwmKNu1AsAG+6RIKAZlQMNW1LZXNAABUCm7JdO+vhpl2hqZlMIW4IeHwEgZCNjfAkIZDRhTWR97ciyZSDNyCAQDm/SbFpbxeP3lIyKhJCrks8u5VJI6olMtMbT+/6WZ2jgAAKb+WwGBK+bUMpjGR/DmN2szW4fX9a52UF8PT9dorufzp2i5OVtzk5ett3byzk+JvH9+rVso7E4bfJjAMG3oPNPQe2LXbO+i2xwh0gR4n7D+BkT6FiEcnVgkddBsrdaVUi9QwsGsrzuObsLfSTc6tnuzE0Fh2oVyVXSed0//zGn7424JDF+Iz8mt0aITJYc6Lp3lpSixqhj6WwMquldSKFMZaGEMyBotGdqAi/L2YmzIaVqtLXl0JMdea46EHALBh4E20sMtflLAzYjX212roHBxVJ+vt3YTXL0h6Jk6Tf+YUpKbFvVUq5Cg0BgAgl0oz4mMptr4AACQGR9QxTImJDBw6RjNERWEup7rCaEC3ipkBAEqj75K0qGuPXNJ8i9u5+64cHVzy5ta32l9uQVrB83PcgjQ0nmjg2d9qyA9drqnRHCm/Nu/JaXbqG7VSoWPvazVsTosNlB7+p7DtxTiXUCqUqzSqGyo1nMIS29l2t1qvrSVDDYOUalGTQFlilZBEQDeVWq3jifecevfwVa5MrgzwMFk9t3dThIO9pU5cLquAJ01jiVAIhI8hKadOHDKku3apk1QmhMtF9b8Ot2AQ0AAAWwaeI1WVvLykMQIEbabPiuMFT8/eO30IQiJ1Xfraeg/6eGhpaszrgKGNblxKTCQCiSLpmQIAyIa9MmPvsytK9YxMAQAwDKfERFKYvbrpmog5VdXJkT9u2h08ahIAwMLeBYPFnd+10XrYXDz9GzLElTJJwfPzVfHP5SIB1dzBctBMht138GhhGK748LQ06mYDq5TIYJoEju5RUfsmepyw/wR4HPqH8e5HLsUDALwNScV82fVPHC8nA0+n7hZ4nD/Zc8LSO7/HVg6zpkkU6jvZHCQKOTWssbrPw4icxb8+d9EnzvXQK6+XHb0Un1NYe3rHCACAnaUOU5f0tkQQYk6x1qYnVYviKoQ+LoYtPp3/IpRSkaSe01zt25yGo+BQDZWFGvsLQZBJwMjmwaoUE5u4vZE7F08fNn0erFY/unBcWM937jtW09i835QP13cTSJSAIaNqq8pvHd9H1DXSd2ljceubEFYXOXr7azwwAAAKjXbx65Pw4cM3dcItSEs4stzE2m7oyl94teyI25fqS7J8Vhzr8naGBoW44ePBxUhYMXLWQgwOH3nvavyBRX6rTnenWlIPfylTw5wv3End/KZ8rJ02Ho14kscr4cl2d66OTAd4OTE9HQ0OxLMmOWqbUbEfK4UPc7hLZvjgcWgAgFiiGLfoVk1Nw9BeWiQMMjKfNXbRrQcnJ2pya4aGWK1NKFWp4ekuumKF+kkeV6kGYf27stDbSZpHgzVUFJhQMBoPDGg02QwI6anFTQ1Ieiaus39tfruec+DZ39cLeHVWzh4ZH2Lunz1k6DdUkyht4BFaGH5x56JpY+f/RNfVj350KyUm0mXGF/GdXUBYXQIAcOkd3HTGNSAY7ISF7JLOO2GwWp18al1DWVbomKm6RibvXzxMPL7afd5OXQe/bk6v+NW13EcnvPsNdZw1Nz89Keb+EQmPbTd6STe7/e/Q44T9G8gprDt7Ozkzr4apR5k20rmvj1nrNj/N9oVh+Oyt5HvZXAQEDerba9ea/t1fPfZ1Mzq+bei2w9Gbo8oBAI5WOtfX9tfsJ6rV8O6T73yNSD8HGGoGsmXg978tTMthu9jqVbAE1bXCWW66YbZ0AMAgK9qxBNaHwjqpTPnVOJLug8DgkAhEIVcaYNIYjlorUjRIlXSFrL1bKIaWrrN+/XR9995lswAAaKKW6w/bSPqNP7WR3zCVTPLu5eXX964CAIi6xigcIeHoch3HAJPAkShsG1IBnQFL0yvKymha54dhuCAzDdtpbcr6spySN3fqMt/jicTJyzY4evcGAHgGDdw8M4ydHqNxN7tM+fvH0vra/fejdZjGAICQ0ZNXjw0tirjaU3r7/wWpTHnjyacnkbkKpTrE33zGaNfW3zNMPfL1g2PW7orYGVsJADDSI5/4baiPa3dVnyEIOrcr7Oc9r05FF6phmIhHL5rmvWKWr+bqvZfZReW8g4PNTbSwAIBBltQV4SWHLnw48dtwAMC7xHIGEb1/kBkOhQAA9DGlLHleHB1famHcbgjad0QpFdU0yCUKFf7P8LICrhSJ6sj+OE/fmHL2l6sHtiMghBpW67kG249ZprmEwhK8Fh/IvL776IYlAAAMUYtibFP65mZtVpxp37FdrjKo0aItzk6n6zaGbxZlpQMA8NROeWBKmaQ89mHVx+dCVmmf4WPHzv8JTyT1Hztt+/xJBc/OdtMJU8rERS8vD5r8w/RVWwAA/cZOY5pZ3jq+zzx0kqbcTw9fpWfN8B9PbGLZ0DlXX7/J11PKC7Iqp668f/J6YutmSCRizdzeyY/mRVyclvRo7snfhn+vNachQVaxt2ZHXp4ec3PWs3NTmoQdWbXCMpYg1EKrydULMKFgUYj41AoAQGJGFQyDUIvP8RP9LLTqhbLcYs53mVV7aL6D1QqZSq1+lMd/VcSXKdUlfOm+DywIAXWwOKSUigtfXFDLxJ4hgzyCBiglDYUvLihljbqZEASZBY8P2nrXd+UJCrOXlMeytrToZWpU8OxMwqFlSpm4a7M16R1WXVJw/vcN/LoaAY9z9Y9tJdnpnUwmZ6fHxO2br6jK8R8wlMrQ2zF/4ut71wAAVs7u+qa9uAWpXZtSE9zCNAev3hoPDABAIJF9+w3lF3a32x66gFyhmr7y/pYDb9QcAUEoOnwhPmzudS5f0rqli53+8/NTY27Oirw8PfbW7DaLcnUBmhb+5G/Dkx7Njbg4Lenh3DVzezflL39IqdBs92sOsShEgAn5w5+1cj6kVASakHF/1iw0pGDsdfAfUiu/y6xa03wZDAAAoTBKNdgbx6pukEsU6ke53OhSgVKp7KCH6qTIuux4pplV4PCxDANjdlp0bdbnlWmijpH30kNBW+9YDflBLqonoWFXN1cVK//D/gWs1DddmzPF0JLey/nczk2fPsYqFYqMD28v7tmibeVGMmjjY7sFSpkk4fCy/KenbGytPYIGxD67v+3HcRKREIFE9h0xrr4st8mCdQ1BRYFCKgoa8TnzoO+I8bBKyS/+1J1u/1P0rIT9s4FheOO+SBs6bnNfIzQSAcPw+ZSanSfejR5op0NvLHhdxW64/TyTXSeys9QZNcDWtttxYK1BIhHW5toAgE95NQ9f5Yolit4exj4uhhAENOpGGhrkKoVKTSFhswpqn73JBwBwJUpNeAoAgCNWAgDIX6vr2AE1HNGd51kVLEEvU/qYgXYdeJkIFBpCIA0trA/HZx+OZwEAqDQ6hJC3rr/aRGnMPRGr5LfLT0ys7QAARVnpv8wIq4h70lQqDACAQGN4hemi2rJtlx6b2TgAAEpyMzdNG14e+8g8dGIHMxfVlFd+fKEQCajmDvpuwU1FwuiWLg7jV0bdP/LqzmXNtG1GLtSx9/3qT6FWKbNv73cLCFmx9xQShYJh+NTW1Vf2b/UbOAKNwTTwufo2xK920jEoHJHLLm8ejcutZSHxJIVEWJXwsqG6CE/VM/Qd3PNB/DfwICInLrVie6iJoy4BAFDVIF/1svTUjaSf5wdoGiiV6pexhe+Sygl4dFg/m6aCq98XBo3AoBGEYvnlB+nZBbX6OqSxg+wpJCxPqlLDMKLp70SsJBExIrH8fkSOTK7kiD8nOcIwzJWq7IldNwJqNfwmviTqQwkajRgaZNU85KA1OC1tLJGUXQ80WkkQBBlb2rFZrPbaKyWinPtHgkdNmrNxFwRBKqVy/6ofs2//0by6GAAATSCXvL7RZ/i4uZv3IhAIlVJ5YM38zDsHdZ0COvjMUylkrJQofnEmmqhl6D2w+ba+y4zNyWfW75g/SXNINbV1nvFLZ36N8vePGioLtl58aG7nBAAoy8veNH34qzuXh89YwK1hIdEYBArdmX7aA40nAgC4tSyNVQQA8GrZAAAklsgtTGenRcNqlY6DH8PGqydKrD16nLB/NsXl/MJy/qa+RmgkAgAAQdA4B8bDXN6b+NJxg+0BAOExhQt/eYIEwICMufow/fDF+FtHxpkZ/iXB7wcvfNh7Jo5GQJEwyEv307ycDIK8Te9kVjnqEYwoWIlCfTqJjUEjy6rqV++M0MIhUQjoVCL750BDEgZZK1Jc+1TnYqtrYdJF/bK4lPKZqx+olGpDLcz1R7KD5z/cODS2vZquSDTWwD2EW5i8Yu9psVCAJ5KSol/GPn9g4B7aXv+1Ge88+vZvsjUW9s6uAcGl6THNnTAAQG1GrHtgP7M/MyXNbBzcAkOLPsV24ISVv3+ceWMvnkyhMfTSYx8UR17zWnwQS278HUwCR+q7h9RlfwSwWtvWq+l8xwjK8yT8urDZizR7KxAEjfxhSfTDmxkf3ualJYrqeUzPAZ3ppwMMvQYkHl/9/NqZQRNnQwhE0puXCZHPzUImxm6fKhfWG/ayLkl8Wfjyotuc7QAEdHOsHjomIrbQQZfg+GfaDZOM6W1MehGdr3HCRGL51J/uJX6qNqZihXLViWuJq+b4LZv5dVe+C5RU8McvucWuE5nRcNUN8oMXPvz0gz+rQX47kzPWXhuJgFKqRdGlgmmjXUOmXGTVCbVwqLelgkBTiocBUQ2DBzncynrZmEFd3LmTyZU/rn8c9aGEScHKVerTN5Jnj3PbsrSv5juhxTIYAIDpNaA48vrgKXOsnNzlMikagz21dQ3Tf0R7/XPyk5VScdjsxY0qaihU2KxFKbNGCcrzmhej4eanKqSikT8sQSAQTc2S3oyoL8uhmTu22bNMwE04uqKhqsjQwqaullX08rLDxFXG/sM1V3E0Xb9Vp3mF6eK6SoKOEc3CqZORJLUZ71z8gzQeGADAxNrOLTA0MSrcySfw2ZUz+u6h3QwMJRlYUAwtrx/aaWJlR9fVb+BxL+/bitNisFKjKt4/pukaIFHo0ui7+i59XGb9+vXu/pP0OGH/bBrfRLjtq0KxfNnW5+76xOU++ng0kiWU/xpd8fOuiBuHxrV9Q/sIxfKoDyViicLf3cjYoKWUNQAgLZu190zcBEftCQ4MJAL6VCPe9rZiwnDHojLe4mfFJlRcrUghV8Fr5vrvOB47zkF7oiMjs0b829uKmfcLDMiYSoFcm4bfv6GzWfEtUChVSzY/66WFWdvbkIxFcsWKbTGVy7Y+f3lxWnNr1dwK245anHBk+R+rfjQwt+LXsqRisePktd+0bAPDbekLQRD8pTSQ5hCGYV5Bmqi2nKhjTLP8XOpCwmVn3twXMnrytFWbMVhcaV7W9vmTch8cc562oakHDJHC9OyMIEmzQZsN3TQPAMCxX36SS0S2oxd3Zi+jYxh2PmZB46/s2/r4wgk0FltXVa7r1JtbkEKn09ddf6atzxQ3CA6tW5R+aZt03yIc7u/It+ihCbhZ0ZDDlz5+ymXvCDVx0CWo1PDNzLq9Z+KCfM1dvlF9FYbh9Bx2VkEtU5cc4GnSZsHkNTsjIJnixDALPRJGolAd+FB95FL8gimex68mPivgEzDIqnpZb3fj7MJatVR+bKgFg4DaFl2xLbpCh4BSAognViya6uXn1sXcjot3095+LN3Yx8iTSYQBeJrHO3M7JdjHLMi37b92iqGlTdiC51ePx2jRiVpa7LJimrmj5aCZ7Q7Q6n1v8bK3R1MzmYBbl/MRQJCOva+m5qqGnAdHgaR+542XJtZ2cpn00p4tUTf3Mey8m4pId600q1zIA+ALLTgYhktyP62fPJhi2Ms2bOE39dYaCIKcpm1IPPbT0qF+BmaW7LIiCIkyC52S//T07PU7QkZPgSAoIerFwTXzy98/BsuCujncv5IeJ+yfjZkR1dKEdj+X66xPwCARMAzfyqxDIRHBvmYAgFfvikQSxY/uJpqwU30SZry99oEPFew6od63KH8/e5O/cke4UKwAAEAQmDXWbfOSvi00g++FZzNIaI0HBgBw1CWEmFFevi2MvjHrUWReRi5bV5s4ZpDd2Vsp2kT0JEcGEgG56BNPj+i1M6aypEGx9afgUQNsW5Rp7TzvkyvYXPHPg8zIWCQAgE5AT3VibI2uyC3itLf9iqXQ/VefYaW+4ZVkGtoFGnoOIOh0VIpM1ykg6fm50rwsU2t7AEBRVlrauzc2I1taMV3HgJQnp4qzMzRfn8XZGamxr81CJ8ft/bG+LFfTRsvIyn3uTk28bXVyJBqDmbJioyYF0tTafujUH++c/MNx8trufKQikEgEEvnw3JEVe0+j0Gi1Wv3g7GEEAkGz8bIe+kNTPkF3gCDIbswSA49QVuobtUppPnI5jq4f89uUmXtPaeszAQAEMmX6qi2rRgeFh4eHhYV1f8Qe2mNAoOVPbwsz2CInPSIAoFIgf1cunPWn2tjdF1mhZlqa8jRIBDTBgRFZLLgfnv1NTlgL3TNTA8q53SOtvxR7ZdUJ41IrVvgZaJS28WjkHHe9OY8KHSx1Xpyf8uhVrlSmDPQydbTW8Rp1ZqmPgQEZAwDYEmwcXSI48KE61N/8p9l+bepzdJK7L7L8jEhehiQAAATAMGvaq2LBvZfZQb5mrZfBNFj0m6zj4FedGKGUid36/6Dr1LuD907byh2FI9w/c+jHTbsRCIRSoXh0/iiepksx/qJ2P93KFY0n3j9zcN6W/ZrtyIfnjuCpOpz8lI8Hl2h0z5BojM3IRRrdC7VSwUqJGr9gpWahHYPFTVmxMfbZverk1xahk7r8awAA1Gp1amxUUVaahb0LAKAkNzP5bQSExrnMWKvv0heB7vq2bxMUQ8vADVerEl4K2aWWTqGG3oM+3dxrbu/Sb+w0TQPvkMHugf2KEl92f6x/JT1O2D8bCIJ+WxkyY9WDBU+LXXQJRfWyYq500+I+DBoBANAgkiMgoNUs2ZCGRwEAhGJ5m3auliuq4YhMDamkZoFZxeW8RZufeTOJs/uZkDDIFwW8c7dTepnQpo/64ptMKJZTsajmdSBpeJSwUoTHoScMdZgw1KGpmRYW2dSMikN5GZJKc3gtevtWhCIZAICOb/mkDaJ2sx0BAAg0huk1gOnVqY05k8BRrNSojVOHuQWGwrA6Jea1lrFN08LLmdYAACAASURBVH5BE8YBI1gpr3+ZEeYaEAIASI19TTa05OYnIWQNG07etHP3yUn5eGzT8tQLW3xXHAMAKKViHIGExX9On6QydFUKuVqp6I4TppLL1CpV2vs3q0YH2Xn4FmSkVBbnAwCYHqFtemAKcYOEy8Jp6XQQFdcmVDP7po0YQXkeAIDG+BxvRGXoAgAEAkGXH6SHzhDWz+bu88xfosrdDUhYJJRQLTI2oMyb5KG5KhTJaczPkqxIBETFoRrE8ja7UihVhaU8HA7VImhh/d7IjD91z4p50kMJ7FlrHkRfn4VCfV4PE4nlAAAa7vPfLRWHRECgQSx3sNJtkjIrqeADAGj4xlAwBAQFmFAOf2QF+7atkNZ5hGK5JeXz6BAE0bBIgbAjIwAAIBuYk4fP7Uz/KBzBdvSS6Gu78tKSrJ3dPyW859aw3H7Y1uJVRWEJtqOXxlzbmZ+RauPikZX0oa660rzflPzHp4ZNnz9i1iKVSnnv1B8Rt/4gM3vRLV3UKoVaqaDpfH52HIGIJRCVEtG3PH0bYAgUpJZo88yRrgEhEASlxLwmkLUQZAbTs3/rxjAMi2rKgBom6pl8UwgXmkA27Tum6VAlE9P1v/j/SNPVU+Xld/kp/t30xMr94+ntYfL03JQBITYcLM7OyejqH6PnTmw0vr6uhmoYRBU3KmTDMBxZVK/PIJoyW/5Dy6uXzN3w2DPs9KBZVz2Gn9x+LEapVGsu3XyaSUAjVvgZ6BDReDRilJ22vwn58r20Fj34uhkXcCRFPKnmUK5SR5cIfFttK/i6GhVxpQXcxmYKlTq6TODr3t0keU8nJgoJRRTym85EFtWTCOjmMWHtfQp3EhSO4L30kNWwuUXl1cUVNdZh872WHEBiWu6yobAEryUHrYbPK65gF1ewrYbPsxu3glf0aebqXx28/BFIpL2n38y1W3lFGYLKAgAA3dJVwK1NexeluV2tUkU/uk01sUVh8S1n8C1QjCzReKJPv6G27j6Vxfkm1nbBoyZDSBS1VUiKWqnIunMgauOod7tmv944Mu3iti6bfpK+GZZEjXpwo+lM9MObAIICA9vVIe7hu4BBIy/uHbVtRQhajyrTIi2f7ffw1CSaVuOfkJ+78duyBrmq8Y0u4koLOBI/tzZeutvPs3xHn+k/43LghPPDfriaXdAo+cDlS55G5U9yZPgYkZEIyFIbv9Rbv6xaEJNY2vx2UyZVT5sQUVTftPv2ulighoHPlzpjxgYUAx1iZLNm0SX1KjXc/WIZfu7G7yuEYoVKc8gSyjNqxP5uxt1895tj7DfMZ/lRoG2anpGJM3HyX3lSz6mNkEcj3yG+y48iGObpGZkYQ3u/lSeFlQUWjm6Tl28gaVG16IyZa3/TN+tV9u4hAACFJWiZ2Lx5eEutapx52ruoBm4d3cq1m7OlW7nJZNKRPywVCeqFfN7IOUsUcjndyr11S05e8rsd02J+mxqzY1rM9inNUz6/FZqla3rcWw6rSnMoFPDjI59TLbv7LP9WelbC/g3YmGvvWtvGl42VmfaYgXYnInLyuBJzKi6hSphSLdq3fkDzj1cAAAzDc35+lJNfM89D15yGS6wSnr6ehIDAugWBAICqmgYjCgbTLP7DkoZ7WFjfYqxAT2M0Elr/qmyINZWCRUUW8SsF8lmtDP3QYKtT1xN/eVM+0EKLikNFlQhYQuXR2d0tGKjHIM0a63bmVnK5QG6rjU9jiz5UCDcuCiR2I9eyNSgswTx0Ysd5jgAAFBZvHjLBPKQxbbs2Kx78KW+iwdzOGQAg5ddSDC21rd0ZNp5/rJ4XOmaKLtP4ffijwk+pHvN3d3+qFgOmxz087hE0MGDImLz0pKgH182DJ7QOesu+e6gy/umYucsdvQMLM1NvHduTdmmrx7xdXRgUgcb0Gjzrze0/+HW1rr2DCzNTY5/dM+49wszsO+x+9tAxWAxq+miX6aPbWFFePst39IKbqyPKgs0oApkyvLDerhejtfr1q3dFP20PDzQhL3MzaZCpbmZyJiy98+baTDoVX8MRqdSwBe1ztIA5FQsAqGJ/IXmEQiEcbfQi3xc3yJTehuRivvRVYb22Fs7S9IuiX0gkYs28gBW/hQsVFd5MUglfGlksGNXfpoVodxdYOMXrWVT+qpeloeZaMpU6vLDeUI88YZhDYkE3O/4Cei9nei/nrzajWTjRLJyaDmX1Nc5+nw0dBEG97Jyy8xsLw1oNnZN0Yu2W2aP9B4WxK0pf37vGsPXUtvbo5lRN+46pjH/++v710DFTEAjo1Z2rMBLVIpcINMqjrbFychuxYRsCgXh6+VTyqXV+K0+22GbtJCYBYZVxjzdOG95v7FQ0BhN575pMJv+q2fzP0uOE/cvZu26ApRn9yv20qJIa+146JxcFDwlqWRkoObP6Y0bVpr5GnkwSAMCGgYdhcOFu6tIZPkQCxq4X4+nrPL5UScWhAAAwDCdVi1qby0ev8mAY9jehvCzgS5Swsx4BjYSeReU1LctpwGJQNw6N238u7v6LbJFU4e9udPAHfxe776AhvXFRHyN9yvk7KbEpNZYmtP0bBo4dZFdYxt1z6t2rd8UqCKXrkvmtQh/fBU0I/I3DO0tyPrHLS/SMzcxtHQEAZANzAACEQLjP/b3gxcU3Tx/IhHyauZPnon0Mm+4WMQcAmIdOwpCo+VE3k9++IjKYdmOWmga2XA+QC/kVcU/GL1o9YuZCAIClkxuZSj+yfnFDVRGZadFez/zizILn5zh5ySgcwcCjv9XQzyJIpn1GowmU4tfX0t5vJmjr24xYYBb8zVkgPXxfnG317h4bv/f0+yvJ5UQcesxQx1Vz/FuXRD5+JcFRj7DSn6mJ6LfTwc95VHjz6acFU7yMDSgELCqpWmSn07hvnlwtAgDYfZl9LJYoPqRU+BqRasXKs8lsbQI62JzyuliQkFHVQvt17CB7Eh5z+GL8udQaXTpx5Rz/+ZO763AAACxMaPdOTNh/5v3NuBI0GjEs1GbVHP9VeRNKom6Uv70j5teS9UzM+k819PrOsomdgWhgkRQdKeDOS333GoIQ7n36ZcTH0p0aRTV07H09F+4rDL94ef9WLIlq3Ges5aAZ3S+mjaVo+6w4mv/k7INzRwEM6zoFOA2dg6O2zBkvjb5Lomj9fPSyJjLV3tN/5eig4qhbLtM3ttezSi4rDL9YGf9MJuRTTe17DZyhY++juYQhankvO5L/9OyjiyfVaqWOg7/PrB8I2t1VZ/m30uOE/ctBoRCLp3kvntaRRlh2YR0AwN3gc+EoDybxdhannCWwtWCMH+Jw/GriljcV4x20yRjkiwJeZo34wqqWC2/ZhbWW2oSlvgYANErR3c/m3M5to/IqlYLbujx46/JulWtvDQIBzR7nNnucW9OZ8ur6kfNu4AA8wZ6uUMPPM998zE/2W3P+W8Oeugmepkdm9op78dB3wPBBE2fnJMe/f/GQZGCOpze6nkgMzmbEPJsR877vuBAEGfkOMfId0kEbUU25WqV07R3SdMa1dzAAoKG6XSeMX5L18fBSppnl5OXr6zl1r+5c4Rdn+K443hTky/Ts9625nD381bjY6V/e/5UtuZyiupGWn0srU3EoK218ThEHAEAkYGaOdT15LQkA4MUkFfKk1z9xfJyZbvZffD5VsgUiiWKEjUGTRq0aht+UCHIK61o4YQCAQX0tB/W1/C5P1xxbC8apHV/UmMjad7A89kGwGcXKQie5mpNw6TeFqMEsaOx3H7pjDDxCU5IjizLTRs1ZplKpXt26KG4QODR7Uxi2ngzb7/D11QKCNtNlxlekZoXVRY4+vb+UR+ubEN/ujiQMwynnNvLyU0JHT9Y3Mf8Q8STxxGr3H3c07cziaXrOU9eDqeu/11P8i+lxwnoATF0yAKCEJ7OgN76EBVwpEgHp0okAAG0a4eahsat3RuyKrQQA6NEJBzYODPVv+S+0gS45XCCTKdXYP/c6C7gyps435GB+d07dSIaVqn1DzDX1YPtbaM1/WlIW+8BycPsp6H8BCnGDuLZ8xKxFE5f8DADoP366nrHp40sn5aL65jnq/y9ovolLcjJMrGw1Z4qzMwAATYnxrSl4ccHA1OK3y4/QGCwAwKff0I1Th7JS33Qyv6GH/1n0dUiFf8Z0AgBkSnV5vSxEt/EVXv1jbxiAi3dSb2dyEBA0uK/lzjX9WizV6NCJKCRUyJM2OWElfJkabrQw/y9Mi/Qvizkw201HI482xIp27CMr6vlZY//hSEwXc7G7Rl1OIp5E2X7tOZlKAwAEj5ywIqwPJzuBbvH1nc2/GhxVtzj7U3N5tMKsdCy13Yq+vMK02swPP+074xk8EADQf/yMnYumFjw9o+vYu/urd/81egLzewB9vExNDCgHP7LyORKlGo4rb7iZyRkWYk2nNgb22lnqPDkzOfbmrIhL0+LuzRkzyL51JxOGOkhV8P4P1WyhQqJQP8jhvisXTB/z/xmMGZdU5sskNVXk1yag3fXxvPzkv3ka9aXZKoU8KKyZskfYBJVCXl+a/TfPpDV4ur6uo//VA9tT30WplMrclI9ntq+jGFq2jt9vgleQGjBkFPrPf8As7J2Nrew4+Sl/15R7+KuYMcb1XVnD/WyORKFmCxUHPlRLlPCEYY1/CSgUYv2CwKTH88IvTE18+OOJ34a1VqSgUnAjQm1uZnLiyhuUariAIzkUzzLSIwe1pWb798ArTAcAbi6PFmqhJRcLhaziDu76K+AXpnoFD9R4YAAAmo6+W0AIr7BlhtP/C8YBYVXF+Rd2bazn1jXwedcObi/OSutAHo1bkEqgUD2CGr+7EAhEUNgEQWWhQtzQ3i09tEfPSlgPAIVCnN89cvaaB6teNuY69XY32r4ypHmbzPyaR69yJTJlbw+Tfv7mres0mhpSj28duuK38LmPCwEAEARmjnbtQuEJtRqOSSiN+lCCRCKGBFm2pzqiVsOxSWWv3xcjkYjBfS09HA1af4GRSVge7wujwJGqkfTOyvXIG/iVH1+IOVVEXWOm10AMkdL8qpBdVpXwUiFpoJk76bv27UD9A4UjAgB4dTX6JuaaM/xadtP5/3ecJq9LPrN+95LpmkOygbn73O0dfM6icER+XU3ToUqpFHA5dONuVRjp4X+BqWHOhWW8C3dSL6TWAgBIBPSxrUOaF6oQiuUPInKyC+oMdEljB9nrt7XOve2nkFqOaGdsuebQxIByfldYi0ygzsCqE955nlVdI7TtxRg1wJbUToYNu05450V2FbvBxkK7daHBuSmjUbh3AABeM3k0nlQJOv32wWo1Jy+pJjMOgUDqufShmjs2fzVUCll18uv6shwMUcvQexCB0VHYEwpL5NXWND/DrWUjcYT22v+d0C1d7ceteH3/WMStS0Ajjxa2oAN5NBSOKJeIJcIGArnRKvLr2BAS2aS31kPnaVndu4fvQsW7n/6/p/DNqFTq2KRyVk2DraVOiyqOf5yL23/uAxWPImKQlfUyXxfDS/tG4XFtuB1iiSLqQ7FIovBza7uwfscolKp5G55EvCvSJ2MUapgjUswa4/rr8qAWPoFCqVq46emLmEJ9MkaphutEimkjnbevDGnR7PKD9I37Ilf5M/2NyTAAEYX1xxJYbj9s03f9euFmXlFG0ok1sFKub2pRXVKIwhE8FuzTMrHRXC2NuZ91+w8CWUuLzqguKdAysvJc/Ed7e4uwWh2zfYq+rs6qA+e06AwBj7N3+exqFjtw47X/ET01GIb5JZkiVileW59u6dbxrHIeHKt89/DnI5ds3X2UCsXdk388PHe495qzHSRSPVv8H5Ut+ifagQqW4H1yOQGHDvY1I35ZL3D8kts1HJEJDcdqkMMAOrVjeIifeZudpOewNdqR7RXW75g3H0p+XP8IwLA+GVPOkzHohFuHx7UWNIv+WPrjukewWm1AxpTxZNo0/M3D45pnYs5NGa1WyN9sGmVLVq/pbaCRR9sSXSWkGPutOfvVaahVyrTzm1lpbxlMY6VCwa9lmQSMtB//k8bOSOvrEo8sb2CVMi2seTXVUrHYaco6Q+92Q/7L3z/+dGPP4h2H/QaMgGE4+tGt01tXu8761cA9pL1b/mbkovq6rHgYwAxb747l0aT1ddGbxwUOHT3r5+0YHK68IGf7gslEU2fXWVs6uOs/awc6pscJ+0v4Jxrf9kjOrA6bd2OSI2OcgzYSAaWzRb+9rZw/1WvVHP/vPta52ylbD0ev9mf6GpFgAJ7l804n1ZzfFdav9xchaBfvpf7yR9Tq3oZ+RiQYgBcF/JOJ7DO/jxgY2Kt5M6VSvXDz0+fRBToknAqGuSKZsf8wh4lrvhq1AKtVb7dOMjQyXLn/DIWmza+r2b1sFodX33v9ZRG7rCD8QnXiq6CwCbPWbUdjsEVZaTsWTtV2DHSctKa9DvklWUknVqvkEqaZZVVJARKN81iwt7nY3HdBLhLUZX+EYRXDxgtLoX/9hi6hlIoTj6/iFWXom1gIBXwhn2s9fG6vAdM6uOU/a3z/TXZg3KJb5SV1m/sY6pEwIrnqjw/VuXx5woO5BHy3FKBbI5EqvEaesqJgfvIzIGKQbKFi69sKAxP6veNf1DiQypTeI0+Zk1Er/ZgkDLJGpNj6tkKHSXt4qrHEfFNtsLqcxJRTayFYZUDGVtRLMEQtzyWHNLnJHVP69l723YPLdh33ChkMw3DknSvnd25w/3GHjr1f6du7pdF3EUrJptO3TKzs5FLp2R3r3j1/ELT1Dpai/X/t3XVcFOkfB/BntgvYYJfukg4JFYzD7jw77mf3eXbH3ZlnnX3qedad3Y0tiNISgop059Jsz++P9ZATRcSFQf2+/3LHmZ1HX8zDZ5555vm+99tUSkXM0V9yIu8JDIxVSqU4P8e4TW+nEQs1eyeG47g4KaaqIJMlNOZZuTTdDK3MkBtx/2xksFh8kWFW8kstfTPPmdvrL/v2zfYD9SOvXl1fdAWNU5Zxi+gmaMzu42G5meJFfobqZe71OLSCKvmj5/kThr1nxb/PtGLrPQsmabizLoZhGIbZCpih2RVFVfLe/13TaOXWe2Z0bKSzUL2bjYAZnlNRUC7r4/+f3UgkrI+/bRBrmIzCZBjb2w2Ybtp+UEN6JXFSTOr903M27TMws0QIMVhsPROzuyf/LHoV+eryvvLsZIRQVkoih8u3dnLjCfXlUkn49VOWXUd/6MsZXKFx2z5UDleB0fTd/Z1GLmKLGlkd70PSgy6F75mXE3k3L/pR2sOzGJnSkKWMGoFEoRp6d9c2spapkJapg8PQnwzcP/Ki6yhv06ZoScv31fQD2Xnlq3c8nNxaTz3jnkYm2QmYZ+MKHW2E71Qu+ny3g5LP3kxY2dGYz6IihDg0sjaNfDYiZ2gvR23O26ddd4OTT9+IX9HBRJdFRQixaWQdOvlsZM7g7vbqyWpXct9UAWfpGhq37UNh6Si09Ay9ezqOWFTPeye1vTj3u4Or+/fT5qn7GStH14hHd3KTEl6c/z0/LlhRXSGXStITE9w7dGFraTt4tr127A+6jvBDN1cYiaTn1oln5SJXIYbIzK7/VLOOgzWbwCQlBeG75iQFHM2PDcoKuV7wPFjo0IbCbJJpD9rGNoaeXRGZhjO0TTsMsh8yh8bSrv+Qb7YfqB/MCftq4Tienl0qkSmtTHiNmJNRo6JSxmWQSbXiBZ9JKc+t/tD+6dmlVRK5lSmPSiF/6rnKKqQm7P/8TPIZ5IrKd+urlFfK9Jnv7EZ5b3GSKc8G67ZCn/rit3rJeG6t8jt8oT5CSJwU3XPUpAHjZ6pw1YX9249sXGFiZefg2Zarq6eQSXCVsp4ulcbWsfhu2If+tn44jlcVZOK4ii00kZYVyavKWLrGtd/tEifHPj+12X/QqCFT55Ip1CuH91w9uk9L30Lk7Nu4M9aPRKbou3Wq+1RXUlooqyhh6Rp95nL/QIPKK6WZOWUiAVvAa/z0o/I69YjURYc+VBasskqWnl2qy2cJGzwF8+25KmXovyXI1H9+px9QN4nPJL+zm/rwd5bIp2sLLLuO+tSWKCVVfNF/y+8I9TKCH/JEejN++d3a2SMuNGjfqrn7Vs1dtPMok61FZ7DqrzaBYZiunWejVwGUVZZJSvKZPD0SlVZVkEllaqnrz9aIPrIGk5Qu3XfC3qPNi8iQPavmRh9Z4zNnd+NO91EsoZFN7wnvbFQp5JX5GRQGu/lXZPxCQQj7OsW9yl+4ISD2VQFCyEDIXjajY/8udo37Kh83o/MBCaklEnMuAyEkVagC08vbvK/myYvkwoUbbkfF5yKERHzW4mntv+/5aU/c2nqY3Lr3cqSzLptGRgjlV8qj86rm9Xv3XG09TK4FJIx2Uaon2xZUyqPzqmb30tjAD9fckUShPrx8evCUn9RbHlw6hZFIJtatRs9doR7uGrfol/iIp3fPHrdz83p05QzPwqmeufmfoygxKuHMtvKcFIQQhcFUSKoRQjS2tkWXURadR6gbkx50Sc/UYvzSdSQSCSE0cs6yhMjQ9McXmyiE1SUtK447uSk/LhjhOJXJNvtumHX3cS1kxts3S65Qrt8bdPxidLVUSSZhvb+zWb+gS+3BpIazNOEKecy7KSVOIqb6R+5ecilCyMf13WtTqVRtPhh86ExUlURBwrDuHaw2LuxSU0CpIbxdDBFCd5NLe9ny0L/F1gQ6jHfmhHk5G2IYupNc2tfuzZP3uymlPG2GjbnGHsTrWLmE3L0xdMZCtpYOQqgoNzvmySOlQj5pxSY7d2+EkGu7TiN/XLp35U/5WenprxKqykv5TVOcRymTxJ/9PTvslkohx0gkMoWmkEkQQrp2no4jFrIEBgih8uzk4tfRczbvd/L2Qwg5evv+b+HPW+dNLM9O0jK0+sgJNCQ96NLrG39Ky8QIIb61q9MIzQ/5f30ghH2F8gorhs8+o0sjLfYzYtNI1xPFs9Zc5+kwOniZNeLbBnRt9eepyOX3M3tY6mjRyfdSywqrFT/+790XZ8Sl1cNnneFg+EJfQ2065dZr8dy1t3S06N38PuH6nzbK6+q9Vwtup3Wx0JEp8VvJJXq6nFH9nN/ZbcqI1pfvvFDvJlfht5JKBTzWmAHvhrBGF4yjaXHNvxt27o+tOWnJdu5e8WHBIXeuUWgMaye3mgeOGIZZ2Du/fBa2evyg5PgYz+mbG3eu+lXkpUXsW2Dt6Np7/rIjm1biuGrokrV6JuZPbl4KOL2XTGOYdRiEEJKW5NvaO5NqhR4rB+enjwObokl14SpVxL4FeJV40vKNRpY2oXevX//7IIlMqX+iGGhq6/YE/nX22RAHfmsDTmJx9YmgpKkl1f/83phFSqkU8vxJvos23SmXqlobspPFknspZUN7OdSdLL/lzyd7jocNshd4GXFSxZJ/QlLHL7p0fu+whk9OsjDhDe/tePBGfLJYYslnRORUhmdVrJvfmUb9z8i6mRF3RF/nQ1diU0qk1nxGZE5lWFbFr3O/o9MomqoUaek/4knU/WWj+vgPGqGQyW6fOYaRqUgus7B/2yNZOLgghP7ZvjYy8K7QsQ2vaeYAxJ3YWBj3ePiMhRWlJZcP7+7Yd4hfr4H52Rmn92wO3/2T35KjJCpNUlKAEPpP2+ydEULV4vzmCWHZEXeen9rcoe/3HfsPExfkntm7JWznj37LjlNaxhugLRaEsK/QyatxUqlidTcrbToZIeQkYi26k77v7/BHoWnHL0RXShQ0MtbW0/Tgun51S5fUxWRQT+8auvlg8MWAF9VShV9rk12T2jnZvruO35nr8WUV0s19rdQPBZxETLE0Y+/xsE8KYebG3PP7hm/e//jE0xQKmdTrO9uFk9rVXY7IzIh7fu/wLQeDTwYnU0ikHp1sFk32fe/ddmV+RuLVgwXPgxFGYvBE8rJCuVTCt3Kx7j2xdlm3umz7Tmbo6MY8Ovfk1mWOnonTiIXJt/+ODn6gkMsoVBpCSCaVxDx5WFpUoGTyvWZsFdhqfoYcUpcT0dJZsvvvqKC7RXnZ607cNLdzRAjZuXlVV1VE3D1h6jcAI5E4BpZxYQ+l1dV0JhMhpFQoop8+4ug30+1v4cuw0oxXKw6etffwQQjZunoqZLKH109b+A9votFB8FGl5ZJjF2KGOgqGO+kihOx0mXwmdWNQxuW7L7ceDE7NLFHhSCRg/zLPv2eHBi1bP7KfM4dN23009EBEvr4ue/6kdlNHvPtYrVoiP3QmakAr/hhXIUKolS5TyKb+/DAzPDbbq86K+fVYv6CLuQnv2Plnd1Py7Sz4u1a179+1Vd3d1s3zNzfSOXo++n5Kvq0Ff8dKv4Hd7OvuhqtUqQ/PZAReqCrOZXJFJBKpqjiXweEa+va36jq6nh9RltDI58fdidcPntm7BSORRS4dTG3dY//eEP34gW/PN2toPQu6j2FYdEiwWaehVt01UGiorqqinOyIuxOWrvcfNHJu//Ztu/ebsGw9QsjO3duildPC77vkRj809OzK0TdHGBb9+H6XIW9ufp49vo8wjKPfTIu0pd79x9XXf8rqLer/BBtnj5/6tc8Ov23q1795GvCFghD2FUpIKrQTMNUJDCFEwjAPffbl2OzA8HRXPZaPoyClRHInJK3L2KNBp8Y35Av5XOa6+Z3Xze9c70kLrPjMmpkcGIZ5GrDPvCz81MbbWQgOrO/30d1sLQR/rO1bzw6TowZVFeWEbJvO0eIMmDDz/vnj5QVpvWx4fCbrflpC6I5ZXjN/51t/cHUrDMPMOg426zi4ZguZzoo5smbTrHF9xk3FcfzyX7vLios8Jm3Qc2nCR34V2UlOPr40BiM9MYEn1FMnMDU3X//Aq+cUkkoqS8us4+DMp1c3zBzdf/xMMoVy7dj+/KyMNkOXNF3DaivPTqaz2K3c35bGcmvfOeD0EWlZMcwLIUpqVqlUrlRXg1XzNGQjhGavucGkYIMdBAwK6VZSydRlVw7/NuC78fmiDQAAHYVJREFUNh9/VRAh1K+zXb/O9c1qyMwtq6yW1z6puwGbhKGEpMJPCmEUCmnGaK8Zo73q341MJk0b5TVt1H92qzsMlnBuR3rgeb/eg0hk6sNLJx2EzHaugqwyWcDNwxVZie4T19VzCo6BufuEX2tvSbx64OCvi8rFRdYureNCAs/9sZWtZ9p+2fGG/+s+VUVOCsJxNz9/qaQ6LzNt8JS3r9waW9kJDIzLs5KQZ1cmX8/Qs+vxrb9Iqqpaefi8jAo9s3ezYevO6oeVzaAsM8lj1A81MVRoaGJgYVOendQ8Z/9yQQj7ChmKtIJDpHIlTiW/uR6SSyRSmaK9qVZNdV4bPnNPWO6dx0ldfDUzXlK3bFGSWGpAaNmi1HunqBTS+n9uxEc8KcrLXdfZVP1uV29b3sI7Ga+vH/SevbPh32bYunNVQeaL28fiQoMQQhQa3bbflNoJrLo4L+3h2dLkaApbx9Cnl77bu8ubNUJNORGBnmFpcWFxfi5f9KZaX+rL51Qmh0xnIoTYIhPPqZvjT29Wr7nKFhp5TFzLNXvPqEBTYHCF0qrKvIzUmtVoU1/Ekql0Kvsjb0uBpqOny8YwlCyWWP9biyypWIIQUqnwzd0sDLRoCKFeNtzp11JWbrsfeKpBIeyj1GWLkmuVLUorkapwZEBc2aLq4rz0wAsj5yzvNXrS/AHtPY04y9sbqS9MBxFrS3BgSVrCJ10pbecfDNk+49iWNTiOYxiJrW/W9qc9NX+Lq1Q5kXezQ28qqst51h5mnYbUv2pDQ6hn36e9jHPz68zR4aa+jPPr/SZolhYVlBTk6f1bkNtp+IJ4Cu3kzg0qpYJEphh6dXf4fs5nnr3hmHxR6su4mo9V5WUFWWnmDh2arQFfKAhhX6HhfZwOnYnaEZIzzk3IppKuJ5aEZlYghLpYcWtigb+F9t6w3Iu3X2oqhA3r7bj37/BtT3PGu4u06eRbr0uC0svW/PjxZVGbgvpuWJz0zNu/J0eHmxDx1ECHWfOLgULC/M05ByOja2qlNZB1j3GWXUblxz8hkUi6Dm1rz8GqyEkN3T6NrJR6GzBz89OfHXpq1mGQw/c/feY/xMS3f8iOWUc2rug5aiKDyd65ZMbE5Rv0jM2e3Lp8458/TfwGkshvLmG+jZvv0mOVeWk4jnP0zJpzUryec3uGjmDn0llTVv5maGEdfv/mpUN7DL27wzuSBNLX5XTzszoelsZnUNwN2K+LJbvD86gUUis+XZ3AEEJMKrmDmfb11yWaOilXm9HnO9uTga+FbKqXISe1RLozLNdIxOnk05jZqI1QdxhMnBSN46pOA4aVFOblZKSN8zOqueR9TbR2UcnFiVGfFMIYXN2Oq09V5KaVZb7imjvWXiUfx/G4fzZkhtxwFLEFTHLYo8Tsp1d95v7BEn7CKGBdWoZWPAvHvzasmP6Llv/Akdf/PmBsZefbc0BBduah9UtJVJqBZ1f1nmQaw3nkIrv+UyXFeQy+XjOXpjX27f/w0kFzO6eO/YaKC/OObFqlVKmMfHo2Zxu+RBDCvkK2FoLfV/RYuPH2o0tJCCEShg3q3ur8rRclEkXNPqVSJY5Q3elWjfambNHam5MuvylbNHag67hBRNaOrCmww2JzyqWK2kOD4molhc5sxEgViULRd2lfd/vLS7v5FMVvPcy16GSE0NVXxQcenTdq00vHpJEvparxbdzsh8y5c353wOkjCKHEmIgFg9+sr63v3smmz0SVUpEfE1Sc9IzC4Bh6dW22+R+1kWl0j8kbow4uXTz8TS05kVO7VgNnNH9LQG2/Le46cfHlXx5lqj+aG+no0qhiiaz2vUdxtVy9/p+mrJ3fuaC4cn3gm5Oa6Gsd3jigEavVaIq6PFFpYQFXV4RhWO0+sFKulCtUjasextE34+i/myzFSTGZITdmeet3seIihEokinm3M15d+cNt/M+f8S9AGIa5/m9N5L6Fv0z6Xv1x/5r5+9fMRwjRtXjuk9bT2NqV+RnZYQHyqnKupZO+a8d6ylc0HQv/4VUFWX9tWPbXhmUIIRpb233Cr58/EPjVgxD2derftZV/O4t7T1IlUoWfp4mRnvbdxyn/xBTa6zL1OLRquXJ/eB4JQ7PGen/8uxqsR0fr9l6T7z1NraqStXE3NqtVda451dwNG7TuGnV2W+jd62179L9wcMfxmILRLkIqGUssqr72utSgzcdnnjWQSiHPjw+Z5CHU+nceXk9r3ok4cX5M0GeGMBzHy7NeqxRylpYOhmGVZSU8K1dDr248CyctQ0t5VXn4nnklaQl6ppblJcVJAUftB88279iY198+k46pXYdVpwoTQqVlRTomdoT8DgDv4Okwz+4ZGhWf+yKp0Ehf26+1yZ7jYZsOBF95Je5jy8MQisipDEov79SwCWENpM2hn9zxfXRCbvzrAn0hp72n2ecsUvhJ3vtSpKCVJ12Ld2Tz6tkbdnt06HI2/JGLHstImy5VqA5E5GNksr5bR001ID82iM+m+/9bLJzLoPS01P4nNvBTR9zrkpYWVZcUkMhkbb6wrLiATKWbdRyibWIndPAhU+kZwVeen9zMYHN0BMLoR+dSja09Z25v5mEwhBCJTHEeuciyy8jipGgqgyN0bEOmaewm/ysGIeyrpcWm114bbN+vfcbMOz/lSrKJDi2vQi5T4tPHeOnpvp2zpVSqHkdm5BZU2FvpOts1cj41m0Xr699SfgEbt+tT9DJ8+4IpQiMzJkf74oviO8mlOkxqVqlEx9jatvfE+g/HcVycFF1VmM0WmdQU7pVVlBS+CEMI07X3flvSG8cRQhjS/ItRuc8eZD65OnH5xk4DhmMYFnzz0u5ls4x8emgZWiKEEq/9KS3KXHP4oo1La7lMemLH+psndui28uboEbAyNYlMETlpvpIV+BwYhnk4Gng4vpmaPWOM17UHiX9G5p+LL6KTSXmVcoEOY+eq/zwwysorexqVyWRQO/mYN7okkau9vqu9/ue2XhPIVLrL2BVRB5bO6O4lMDAWV8mmX0sx0WEUVsklStxlzAoa5yP3itKy4qKX4RiZrNvKm8rSQgjhKlVxUnR1UQ5Hz0zH3KEmYOFI3Q+8pZF3JXGVKuboz6aWNvO3HdQRCEsK83+bMz7v2QObXhMwEqmqKOf5qS3+g0aOmb+KRmckx0evnzHm5cW9zqMWa+Dcn44tMoG1wT4JhLBvhZ+n6dNzE3/Z9Sj+dYGXDXvhJF93x7dvzSSmFo1fdCk1q1T9sb2nyb5f+zZuXUdi1b4bJpEpbuN/LnoZnv88mFRSKH8RWiGtrpApEUJaxnb1r15TLc6LOrC0NOOV+iPPwtF94trsiDuJV/Yr5TKEEJlKtxswXb1MF4lKE9l7X02M7miurV4/9lZSSYVULnL53Fpp2WG3bFw9/QeNVH/07Tng0dWz2WEBJm374DieHXar5/BxNi6tEUJUGn3E7CWPrpzNDg/4aL4E3yYSiXTzr9EnrsQeuxgjlytHdrSeOcabRnvzWwDH8Z93Pjx05pkKxxFCWizatuXduzdsAQvC1bM2mG4rr/YrT2SF3KgqzGJWKypyUzJKJQghho4uW+8jcSHp1rHXNw6plAqEEIXGsB8yh2/rEXVgSVnWm5f++FYu7hPW0rS4CCE9Z7/Ue6fup5SpB8PKpIobSWUi5/afOQxWkvq8siBr9MadOgIhQoirKxo1Z9mvk4eWpr/gmjvkRN6l0Rmj5q6g0RkIIUsH154jxl84tMtpxAKMRNhTYNBwEMK+IXq6nF2re9XdrlCo/rfgIqqWbupqZsmjh2VX7g7LXr7l7o5V79n5y4KRSLr23lpGVo9+HmHv7jVu4c98kf7DK2eO/baaJTK26jr6vUfhOB791yqKvHLZvpN27l7Pw57sWz0vYt/C0oxXPUZO6D9+Jq5SnT+w/c6ZbVoGlnwbN4SQbf/podunT7mW6mPAyq1UPM+vNPHt/5nPIhFCiupKgeV/fk8IRPoZmTkIIXl1hby6gqX99qEDlUbncHn1F04BYERf5xF937NI3vFLsQdPR411Ffa04ZZJlX89K5i28tq9v8eZEzSvQIMYOrpW3cY8P7NNVpI7/Zffvbv0yk55feDXxZF/LOqw8lTtCmC15cUEvrq6v+8P0/uMnSqXSc/s3fzwxEa20JhFxVYcPGvj7B4XErR31dzYv9e1nroJIcSzcjXy6vZ7SMC9tHJdJikku1pFZXn3mfSZjZdXVyCEeMK3TyfUr0grJJU4jlcV5tCYLHUCU+OJ9JUyqUqpIEMI+xJAXRGAAsPT0nLKZvsY2OkyqWRSOxOt4Y6CK/deFZd8sEBky/Shu+Gs0FsYwmdt2G1obsVgsbsP+6Fj/6GZQRc/9D3lmYnilOfjl6x19PalUGmu7TqOnbeyNOOVoaXNmHmrdPi6XF3R/xavNbS0Tf/3S7QMLdsu+kvQZkCEQpTPd3Adt8px2LzP/xfxrFyjgu6pXy9ACFWUloQ9CNC2cIo/s/3B8oEIoVM7N/yxep6kugoh9PJZWH5Gaj2LnwFQjyPnotqZaA12ELCoZH0ObW4bAwYZO3U17uNHEq0hS+QrZdLsp9f7/TDdr/cgGp1h3spp1rqdktKivJgPFpZID7xg6+Y1YvYSLS6PL9KftHyjroFxZX7GxOUb7D18KFSam5//6J+W5z9/UlWUgxDCMMx59DKXMctytG2fKfT1fAe3XXjo85/Ncc3syVTaoytnarY8vHyaTKUrZdLH68ZmBl8uLy6Y09f3eehjhJBKqXx05SzXzJ5M/fKeY3ybYCQMoKy8coSQJe/tRWvNZyiUeH5xJZ/7NawyIBHnC41MOdpvb+gtHVzuXzjxoQmz1eI89N8CIJYOLgghkaFJ7bJFVg4ucfEvavZhCQwcBs/WbMvNOgzKDrm2bEzfrkNGk8jkO2ePy5UqeUVpQWzgoEk/Onq1exUdcXbv5tSXz13adLh99hjP3FHk/LnPQMG3KSe/wsf67cAqnUIy0aFn51cQ2CQNkleWKmSS2he1vqkFk6MlEed96BBpSb6Vf9eajyQy2dLeuSgns27ZIok4X70mKkYiGXn3MPLuocGW0zhc8++Gnd+/PTc91b61T3zE0yc3L5n49o8+vMrG2aPvktUIoSuH92yYObrPuKnxYU9ex0a1nrZJgw0ATQpGwgBqZamLEIrKefsYKyKnkkWnmOh/SYtt1nM3zDGwyEl9XZCdUbMlKui+tqHlh+ZqcAwsEELRwQ9qtjwLfoAwLC0xQSGXq7fIZdK40MccA0vNtP4D6Np87zm7Gcb25/b/fnrPZorI0n3iutxnD4bPWjRw4mxbV88+Y6f8b/GvaS+f3zx9TM+zR+vpm2tWDgPgk9hZCiJzK3EcV38skSheF0vsLATEtuqjGlgpkqbNp2vxal/UiTER1RXlHMMPXsJsA4voJw9VSqX6o6S6Kj7iKY7jMcEPa/aJfvwAI1PYTfwqjE2fSQ5D5sREhv+5dklsZKTj0Hm4SqnN112y57h7+87u7Tsv3vM3R4d36c9dRZUyz+lbhPY+TdoeoEHQXwPU2snA08ng95DcUc66ljx6WHbF+fjiySNbs1k0opumGYaeXZNvHVk/c8zQafP5Iv1HV85EPgxwGbP8Q/uzhcb6bh0Pb1xZVV5m5+4VH/bkzL4tIse2hQmhv/34Q59xU3GV6vLhPWXiIsemXw+CJTB0+2G1+lcjhmFFryJxldK9fZeaHdzad0YIOY1aou8Ki1ODxps6ymvC4stbn+T0tOGWS5UnnxexmNRhvR0/fuSXgESmmHX6PuD0ARqd4d2ld3ZK4sldm7SNrIT2H1ymx/y7YSHbZ26ZO6HX6MlymfTinzslVVV8G/eDaxeXlxTbuHjEhQSd3bfV2KcnXevdQuaaVVNFrWbw/smWyW5t2lP/nc1GozNcfb+LjYnzmbOn3m8CLQ6EMIAwDDu0sf/CDbf3BiXhOGLSyROHeyyc1IQlETWu/rthCoPlOXP78xMbdiyahhCic7j2Q3408u5ezyHOo5fGn952fPtaXKkgUahG3j3sB/9Y/Doq4ez29dNGIoQ4IhOPyRu1DN6zxpJSJsl4fDk/NgghJHL2M/Ht9/nr5dQM2jG4QoRQ6os4A7M3d/CpL57XbAeg0br5WW1e0m3jvsBHd9IRQs62wj1Lugl49b1ETLgGDoOpWXYZpZLLbp0+dvXoPoSQ0MHHaeTiel4h5Fk4uU/45cX5HVFThiGEtPTNW0/7TdvI5vnpLUc3r8FVSjKVZuTTy37QrPceLk6JS390obo4myUyNe8wWCOL59X0A3QdYfKLuJpMhuN4SkIcTQc6gS8PVjP4DDQo8/Hcj+/U8uQVVuQXVZoZcb+4xSka2BdXFWYrqivY+mYNnLUqKy+pFucxBfo1Kx/iKlVFbirCsA+VBlJIq8N2zSnLeOXq2wkhFP34gY6JnefMbRqs4RO680elOHv6L9scPNslxkTsWfGTjMxoO//A55eqbCLXZ36j09S+xH5AJlcmphaxGFRzY26L/Ymq8UkhTE0hrarMz6BzeOqajB+Fq5QVuakYiczWM6v5D5GWiyXifKbAgPaBAqlZoTdjjq/TMzG3dWkdH/G0OD/XffzPeu8rttE4hQmhYXvm9Ro9acCE2QihCwd33Pj7gNeMrbqtPlL1nEDfbD9QPwhhTeJL7Hy/XI3oiJtOyr1TiVf+WHP4gqWDK0IoOT561Q8DbfpOsfAfpqlTSEoLow4sKUl7806AlqGlx+T1LIFh/UcR6JvtfKEfaFIt6sKvTSGtfrBikI9/t6lrtpFIJIVcvm3B5Bcx0R1Wn9bglM3kuycSr+xXr2FGIlNs+06x6DxcU1/eFL7ZfqB+8DgSAE3Kjw10b99ZncAQQpYOrm5+/imxgRoMYQwd3Tbz9otfR1fkp7MEhgJbj+Ys1w0AqF9xYpS8umLgxB9JJBJCiEKlDhg/a9UP/UvTX/AsnDR1FsvOI4y8uhckhCCEhPY+dG2+pr4ZNCcIYeDL1uLuhnH8nUhEIpGQpsebMQzj27ip14kF4BvU4i78Omr3A2/+rOl+gK7NN/bp+fH9QAsGN9AAaJLQyTfy0e30Vwnqj2mv4iMD7whh7S4Avhl8azcqg3350C71bB+VUnnl8B6GjkDHzJ7opoEWB0bCQEshkSrSs0v5XKZug1/IaoF3w6Z+A3Ij7y4f06d1x64IofCHARwDS1O//kS3C4AvQ1ZeWbVEYWHMJZM/OEbQAi/82igMlt3AGQ9ObHodF23r2vp5eHB+Rprr/1bDGn6gLviZAMTDcXz38bB9f4eVVsgwDHX1tdywsIuQz67/qJbZEVMYLO/ZO9MDL7yKDUIIWfecYNp+IIXeot/zB6AleJlStHB9QGR8LkLIQMheNr1D/66tiG5UI5m068sWmqQFnosMD2cJrdp8v5hr7kB0o0BLBCEMEG//yYiNfzzuY8trZ6KfWSY7GZk+dt6Fa3+OIpFa+hvy70VhsCy7jrLsOorohgDwxSguqR428zQHw+e3M9Sik2+9Lpm55oaOFqNTG/N39myZd191waxN0BAwJwwQTK5Q7j0e1t2aO6m1nqOI1d2aO7+tYVxiwaPQtHqO+lI6YgBAQ5y6FldWIV3TyaS9mbabPnuhr6G9kLn7eCjR7QKgaUEIAwQrLK4qKpV4GXJqtjgImWw6Of51AYGtAgA0p4SkQhsBk8d883AGwzBPA05CnU4A7r7AVwZCGCAYV5vBoJFTSiQ1W/Iq5ZVSpb6Q86FDoCMG4CujL+RklctkSlXNlpQSiZ7uBzsBAL4OEMIAwZgM6uCeDucTih+nlylVeEapdPvTHL4Oo2dHa6KbBgBoJsN7O1XKlDtCcoqr5FKF6vLL4scZ5WMHudbeB+6+wNcHJuYD4q2Y0SE7t2zT4zQMIRwhIY95eNMAJoP63p2hIwbg62Npyvt9Zc8F6wMCLyWpt4wd6DJmgGv9RwHwpYMQBojHZtGObhkU8yIv+kWeiM/q1MacTnv/TyYkMAC+Vv0623XyMb8bnFwtUbRrbWJuxK39t3Dtg68ShDDQUri00nNppUfU2WWVpUUvwxFG0rXzpLK0iGrGe8mrygtfhiNcJbDzpLF1iG4OAE1Fm0Mf2I2wZeVxHBcnxVQX53IMzHVM7IhqxnvhOF6S+ryqIIstMtExs8ewL3L5HlAXhDDwxWi6W+HU+6dfXdmvlEsRQhQao9Xg2Sbt+jbRuT5VRvCVF+d2KGQShBCZSrftO9n8u6FENwqAZtUMw2BVRTlRB5aWZb1WfxTYeriN/7mF3PNISgujDi4rSY1Xf+RZOLpPXEvXFhDbKqARMDEffOsKEkISzu/sMmTU7lvhO2+E+vUaEHdikzg5luh2IYSQODk27sSm9r0H7rwRuvtWeJchoxLO7yxICCG6XQB8VXAcf3ZwGR3Jlu8//dfjV3O3HpTkpcT9s5Hodr0RfXg1qixevPv44eDERbuOqcoKoo/8THSjgGZACANfhqa7FU4PvGBu7zJ2/mqeUE+gZzBx+UY9U4v0oItNdLpPkh54Ud/MasKyDQI9A55Qb+z81eatnDMCW0TbAGgezTAMVpISV5qZOGnFRgfPtnQm07NT95E/Ls2LDaoW5zX1qT+qPDup+HX0+MW/urTtSGMwXNt1GrdgddGryIrcVKKbBjQAQhj41knF+dZOrjVzLEgkkrWTm6QFdL4IIYk418rRhUR6c51iGNZy2gbAV6O6OA8hZOX4tsqQlaMbwnGJOJ+4Rr2hbpul49sXRa2c3BBCLSEggs8HIQx8AZr0Vpitbx77NEipUKg/yqSSuNBgtv67FesIwTaweB72RC6Tqj8qFYqYp4EtpG0ANIPmeSmSY2COEIoOflCzJSb4AYlMYQtNmuHs9ePomyOEYp48rNkSHfwAYRhHz4y4RgGNgYn5oKVr6l7YrNP3T7dO2zJ3Yp+xU1Qq5cU/d1WUil06DGnSkzaQeYchwSE3Ns3+of/4GSQS+cqRfQU5mW2GLyW6XQB8VbSNrIX23gd/XVxRKrZ29oh9+ujMns1GbXrRtLgfP7iJsXQN9d07Hdm0SlJV2crD50XE05O7Nhl6+DP5+kQ3DWgCDsA379KlS6Zmb24rLa2sAgICiG7RWwEBAZZWVuq2mZqZXbp0iegWAfAVEovFg4cMUT/6p9FoU6ZMkUgkRDfqjfLy8tFjxpDJZIQQhUIZO25cRUUF0Y0CmoHhOE5U/gOg5VAqlbGxsSQSycnJqWYOVguhUqni4uJUKpWzs7O6IwYANIXs7OzMzEwrKyuBoMUtAJGXl5eWlmZubi4SiYhuC9AYCGEAAAAAAARoWXf8AAAAAADfCAhhAAAAAAAEgBAGAAAAAEAACGEAAAAAAASAEAYAAAAAQAAIYQAAAAAABIAQBgAAAABAAAhhAAAAAAAEgBAGAAAAAEAACGEAAAAAAASAEAYAAAAAQAAIYQAAAAAABIAQBgAAAABAAAhhAAAAAAAEgBAGAAAAAEAACGEAAAAAAASAEAYAAAAAQAAIYQAAAAAABIAQBgAAAABAAAhhAAAAAAAEgBAGAAAAAEAACGEAAAAAAASAEAYAAAAAQAAIYQAAAAAABIAQBgAAAABAAAhhAAAAAAAEgBAGAAAAAEAACGEAAAAAAASAEAYAAAAAQAAIYQAAAAAABIAQBgAAAABAAAhhAAAAAAAEgBAGAAAAAEAACGEAAAAAAASAEAYAAAAAQAAIYQAAAAAABIAQBgAAAABAAAhhAAAAAAAEgBAGAAAAAEAACGEAAAAAAASAEAYAAAAAQAAIYQAAAAAABIAQBgAAAABAAAhhAAAAAAAEgBAGAAAAAEAACGEAAAAAAASAEAYAAAAAQAAIYQAAAAAABIAQBgAAAABAAAhhAAAAAAAEgBAGAAAAAEAACGEAAAAAAASAEAYAAAAAQAAIYQAAAAAABIAQBgAAAABAAAhhAAAAAAAEgBAGAAAAAEAACGEAAAAAAASAEAYAAAAAQAAIYQAAAAAABIAQBgAAAABAAAhhAAAAAAAEgBAGAAAAAEAACGEAAAAAAASAEAYAAAAAQAAIYQAAAAAABIAQBgAAAABAAAhhAAAAAAAE+D/UO9f8uQrQcAAAAABJRU5ErkJggg==)"
      ],
      "metadata": {
        "id": "i7-LWs9GCZUM"
      }
    },
    {
      "cell_type": "code",
      "source": [
        "#create model from support vector classifier\n",
        "classifier = svm.SVC(kernel='linear')"
      ],
      "metadata": {
        "id": "TYwqFxdA5VOC"
      },
      "execution_count": null,
      "outputs": []
    },
    {
      "cell_type": "code",
      "source": [
        "# training the SVC machine\n",
        "classifier.fit(X_train, y_train)"
      ],
      "metadata": {
        "colab": {
          "base_uri": "https://localhost:8080/"
        },
        "id": "hTPvt_qSCa5B",
        "outputId": "1376ef3c-dbb5-4f16-ae1e-4bce3337635f"
      },
      "execution_count": null,
      "outputs": [
        {
          "output_type": "execute_result",
          "data": {
            "text/plain": [
              "SVC(kernel='linear')"
            ]
          },
          "metadata": {},
          "execution_count": 39
        }
      ]
    },
    {
      "cell_type": "markdown",
      "source": [
        "# Model evaluation\n",
        "## Accuracy Score"
      ],
      "metadata": {
        "id": "fvMnOdsCGC6i"
      }
    },
    {
      "cell_type": "code",
      "source": [
        "#we want to see train data accuracy\n",
        "X_train_prediction = classifier.predict(X_train)"
      ],
      "metadata": {
        "id": "_BuzL26DGZOC"
      },
      "execution_count": null,
      "outputs": []
    },
    {
      "cell_type": "code",
      "source": [
        "#compare and find accuracy\n",
        "train_data_accuracy = accuracy_score(X_train_prediction, y_train)\n",
        "print(\"Accuracy score of the training data: {:.2f}\".format(train_data_accuracy))"
      ],
      "metadata": {
        "colab": {
          "base_uri": "https://localhost:8080/"
        },
        "id": "IBquv7ktH3WZ",
        "outputId": "8e184cdb-0993-4e14-97f7-7c1f79583f84"
      },
      "execution_count": null,
      "outputs": [
        {
          "output_type": "stream",
          "name": "stdout",
          "text": [
            "Accuracy score of the training data: 0.78\n"
          ]
        }
      ]
    },
    {
      "cell_type": "code",
      "source": [
        "#we want to see test data accuracy\n",
        "X_test_prediction = classifier.predict(X_test)"
      ],
      "metadata": {
        "id": "Zu3__T4mIRYQ"
      },
      "execution_count": null,
      "outputs": []
    },
    {
      "cell_type": "code",
      "source": [
        "test_data_accuracy = accuracy_score(X_test_prediction, y_test)\n",
        "print(\"Accuracy score of the test data: {:.2f}\".format(test_data_accuracy))"
      ],
      "metadata": {
        "colab": {
          "base_uri": "https://localhost:8080/"
        },
        "id": "-lbGuWd4KGew",
        "outputId": "7cfbb14d-ac70-46f9-f404-da2eaccda2e0"
      },
      "execution_count": null,
      "outputs": [
        {
          "output_type": "stream",
          "name": "stdout",
          "text": [
            "Accuracy score of the test data: 0.78\n"
          ]
        }
      ]
    },
    {
      "cell_type": "markdown",
      "source": [
        "### Making Predictive System"
      ],
      "metadata": {
        "id": "qGoKEc1oKQ9f"
      }
    },
    {
      "cell_type": "code",
      "source": [
        "4,110,92,0,0,37.6,0.191,30,             0"
      ],
      "metadata": {
        "colab": {
          "base_uri": "https://localhost:8080/"
        },
        "id": "fO2uElhgNYg0",
        "outputId": "43d35b20-ce99-4fb2-ff87-67b60828e6af"
      },
      "execution_count": null,
      "outputs": [
        {
          "output_type": "execute_result",
          "data": {
            "text/plain": [
              "(4, 110, 92, 0, 0, 37.6, 0.191, 30, 0)"
            ]
          },
          "metadata": {},
          "execution_count": 44
        }
      ]
    },
    {
      "cell_type": "code",
      "source": [
        "input_data = (4,110,92,0,0,37.6,0.191,30)       #0   - label\n",
        "\n",
        "#changing the input data to numpy array\n",
        "inp_data_as_np_arr = np.asarray(input_data)\n",
        "\n",
        "#reshape the array, because we are predicting target for one observation\n",
        "input_data_reshaped = inp_data_as_np_arr.reshape(1, -1)\n",
        "\n",
        "#standardization the input data\n",
        "standard_data = scaler.transform(input_data_reshaped)\n",
        "print(standard_data)\n",
        "\n",
        "prediction = classifier.predict(standard_data)\n",
        "prediction         #True result, non diabetic"
      ],
      "metadata": {
        "colab": {
          "base_uri": "https://localhost:8080/"
        },
        "id": "XUWELyDtNnrp",
        "outputId": "5f28cf0c-ad76-47da-f295-9dcb57e32521"
      },
      "execution_count": null,
      "outputs": [
        {
          "output_type": "stream",
          "name": "stdout",
          "text": [
            "[[ 0.04601433 -0.34096773  1.18359575 -1.28821221 -0.69289057  0.71168975\n",
            "  -0.84827977 -0.27575966]]\n"
          ]
        },
        {
          "output_type": "execute_result",
          "data": {
            "text/plain": [
              "array([0])"
            ]
          },
          "metadata": {},
          "execution_count": 45
        }
      ]
    },
    {
      "cell_type": "code",
      "source": [
        "input_data = (6,148,72,35,0,33.6,0.627,50)           #1 - label\n",
        "\n",
        "#changing the input data to numpy array\n",
        "inp_data_as_np_arr = np.asarray(input_data)\n",
        "\n",
        "#reshape the array, because we are predicting target for one observation\n",
        "input_data_reshaped = inp_data_as_np_arr.reshape(1, -1)\n",
        "\n",
        "#standardization the input data\n",
        "standard_data = scaler.transform(input_data_reshaped)\n",
        "print(standard_data)\n",
        "\n",
        "prediction = classifier.predict(standard_data)\n",
        "prediction         #True result, diabetic"
      ],
      "metadata": {
        "colab": {
          "base_uri": "https://localhost:8080/"
        },
        "id": "wDBej59xQA23",
        "outputId": "6d6ca99f-d1c2-4c66-eff7-9d09d891888a"
      },
      "execution_count": null,
      "outputs": [
        {
          "output_type": "stream",
          "name": "stdout",
          "text": [
            "[[ 0.63994726  0.84832379  0.14964075  0.90726993 -0.69289057  0.20401277\n",
            "   0.46849198  1.4259954 ]]\n"
          ]
        },
        {
          "output_type": "execute_result",
          "data": {
            "text/plain": [
              "array([1])"
            ]
          },
          "metadata": {},
          "execution_count": 46
        }
      ]
    },
    {
      "cell_type": "markdown",
      "source": [
        "# Prediction with LogisticRegression\n",
        "Handling with imbalance"
      ],
      "metadata": {
        "id": "Lx7MJ8gWgbKN"
      }
    },
    {
      "cell_type": "code",
      "source": [
        "from sklearn.linear_model import LogisticRegression\n",
        "lr = LogisticRegression(class_weight=\"balanced\")\n",
        "lr.fit(X_train, y_train)\n",
        "X_train_predicted = lr.predict(X_train)\n",
        "accuracy_score(X_train_prediction, y_train)"
      ],
      "metadata": {
        "colab": {
          "base_uri": "https://localhost:8080/"
        },
        "id": "Jhd4DFb4eNek",
        "outputId": "dc8aad86-4e80-4e01-a3a3-3616af2f0689"
      },
      "execution_count": null,
      "outputs": [
        {
          "output_type": "execute_result",
          "data": {
            "text/plain": [
              "0.7801556420233463"
            ]
          },
          "metadata": {},
          "execution_count": 57
        }
      ]
    },
    {
      "cell_type": "code",
      "source": [
        "X_test_predicted = lr.predict(X_test)\n",
        "accuracy_score(X_test_predicted, y_test)"
      ],
      "metadata": {
        "colab": {
          "base_uri": "https://localhost:8080/"
        },
        "id": "e-n-jbaDeNhS",
        "outputId": "7a776d7a-c983-43c0-e5c7-4f84d09829d6"
      },
      "execution_count": null,
      "outputs": [
        {
          "output_type": "execute_result",
          "data": {
            "text/plain": [
              "0.7795275590551181"
            ]
          },
          "metadata": {},
          "execution_count": 58
        }
      ]
    },
    {
      "cell_type": "markdown",
      "source": [
        "# Thanks!"
      ],
      "metadata": {
        "id": "SNzu6ag2RYRm"
      }
    }
  ]
}